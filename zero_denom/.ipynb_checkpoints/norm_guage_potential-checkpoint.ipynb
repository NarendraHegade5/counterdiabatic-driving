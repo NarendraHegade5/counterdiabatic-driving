{
 "cells": [
  {
   "cell_type": "code",
   "execution_count": 1,
   "metadata": {
    "collapsed": true
   },
   "outputs": [],
   "source": [
    "from quspin.operators import hamiltonian # Hamiltonians and operators\n",
    "from quspin.basis import spin_basis_1d # Hilbert space spin basis\n",
    "import numpy as np # generic math functions\n",
    "import matplotlib.pyplot as plt\n",
    "%matplotlib inline\n",
    "pi=np.pi"
   ]
  },
  {
   "cell_type": "markdown",
   "metadata": {},
   "source": [
    "### Sanity check for QuSpin: Guage potential\n",
    "$H=\\sigma_z + \\lambda \\sigma_x$ . $A_{\\lambda}= \\sigma_y/4$"
   ]
  },
  {
   "cell_type": "code",
   "execution_count": 152,
   "metadata": {
    "collapsed": false
   },
   "outputs": [
    {
     "name": "stdout",
     "output_type": "stream",
     "text": [
      "Hermiticity check passed!\n",
      "Symmetry checks passed!\n",
      "Hermiticity check passed!\n",
      "Symmetry checks passed!\n"
     ]
    }
   ],
   "source": [
    "L=1 # system size\n",
    "\n",
    "basis = spin_basis_1d(L)\n",
    "hz=2.0\n",
    "hx=1.0\n",
    "hz_arr = [[hz,i] for i in range(L)] # OBC\n",
    "hx_arr = [[hx,i] for i in range(L)] # OBC\n",
    "# static and dynamic lists\n",
    "static = [[\"z\",hz_arr], [\"x\",hx_arr] ]\n",
    "dynamic =[]\n",
    "H = hamiltonian(static,dynamic,basis=basis,dtype=np.complex_)\n",
    "\n",
    "\n",
    "# \\partial lambda H\n",
    "hx_lamb=1.0\n",
    "hx_lamb_arr = [[hx_lamb,i] for i in range(L)] # OBC\n",
    "static_lamb = [[\"x\",hx_lamb_arr]]\n",
    "dynamic_lamb =[]\n",
    "op_lamb=hamiltonian(static_lamb,dynamic_lamb,basis=basis,dtype=np.complex_)"
   ]
  },
  {
   "cell_type": "code",
   "execution_count": 145,
   "metadata": {
    "collapsed": false
   },
   "outputs": [],
   "source": [
    "E,V= H.eigh()\n",
    "wij = (np.outer(E,np.ones(2**L))-np.outer(np.ones(2**L),E))\n",
    "num_lamb = np.dot(V,np.dot(op_lamb.toarray(),np.conj(V)))\n",
    "wij=wij+np.identity(2)\n",
    "A_lamb = -1j*num_lamb/wij"
   ]
  },
  {
   "cell_type": "code",
   "execution_count": 151,
   "metadata": {
    "collapsed": false
   },
   "outputs": [
    {
     "name": "stdout",
     "output_type": "stream",
     "text": [
      "[[ 0.+0.j  -0.-0.2j]\n",
      " [ 0.+0.2j  0.+0.j ]]\n"
     ]
    }
   ],
   "source": [
    "np.fill_diagonal(A_lamb, 0.0)\n",
    "print A_lamb"
   ]
  },
  {
   "cell_type": "markdown",
   "metadata": {},
   "source": [
    "I have seen that I get the correct result for single body operator. Now I can compute results for many body systems. I want two figures how norm of gauge potential scales with L and how approximate guage potential scales with system size."
   ]
  },
  {
   "cell_type": "markdown",
   "metadata": {},
   "source": [
    "### Better format of above code for single body hamiltonian"
   ]
  },
  {
   "cell_type": "code",
   "execution_count": 216,
   "metadata": {
    "collapsed": false
   },
   "outputs": [],
   "source": [
    "from quspin.operators import hamiltonian # Hamiltonians and operators\n",
    "from quspin.basis import spin_basis_1d # Hilbert space spin basis\n",
    "import numpy as np # generic math functions\n",
    "import matplotlib.pyplot as plt\n",
    "\n",
    "\n",
    "\n",
    "L=1\n",
    "def Ham(L):\n",
    "    basis = spin_basis_1d(L)\n",
    "    hz=2.0\n",
    "    hx=1.0\n",
    "    hz_arr = [[hz,i] for i in range(L)] # OBC\n",
    "    hx_arr = [[hx,i] for i in range(L)] # OBC\n",
    "    # static and dynamic lists\n",
    "    static = [[\"z\",hz_arr], [\"x\",hx_arr] ]\n",
    "    dynamic =[]\n",
    "    H = hamiltonian(static,dynamic,basis=basis,dtype=np.complex_)\n",
    "    return H\n",
    "\n",
    "\n",
    "def del_lambda_Ham(L):\n",
    "    basis = spin_basis_1d(L)\n",
    "    hx_lamb=1.0\n",
    "    hx_lamb_arr = [[hx_lamb,i] for i in range(L)] # OBC\n",
    "    static_lamb = [[\"x\",hx_lamb_arr]]\n",
    "    dynamic_lamb =[]\n",
    "    op_lamb=hamiltonian(static_lamb,dynamic_lamb,basis=basis,dtype=np.complex_)\n",
    "    return op_lamb\n",
    "\n",
    "def guage_potent(L):\n",
    "    H=Ham(L)\n",
    "    E,V= H.eigh()\n",
    "    op_lamb= del_lambda_Ham(L)\n",
    "    \n",
    "    wij = (np.outer(E,np.ones(2**L))-np.outer(np.ones(2**L),E))\n",
    "    num_lamb = np.dot(V,np.dot(op_lamb.toarray(),np.conj(V)))\n",
    "    wij=wij+np.identity(2)\n",
    "    A_lamb = -1j*num_lamb/wij\n",
    "    np.fill_diagonal(A_lamb, 0.0)\n",
    "    return A_lamb\n",
    "\n",
    "def norm(A_lamb):    \n",
    "    return np.linalg.norm(A_lamb, 'fro')"
   ]
  },
  {
   "cell_type": "code",
   "execution_count": 218,
   "metadata": {
    "collapsed": false
   },
   "outputs": [
    {
     "name": "stdout",
     "output_type": "stream",
     "text": [
      "Hermiticity check passed!\n",
      "Symmetry checks passed!\n",
      "static mat: \n",
      "  (0, 1)\t(1+0j)\n",
      "  (0, 2)\t(1+0j)\n",
      "  (1, 0)\t(1+0j)\n",
      "  (1, 3)\t(1+0j)\n",
      "  (2, 0)\t(1+0j)\n",
      "  (2, 3)\t(1+0j)\n",
      "  (3, 1)\t(1+0j)\n",
      "  (3, 2)\t(1+0j)\n",
      "\n",
      "\n",
      "dynamic:\n",
      "\n"
     ]
    }
   ],
   "source": [
    "#print  guage_potent(1)\n",
    "#print norm(guage_potent(1))\n",
    "print del_lambda_Ham(2)"
   ]
  },
  {
   "cell_type": "markdown",
   "metadata": {
    "collapsed": false
   },
   "source": [
    "### Many body hamiltonian: non -integrable and integrable cases\n",
    "$H=J \\sum \\sigma_{i}^x \\sigma_{i+1}^x+ h_x \\sum \\sigma_i^x + h_z \\sum \\sigma_i^z$"
   ]
  },
  {
   "cell_type": "code",
   "execution_count": 257,
   "metadata": {
    "collapsed": false
   },
   "outputs": [],
   "source": [
    "from quspin.operators import hamiltonian # Hamiltonians and operators\n",
    "from quspin.basis import spin_basis_1d # Hilbert space spin basis\n",
    "import numpy as np # generic math functions\n",
    "import matplotlib.pyplot as plt\n",
    "\n",
    "\n",
    "def Ham_nonint(L):\n",
    "    basis = spin_basis_1d(L)\n",
    "    hz=2.0\n",
    "    hx=0.8\n",
    "    J=1.0\n",
    "    hz_arr = [[hz,i] for i in range(L)] # OBC\n",
    "    hx_arr = [[hx,i] for i in range(L)] # OBC\n",
    "    J_arr = [[J,i,(i+1)%L] for i in range(L)] # PBC\n",
    "    \n",
    "    # static and dynamic lists\n",
    "    static = [[\"xx\",J_arr],[\"z\",hz_arr], [\"x\",hx_arr] ]\n",
    "    dynamic =[]\n",
    "    H = hamiltonian(static,dynamic,basis=basis,dtype=np.complex_,check_symm=False,check_herm=False)\n",
    "    return H\n",
    "\n",
    "def del_lambda_Ham(L):\n",
    "    basis = spin_basis_1d(L)\n",
    "    hx_lamb=1.0\n",
    "    hx_lamb_arr = [[hx_lamb,i] for i in range(L)] # OBC\n",
    "    static_lamb = [[\"x\",hx_lamb_arr]]\n",
    "    dynamic_lamb =[]\n",
    "    op_lamb=hamiltonian(static_lamb,dynamic_lamb,basis=basis,dtype=np.complex_,check_symm=False,check_herm=False)\n",
    "    return op_lamb\n",
    "\n",
    "def guage_potent(L):\n",
    "    H=Ham_nonint(L)\n",
    "    E,V= H.eigh()\n",
    "    op_lamb= del_lambda_Ham(L)\n",
    "    \n",
    "    wij = (np.outer(E,np.ones(2**L))-np.outer(np.ones(2**L),E))\n",
    "    num_lamb = np.dot(V,np.dot(op_lamb.toarray(),np.conj(V)))\n",
    "    wij=wij+np.identity(2**L)\n",
    "    A_lamb = -1j*num_lamb/wij\n",
    "    np.fill_diagonal(A_lamb, 0.0)\n",
    "    return A_lamb\n",
    "\n",
    "def norm(A_lamb):    \n",
    "    return np.linalg.norm(A_lamb, 'fro')"
   ]
  },
  {
   "cell_type": "code",
   "execution_count": 248,
   "metadata": {
    "collapsed": false
   },
   "outputs": [
    {
     "name": "stdout",
     "output_type": "stream",
     "text": [
      "Hermiticity check passed!\n",
      "Symmetry checks passed!\n",
      "Hermiticity check passed!\n",
      "Symmetry checks passed!\n",
      "[[  0.00000000e+00  -3.35336836e+00  -3.35336836e+00  -5.83961437e+00\n",
      "   -7.66150021e+00  -7.66150021e+00  -1.01503040e+01  -1.40398187e+01]\n",
      " [  3.35336836e+00   0.00000000e+00   0.00000000e+00  -2.48624601e+00\n",
      "   -4.30813185e+00  -4.30813185e+00  -6.79693567e+00  -1.06864504e+01]\n",
      " [  3.35336836e+00   0.00000000e+00   0.00000000e+00  -2.48624601e+00\n",
      "   -4.30813185e+00  -4.30813185e+00  -6.79693567e+00  -1.06864504e+01]\n",
      " [  5.83961437e+00   2.48624601e+00   2.48624601e+00   0.00000000e+00\n",
      "   -1.82188584e+00  -1.82188584e+00  -4.31068966e+00  -8.20020437e+00]\n",
      " [  7.66150021e+00   4.30813185e+00   4.30813185e+00   1.82188584e+00\n",
      "    0.00000000e+00  -2.22044605e-16  -2.48880382e+00  -6.37831853e+00]\n",
      " [  7.66150021e+00   4.30813185e+00   4.30813185e+00   1.82188584e+00\n",
      "    2.22044605e-16   0.00000000e+00  -2.48880382e+00  -6.37831853e+00]\n",
      " [  1.01503040e+01   6.79693567e+00   6.79693567e+00   4.31068966e+00\n",
      "    2.48880382e+00   2.48880382e+00   0.00000000e+00  -3.88951471e+00]\n",
      " [  1.40398187e+01   1.06864504e+01   1.06864504e+01   8.20020437e+00\n",
      "    6.37831853e+00   6.37831853e+00   3.88951471e+00   0.00000000e+00]]\n",
      "[-6.50743429 -3.15406592 -3.15406592 -0.66781991  1.15406592  1.15406592\n",
      "  3.64286974  7.53238446]\n"
     ]
    }
   ],
   "source": [
    "L=3\n",
    "H=Ham_nonint(L)\n",
    "E,V= H.eigh()\n",
    "op_lamb= del_lambda_Ham(L)\n",
    "wij = (np.outer(E,np.ones(2**L))-np.outer(np.ones(2**L),E))\n",
    "num_lamb = np.dot(V,np.dot(op_lamb.toarray(),np.conj(V)))\n",
    "print wij\n",
    "print E\n",
    "wij=wij+np.identity(2**L)\n",
    "#print wij\n",
    "#A_lamb = -1j*num_lamb/wij"
   ]
  },
  {
   "cell_type": "markdown",
   "metadata": {},
   "source": [
    "Somehow for odd powers, I am getting degenerate eigenvalues. Need to think about it more."
   ]
  },
  {
   "cell_type": "code",
   "execution_count": 262,
   "metadata": {
    "collapsed": false
   },
   "outputs": [
    {
     "name": "stdout",
     "output_type": "stream",
     "text": [
      "2 0.64403693444\n",
      "4 4.76590083304e+14\n",
      "6 3.27831655251e+14\n",
      "8 1.06254567944e+15\n",
      "10 nan\n"
     ]
    },
    {
     "name": "stderr",
     "output_type": "stream",
     "text": [
      "/home/mohit/anaconda2/lib/python2.7/site-packages/ipykernel/__main__.py:39: RuntimeWarning: divide by zero encountered in divide\n",
      "/home/mohit/anaconda2/lib/python2.7/site-packages/ipykernel/__main__.py:39: RuntimeWarning: invalid value encountered in divide\n"
     ]
    }
   ],
   "source": [
    "for i in range(2,12,2):\n",
    "    L=i\n",
    "    A_lamb=guage_potent(L)\n",
    "    print L,norm(A_lamb)    "
   ]
  },
  {
   "cell_type": "code",
   "execution_count": 268,
   "metadata": {
    "collapsed": false
   },
   "outputs": [],
   "source": [
    "H=Ham_nonint(11)\n",
    "E,V= H.eigh()"
   ]
  },
  {
   "cell_type": "code",
   "execution_count": 269,
   "metadata": {
    "collapsed": false
   },
   "outputs": [
    {
     "data": {
      "text/plain": [
       "[-8.0365448592411095,\n",
       " -9.8497030395607581,\n",
       " -8.8900314214958325,\n",
       " 8.8846047464818962,\n",
       " -8.6640695098026992,\n",
       " 17.782138482810193,\n",
       " -8.2380256015876121,\n",
       " 3.0431518853343928,\n",
       " -4.0955321546603756,\n",
       " 15.41509593758706,\n",
       " 10.826903202301786,\n",
       " 9.5341113040220176,\n",
       " -9.5594941565419091]"
      ]
     },
     "execution_count": 269,
     "metadata": {},
     "output_type": "execute_result"
    }
   ],
   "source": [
    "from collections import Counter\n",
    "[item for item, count in Counter(E).iteritems() if count > 1]"
   ]
  },
  {
   "cell_type": "code",
   "execution_count": 170,
   "metadata": {
    "collapsed": false
   },
   "outputs": [
    {
     "name": "stdout",
     "output_type": "stream",
     "text": [
      "Hermiticity check passed!\n",
      "Symmetry checks passed!\n",
      "Hermiticity check passed!\n",
      "Symmetry checks passed!\n"
     ]
    },
    {
     "data": {
      "text/plain": [
       "0.28284271247461895"
      ]
     },
     "execution_count": 170,
     "metadata": {},
     "output_type": "execute_result"
    }
   ],
   "source": [
    "np.linalg.norm(guage_potent(L), 'fro')"
   ]
  },
  {
   "cell_type": "code",
   "execution_count": 111,
   "metadata": {
    "collapsed": false
   },
   "outputs": [
    {
     "data": {
      "text/plain": [
       "array([[ 0.00000000+0.j, -1.41421356-0.j],\n",
       "       [-1.41421356+0.j,  0.00000000+0.j]])"
      ]
     },
     "execution_count": 111,
     "metadata": {},
     "output_type": "execute_result"
    }
   ],
   "source": []
  },
  {
   "cell_type": "code",
   "execution_count": null,
   "metadata": {
    "collapsed": true
   },
   "outputs": [],
   "source": []
  }
 ],
 "metadata": {
  "kernelspec": {
   "display_name": "Python 2",
   "language": "python",
   "name": "python2"
  },
  "language_info": {
   "codemirror_mode": {
    "name": "ipython",
    "version": 2
   },
   "file_extension": ".py",
   "mimetype": "text/x-python",
   "name": "python",
   "nbconvert_exporter": "python",
   "pygments_lexer": "ipython2",
   "version": "2.7.13"
  }
 },
 "nbformat": 4,
 "nbformat_minor": 2
}

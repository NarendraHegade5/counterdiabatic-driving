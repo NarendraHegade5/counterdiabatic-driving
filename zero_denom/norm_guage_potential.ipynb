{
 "cells": [
  {
   "cell_type": "code",
   "execution_count": 1,
   "metadata": {
    "collapsed": true
   },
   "outputs": [],
   "source": [
    "from quspin.operators import hamiltonian # Hamiltonians and operators\n",
    "from quspin.basis import spin_basis_1d # Hilbert space spin basis\n",
    "import numpy as np # generic math functions\n",
    "import matplotlib.pyplot as plt\n",
    "%matplotlib inline"
   ]
  },
  {
   "cell_type": "markdown",
   "metadata": {},
   "source": [
    "### Sanity check for QuSpin: Guage potential\n",
    "$H=\\sigma_z + \\lambda \\sigma_x$ . $A_{\\lambda}= \\sigma_y/4$"
   ]
  },
  {
   "cell_type": "code",
   "execution_count": 86,
   "metadata": {
    "collapsed": false
   },
   "outputs": [
    {
     "name": "stdout",
     "output_type": "stream",
     "text": [
      "Hermiticity check passed!\n",
      "Symmetry checks passed!\n",
      "Hermiticity check passed!\n",
      "Symmetry checks passed!\n"
     ]
    }
   ],
   "source": [
    "L=1 # system size\n",
    "\n",
    "basis = spin_basis_1d(L)\n",
    "hz=2.0\n",
    "hx=1.0\n",
    "hz_arr = [[hz,i] for i in range(L)] # OBC\n",
    "hx_arr = [[hx,i] for i in range(L)] # OBC\n",
    "# static and dynamic lists\n",
    "static = [[\"z\",hz_arr], [\"x\",hx_arr] ]\n",
    "dynamic =[]\n",
    "H = hamiltonian(static,dynamic,basis=basis,dtype=np.complex_)\n",
    "\n",
    "\n",
    "# \\partial lambda H\n",
    "hx_lamb=1.0\n",
    "hx_lamb_arr = [[hx_lamb,i] for i in range(L)] # OBC\n",
    "static_lamb = [[\"x\",hx_lamb_arr]]\n",
    "dynamic_lamb =[]\n",
    "op_lamb=hamiltonian(static_lamb,dynamic_lamb,basis=basis,dtype=np.complex_)"
   ]
  },
  {
   "cell_type": "code",
   "execution_count": 145,
   "metadata": {
    "collapsed": false
   },
   "outputs": [],
   "source": [
    "E,V= H.eigh()\n",
    "wij = (np.outer(E,np.ones(2**L))-np.outer(np.ones(2**L),E))\n",
    "num_lamb = np.dot(V,np.dot(op_lamb.toarray(),np.conj(V)))\n",
    "wij=wij+np.identity(2)\n",
    "A_lamb = -1j*num_lamb/wij"
   ]
  },
  {
   "cell_type": "code",
   "execution_count": 151,
   "metadata": {
    "collapsed": false
   },
   "outputs": [
    {
     "name": "stdout",
     "output_type": "stream",
     "text": [
      "[[ 0.+0.j  -0.-0.2j]\n",
      " [ 0.+0.2j  0.+0.j ]]\n"
     ]
    }
   ],
   "source": [
    "np.fill_diagonal(A_lamb, 0.0)\n",
    "print A_lamb"
   ]
  },
  {
   "cell_type": "markdown",
   "metadata": {},
   "source": [
    "I have seen that I get the correct result for single body operator. Now I can compute results for many body systems. I want two figures how norm of gauge potential scales with L and how approximate guage potential scales with system size."
   ]
  },
  {
   "cell_type": "markdown",
   "metadata": {},
   "source": [
    "### Better format of above code for single body hamiltonian"
   ]
  },
  {
   "cell_type": "code",
   "execution_count": 101,
   "metadata": {
    "collapsed": false
   },
   "outputs": [],
   "source": [
    "from quspin.operators import hamiltonian # Hamiltonians and operators\n",
    "from quspin.basis import spin_basis_1d # Hilbert space spin basis\n",
    "import numpy as np # generic math functions\n",
    "import matplotlib.pyplot as plt\n",
    "\n",
    "\n",
    "\n",
    "L=1\n",
    "def Ham(L):\n",
    "    basis = spin_basis_1d(L)\n",
    "    hz=1.0\n",
    "    hx=1.0\n",
    "    hz_arr = [[hz,i] for i in range(L)] # OBC\n",
    "    hx_arr = [[hx,i] for i in range(L)] # OBC\n",
    "    # static and dynamic lists\n",
    "    static = [[\"z\",hz_arr], [\"x\",hx_arr] ]\n",
    "    dynamic =[]\n",
    "    H = hamiltonian(static,dynamic,basis=basis,dtype=np.complex_)\n",
    "    return H\n",
    "\n",
    "\n",
    "def del_lambda_Ham_single(L):\n",
    "    basis = spin_basis_1d(L)\n",
    "    hx_lamb=1.0\n",
    "    hx_lamb_arr = [[hx_lamb,i] for i in range(L)] # OBC\n",
    "    static_lamb = [[\"x\",hx_lamb_arr]]\n",
    "    dynamic_lamb =[]\n",
    "    op_lamb=hamiltonian(static_lamb,dynamic_lamb,basis=basis,dtype=np.complex_)\n",
    "    return op_lamb\n",
    "\n",
    "def guage_potent_single(L):\n",
    "    H=Ham(L)\n",
    "    E,V= H.eigh()\n",
    "    op_lamb= del_lambda_Ham(L)\n",
    "    \n",
    "    wij = (np.outer(E,np.ones(2**L))-np.outer(np.ones(2**L),E))\n",
    "    num_lamb = np.dot(V,np.dot(op_lamb.toarray(),np.conj(V)))\n",
    "    wij=wij+np.identity(2)\n",
    "    A_lamb = -1j*num_lamb/wij\n",
    "    np.fill_diagonal(A_lamb, 0.0)\n",
    "    return A_lamb\n",
    "\n",
    "def norm_single(A_lamb):    \n",
    "    return np.linalg.norm(A_lamb, 'fro')"
   ]
  },
  {
   "cell_type": "code",
   "execution_count": 218,
   "metadata": {
    "collapsed": false
   },
   "outputs": [
    {
     "name": "stdout",
     "output_type": "stream",
     "text": [
      "Hermiticity check passed!\n",
      "Symmetry checks passed!\n",
      "static mat: \n",
      "  (0, 1)\t(1+0j)\n",
      "  (0, 2)\t(1+0j)\n",
      "  (1, 0)\t(1+0j)\n",
      "  (1, 3)\t(1+0j)\n",
      "  (2, 0)\t(1+0j)\n",
      "  (2, 3)\t(1+0j)\n",
      "  (3, 1)\t(1+0j)\n",
      "  (3, 2)\t(1+0j)\n",
      "\n",
      "\n",
      "dynamic:\n",
      "\n"
     ]
    }
   ],
   "source": [
    "#print  guage_potent(1)\n",
    "#print norm(guage_potent(1))\n",
    "print del_lambda_Ham(2)"
   ]
  },
  {
   "cell_type": "markdown",
   "metadata": {
    "collapsed": false
   },
   "source": [
    "### Many body hamiltonian: non -integrable and integrable cases\n",
    "$H=J \\sum \\sigma_{i}^x \\sigma_{i+1}^x+ h_x \\sum \\sigma_i^x + h_z \\sum \\sigma_i^z$ where $\\partial_{\\lambda}H= \\sigma_x$"
   ]
  },
  {
   "cell_type": "code",
   "execution_count": 146,
   "metadata": {
    "collapsed": false
   },
   "outputs": [],
   "source": [
    "from quspin.operators import hamiltonian # Hamiltonians and operators\n",
    "from quspin.basis import spin_basis_1d # Hilbert space spin basis\n",
    "import numpy as np # generic math functions\n",
    "import matplotlib.pyplot as plt\n",
    "\n",
    "\n",
    "def Ham_nonint(L):\n",
    "    basis = spin_basis_1d(L)\n",
    "    hz=(np.sqrt(5)+1)/4 #parameters used by Kim and Huse\n",
    "    hx=(np.sqrt(5)+5)/8\n",
    "    J=1.0\n",
    "    hz_arr = [[hz,i] for i in range(L)] # OBC\n",
    "    hx_arr = [[hx,i] for i in range(L)] # OBC\n",
    "    J_arr = [[J,i,(i+1)%L] for i in range(L)] # PBC\n",
    "    \n",
    "    # static and dynamic lists\n",
    "    static = [[\"xx\",J_arr],[\"z\",hz_arr], [\"x\",hx_arr] ]\n",
    "    dynamic =[]\n",
    "    H = hamiltonian(static,dynamic,basis=basis,dtype=np.complex_,check_symm=False,check_herm=False)\n",
    "    return H\n",
    "\n",
    "def Ham_int(L):\n",
    "    basis = spin_basis_1d(L)\n",
    "    hz=(np.sqrt(5)+1)/4 #parameters used by Kim and Huse\n",
    "    hx=0.0#(np.sqrt(5)+5)/8\n",
    "    J=1.0\n",
    "    hz_arr = [[hz,i] for i in range(L)] # OBC\n",
    "    hx_arr = [[hx,i] for i in range(L)] # OBC\n",
    "    J_arr = [[J,i,(i+1)%L] for i in range(L)] # PBC\n",
    "    \n",
    "    # static and dynamic lists\n",
    "    static = [[\"xx\",J_arr],[\"z\",hz_arr], [\"x\",hx_arr] ]\n",
    "    dynamic =[]\n",
    "    H = hamiltonian(static,dynamic,basis=basis,dtype=np.complex_,check_symm=False,check_herm=False)\n",
    "    return H\n",
    "\n",
    "def del_lambda_Ham(L):\n",
    "    basis = spin_basis_1d(L)\n",
    "    hx_lamb=1.0\n",
    "    hx_lamb_arr = [[hx_lamb,i] for i in range(L)] # OBC\n",
    "    static_lamb = [[\"x\",hx_lamb_arr]]\n",
    "    dynamic_lamb =[]\n",
    "    op_lamb=hamiltonian(static_lamb,dynamic_lamb,basis=basis,dtype=np.complex_,check_symm=False,check_herm=False)\n",
    "    return op_lamb\n",
    "\n",
    "def guage_potent(L):\n",
    "    H=Ham_nonint(L)\n",
    "    E,V= H.eigh()\n",
    "    op_lamb= del_lambda_Ham(L)\n",
    "    \n",
    "    wij = (np.outer(E,np.ones(2**L))-np.outer(np.ones(2**L),E))\n",
    "    num_lamb = np.dot(V,np.dot(op_lamb.toarray(),np.conj(V)))\n",
    "    wij=wij+np.identity(2**L)\n",
    "    A_lamb = -1j*num_lamb/wij\n",
    "    np.fill_diagonal(A_lamb, 0.0)\n",
    "    return A_lamb\n",
    "\n",
    "def norm(A_lamb):    \n",
    "    return np.linalg.norm(A_lamb, 'fro')"
   ]
  },
  {
   "cell_type": "markdown",
   "metadata": {},
   "source": [
    "Somehow for odd powers, I am getting degenerate eigenvalues. Need to think about it more."
   ]
  },
  {
   "cell_type": "code",
   "execution_count": 74,
   "metadata": {
    "collapsed": false
   },
   "outputs": [
    {
     "name": "stdout",
     "output_type": "stream",
     "text": [
      "2 1.16310406783\n",
      "3 3.69749211332e+15\n",
      "4 1.96909753875e+14\n",
      "5 nan\n"
     ]
    },
    {
     "name": "stderr",
     "output_type": "stream",
     "text": [
      "/home/mohit/anaconda2/lib/python2.7/site-packages/ipykernel/__main__.py:39: RuntimeWarning: divide by zero encountered in divide\n",
      "/home/mohit/anaconda2/lib/python2.7/site-packages/ipykernel/__main__.py:39: RuntimeWarning: invalid value encountered in divide\n"
     ]
    },
    {
     "name": "stdout",
     "output_type": "stream",
     "text": [
      "6 6.86395540837e+14\n",
      "7 nan\n"
     ]
    }
   ],
   "source": [
    "for i in range(2,8):\n",
    "    L=i\n",
    "    A_lamb=guage_potent(L)\n",
    "    print L,norm(A_lamb)   "
   ]
  },
  {
   "cell_type": "code",
   "execution_count": 76,
   "metadata": {
    "collapsed": false
   },
   "outputs": [
    {
     "data": {
      "text/plain": [
       "<matplotlib.colorbar.Colorbar at 0x7fac56cd47d0>"
      ]
     },
     "execution_count": 76,
     "metadata": {},
     "output_type": "execute_result"
    },
    {
     "data": {
      "image/png": "[encoded data removed]",
      "text/plain": [
       "<matplotlib.figure.Figure at 0x7fac56e2d390>"
      ]
     },
     "metadata": {},
     "output_type": "display_data"
    }
   ],
   "source": [
    "x=Ham_nonint(3).toarray()\n",
    "E,V=np.linalg.eigh(x)\n",
    "#print len(E)\n",
    "#print E*np.identity(len(E))\n",
    "#x_r=np.real(x)\n",
    "#x_im=np.imag(x)\n",
    "plt.imshow(E*np.identity(len(E)))\n",
    "#plt.imshow(x_im)\n",
    "plt.colorbar()"
   ]
  },
  {
   "cell_type": "code",
   "execution_count": 56,
   "metadata": {
    "collapsed": false
   },
   "outputs": [
    {
     "data": {
      "text/plain": [
       "<matplotlib.colorbar.Colorbar at 0x7fac572aded0>"
      ]
     },
     "execution_count": 56,
     "metadata": {},
     "output_type": "execute_result"
    },
    {
     "data": {
      "image/png": "[encoded data removed]",
      "text/plain": [
       "<matplotlib.figure.Figure at 0x7fac57392e90>"
      ]
     },
     "metadata": {},
     "output_type": "display_data"
    }
   ],
   "source": [
    "x=del_lambda_Ham(7).toarray()\n",
    "x_r=np.real(x)\n",
    "x_im=np.imag(x)\n",
    "plt.imshow(x_r)\n",
    "#plt.imshow(x_im)\n",
    "plt.colorbar()"
   ]
  },
  {
   "cell_type": "markdown",
   "metadata": {},
   "source": [
    "### Removing degenerate subspace from guage potential\n",
    "+ First, I need to check $\\langle m (\\lambda)|\\partial_{\\lambda}H | n (\\lambda) \\rangle =0$ for $n\\neq m$ and when they are degenerate. If this is true, then matrix element corresponding to this $n,m$ should be zero, and hence, doesn't contribute to norm of guage potential.\n",
    "+ This python trick might be useful https://stackoverflow.com/questions/11953867/how-do-i-find-out-eigenvectors-corresponding-to-a-particular-eigenvalue-of-a-mat"
   ]
  },
  {
   "cell_type": "code",
   "execution_count": 78,
   "metadata": {
    "collapsed": false
   },
   "outputs": [
    {
     "name": "stdout",
     "output_type": "stream",
     "text": [
      "5 nan\n"
     ]
    },
    {
     "name": "stderr",
     "output_type": "stream",
     "text": [
      "/home/mohit/anaconda2/lib/python2.7/site-packages/ipykernel/__main__.py:39: RuntimeWarning: divide by zero encountered in divide\n",
      "/home/mohit/anaconda2/lib/python2.7/site-packages/ipykernel/__main__.py:39: RuntimeWarning: invalid value encountered in divide\n"
     ]
    }
   ],
   "source": [
    "L=5\n",
    "A_lamb=guage_potent(L)\n",
    "print L,norm(A_lamb)   "
   ]
  },
  {
   "cell_type": "code",
   "execution_count": 80,
   "metadata": {
    "collapsed": false
   },
   "outputs": [
    {
     "name": "stdout",
     "output_type": "stream",
     "text": [
      "[-5.64305376 -4.97445235 -4.97445235 -4.04462557 -4.04462557 -2.75392588\n",
      " -2.75392588 -2.46472336 -2.2161175  -2.2161175  -1.70923464 -1.50164884\n",
      " -1.50164884 -0.85012203 -0.85012203 -0.05509412  0.24675298  0.24675298\n",
      "  0.63352059  0.63352059  1.57802813  1.84893934  1.84893934  1.95926222\n",
      "  1.95926222  2.76327452  3.55823195  3.55823195  4.09418509  4.09418509\n",
      "  4.43630438  9.09449885]\n"
     ]
    }
   ],
   "source": [
    "H=Ham_nonint(L)\n",
    "E,V= H.eigh()\n",
    "print E"
   ]
  },
  {
   "cell_type": "code",
   "execution_count": 81,
   "metadata": {
    "collapsed": false
   },
   "outputs": [
    {
     "data": {
      "text/plain": [
       "[-2.7539258790635386]"
      ]
     },
     "execution_count": 81,
     "metadata": {},
     "output_type": "execute_result"
    }
   ],
   "source": [
    "from collections import Counter\n",
    "[item for item, count in Counter(E).iteritems() if count > 1]"
   ]
  },
  {
   "cell_type": "code",
   "execution_count": 83,
   "metadata": {
    "collapsed": false
   },
   "outputs": [
    {
     "data": {
      "text/plain": [
       "[2, 4]"
      ]
     },
     "execution_count": 83,
     "metadata": {},
     "output_type": "execute_result"
    }
   ],
   "source": [
    "x=[1,2,2,3,4,5,6,4]\n",
    "from collections import Counter\n",
    "[item for item, count in Counter(x).iteritems() if count > 1]"
   ]
  },
  {
   "cell_type": "markdown",
   "metadata": {
    "collapsed": false
   },
   "source": [
    "### Approximate gauge potential \n",
    "We don't have problem of degenerate states here when we include $\\mu$. \n",
    "+ Our gauge potential is given by: $  A_{\\lambda}^{nm}= -i \\hbar \\dfrac{\\partial_{\\lambda}H^{nm}}{\\omega_{nm}^2 + \\mu^2} \\omega_{nm}$\n",
    "+ For non-zero $\\mu$, gauge potential is an approximate one."
   ]
  },
  {
   "cell_type": "code",
   "execution_count": 102,
   "metadata": {
    "collapsed": true
   },
   "outputs": [],
   "source": [
    "def guage_potent_mu(Ham,L, mu):\n",
    "    E,V= Ham.eigh()\n",
    "    op_lamb= del_lambda_Ham(L)\n",
    "    wij = (np.outer(E,np.ones(2**L))-np.outer(np.ones(2**L),E))\n",
    "    num_lamb = np.dot(V,np.dot(op_lamb.toarray(),np.conj(V)))\n",
    "    wij=wij+np.identity(2**L)\n",
    "    A_lamb = -1j*num_lamb*wij/(wij**2+ mu**2)\n",
    "    np.fill_diagonal(A_lamb, 0.0)\n",
    "    return A_lamb"
   ]
  },
  {
   "cell_type": "code",
   "execution_count": 103,
   "metadata": {
    "collapsed": false
   },
   "outputs": [
    {
     "name": "stdout",
     "output_type": "stream",
     "text": [
      "Hermiticity check passed!\n",
      "Symmetry checks passed!\n"
     ]
    }
   ],
   "source": [
    "H=Ham(1)"
   ]
  },
  {
   "cell_type": "code",
   "execution_count": 104,
   "metadata": {
    "collapsed": false
   },
   "outputs": [
    {
     "data": {
      "text/plain": [
       "array([[ 0.+0.j  , -0.-0.25j],\n",
       "       [ 0.+0.25j,  0.+0.j  ]])"
      ]
     },
     "execution_count": 104,
     "metadata": {},
     "output_type": "execute_result"
    }
   ],
   "source": [
    "guage_potent_mu(H,1,0.0)"
   ]
  },
  {
   "cell_type": "code",
   "execution_count": 134,
   "metadata": {
    "collapsed": false
   },
   "outputs": [
    {
     "name": "stdout",
     "output_type": "stream",
     "text": [
      "2.0 1.00724337953\n",
      "3.0 4.50953954708\n",
      "4.0 5.9792931696\n",
      "5.0 11.1812549648\n",
      "6.0 18.66907558\n",
      "7.0 28.9218897578\n",
      "8.0 41.0828503163\n",
      "9.0 61.5385359492\n"
     ]
    }
   ],
   "source": [
    "mu=0.1\n",
    "Ntot=10\n",
    "length=np.zeros(Ntot-2)\n",
    "norm_arr=np.zeros(Ntot-2)\n",
    "for i in range(2,Ntot):\n",
    "    L=i\n",
    "    length[i-2]=i\n",
    "    H=Ham_nonint(L)\n",
    "    A_lamb=guage_potent_mu(H,L,mu)\n",
    "    norm_arr[i-2]=norm(A_lamb)\n",
    "    print length[i-2],norm_arr[i-2]"
   ]
  },
  {
   "cell_type": "code",
   "execution_count": 135,
   "metadata": {
    "collapsed": false
   },
   "outputs": [
    {
     "data": {
      "image/png": "[encoded data removed]",
      "text/plain": [
       "<matplotlib.figure.Figure at 0x7fac567dee50>"
      ]
     },
     "metadata": {},
     "output_type": "display_data"
    }
   ],
   "source": [
    "plt.plot(length,norm_arr, 'b.-')\n",
    "plt.plot(length, np.exp(0.5*length), 'r.-')\n",
    "plt.grid()"
   ]
  },
  {
   "cell_type": "code",
   "execution_count": 139,
   "metadata": {
    "collapsed": false
   },
   "outputs": [],
   "source": [
    "muTot=10\n",
    "mu_arr=np.logspace(-4,1.0,muTot)"
   ]
  },
  {
   "cell_type": "code",
   "execution_count": 159,
   "metadata": {
    "collapsed": false
   },
   "outputs": [
    {
     "name": "stdout",
     "output_type": "stream",
     "text": [
      "2453.64834386 0.0001\n",
      "1478.01286375 0.00035938136638\n",
      "835.476857961 0.00129154966501\n",
      "434.373312487 0.00464158883361\n",
      "220.705554471 0.016681005372\n",
      "115.633848737 0.0599484250319\n",
      "60.1259822305 0.215443469003\n",
      "29.9342369033 0.774263682681\n",
      "13.0272091499 2.78255940221\n",
      "3.83587172162 10.0\n"
     ]
    }
   ],
   "source": [
    "L=10\n",
    "norm_arr=np.zeros(muTot)\n",
    "H=Ham_nonint(L)\n",
    "for i in range(muTot):\n",
    "    mu=mu_arr[i]\n",
    "    A_lamb=guage_potent_mu(H,L,mu)\n",
    "    norm_arr[i]=norm(A_lamb)\n",
    "    print norm_arr[i], mu_arr[i]"
   ]
  },
  {
   "cell_type": "code",
   "execution_count": 158,
   "metadata": {
    "collapsed": false
   },
   "outputs": [
    {
     "name": "stdout",
     "output_type": "stream",
     "text": [
      "1755.76535725 0.0001\n",
      "1596.62286395 0.00035938136638\n",
      "1159.27125523 0.00129154966501\n",
      "641.389118887 0.00464158883361\n",
      "226.057896793 0.016681005372\n",
      "119.087273718 0.0599484250319\n",
      "67.5934408691 0.215443469003\n",
      "33.7632128932 0.774263682681\n",
      "13.9295543404 2.78255940221\n",
      "3.53721127458 10.0\n"
     ]
    }
   ],
   "source": [
    "muTot=10\n",
    "mu_arr=np.logspace(-4,1.0,muTot)\n",
    "L=10\n",
    "norm_arr_int=np.zeros(muTot)\n",
    "H=Ham_int(L)\n",
    "for i in range(muTot):\n",
    "    mu=mu_arr[i]\n",
    "    A_lamb=guage_potent_mu(H,L,mu)\n",
    "    norm_arr_int[i]=norm(A_lamb)\n",
    "    print norm_arr_int[i], mu_arr[i]"
   ]
  },
  {
   "cell_type": "code",
   "execution_count": 162,
   "metadata": {
    "collapsed": false
   },
   "outputs": [
    {
     "data": {
      "text/plain": [
       "<matplotlib.legend.Legend at 0x7fac550eff50>"
      ]
     },
     "execution_count": 162,
     "metadata": {},
     "output_type": "execute_result"
    },
    {
     "data": {
      "image/png": "[encoded data removed]",
      "text/plain": [
       "<matplotlib.figure.Figure at 0x7fac556dde50>"
      ]
     },
     "metadata": {},
     "output_type": "display_data"
    }
   ],
   "source": [
    "plt.loglog(mu_arr,norm_arr, 'b.-', label='Non-int')\n",
    "plt.loglog(mu_arr,norm_arr_int, 'r.-', label='Int')\n",
    "plt.xlabel(r\"$\\mu$\")\n",
    "plt.ylabel(r\"$||A||$\")\n",
    "#plt.plot(length, np.exp(0.5*length), 'r.-')\n",
    "plt.grid()\n",
    "plt.title(\"L=10\")\n",
    "plt.legend()"
   ]
  },
  {
   "cell_type": "code",
   "execution_count": null,
   "metadata": {
    "collapsed": true
   },
   "outputs": [],
   "source": []
  }
 ],
 "metadata": {
  "kernelspec": {
   "display_name": "Python 2",
   "language": "python",
   "name": "python2"
  },
  "language_info": {
   "codemirror_mode": {
    "name": "ipython",
    "version": 2
   },
   "file_extension": ".py",
   "mimetype": "text/x-python",
   "name": "python",
   "nbconvert_exporter": "python",
   "pygments_lexer": "ipython2",
   "version": "2.7.13"
  }
 },
 "nbformat": 4,
 "nbformat_minor": 2
}

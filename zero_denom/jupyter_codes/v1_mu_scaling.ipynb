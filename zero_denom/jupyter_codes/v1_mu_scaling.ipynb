{
 "cells": [
  {
   "cell_type": "code",
   "execution_count": 1,
   "metadata": {
    "collapsed": true
   },
   "outputs": [],
   "source": [
    "from quspin.operators import hamiltonian # Hamiltonians and operators\n",
    "from quspin.basis import spin_basis_1d # Hilbert space spin basis\n",
    "import numpy as np # generic math functions\n",
    "import matplotlib.pyplot as plt\n",
    "%matplotlib inline"
   ]
  },
  {
   "cell_type": "code",
   "execution_count": 10,
   "metadata": {
    "collapsed": true
   },
   "outputs": [],
   "source": [
    "def Ham_nonint(L):\n",
    "    basis = spin_basis_1d(L)\n",
    "    hz=(np.sqrt(5)+1)/4 #parameters used by Kim and Huse\n",
    "    hx=(np.sqrt(5)+5)/8\n",
    "    J=1.0\n",
    "    hz_arr = [[hz,i] for i in range(L)] \n",
    "    hx_arr = [[hx,i] for i in range(L)] \n",
    "    J_arr = [[J,i,(i+1)] for i in range(L-1)] # OBC [[J,i,(i+1)%L] for i in range(L)] # PBC\n",
    "    \n",
    "    # static and dynamic lists\n",
    "    static = [[\"zz\",J_arr],[\"z\",hz_arr], [\"x\",hx_arr] ]\n",
    "    dynamic =[]\n",
    "    H = hamiltonian(static,dynamic,basis=basis,dtype=np.complex_,check_symm=False,check_herm=False)\n",
    "    return H\n",
    "\n",
    "def Ham_int_antiferro(L,hz):\n",
    "    basis = spin_basis_1d(L)\n",
    "    \n",
    "    J=1.0\n",
    "    hz_arr = [[hz,i] for i in range(L)] # OBC\n",
    "    J_arr = [[J,i,(i+1)] for i in range(L-1)] # OBC [[J,i,(i+1)%L] for i in range(L)] # PBC\n",
    "    \n",
    "    # static and dynamic lists\n",
    "    static = [[\"zz\",J_arr],[\"x\",hz_arr]]\n",
    "    dynamic =[]\n",
    "    H = hamiltonian(static,dynamic,basis=basis,dtype=np.complex_,check_symm=False,check_herm=False)\n",
    "    return H"
   ]
  },
  {
   "cell_type": "code",
   "execution_count": 11,
   "metadata": {
    "collapsed": false
   },
   "outputs": [],
   "source": [
    "def del_lambda_Ham(L):\n",
    "    basis = spin_basis_1d(L)  \n",
    "    hx_lamb=1.0\n",
    "    hx_lamb_arr = [[hx_lamb,i] for i in range(L)] # OBC\n",
    "    static_lamb = [[\"x\",hx_lamb_arr]]\n",
    "    dynamic_lamb =[]\n",
    "    op_lamb=hamiltonian(static_lamb,dynamic_lamb,basis=basis,dtype=np.complex_,check_symm=False,check_herm=False)\n",
    "    return op_lamb\n",
    "\n",
    "def norm(A_lamb):    \n",
    "    return np.linalg.norm(A_lamb, 'fro')\n",
    "\n",
    "def guage_potent_mu(Ham,L, mu):\n",
    "    E,V= Ham.eigh()\n",
    "    op_lamb= del_lambda_Ham(L)\n",
    "    wij = np.outer(E,np.ones(2**L))-np.outer(np.ones(2**L),E)\n",
    "    num_lamb = np.dot(V,np.dot(op_lamb.toarray(),np.conj(V)))\n",
    "    A_lamb = -1j*num_lamb*wij/(wij**2+ mu**2)\n",
    "    return A_lamb"
   ]
  },
  {
   "cell_type": "code",
   "execution_count": 67,
   "metadata": {
    "collapsed": false
   },
   "outputs": [],
   "source": [
    "muTot=40\n",
    "mu_arr=np.logspace(-5,3.0,muTot)\n",
    "L=8\n",
    "norm_arr_nonint=np.zeros(muTot)\n",
    "H=Ham_nonint(L)\n",
    "for i in range(muTot):\n",
    "    mu=mu_arr[i]\n",
    "    A_lamb=guage_potent_mu(H,L,mu)\n",
    "    norm_arr_nonint[i]=norm(A_lamb)\n",
    "    #print norm_arr_nonint[i], mu_arr[i]"
   ]
  },
  {
   "cell_type": "code",
   "execution_count": 65,
   "metadata": {
    "collapsed": false
   },
   "outputs": [],
   "source": [
    "muTot=40\n",
    "mu_arr=np.logspace(-5,3.0,muTot)\n",
    "L=8\n",
    "hz=10.00\n",
    "norm_arr_int=np.zeros(muTot)\n",
    "H=Ham_int_antiferro(L,hz)\n",
    "for i in range(muTot):\n",
    "    mu=mu_arr[i]\n",
    "    A_lamb=guage_potent_mu(H,L,mu)\n",
    "    norm_arr_int[i]=norm(A_lamb)\n",
    "    #print norm_arr_int[i], mu_arr[i]"
   ]
  },
  {
   "cell_type": "code",
   "execution_count": 70,
   "metadata": {
    "collapsed": false
   },
   "outputs": [
    {
     "data": {
      "text/plain": [
       "<matplotlib.legend.Legend at 0x7f3b76591c10>"
      ]
     },
     "execution_count": 70,
     "metadata": {},
     "output_type": "execute_result"
    },
    {
     "data": {
      "image/png": "[encoded data removed]",
      "text/plain": [
       "<matplotlib.figure.Figure at 0x7f3b768dd1d0>"
      ]
     },
     "metadata": {},
     "output_type": "display_data"
    }
   ],
   "source": [
    "plt.loglog(mu_arr**2,norm_arr_nonint**2/2**8, 'b.--', label='Non-int, L=8')\n",
    "plt.loglog(mu_arr**2,norm_arr_nonintL10**2/2**10, 'b+--', label='Non-int, L=10')\n",
    "plt.loglog(mu_arr**2,norm_arr_int**2/2**8, 'r.-', label='Int, L=8')\n",
    "plt.loglog(mu_arr**2,norm_arr_intL10**2/2**10, 'r+-', label='Int, L=10')\n",
    "plt.xlabel(r\"$\\mu^2$\",fontsize=12)\n",
    "plt.ylabel(r\"$||A||^2/2^L$\", fontsize=12)\n",
    "#plt.xlim((10**(-7),10**5))\n",
    "#plt.ylim((10**(-10),10**6))\n",
    "plt.grid()\n",
    "plt.title(\"$\\mu$ scaling of Gauge Potential\")\n",
    "plt.legend()\n",
    "#plt.savefig(\"v1_norm_compar.eps\")"
   ]
  },
  {
   "cell_type": "code",
   "execution_count": 68,
   "metadata": {
    "collapsed": false
   },
   "outputs": [],
   "source": [
    "muTot=40\n",
    "mu_arr=np.logspace(-5,3.0,muTot)\n",
    "L=10\n",
    "norm_arr_nonintL10=np.zeros(muTot)\n",
    "H=Ham_nonint(L)\n",
    "for i in range(muTot):\n",
    "    mu=mu_arr[i]\n",
    "    A_lamb=guage_potent_mu(H,L,mu)\n",
    "    norm_arr_nonintL10[i]=norm(A_lamb)"
   ]
  },
  {
   "cell_type": "code",
   "execution_count": 69,
   "metadata": {
    "collapsed": true
   },
   "outputs": [],
   "source": [
    "muTot=40\n",
    "mu_arr=np.logspace(-5,3.0,muTot)\n",
    "L=10\n",
    "hz=10.00\n",
    "norm_arr_intL10=np.zeros(muTot)\n",
    "H=Ham_int_antiferro(L,hz)\n",
    "for i in range(muTot):\n",
    "    mu=mu_arr[i]\n",
    "    A_lamb=guage_potent_mu(H,L,mu)\n",
    "    norm_arr_intL10[i]=norm(A_lamb)"
   ]
  },
  {
   "cell_type": "markdown",
   "metadata": {},
   "source": [
    "### Local $\\partial_{\\lambda}H$: norm scaling"
   ]
  },
  {
   "cell_type": "code",
   "execution_count": null,
   "metadata": {
    "collapsed": true
   },
   "outputs": [],
   "source": []
  }
 ],
 "metadata": {
  "kernelspec": {
   "display_name": "Python 2",
   "language": "python",
   "name": "python2"
  },
  "language_info": {
   "codemirror_mode": {
    "name": "ipython",
    "version": 2
   },
   "file_extension": ".py",
   "mimetype": "text/x-python",
   "name": "python",
   "nbconvert_exporter": "python",
   "pygments_lexer": "ipython2",
   "version": "2.7.13"
  }
 },
 "nbformat": 4,
 "nbformat_minor": 2
}

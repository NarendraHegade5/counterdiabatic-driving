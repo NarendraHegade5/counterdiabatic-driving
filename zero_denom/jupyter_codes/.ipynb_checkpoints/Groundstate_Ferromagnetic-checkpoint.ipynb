{
 "cells": [
  {
   "cell_type": "code",
   "execution_count": 1,
   "metadata": {
    "collapsed": true
   },
   "outputs": [],
   "source": [
    "from quspin.operators import hamiltonian # Hamiltonians and operators\n",
    "from quspin.basis import spin_basis_1d # Hilbert space spin basis\n",
    "import numpy as np # generic math functions\n",
    "import matplotlib.pyplot as plt\n",
    "%matplotlib inline"
   ]
  },
  {
   "cell_type": "code",
   "execution_count": 2,
   "metadata": {
    "collapsed": true
   },
   "outputs": [],
   "source": [
    "def Ham_nonint(L):\n",
    "    basis = spin_basis_1d(L)\n",
    "    hz=(np.sqrt(5)+1)/4 #parameters used by Kim and Huse\n",
    "    hx=(np.sqrt(5)+5)/8\n",
    "    J=1.0\n",
    "    hz_arr = [[hz,i] for i in range(L)] \n",
    "    hx_arr = [[hx,i] for i in range(L)] \n",
    "    J_arr = [[1,i,(i+1)] for i in range(L-1)] # OBC [[J,i,(i+1)%L] for i in range(L)] # PBC\n",
    "    \n",
    "    # static and dynamic lists\n",
    "    static = [[\"xx\",J_arr],[\"z\",hz_arr], [\"x\",hx_arr] ]\n",
    "    dynamic =[]\n",
    "    H = hamiltonian(static,dynamic,basis=basis,dtype=np.complex_,check_symm=False,check_herm=False)\n",
    "    return H\n",
    "\n",
    "def Ham_int_ferro(L,hz):\n",
    "    basis = spin_basis_1d(L)\n",
    "    #hz=5#(np.sqrt(5)+1)/4 #parameters used by Kim and Huse\n",
    "    J=-1.0\n",
    "    hz_arr = [[hz,i] for i in range(L)] # OBC\n",
    "    J_arr = [[1,i,(i+1)] for i in range(L-1)] # OBC [[J,i,(i+1)%L] for i in range(L)] # PBC\n",
    "    \n",
    "    # static and dynamic lists\n",
    "    static = [[\"xx\",J_arr],[\"z\",hz_arr]]\n",
    "    dynamic =[]\n",
    "    H = hamiltonian(static,dynamic,basis=basis,dtype=np.complex_,check_symm=False,check_herm=False)\n",
    "    return H\n",
    "\n",
    "def Ham_int_antiferro(L):\n",
    "    basis = spin_basis_1d(L)\n",
    "    hz=5#(np.sqrt(5)+1)/4 #parameters used by Kim and Huse\n",
    "    J=1.0\n",
    "    hz_arr = [[hz,i] for i in range(L)] # OBC\n",
    "    J_arr = [[1,i,(i+1)] for i in range(L-1)] # OBC [[J,i,(i+1)%L] for i in range(L)] # PBC\n",
    "    \n",
    "    # static and dynamic lists\n",
    "    static = [[\"xx\",J_arr],[\"z\",hz_arr]]\n",
    "    dynamic =[]\n",
    "    H = hamiltonian(static,dynamic,basis=basis,dtype=np.complex_,check_symm=False,check_herm=False)\n",
    "    return H\n",
    "\n",
    "def del_lambda_Ham(L):\n",
    "    basis = spin_basis_1d(L)  \n",
    "    hx_lamb=1.0\n",
    "    hx_lamb_arr=np.zeros(L)\n",
    "    hx_lamb_arr[0]=hx_lamb\n",
    "    hx_lamb_arr = [[hx_lamb_arr[i],i] for i in range(L)] # OBC\n",
    "    static_lamb = [[\"z\",hx_lamb_arr]]\n",
    "    dynamic_lamb =[]\n",
    "    op_lamb=hamiltonian(static_lamb,dynamic_lamb,basis=basis,dtype=np.complex_,check_symm=False,check_herm=False)\n",
    "    return op_lamb\n",
    "\n",
    "def norm(A_lamb):    \n",
    "    return np.linalg.norm(A_lamb, 'fro')"
   ]
  },
  {
   "cell_type": "code",
   "execution_count": 3,
   "metadata": {
    "collapsed": true
   },
   "outputs": [],
   "source": [
    "def guage_potent_mu(Ham,L, mu):\n",
    "    E,V= Ham.eigh()\n",
    "    op_lamb= del_lambda_Ham(L)\n",
    "    wij = np.outer(E,np.ones(2**L))-np.outer(np.ones(2**L),E)\n",
    "    num_lamb = np.dot(V,np.dot(op_lamb.toarray(),np.conj(V)))\n",
    "    A_lamb = -1j*num_lamb*wij/(wij**2+ mu**2)\n",
    "    return A_lamb"
   ]
  },
  {
   "cell_type": "markdown",
   "metadata": {},
   "source": [
    "I should see how the ground state is looking like. It should be anti-ferromagnetic.<br /> \n",
    "<b> Update:</b> Physically, one possible way that can be seen is by computing magnetization as a function of $h_z$. However, this only works for ferromagnetic Hamiltonian, and not for anti-ferro. :( <br /> \n",
    "What is magnetization for the following Hamiltonian? <br /> \n",
    "$H = \\sum \\sigma_{i}^x \\sigma_{i+1}^x+ h_z \\sum \\sigma_i^z$ <br /> \n",
    "\n",
    "$<m>=\\sum \\sigma_{i}^x / N$, where $N$ is number of spins."
   ]
  },
  {
   "cell_type": "code",
   "execution_count": 20,
   "metadata": {
    "collapsed": false
   },
   "outputs": [
    {
     "data": {
      "text/plain": [
       "[<matplotlib.lines.Line2D at 0x7f6a7d8e39d0>]"
      ]
     },
     "execution_count": 20,
     "metadata": {},
     "output_type": "execute_result"
    },
    {
     "data": {
      "image/png": "[encoded data removed]",
      "text/plain": [
       "<matplotlib.figure.Figure at 0x7f6a7db31710>"
      ]
     },
     "metadata": {},
     "output_type": "display_data"
    }
   ],
   "source": [
    "x=np.arange(2**L)\n",
    "plt.plot(x,np.abs(V_antiferro[:,0]), 'b', label='Anti-ferro')\n",
    "plt.plot(x,np.abs(V_ferro[:,0]), 'r', label='Ferro')"
   ]
  },
  {
   "cell_type": "code",
   "execution_count": 9,
   "metadata": {
    "collapsed": true
   },
   "outputs": [],
   "source": [
    "def avg_mag(V,L):\n",
    "    basis = spin_basis_1d(L)  \n",
    "    hx=1.0\n",
    "    hx_arr = [[hx,i] for i in range(L)] # OBC\n",
    "    static = [[\"x\",hx_arr]]\n",
    "    dynamic=[]\n",
    "    s_x=hamiltonian(static,dynamic,basis=basis,dtype=np.complex_,check_symm=False,check_herm=False)\n",
    "    return np.dot(V,np.dot(s_x.toarray(),np.conj(V)))\n",
    "\n",
    "def avg_square_mag(V,L):\n",
    "    basis = spin_basis_1d(L)  \n",
    "    hx=1.0\n",
    "    hx_arr = [[hx,i] for i in range(L)] # OBC\n",
    "    static = [[\"x\",hx_arr]]\n",
    "    dynamic=[]\n",
    "    s_x=hamiltonian(static,dynamic,basis=basis,dtype=np.complex_,check_symm=False,check_herm=False)\n",
    "    s_x_sq=s_x**2\n",
    "    return np.dot(V,np.dot(s_x_sq.toarray(),np.conj(V)))"
   ]
  },
  {
   "cell_type": "code",
   "execution_count": 17,
   "metadata": {
    "collapsed": false
   },
   "outputs": [
    {
     "data": {
      "text/plain": [
       "(7.7418687592151633e-18+0j)"
      ]
     },
     "execution_count": 17,
     "metadata": {},
     "output_type": "execute_result"
    }
   ],
   "source": [
    "L=4\n",
    "hz=10\n",
    "H_ferro= Ham_int_ferro(L,hz)\n",
    "E_ferro,V_ferro= H_ferro.eigh()\n",
    "H_antiferro=Ham_int_antiferro(L)\n",
    "E_antiferro,V_antiferro= H_ferro.eigh()\n",
    "V_gs=V_ferro[:,-1]\n",
    "avg_mag(V_gs,L)"
   ]
  },
  {
   "cell_type": "code",
   "execution_count": 7,
   "metadata": {
    "collapsed": false
   },
   "outputs": [
    {
     "data": {
      "text/plain": [
       "<16x16 qspin sprase hamiltonian of type 'complex128' stored in Compressed Sparse Row format>"
      ]
     },
     "execution_count": 7,
     "metadata": {},
     "output_type": "execute_result"
    }
   ],
   "source": [
    "E_ferro,V_ferro= H_ferro.eigh()\n",
    "H_antiferro=Ham_int_antiferro(L)\n",
    "E_antiferro,V_antiferro= H_ferro.eigh()\n",
    "V_gs=V_ferro[:,-1]\n",
    "avg_mag(V_gs,L)**2"
   ]
  },
  {
   "cell_type": "code",
   "execution_count": 47,
   "metadata": {
    "collapsed": false
   },
   "outputs": [],
   "source": [
    "L=8\n",
    "hz=np.linspace(0,5,20)\n",
    "avg_mag_arr=np.zeros(len(hz))\n",
    "avg_square_mag_arr=np.zeros(len(hz))\n",
    "for i in range(len(hz)):\n",
    "    H_ferro= Ham_int_ferro(L,hz[i])\n",
    "    E_ferro,V_ferro= H_ferro.eigh()\n",
    "    H_antiferro=Ham_int_antiferro(L)\n",
    "    E_antiferro,V_antiferro= H_ferro.eigh()\n",
    "    V_gs=V_ferro[:,-1]\n",
    "    avg_mag_arr[i]=np.real(avg_mag(V_gs,L))/L\n",
    "    avg_square_mag_arr[i]=np.real(avg_square_mag(V_gs,L))/L**2"
   ]
  },
  {
   "cell_type": "code",
   "execution_count": 48,
   "metadata": {
    "collapsed": false
   },
   "outputs": [],
   "source": [
    "L=10\n",
    "hz=np.linspace(0,5,20)\n",
    "avg_mag_arr10=np.zeros(len(hz))\n",
    "avg_square_mag_arr10=np.zeros(len(hz))\n",
    "for i in range(len(hz)):\n",
    "    H_ferro= Ham_int_ferro(L,hz[i])\n",
    "    E_ferro,V_ferro= H_ferro.eigh()\n",
    "    H_antiferro=Ham_int_antiferro(L)\n",
    "    E_antiferro,V_antiferro= H_ferro.eigh()\n",
    "    V_gs=V_ferro[:,-1]\n",
    "    avg_mag_arr10[i]=np.real(avg_mag(V_gs,L))/L\n",
    "    avg_square_mag_arr10[i]=np.real(avg_square_mag(V_gs,L))/L**2"
   ]
  },
  {
   "cell_type": "code",
   "execution_count": 55,
   "metadata": {
    "collapsed": false
   },
   "outputs": [
    {
     "data": {
      "text/plain": [
       "<matplotlib.legend.Legend at 0x7f076cbc71d0>"
      ]
     },
     "execution_count": 55,
     "metadata": {},
     "output_type": "execute_result"
    },
    {
     "data": {
      "image/png": "[encoded data removed]",
      "text/plain": [
       "<matplotlib.figure.Figure at 0x7f076e217e50>"
      ]
     },
     "metadata": {},
     "output_type": "display_data"
    }
   ],
   "source": [
    "plt.plot(hz,avg_square_mag_arr, 'b.-', label=r\"$L=8$\")\n",
    "plt.plot(hz,avg_square_mag_arr10, 'r.-', label=r\"$L=10$\")\n",
    "\n",
    "#plt.plot(hz,avg_mag_arr, 'r', label=r\"$<m/L>$\")\n",
    "plt.xlabel(\"h_z\")\n",
    "plt.ylabel(r\"$<m^2>/L^2$\")\n",
    "plt.legend()"
   ]
  },
  {
   "cell_type": "code",
   "execution_count": 56,
   "metadata": {
    "collapsed": false
   },
   "outputs": [
    {
     "data": {
      "text/plain": [
       "<matplotlib.legend.Legend at 0x7f076cb164d0>"
      ]
     },
     "execution_count": 56,
     "metadata": {},
     "output_type": "execute_result"
    },
    {
     "data": {
      "image/png": "[encoded data removed]",
      "text/plain": [
       "<matplotlib.figure.Figure at 0x7f076cb16550>"
      ]
     },
     "metadata": {},
     "output_type": "display_data"
    }
   ],
   "source": [
    "plt.plot(hz,avg_mag_arr, 'r', label=\"L=8\")\n",
    "plt.xlabel(\"h_z\")\n",
    "plt.ylabel(r\"$<m/L>$\")\n",
    "plt.legend()"
   ]
  },
  {
   "cell_type": "markdown",
   "metadata": {},
   "source": [
    "For groundstate of ferromagnetic Hamiltonian,magnetization $<m>$ is zero for all h/J values, while $<m^2>$ is what captures phase transitions. For anti-ferromagnetic Hamiltonian, staggered magnetization should be measured. $<m_s>= \\sum_j (-1)^j \\sigma_j^z$ will be zero while $<m_s^2>= \\sum_{j,k}(-1)^{j+k} \\sigma_j^z \\sigma_k^z$ will capture phase transition. <br>\n",
    "Things to think about: why <m> is zero for groundstate of both ferromagnetic Hamiltonian and anti-ferromagnetic Hamiltonian? Is it related to Ising symmetry obeyed by these Hamiltonians?"
   ]
  },
  {
   "cell_type": "code",
   "execution_count": null,
   "metadata": {
    "collapsed": true
   },
   "outputs": [],
   "source": []
  }
 ],
 "metadata": {
  "kernelspec": {
   "display_name": "Python 2",
   "language": "python",
   "name": "python2"
  },
  "language_info": {
   "codemirror_mode": {
    "name": "ipython",
    "version": 2
   },
   "file_extension": ".py",
   "mimetype": "text/x-python",
   "name": "python",
   "nbconvert_exporter": "python",
   "pygments_lexer": "ipython2",
   "version": "2.7.13"
  }
 },
 "nbformat": 4,
 "nbformat_minor": 0
}

{
 "cells": [
  {
   "cell_type": "code",
   "execution_count": 1,
   "metadata": {
    "collapsed": true
   },
   "outputs": [],
   "source": [
    "from quspin.operators import hamiltonian # Hamiltonians and operators\n",
    "from quspin.basis import spin_basis_1d # Hilbert space spin basis\n",
    "import numpy as np # generic math functions\n",
    "import matplotlib.pyplot as plt\n",
    "%matplotlib inline"
   ]
  },
  {
   "cell_type": "code",
   "execution_count": 74,
   "metadata": {
    "collapsed": true
   },
   "outputs": [],
   "source": [
    "def Ham_nonint(L):\n",
    "    basis = spin_basis_1d(L)\n",
    "    hz=(np.sqrt(5)+1)/4 #parameters used by Kim and Huse\n",
    "    hx=(np.sqrt(5)+5)/8\n",
    "    J=1.0\n",
    "    hz_arr = [[hz,i] for i in range(L)] \n",
    "    hx_arr = [[hx,i] for i in range(L)] \n",
    "    J_arr = [[J,i,(i+1)] for i in range(L-1)] # OBC [[J,i,(i+1)%L] for i in range(L)] # PBC\n",
    "    \n",
    "    # static and dynamic lists\n",
    "    static = [[\"zz\",J_arr],[\"z\",hz_arr], [\"x\",hx_arr] ]\n",
    "    dynamic =[]\n",
    "    H = hamiltonian(static,dynamic,basis=basis,dtype=np.complex_,check_symm=False,check_herm=False)\n",
    "    return H\n",
    "\n",
    "def Ham_int_antiferro(L,hz):\n",
    "    basis = spin_basis_1d(L)\n",
    "    \n",
    "    J=1.0\n",
    "    hz_arr = [[hz,i] for i in range(L)] # OBC\n",
    "    J_arr = [[J,i,(i+1)] for i in range(L-1)] # OBC [[J,i,(i+1)%L] for i in range(L)] # PBC\n",
    "    \n",
    "    # static and dynamic lists\n",
    "    static = [[\"zz\",J_arr],[\"x\",hz_arr]]\n",
    "    dynamic =[]\n",
    "    H = hamiltonian(static,dynamic,basis=basis,dtype=np.complex_,check_symm=False,check_herm=False)\n",
    "    return H"
   ]
  },
  {
   "cell_type": "code",
   "execution_count": 73,
   "metadata": {
    "collapsed": false
   },
   "outputs": [],
   "source": [
    "def del_lambda_Ham(L):\n",
    "    basis = spin_basis_1d(L)  \n",
    "    hx_lamb=1.0\n",
    "    hx_lamb_arr = [[hx_lamb,i] for i in range(L)] # OBC\n",
    "    static_lamb = [[\"x\",hx_lamb_arr]]\n",
    "    dynamic_lamb =[]\n",
    "    op_lamb=hamiltonian(static_lamb,dynamic_lamb,basis=basis,dtype=np.complex_,check_symm=False,check_herm=False)\n",
    "    return op_lamb\n",
    "\n",
    "def norm(A_lamb):    \n",
    "    return np.linalg.norm(A_lamb, 'fro')\n",
    "\n",
    "def guage_potent_mu(Ham,L, mu):\n",
    "    E,V= Ham.eigh()\n",
    "    op_lamb= del_lambda_Ham(L)\n",
    "    wij = np.outer(E,np.ones(2**L))-np.outer(np.ones(2**L),E)\n",
    "    num_lamb = np.dot(V,np.dot(op_lamb.toarray(),np.conj(V)))\n",
    "    A_lamb = -1j*num_lamb*wij/(wij**2+ mu**2)\n",
    "    return A_lamb"
   ]
  },
  {
   "cell_type": "code",
   "execution_count": 14,
   "metadata": {
    "collapsed": false
   },
   "outputs": [],
   "source": [
    "muTot=40\n",
    "mu_arr=np.logspace(-5,3.0,muTot)\n",
    "L=8\n",
    "norm_arr_nonint=np.zeros(muTot)\n",
    "H=Ham_nonint(L)\n",
    "for i in range(muTot):\n",
    "    mu=mu_arr[i]\n",
    "    A_lamb=guage_potent_mu(H,L,mu)\n",
    "    norm_arr_nonint[i]=norm(A_lamb)\n",
    "    #print norm_arr_nonint[i], mu_arr[i]"
   ]
  },
  {
   "cell_type": "code",
   "execution_count": 97,
   "metadata": {
    "collapsed": false
   },
   "outputs": [],
   "source": [
    "muTot=40\n",
    "mu_arr=np.logspace(-5,3.0,muTot)\n",
    "L=8\n",
    "hz=5.00\n",
    "norm_arr_int=np.zeros(muTot)\n",
    "H=Ham_int_antiferro(L,hz)\n",
    "for i in range(muTot):\n",
    "    mu=mu_arr[i]\n",
    "    A_lamb=guage_potent_mu(H,L,mu)\n",
    "    norm_arr_int[i]=norm(A_lamb)\n",
    "    #print norm_arr_int[i], mu_arr[i]"
   ]
  },
  {
   "cell_type": "code",
   "execution_count": 98,
   "metadata": {
    "collapsed": false
   },
   "outputs": [
    {
     "data": {
      "text/plain": [
       "<matplotlib.legend.Legend at 0x7f37bb349550>"
      ]
     },
     "execution_count": 98,
     "metadata": {},
     "output_type": "execute_result"
    },
    {
     "data": {
      "image/png": "[encoded data removed]",
      "text/plain": [
       "<matplotlib.figure.Figure at 0x7f37bb5a2a10>"
      ]
     },
     "metadata": {},
     "output_type": "display_data"
    }
   ],
   "source": [
    "plt.loglog(mu_arr**2,norm_arr_nonint**2/2**8, 'b.--', label='Non-int, L=8')\n",
    "#plt.loglog(mu_arr**2,norm_arr_nonintL10**2/2**10, 'b+--', label='Non-int, L=10')\n",
    "plt.loglog(mu_arr**2,norm_arr_int**2/2**8, 'r.-', label='Int, L=8')\n",
    "#plt.loglog(mu_arr**2,norm_arr_intL10**2/2**10, 'r+-', label='Int, L=10')\n",
    "plt.xlabel(r\"$\\mu^2$\",fontsize=12)\n",
    "plt.ylabel(r\"$||A||^2/2^L$\", fontsize=12)\n",
    "#plt.xlim((10**(-7),10**5))\n",
    "#plt.ylim((10**(-10),10**6))\n",
    "plt.grid()\n",
    "plt.title(\"$\\mu$ scaling of Gauge Potential\")\n",
    "plt.legend()\n",
    "#plt.savefig(\"v1_norm_compar.eps\")"
   ]
  },
  {
   "cell_type": "code",
   "execution_count": 68,
   "metadata": {
    "collapsed": false
   },
   "outputs": [],
   "source": [
    "muTot=40\n",
    "mu_arr=np.logspace(-5,3.0,muTot)\n",
    "L=10\n",
    "norm_arr_nonintL10=np.zeros(muTot)\n",
    "H=Ham_nonint(L)\n",
    "for i in range(muTot):\n",
    "    mu=mu_arr[i]\n",
    "    A_lamb=guage_potent_mu(H,L,mu)\n",
    "    norm_arr_nonintL10[i]=norm(A_lamb)"
   ]
  },
  {
   "cell_type": "code",
   "execution_count": 69,
   "metadata": {
    "collapsed": true
   },
   "outputs": [],
   "source": [
    "muTot=40\n",
    "mu_arr=np.logspace(-5,3.0,muTot)\n",
    "L=10\n",
    "hz=10.00\n",
    "norm_arr_intL10=np.zeros(muTot)\n",
    "H=Ham_int_antiferro(L,hz)\n",
    "for i in range(muTot):\n",
    "    mu=mu_arr[i]\n",
    "    A_lamb=guage_potent_mu(H,L,mu)\n",
    "    norm_arr_intL10[i]=norm(A_lamb)"
   ]
  },
  {
   "cell_type": "markdown",
   "metadata": {},
   "source": [
    "### Fitting of plot"
   ]
  },
  {
   "cell_type": "code",
   "execution_count": 6,
   "metadata": {
    "collapsed": true
   },
   "outputs": [],
   "source": [
    "x=np.linspace(0.5,10,100)"
   ]
  },
  {
   "cell_type": "code",
   "execution_count": 9,
   "metadata": {
    "collapsed": false
   },
   "outputs": [
    {
     "data": {
      "text/plain": [
       "[<matplotlib.lines.Line2D at 0x7f37c3a9d710>]"
      ]
     },
     "execution_count": 9,
     "metadata": {},
     "output_type": "execute_result"
    },
    {
     "data": {
      "image/png": "[encoded data removed]",
      "text/plain": [
       "<matplotlib.figure.Figure at 0x7f37c3bb71d0>"
      ]
     },
     "metadata": {},
     "output_type": "display_data"
    }
   ],
   "source": [
    "plt.loglog(x, np.pi/x)"
   ]
  },
  {
   "cell_type": "code",
   "execution_count": 70,
   "metadata": {
    "collapsed": false
   },
   "outputs": [],
   "source": [
    "from scipy.optimize import curve_fit\n",
    "def gfunc(x, a,c):\n",
    "    return a *x**c"
   ]
  },
  {
   "cell_type": "code",
   "execution_count": 79,
   "metadata": {
    "collapsed": false
   },
   "outputs": [
    {
     "name": "stdout",
     "output_type": "stream",
     "text": [
      "[ 2.45815275 -1.50749061]\n"
     ]
    },
    {
     "data": {
      "image/png": "[encoded data removed]",
      "text/plain": [
       "<matplotlib.figure.Figure at 0x7f37bbfcb3d0>"
      ]
     },
     "metadata": {},
     "output_type": "display_data"
    }
   ],
   "source": [
    "xdata = np.linspace(0.1, 4, 50)\n",
    "y = gfunc(xdata, 2.5, -1.5)\n",
    "y_noise = 0.2 * np.random.normal(size=xdata.size)\n",
    "ydata = y + y_noise\n",
    "plt.loglog(xdata, ydata, 'b-', label='data')\n",
    "popt, pcov = curve_fit(gfunc, xdata, ydata)\n",
    "plt.loglog(xdata, gfunc(xdata, *popt), 'r-', label='fit')\n",
    "print popt"
   ]
  },
  {
   "cell_type": "code",
   "execution_count": 85,
   "metadata": {
    "collapsed": false
   },
   "outputs": [
    {
     "name": "stdout",
     "output_type": "stream",
     "text": [
      "[-3.71401382 -1.62670152] [[ 0.19038712  0.01251492]\n",
      " [ 0.01251492  0.00543516]]\n"
     ]
    }
   ],
   "source": [
    "def gfunc(x, a,c): #logfunction\n",
    "    return a+ c*x\n",
    "xdata =mu_arr\n",
    "ydata = norm_arr_nonint**2/2**8\n",
    "popt, pcov = curve_fit(gfunc, np.log(xdata), np.log(ydata))\n",
    "print popt\n",
    "#a,b=popt\n",
    "#print a,b"
   ]
  },
  {
   "cell_type": "code",
   "execution_count": 84,
   "metadata": {
    "collapsed": false
   },
   "outputs": [
    {
     "data": {
      "text/plain": [
       "[<matplotlib.lines.Line2D at 0x7f37bbdb2b50>]"
      ]
     },
     "execution_count": 84,
     "metadata": {},
     "output_type": "execute_result"
    },
    {
     "data": {
      "image/png": "[encoded data removed]",
      "text/plain": [
       "<matplotlib.figure.Figure at 0x7f37bbdb2450>"
      ]
     },
     "metadata": {},
     "output_type": "display_data"
    }
   ],
   "source": [
    "plt.plot(np.log(mu_arr),np.log(norm_arr_nonint**2/2**8), 'b.--')\n",
    "plt.plot(np.log(mu_arr), gfunc(np.log(mu_arr),*popt), 'r.-', label='fit')"
   ]
  },
  {
   "cell_type": "code",
   "execution_count": 95,
   "metadata": {
    "collapsed": false
   },
   "outputs": [
    {
     "data": {
      "text/plain": [
       "[<matplotlib.lines.Line2D at 0x7f37bb981e10>]"
      ]
     },
     "execution_count": 95,
     "metadata": {},
     "output_type": "execute_result"
    },
    {
     "data": {
      "image/png": "[encoded data removed]",
      "text/plain": [
       "<matplotlib.figure.Figure at 0x7f37bb886490>"
      ]
     },
     "metadata": {},
     "output_type": "display_data"
    }
   ],
   "source": [
    "plt.loglog(mu_arr,norm_arr_nonint**2/2**8, 'b.--')\n",
    "plt.loglog(mu_arr, org_func(mu_arr,np.exp(a_in),b_in), 'r.-', label='fit')"
   ]
  },
  {
   "cell_type": "code",
   "execution_count": 87,
   "metadata": {
    "collapsed": true
   },
   "outputs": [],
   "source": [
    "def org_func(x, a,c):\n",
    "    return a*x**c"
   ]
  },
  {
   "cell_type": "code",
   "execution_count": 89,
   "metadata": {
    "collapsed": false
   },
   "outputs": [],
   "source": [
    "a_in,b_in=popt"
   ]
  },
  {
   "cell_type": "code",
   "execution_count": 91,
   "metadata": {
    "collapsed": false
   },
   "outputs": [
    {
     "data": {
      "text/plain": [
       "0.024379471874568188"
      ]
     },
     "execution_count": 91,
     "metadata": {},
     "output_type": "execute_result"
    }
   ],
   "source": [
    "np.exp(a_in)"
   ]
  },
  {
   "cell_type": "code",
   "execution_count": 96,
   "metadata": {
    "collapsed": false
   },
   "outputs": [
    {
     "data": {
      "text/plain": [
       "-1.6267015166446712"
      ]
     },
     "execution_count": 96,
     "metadata": {},
     "output_type": "execute_result"
    }
   ],
   "source": [
    "b_in"
   ]
  },
  {
   "cell_type": "code",
   "execution_count": 30,
   "metadata": {
    "collapsed": true
   },
   "outputs": [],
   "source": [
    "x1,y1=np.loadtxt(\"v1.0_L8_nonint_mu_scaling.dat\",unpack=True,skiprows=2 )\n",
    "x2,y2=np.loadtxt(\"v1.0_L8_int_mu_scaling.dat\",unpack=True,skiprows=2 )\n",
    "x3,y3=np.loadtxt(\"v1.0_L10_nonint_mu_scaling.dat\",unpack=True,skiprows=2 )\n",
    "x4,y4=np.loadtxt(\"v1.0_L10_int_mu_scaling.dat\",unpack=True,skiprows=2 )\n",
    "x5,y5=np.loadtxt(\"v1.0_L12_nonint_mu_scaling.dat\",unpack=True,skiprows=2 )\n",
    "x6,y6=np.loadtxt(\"v1.0_L12_int_mu_scaling.dat\",unpack=True,skiprows=2)"
   ]
  },
  {
   "cell_type": "code",
   "execution_count": 34,
   "metadata": {
    "collapsed": false
   },
   "outputs": [
    {
     "data": {
      "image/png": "[encoded data removed]",
      "text/plain": [
       "<matplotlib.figure.Figure at 0x7f974ea75650>"
      ]
     },
     "metadata": {},
     "output_type": "display_data"
    }
   ],
   "source": [
    "plt.loglog(x1,y1/2**8, 'b.-', label='Non-int, L=8')\n",
    "plt.loglog(x3,y3/2**10, 'b*-', label='Non-int, L=10')\n",
    "plt.loglog(x5,y5/2**12, 'b+-', label='Non-int, L=12')\n",
    "plt.loglog(x2,y2/2**8, 'r.-', label='Int, L=8')\n",
    "plt.loglog(x4,y4/2**10, 'r*-', label='Int, L=10')\n",
    "plt.loglog(x6,y6/2**12, 'r+-', label='Int, L=12')\n",
    "plt.ylabel(r\"$||A||^2/2^L$\", fontsize=13)\n",
    "plt.xlabel(r\"$\\mu$\", fontsize=13)\n",
    "plt.legend(loc='best')\n",
    "plt.savefig(\"v1.0_norm_L8_L10_L12.eps\")"
   ]
  },
  {
   "cell_type": "markdown",
   "metadata": {
    "collapsed": true
   },
   "source": [
    "### Curve fitting"
   ]
  },
  {
   "cell_type": "code",
   "execution_count": 59,
   "metadata": {
    "collapsed": false
   },
   "outputs": [],
   "source": [
    "from scipy.optimize import curve_fit\n",
    "def gfunc(x, a,c): #logfunction\n",
    "    return a+ c*x"
   ]
  },
  {
   "cell_type": "code",
   "execution_count": 53,
   "metadata": {
    "collapsed": false
   },
   "outputs": [
    {
     "name": "stdout",
     "output_type": "stream",
     "text": [
      "[-5.73388555 -1.23930257]\n"
     ]
    }
   ],
   "source": [
    "xdata =x1\n",
    "ydata = y1/2**8\n",
    "popt, pcov = curve_fit(gfunc, np.log(xdata[0:-3]), np.log(ydata[0:-3]))\n",
    "print popt"
   ]
  },
  {
   "cell_type": "code",
   "execution_count": 57,
   "metadata": {
    "collapsed": false
   },
   "outputs": [
    {
     "name": "stdout",
     "output_type": "stream",
     "text": [
      "[-6.98660631 -0.67368417]\n"
     ]
    }
   ],
   "source": [
    "xdata =x2\n",
    "ydata = y2/2**8\n",
    "popt, pcov = curve_fit(gfunc, np.log(xdata[0:-3]), np.log(ydata[0:-3]))\n",
    "print popt"
   ]
  },
  {
   "cell_type": "code",
   "execution_count": 55,
   "metadata": {
    "collapsed": false
   },
   "outputs": [
    {
     "name": "stdout",
     "output_type": "stream",
     "text": [
      "[-5.38562294 -1.43799405]\n"
     ]
    }
   ],
   "source": [
    "xdata =x3\n",
    "ydata = y3/2**10\n",
    "popt, pcov = curve_fit(gfunc, np.log(xdata[0:-3]), np.log(ydata[0:-3]))\n",
    "print popt"
   ]
  },
  {
   "cell_type": "code",
   "execution_count": 58,
   "metadata": {
    "collapsed": false
   },
   "outputs": [
    {
     "name": "stdout",
     "output_type": "stream",
     "text": [
      "[-6.15849053 -0.77488751]\n"
     ]
    }
   ],
   "source": [
    "xdata =x4\n",
    "ydata = y4/2**10\n",
    "popt, pcov = curve_fit(gfunc, np.log(xdata[0:-3]), np.log(ydata[0:-3]))\n",
    "print popt"
   ]
  },
  {
   "cell_type": "code",
   "execution_count": 56,
   "metadata": {
    "collapsed": false
   },
   "outputs": [
    {
     "name": "stdout",
     "output_type": "stream",
     "text": [
      "[-6.34836094 -1.65876158]\n"
     ]
    }
   ],
   "source": [
    "xdata =x5\n",
    "ydata = y5/2**12\n",
    "popt, pcov = curve_fit(gfunc, np.log(xdata[0:-1]), np.log(ydata[0:-1]))\n",
    "print popt"
   ]
  },
  {
   "cell_type": "code",
   "execution_count": 60,
   "metadata": {
    "collapsed": false
   },
   "outputs": [
    {
     "name": "stdout",
     "output_type": "stream",
     "text": [
      "[-6.57081552 -1.1229583 ]\n"
     ]
    }
   ],
   "source": [
    "xdata =x6\n",
    "ydata = y6/2**12\n",
    "popt, pcov = curve_fit(gfunc, np.log(xdata[0:-1]), np.log(ydata[0:-1]))\n",
    "print popt"
   ]
  },
  {
   "cell_type": "code",
   "execution_count": 62,
   "metadata": {
    "collapsed": false
   },
   "outputs": [],
   "source": [
    "muTot=10\n",
    "mu_arr=np.logspace(-5,3.0,muTot)"
   ]
  },
  {
   "cell_type": "code",
   "execution_count": 63,
   "metadata": {
    "collapsed": false
   },
   "outputs": [
    {
     "data": {
      "text/plain": [
       "array([  1.00000000e-05,   7.74263683e-05,   5.99484250e-04,\n",
       "         4.64158883e-03,   3.59381366e-02,   2.78255940e-01,\n",
       "         2.15443469e+00,   1.66810054e+01,   1.29154967e+02,\n",
       "         1.00000000e+03])"
      ]
     },
     "execution_count": 63,
     "metadata": {},
     "output_type": "execute_result"
    }
   ],
   "source": [
    "mu_arr"
   ]
  },
  {
   "cell_type": "code",
   "execution_count": 82,
   "metadata": {
    "collapsed": false
   },
   "outputs": [
    {
     "data": {
      "text/plain": [
       "array([  1.00000000e-10,   2.02000000e-10,   4.09000000e-10,\n",
       "         8.29000000e-10,   1.67700000e-09,   3.39300000e-09,\n",
       "         6.86600000e-09,   1.38950000e-08,   2.81180000e-08,\n",
       "         5.68990000e-08,   1.15140000e-07,   2.32995000e-07,\n",
       "         4.71487000e-07,   9.54095000e-07,   1.93069800e-06,\n",
       "         3.90694000e-06,   7.90604300e-06,   1.59985870e-05,\n",
       "         3.23745750e-05,   6.55128560e-05,   1.32571137e-04,\n",
       "         2.68269580e-04,   5.42867544e-04,   1.09854114e-03,\n",
       "         2.22299648e-03,   4.49843267e-03,   9.10298178e-03,\n",
       "         1.84206997e-02,   3.72759372e-02,   7.54312006e-02,\n",
       "         1.52641797e-01,   3.08884360e-01,   6.25055193e-01,\n",
       "         1.26485522e+00,   2.55954792e+00,   5.17947468e+00,\n",
       "         1.04811313e+01,   2.12095089e+01,   4.29193426e+01,\n",
       "         8.68511374e+01,   1.75751062e+02,   3.55648031e+02,\n",
       "         7.19685673e+02,   1.45634848e+03,   2.94705170e+03,\n",
       "         5.96362332e+03,   1.20679264e+04,   2.44205309e+04,\n",
       "         4.94171336e+04,   1.00000000e+05])"
      ]
     },
     "execution_count": 82,
     "metadata": {},
     "output_type": "execute_result"
    }
   ],
   "source": [
    "x1"
   ]
  },
  {
   "cell_type": "code",
   "execution_count": 80,
   "metadata": {
    "collapsed": false
   },
   "outputs": [
    {
     "name": "stdout",
     "output_type": "stream",
     "text": [
      "[  9.09338278e-16]\n"
     ]
    }
   ],
   "source": [
    "muTot=1\n",
    "L=8\n",
    "mu_arr=1.00000000e+05\n",
    "norm_arr_nonint=np.zeros(muTot)\n",
    "H=Ham_nonint(L)\n",
    "for i in range(muTot):\n",
    "    mu=mu_arr\n",
    "    A_lamb=guage_potent_mu(H,L,mu)\n",
    "    norm_arr_nonint[i]=norm(A_lamb)\n",
    "    print norm_arr_nonint**2"
   ]
  },
  {
   "cell_type": "code",
   "execution_count": null,
   "metadata": {
    "collapsed": true
   },
   "outputs": [],
   "source": []
  }
 ],
 "metadata": {
  "kernelspec": {
   "display_name": "Python 2",
   "language": "python",
   "name": "python2"
  },
  "language_info": {
   "codemirror_mode": {
    "name": "ipython",
    "version": 2
   },
   "file_extension": ".py",
   "mimetype": "text/x-python",
   "name": "python",
   "nbconvert_exporter": "python",
   "pygments_lexer": "ipython2",
   "version": "2.7.12"
  },
  "widgets": {
   "state": {},
   "version": "1.1.2"
  }
 },
 "nbformat": 4,
 "nbformat_minor": 2
}

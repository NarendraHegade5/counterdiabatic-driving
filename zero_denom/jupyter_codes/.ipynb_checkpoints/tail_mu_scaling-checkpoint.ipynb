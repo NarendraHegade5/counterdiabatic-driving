{
 "cells": [
  {
   "cell_type": "code",
   "execution_count": 4,
   "metadata": {
    "collapsed": true
   },
   "outputs": [],
   "source": [
    "from quspin.operators import hamiltonian\n",
    "from quspin.operators import commutator# Hamiltonians and operators\n",
    "from quspin.basis import spin_basis_1d # Hilbert space spin basis\n",
    "import numpy as np # generic math functions\n",
    "import matplotlib.pyplot as plt\n",
    "%matplotlib inline"
   ]
  },
  {
   "cell_type": "code",
   "execution_count": 352,
   "metadata": {
    "collapsed": true
   },
   "outputs": [],
   "source": [
    "def Ham_nonint(L):\n",
    "    basis = spin_basis_1d(L)\n",
    "    hz=(np.sqrt(5)+1)/4 #parameters used by Kim and Huse\n",
    "    hx=(np.sqrt(5)+5)/8\n",
    "    J=1.0\n",
    "    hz_arr = [[hz,i] for i in range(L)] \n",
    "    hx_arr = [[hx,i] for i in range(L)] \n",
    "    J_arr = [[J,i,(i+1)%L] for i in range(L)] # PBC#[[J,i,(i+1)] for i in range(L-1)] # OBC \n",
    "    \n",
    "    # static and dynamic lists\n",
    "    static = [[\"zz\",J_arr],[\"z\",hz_arr], [\"x\",hx_arr] ]\n",
    "    dynamic =[]\n",
    "    H = hamiltonian(static,dynamic,basis=basis,dtype=np.complex_,check_symm=False,check_herm=False)\n",
    "    return H\n",
    "\n",
    "def Ham_int_antiferro(L,hz):\n",
    "    basis = spin_basis_1d(L)\n",
    "    J=1.0\n",
    "    hz_arr = [[hz,i] for i in range(L)] # OBC\n",
    "    J_arr =[[J,i,(i+1)%L] for i in range(L)] # PBC# [[J,i,(i+1)] for i in range(L-1)] # OBC\n",
    "    # static and dynamic lists\n",
    "    static = [[\"zz\",J_arr],[\"x\",hz_arr]]\n",
    "    dynamic =[]\n",
    "    H = hamiltonian(static,dynamic,basis=basis,dtype=np.complex_,check_symm=False,check_herm=False)\n",
    "    return H"
   ]
  },
  {
   "cell_type": "code",
   "execution_count": 353,
   "metadata": {
    "collapsed": true
   },
   "outputs": [],
   "source": [
    "def del_lambda_Ham(L):\n",
    "    basis = spin_basis_1d(L)  \n",
    "    hx_lamb=1.0\n",
    "    hx_lamb_arr = [[hx_lamb,i] for i in range(L)] \n",
    "    static_lamb = [[\"x\",hx_lamb_arr]]\n",
    "    dynamic_lamb =[]\n",
    "    op_lamb=hamiltonian(static_lamb,dynamic_lamb,basis=basis,dtype=np.complex_,check_symm=False,check_herm=False)\n",
    "    return op_lamb\n",
    "\n",
    "def norm(A_lamb):    \n",
    "    return np.linalg.norm(A_lamb, 'fro')\n",
    "\n",
    "def guage_potent_mu(Ham,L, mu):\n",
    "    E,V= Ham.eigh()\n",
    "    op_lamb= del_lambda_Ham(L)\n",
    "    wij = np.outer(E,np.ones(2**L))-np.outer(np.ones(2**L),E)\n",
    "    num_lamb = np.dot(V,np.dot(op_lamb.toarray(),np.conj(V)))\n",
    "    A_lamb = -1j*num_lamb*wij/(wij**2+ mu**2)\n",
    "    return A_lamb"
   ]
  },
  {
   "cell_type": "code",
   "execution_count": 354,
   "metadata": {
    "collapsed": true
   },
   "outputs": [],
   "source": [
    "def new_gauge_potent_mu(Ham,L, mu):\n",
    "    E,V= Ham.eigh()\n",
    "    V_mat=np.matrix(V)\n",
    "    V_mat_H=V_mat.H\n",
    "    op_lamb_mat = np.matrix(del_lambda_Ham(L).toarray())\n",
    "    num_lamb_mat =  (V_mat_H)*(op_lamb_mat*V_mat) #matrix multiplication\n",
    "    wij = np.outer(E,np.ones(2**L))-np.outer(np.ones(2**L),E)\n",
    "    A_lamb = -1j*np.multiply(wij,num_lamb_mat)/(wij**2+ mu**2)#element-wise multiplication\n",
    "    return A_lamb"
   ]
  },
  {
   "cell_type": "markdown",
   "metadata": {},
   "source": [
    "### Analytical formula: trace of $[H, \\partial_{\\lambda}H]$"
   ]
  },
  {
   "cell_type": "code",
   "execution_count": 358,
   "metadata": {
    "collapsed": false
   },
   "outputs": [
    {
     "name": "stdout",
     "output_type": "stream",
     "text": [
      "(48+0j) 40\n"
     ]
    }
   ],
   "source": [
    "#integrbale model\n",
    "L=6\n",
    "hz=5\n",
    "Ham=Ham_int_antiferro(L,hz)\n",
    "partial_lamb_H=del_lambda_Ham(L)\n",
    "comm=commutator(Ham,partial_lamb_H)\n",
    "mat=((-1j*comm)**2).toarray()\n",
    "print np.trace(mat)/2**L, 4*2*(L-1)"
   ]
  },
  {
   "cell_type": "code",
   "execution_count": 357,
   "metadata": {
    "collapsed": false
   },
   "outputs": [
    {
     "name": "stdout",
     "output_type": "stream",
     "text": [
      " num,th: (63.7082039325+0j) 55.7082039325\n"
     ]
    }
   ],
   "source": [
    "#non-integrbale model\n",
    "L=6\n",
    "Ham=Ham_nonint(L)\n",
    "partial_lamb_H=del_lambda_Ham(L)\n",
    "comm=commutator(Ham,partial_lamb_H)\n",
    "mat=((-1j*comm)**2).toarray()\n",
    "hz=(np.sqrt(5)+1)/4 \n",
    "print \" num,th:\", np.trace(mat)/2**L, 4*(L*hz**2+2*(L-1))"
   ]
  },
  {
   "cell_type": "markdown",
   "metadata": {},
   "source": [
    "### Numerical value: integrable"
   ]
  },
  {
   "cell_type": "code",
   "execution_count": 320,
   "metadata": {
    "collapsed": false
   },
   "outputs": [],
   "source": [
    "muTot=100\n",
    "L=6\n",
    "hz=5\n",
    "norm_arr_int_old=np.zeros(muTot)\n",
    "mu_arr=np.logspace(-5,10,muTot)\n",
    "H=Ham_int_antiferro(L,hz)\n",
    "for i in range(muTot):\n",
    "    mu=mu_arr[i]\n",
    "    A_lamb=guage_potent_mu(H,L,mu)\n",
    "    norm_arr_int_old[i]=norm(A_lamb)"
   ]
  },
  {
   "cell_type": "code",
   "execution_count": 327,
   "metadata": {
    "collapsed": false
   },
   "outputs": [],
   "source": [
    "muTot=100\n",
    "L=6\n",
    "hz=5\n",
    "norm_arr_int=np.zeros(muTot)\n",
    "mu_arr=np.logspace(-5,20,muTot)\n",
    "H=Ham_int_antiferro(L,hz)\n",
    "for i in range(muTot):\n",
    "    mu=mu_arr[i]\n",
    "    A_lamb=new_gauge_potent_mu(H,L,mu)\n",
    "    norm_arr_int[i]=norm(A_lamb)"
   ]
  },
  {
   "cell_type": "code",
   "execution_count": 325,
   "metadata": {
    "collapsed": false
   },
   "outputs": [
    {
     "name": "stdout",
     "output_type": "stream",
     "text": [
      "1.7763568394e-15 60.6016702402\n"
     ]
    }
   ],
   "source": [
    "E,V= H.eigh()\n",
    "wij = np.outer(E,np.ones(2**L))-np.outer(np.ones(2**L),E)\n",
    "index_lower = np.tril_indices(2**L,-1)\n",
    "wij_arr=wij[index_lower]\n",
    "print min(wij_arr), max(wij_arr)"
   ]
  },
  {
   "cell_type": "code",
   "execution_count": 328,
   "metadata": {
    "collapsed": false
   },
   "outputs": [
    {
     "data": {
      "image/png": "[encoded data removed]",
      "text/plain": [
       "<matplotlib.figure.Figure at 0x7f7cee8f1ed0>"
      ]
     },
     "metadata": {},
     "output_type": "display_data"
    }
   ],
   "source": [
    "plt.loglog(mu_arr,norm_arr_int_old**2/2**6, 'b.-', label='int, L=6')\n",
    "plt.loglog(mu_arr,norm_arr_int**2/2**6, 'k+-', label='int, L=6')\n",
    "#plt.loglog(mu_arr[80:],norm_arr_int_old[80:]**2/2**6, 'k+-', label='int, L=6')\n",
    "#plt.loglog(mu_arr_L6,norm_arr_nonintL6/2**6, 'r.-', label='Non-int, L=6')\n",
    "#plt.loglog(mu_arr_L6[40:100],norm_arr_nonintL6[40:100]/2**6, 'k+-', label='Non-int, L=6')\n",
    "#plt.loglog(mu_arr_L8,norm_arr_nonintL8/2**8, 'g.-', label='Non-int, L=8')\n",
    "#plt.loglog(mu_arr_L8[20:50],norm_arr_nonintL8[20:50]/2**8, 'k+-', label='Non-int, L=8')\n",
    "plt.legend(loc='best')\n",
    "plt.grid()"
   ]
  },
  {
   "cell_type": "code",
   "execution_count": 329,
   "metadata": {
    "collapsed": false
   },
   "outputs": [
    {
     "data": {
      "image/png": "[encoded data removed]",
      "text/plain": [
       "<matplotlib.figure.Figure at 0x7f7cee965c90>"
      ]
     },
     "metadata": {},
     "output_type": "display_data"
    }
   ],
   "source": [
    "plt.loglog(mu_arr,norm_arr_int**2/2**6, 'b.-', label='int, L=6')\n",
    "plt.loglog(mu_arr[80:],norm_arr_int[80:]**2/2**6, 'k+-', label='int, L=6')\n",
    "plt.grid()"
   ]
  },
  {
   "cell_type": "code",
   "execution_count": 330,
   "metadata": {
    "collapsed": false
   },
   "outputs": [
    {
     "name": "stdout",
     "output_type": "stream",
     "text": [
      "[ 3.87120101 -4.        ] [  2.97082237e-27   1.79641937e-30]\n",
      " num,th: 48.0 24 2.0\n",
      " log of num,th: 3.87120101091 3.17805383035\n"
     ]
    }
   ],
   "source": [
    "from scipy.optimize import curve_fit\n",
    "def gfunc(x, a,c): #logfunction\n",
    "    return a+ c*x\n",
    "def org_func(x, a,c):\n",
    "    return a*x**c\n",
    "xdata =mu_arr[80:]\n",
    "ydata = norm_arr_int[80:]**2/2**6\n",
    "popt, pcov = curve_fit(gfunc, np.log(xdata), np.log(ydata))\n",
    "print popt, np.diag(pcov)\n",
    "a_in,b_in=popt\n",
    "L=4\n",
    "print \" num,th:\", np.exp(a_in), 4*2*(L-1), np.exp(a_in)/(4*2*(L-1))\n",
    "print \" log of num,th:\", a_in, np.log(4*2*(L-1))"
   ]
  },
  {
   "cell_type": "code",
   "execution_count": 21,
   "metadata": {
    "collapsed": false
   },
   "outputs": [
    {
     "data": {
      "text/plain": [
       "[<matplotlib.lines.Line2D at 0x7f39c4ebf6d0>]"
      ]
     },
     "execution_count": 21,
     "metadata": {},
     "output_type": "execute_result"
    },
    {
     "data": {
      "image/png": "[encoded data removed]",
      "text/plain": [
       "<matplotlib.figure.Figure at 0x7f39c4f3d310>"
      ]
     },
     "metadata": {},
     "output_type": "display_data"
    }
   ],
   "source": [
    "plt.loglog(mu_arr[50:100],norm_arr_int[50:100]**2/2**4, 'k+-', label='Non-int, L=4')\n",
    "plt.loglog(mu_arr[50:100],org_func(mu_arr[50:100], np.exp(a_in),b_in,), 'r-', label='Non-int, L=4')\n",
    "plt.loglog(mu_arr[50:100],org_func(mu_arr[50:100], 24.0,b_in,), 'k-', label='Non-int, L=4')"
   ]
  },
  {
   "cell_type": "markdown",
   "metadata": {
    "collapsed": true
   },
   "source": [
    "### Numerical value: non-integrable"
   ]
  },
  {
   "cell_type": "code",
   "execution_count": 336,
   "metadata": {
    "collapsed": true
   },
   "outputs": [],
   "source": [
    "muTot=100\n",
    "L=6\n",
    "norm_arr_nonint=np.zeros(muTot)\n",
    "mu_arr=np.logspace(0,30,muTot)\n",
    "H=Ham_nonint(L)\n",
    "for i in range(muTot):\n",
    "    mu=mu_arr[i]\n",
    "    A_lamb=guage_potent_mu(H,L,mu)\n",
    "    norm_arr_nonint[i]=norm(A_lamb)"
   ]
  },
  {
   "cell_type": "code",
   "execution_count": 342,
   "metadata": {
    "collapsed": true
   },
   "outputs": [],
   "source": [
    "muTot=100\n",
    "L=6\n",
    "norm_arr_nonint_new=np.zeros(muTot)\n",
    "mu_arr=np.logspace(0,30,muTot)\n",
    "H=Ham_nonint(L)\n",
    "for i in range(muTot):\n",
    "    mu=mu_arr[i]\n",
    "    A_lamb=new_gauge_potent_mu(H,L,mu)\n",
    "    norm_arr_nonint_new[i]=norm(A_lamb)"
   ]
  },
  {
   "cell_type": "code",
   "execution_count": 341,
   "metadata": {
    "collapsed": false
   },
   "outputs": [
    {
     "name": "stdout",
     "output_type": "stream",
     "text": [
      "4.4408920985e-16 19.3662975161 64\n"
     ]
    }
   ],
   "source": [
    "L=6\n",
    "H=Ham_nonint(L)\n",
    "E,V= H.eigh()\n",
    "wij = np.outer(E,np.ones(2**L))-np.outer(np.ones(2**L),E)\n",
    "index_lower = np.tril_indices(2**L,-1)\n",
    "wij_arr=wij[index_lower]\n",
    "print min(wij_arr), max(wij_arr), len(E)"
   ]
  },
  {
   "cell_type": "code",
   "execution_count": 56,
   "metadata": {
    "collapsed": false
   },
   "outputs": [
    {
     "name": "stdout",
     "output_type": "stream",
     "text": [
      "2.30793233413e-08 37.5791979082\n"
     ]
    }
   ],
   "source": [
    "L=12\n",
    "H=Ham_nonint(L)\n",
    "E,V= H.eigh()\n",
    "wij = np.outer(E,np.ones(2**L))-np.outer(np.ones(2**L),E)\n",
    "index_lower = np.tril_indices(2**L,-1)\n",
    "wij_arr=wij[index_lower]\n",
    "print min(wij_arr), max(wij_arr)"
   ]
  },
  {
   "cell_type": "code",
   "execution_count": 343,
   "metadata": {
    "collapsed": false
   },
   "outputs": [
    {
     "data": {
      "image/png": "[encoded data removed]",
      "text/plain": [
       "<matplotlib.figure.Figure at 0x7f7ceea0e550>"
      ]
     },
     "metadata": {},
     "output_type": "display_data"
    }
   ],
   "source": [
    "#plt.loglog(mu_arr,norm_arr_nonint**2/2**6, 'b.-', label='non-int, L=6')\n",
    "plt.loglog(mu_arr,norm_arr_nonint_new**2/2**6, 'k+-', label='non-int, L=6')\n",
    "plt.loglog(mu_arr[80:],norm_arr_nonint_new[80:]**2/2**6, 'r+-', label='Non-int, L=6')\n",
    "#plt.loglog(mu_arr_L6,norm_arr_nonintL6/2**6, 'r.-', label='Non-int, L=6')\n",
    "#plt.loglog(mu_arr_L6[40:100],norm_arr_nonintL6[40:100]/2**6, 'k+-', label='Non-int, L=6')\n",
    "#plt.loglog(mu_arr_L8,norm_arr_nonintL8/2**8, 'g.-', label='Non-int, L=8')\n",
    "#plt.loglog(mu_arr_L8[20:50],norm_arr_nonintL8[20:50]/2**8, 'k+-', label='Non-int, L=8')\n",
    "plt.legend(loc='best')\n",
    "plt.grid()"
   ]
  },
  {
   "cell_type": "code",
   "execution_count": 344,
   "metadata": {
    "collapsed": false
   },
   "outputs": [
    {
     "name": "stdout",
     "output_type": "stream",
     "text": [
      "[ 4.15431334 -4.        ] [  5.42819977e-27   1.38614047e-30]\n",
      " num,th: 63.7082039325 55.7082039325 1.14360541958\n",
      " log of num,th: 4.15431334443 4.02012742392\n"
     ]
    }
   ],
   "source": [
    "from scipy.optimize import curve_fit\n",
    "def gfunc(x, a,c): #logfunction\n",
    "    return a+ c*x\n",
    "def org_func(x, a,c):\n",
    "    return a*x**c\n",
    "xdata =mu_arr[80:]\n",
    "ydata = norm_arr_nonint_new[80:]**2/2**6\n",
    "popt, pcov = curve_fit(gfunc, np.log(xdata), np.log(ydata))\n",
    "print popt, np.diag(pcov)\n",
    "a_in,b_in=popt\n",
    "hz=(np.sqrt(5)+1)/4 \n",
    "L=6\n",
    "print \" num,th:\", np.exp(a_in), 4*(L*hz**2+2*(L-1)), np.exp(a_in)/(4*(L*hz**2+2*(L-1)))\n",
    "print \" log of num,th:\", a_in, np.log(4*(L*hz**2+2*(L-1))) "
   ]
  },
  {
   "cell_type": "code",
   "execution_count": 64,
   "metadata": {
    "collapsed": true
   },
   "outputs": [],
   "source": [
    "def alpha_fun(norm_gauge_potent,mu,L):\n",
    "    return mu**4*(norm_gauge_potent**2/2**L)"
   ]
  },
  {
   "cell_type": "code",
   "execution_count": 77,
   "metadata": {
    "collapsed": false
   },
   "outputs": [
    {
     "name": "stdout",
     "output_type": "stream",
     "text": [
      "0 0.0222389526003 0.351119173422\n",
      "1 0.469545224312 1.0\n",
      "2 7.31099861692 2.84803586844\n",
      "3 56.3422186252 8.1113083079\n",
      "4 143.080243174 23.1012970008\n",
      "5 176.678601996 65.7933224658\n",
      "6 182.059703454 187.381742286\n",
      "7 182.748531661 533.669923121\n",
      "8 182.833857299 1519.91108295\n",
      "9 182.844382812 4328.76128108\n",
      "10 182.845680541 12328.4673944\n",
      "11 182.845840532 35111.9173422\n",
      "12 182.845860256 100000.0\n",
      "13 182.845862688 284803.586844\n",
      "14 182.845862988 811130.83079\n",
      "15 182.845863025 2310129.70008\n",
      "16 182.84586303 6579332.24658\n",
      "17 182.84586303 18738174.2286\n",
      "18 182.84586303 53366992.3121\n",
      "19 182.84586303 151991108.295\n"
     ]
    }
   ],
   "source": [
    "L=6\n",
    "for i in range(20):\n",
    "    print i,alpha_fun(norm_arr_nonint[10+i],mu_arr[10+i],L), mu_arr[10+i]"
   ]
  },
  {
   "cell_type": "markdown",
   "metadata": {},
   "source": [
    "### Numerical value: integrable with periodic boundary condition"
   ]
  },
  {
   "cell_type": "code",
   "execution_count": 16,
   "metadata": {
    "collapsed": true
   },
   "outputs": [],
   "source": [
    "muTot=100\n",
    "L=4\n",
    "hz=5\n",
    "norm_arr_int=np.zeros(muTot)\n",
    "mu_arr=np.logspace(-2,40,muTot)\n",
    "H=Ham_int_antiferro(L,hz)\n",
    "for i in range(muTot):\n",
    "    mu=mu_arr[i]\n",
    "    A_lamb=guage_potent_mu(H,L,mu)\n",
    "    norm_arr_int[i]=norm(A_lamb)"
   ]
  },
  {
   "cell_type": "code",
   "execution_count": 15,
   "metadata": {
    "collapsed": false
   },
   "outputs": [
    {
     "name": "stdout",
     "output_type": "stream",
     "text": [
      "0.133591984952 40.3002473846\n"
     ]
    }
   ],
   "source": [
    "E,V= H.eigh()\n",
    "wij = np.outer(E,np.ones(2**L))-np.outer(np.ones(2**L),E)\n",
    "index_lower = np.tril_indices(2**L,-1)\n",
    "wij_arr=wij[index_lower]\n",
    "print min(wij_arr), max(wij_arr)"
   ]
  },
  {
   "cell_type": "code",
   "execution_count": 21,
   "metadata": {
    "collapsed": false
   },
   "outputs": [
    {
     "data": {
      "image/png": "[encoded data removed]",
      "text/plain": [
       "<matplotlib.figure.Figure at 0x7f7ceead84d0>"
      ]
     },
     "metadata": {},
     "output_type": "display_data"
    }
   ],
   "source": [
    "plt.loglog(mu_arr,norm_arr_int**2/2**4, 'b.-', label='non-int, L=4')\n",
    "plt.loglog(mu_arr[80:],norm_arr_int[80:]**2/2**4, 'k+-', label='Non-int, L=4')\n",
    "plt.title(\"Periodic BC\")\n",
    "plt.legend(loc='best')\n",
    "plt.grid()"
   ]
  },
  {
   "cell_type": "code",
   "execution_count": 22,
   "metadata": {
    "collapsed": false
   },
   "outputs": [
    {
     "name": "stdout",
     "output_type": "stream",
     "text": [
      "[ 7.15169521 -4.        ] [  7.79786535e-27   1.13153153e-30]\n",
      " num,th: 1276.2676677 32 53.1778194875 4.40671924726\n",
      " log of num,th: 7.15169521283 3.4657359028\n"
     ]
    }
   ],
   "source": [
    "from scipy.optimize import curve_fit\n",
    "def gfunc(x, a,c): #logfunction\n",
    "    return a+ c*x\n",
    "def org_func(x, a,c):\n",
    "    return a*x**c\n",
    "xdata =mu_arr[80:]\n",
    "ydata = norm_arr_int[80:]**2/2**4\n",
    "popt, pcov = curve_fit(gfunc, np.log(xdata), np.log(ydata))\n",
    "print popt, np.diag(pcov)\n",
    "a_in,b_in=popt\n",
    "L=4\n",
    "print \" num,th:\", np.exp(a_in), 4*2*(L), np.exp(a_in)/(4*2*(L-1)), np.log(82)\n",
    "print \" log of num,th:\", a_in, np.log(4*2*(L))"
   ]
  },
  {
   "cell_type": "markdown",
   "metadata": {},
   "source": [
    "### ZZX Hamiltonian's exact gauge potential for L=3"
   ]
  },
  {
   "cell_type": "code",
   "execution_count": 308,
   "metadata": {
    "collapsed": true
   },
   "outputs": [],
   "source": [
    "def Ham_int_zzx(L):\n",
    "    basis = spin_basis_1d(L)\n",
    "    J=1.0\n",
    "    hx=10.0\n",
    "    hx_arr = [[0, 0], [hx, 1], [0, 2]]\n",
    "    J_arr =[[J,i,(i+1)] for i in range(L-1)] # OBC\n",
    "    # static and dynamic lists\n",
    "    static = [[\"zz\",J_arr],[\"x\",hx_arr]]\n",
    "    dynamic =[]\n",
    "    H = hamiltonian(static,dynamic,basis=basis,dtype=np.complex_,check_symm=False,check_herm=False)\n",
    "    return H\n",
    "\n",
    "def del_lambda_zzxHam(L):\n",
    "    basis = spin_basis_1d(L)  \n",
    "    hx_lamb=1.0\n",
    "    hx_lamb_arr =[[0, 0], [hx_lamb, 1], [0, 2]] \n",
    "    static_lamb = [[\"x\",hx_lamb_arr]]\n",
    "    dynamic_lamb =[]\n",
    "    op_lamb=hamiltonian(static_lamb,dynamic_lamb,basis=basis,dtype=np.complex_,check_symm=False,check_herm=False)\n",
    "    return op_lamb\n",
    "\n",
    "def norm(A_lamb):    \n",
    "    return np.linalg.norm(A_lamb, 'fro')\n",
    "\n",
    "def guage_potent_mu(Ham,L, mu):\n",
    "    E,V= Ham.eigh()\n",
    "    op_lamb= del_lambda_zzxHam(L).toarray()\n",
    "    wij = np.outer(E,np.ones(2**L))-np.outer(np.ones(2**L),E)\n",
    "    num_lamb = np.dot(np.conj(V),np.dot(op_lamb,V))\n",
    "    A_lamb = -1j*num_lamb*wij/(wij**2+ mu**2)\n",
    "    return A_lamb\n",
    "\n",
    "def new_gauge_potent_mu(Ham,L, mu):\n",
    "    E,V= Ham.eigh()\n",
    "    V_mat=np.matrix(V)\n",
    "    V_mat_H=V_mat.H\n",
    "    op_lamb_mat = np.matrix(del_lambda_zzxHam(L).toarray())\n",
    "    num_lamb_mat =  (V_mat_H)*(op_lamb_mat*V_mat) #matrix multiplication\n",
    "    wij = np.outer(E,np.ones(2**L))-np.outer(np.ones(2**L),E)\n",
    "    A_lamb = -1j*np.multiply(wij,num_lamb_mat)/(wij**2+ mu**2)#element-wise multiplication\n",
    "    return A_lamb"
   ]
  },
  {
   "cell_type": "code",
   "execution_count": 180,
   "metadata": {
    "collapsed": true
   },
   "outputs": [],
   "source": [
    "dela_lamb=np.matrix(del_lambda_zzxHam(L))"
   ]
  },
  {
   "cell_type": "code",
   "execution_count": 234,
   "metadata": {
    "collapsed": false
   },
   "outputs": [
    {
     "name": "stdout",
     "output_type": "stream",
     "text": [
      "102.0\n",
      "(102+0j)\n"
     ]
    }
   ],
   "source": [
    "L=3\n",
    "H=Ham_int_zzx(L)\n",
    "print norm(H.toarray())**2/2**3\n",
    "mat_Ham=(H**2).toarray()\n",
    "print np.trace(mat_Ham)/2**3\n",
    "E,V= H.eigh()"
   ]
  },
  {
   "cell_type": "code",
   "execution_count": 235,
   "metadata": {
    "collapsed": false
   },
   "outputs": [
    {
     "name": "stdout",
     "output_type": "stream",
     "text": [
      "0.00183195617917 4.53514739229e-05\n"
     ]
    }
   ],
   "source": [
    "h=10.0\n",
    "mu=2.0\n",
    "L=3\n",
    "H=Ham_int_zzx(L)\n",
    "A_lamb=guage_potent_mu(H,L,mu)\n",
    "alpha2=4*(4.0+h**2)\n",
    "print norm(A_lamb)**2/2**3, 8.0/(alpha2+mu**2)**2"
   ]
  },
  {
   "cell_type": "code",
   "execution_count": 309,
   "metadata": {
    "collapsed": false
   },
   "outputs": [
    {
     "name": "stdout",
     "output_type": "stream",
     "text": [
      "4.53514739229e-05 4.53514739229e-05\n"
     ]
    }
   ],
   "source": [
    "h=10.0\n",
    "mu=2.0\n",
    "L=3\n",
    "H=Ham_int_zzx(L)\n",
    "A_lamb=new_gauge_potent_mu(H,L,mu)\n",
    "alpha2=4*(4.0+h**2)\n",
    "print norm(A_lamb)**2/2**3, 8.0/(alpha2+mu**2)**2"
   ]
  },
  {
   "cell_type": "code",
   "execution_count": 201,
   "metadata": {
    "collapsed": false
   },
   "outputs": [
    {
     "name": "stdout",
     "output_type": "stream",
     "text": [
      "(53.0116268179+0j)\n"
     ]
    }
   ],
   "source": [
    "from numpy import linalg as LA\n",
    "mat_A_lamb=np.matrix(A_lamb)\n",
    "mat_A_lamb_transpose=mat_A_lamb.H\n",
    "print np.trace(mat_A_lamb*mat_A_lamb_transpose)/2**3"
   ]
  },
  {
   "cell_type": "code",
   "execution_count": 129,
   "metadata": {
    "collapsed": false
   },
   "outputs": [],
   "source": [
    "def A_lambda_byhand(L,mu):\n",
    "    basis = spin_basis_1d(L)\n",
    "    h=10.0\n",
    "    alpha2=2*(4.0+h**2)+ mu**2/2.0\n",
    "    J1_arr =[[1./alpha2, 0,1], [0,1,2]]\n",
    "    J2_arr =[[0,0,1],[1./alpha2, 1,2]]\n",
    "    static_lamb = [[\"zy\",J1_arr],[\"yz\",J2_arr]]\n",
    "    dynamic_lamb =[]\n",
    "    op_lamb=hamiltonian(static_lamb,dynamic_lamb,basis=basis,dtype=np.complex_,check_symm=False,check_herm=False)\n",
    "    return op_lamb"
   ]
  },
  {
   "cell_type": "code",
   "execution_count": 236,
   "metadata": {
    "collapsed": false
   },
   "outputs": [
    {
     "name": "stdout",
     "output_type": "stream",
     "text": [
      "4.53514739229e-05 4.53514739229e-05\n"
     ]
    }
   ],
   "source": [
    "L=3\n",
    "mu=2.0\n",
    "A_lambda_brute=A_lambda_byhand(L,mu)\n",
    "print norm(A_lambda_brute.toarray())**2/2**3,8.0/(alpha2+mu**2)**2"
   ]
  },
  {
   "cell_type": "code",
   "execution_count": 241,
   "metadata": {
    "collapsed": false
   },
   "outputs": [
    {
     "name": "stdout",
     "output_type": "stream",
     "text": [
      "[[ True  True False False False False  True  True]\n",
      " [ True  True  True False  True False False  True]\n",
      " [False  True  True  True False False  True  True]\n",
      " [ True False  True  True  True False False  True]\n",
      " [False  True False  True  True  True  True False]\n",
      " [False False  True  True  True  True False False]\n",
      " [False  True False  True False  True  True  True]\n",
      " [False False  True  True  True False  True  True]]\n"
     ]
    }
   ],
   "source": [
    "print A_lamb==A_lambda_brute.toarray()"
   ]
  },
  {
   "cell_type": "code",
   "execution_count": 242,
   "metadata": {
    "collapsed": false
   },
   "outputs": [
    {
     "name": "stdout",
     "output_type": "stream",
     "text": [
      "[[ 0.+0.j          0.+0.j          0.+0.02197961j -0.-0.02681081j\n",
      "   0.+0.02197961j  0.+0.02681081j  0.+0.j          0.+0.j        ]\n",
      " [ 0.+0.j          0.+0.j          0.+0.j         -0.-0.02451452j  0.+0.j\n",
      "  -0.-0.02451452j  0.+0.02655547j  0.+0.j        ]\n",
      " [ 0.+0.j          0.+0.j          0.+0.j          0.+0.j         -0.-0.02707106j\n",
      "   0.+0.02219296j  0.+0.j          0.+0.j        ]\n",
      " [ 0.+0.j          0.-0.02197961j  0.+0.j          0.+0.j          0.+0.j\n",
      "  -0.-0.02475248j -0.-0.02681081j  0.+0.j        ]\n",
      " [ 0.+0.02197961j  0.+0.j          0.+0.02475248j  0.+0.j          0.+0.j\n",
      "   0.+0.j          0.+0.j         -0.-0.02681081j]\n",
      " [ 0.+0.02403846j  0.-0.02932221j  0.+0.j          0.+0.j          0.+0.j\n",
      "   0.+0.j          0.+0.02403846j  0.+0.01970682j]\n",
      " [ 0.+0.02177028j  0.+0.j          0.-0.02451452j  0.+0.j          0.+0.02451452j\n",
      "   0.+0.j          0.+0.j          0.+0.j        ]\n",
      " [ 0.+0.02904295j  0.+0.02380952j  0.+0.j          0.+0.j          0.+0.j\n",
      "   0.+0.j          0.+0.j          0.+0.j        ]]\n"
     ]
    }
   ],
   "source": [
    "print A_lamb"
   ]
  },
  {
   "cell_type": "markdown",
   "metadata": {},
   "source": [
    "### Trace of gauge potential to see what's going on"
   ]
  },
  {
   "cell_type": "code",
   "execution_count": 142,
   "metadata": {
    "collapsed": false
   },
   "outputs": [],
   "source": [
    "h=10.0\n",
    "mu=2.0\n",
    "L=3\n",
    "H=Ham_int_zzx(L)\n",
    "A_lamb=np.matrix(guage_potent_mu(H,L,mu))\n",
    "A_lambda_brute=np.matrix(A_lambda_byhand(L,mu).toarray())"
   ]
  },
  {
   "cell_type": "code",
   "execution_count": 144,
   "metadata": {
    "collapsed": false
   },
   "outputs": [
    {
     "name": "stdout",
     "output_type": "stream",
     "text": [
      "(-2.70569769276e-06+0j)\n"
     ]
    }
   ],
   "source": [
    "print np.trace(A_lamb*A_lambda_brute)/2**3"
   ]
  },
  {
   "cell_type": "code",
   "execution_count": 151,
   "metadata": {
    "collapsed": false
   },
   "outputs": [],
   "source": [
    "def singlebody(L):\n",
    "    basis = spin_basis_1d(L)\n",
    "    J=1.0\n",
    "    J_arr =[[J,i] for i in range(L)]\n",
    "    static_lamb = [[\"y\",J_arr]]\n",
    "    dynamic_lamb =[]\n",
    "    op_lamb=hamiltonian(static_lamb,dynamic_lamb,basis=basis,dtype=np.complex_,check_symm=False,check_herm=False)\n",
    "    return op_lamb"
   ]
  },
  {
   "cell_type": "code",
   "execution_count": 149,
   "metadata": {
    "collapsed": false
   },
   "outputs": [],
   "source": [
    "def twobody(L):\n",
    "    basis = spin_basis_1d(L)\n",
    "    J=1.0\n",
    "    J_arr =[[J,i,i+1] for i in range(L-1)]\n",
    "    static_lamb = [[\"yy\",J_arr]]\n",
    "    dynamic_lamb =[]\n",
    "    op_lamb=hamiltonian(static_lamb,dynamic_lamb,basis=basis,dtype=np.complex_,check_symm=False,check_herm=False)\n",
    "    return op_lamb"
   ]
  },
  {
   "cell_type": "code",
   "execution_count": 171,
   "metadata": {
    "collapsed": true
   },
   "outputs": [],
   "source": [
    "def twobodyYZ(L):\n",
    "    basis = spin_basis_1d(L)\n",
    "    J=1.0\n",
    "    J_arr =[[J,i,i+1] for i in range(L-1)]\n",
    "    static_lamb = [[\"yz\",J_arr]]\n",
    "    dynamic_lamb =[]\n",
    "    op_lamb=hamiltonian(static_lamb,dynamic_lamb,basis=basis,dtype=np.complex_,check_symm=False,check_herm=False)\n",
    "    return op_lamb"
   ]
  },
  {
   "cell_type": "code",
   "execution_count": 176,
   "metadata": {
    "collapsed": true
   },
   "outputs": [],
   "source": [
    "def threebodyXYZ(L):\n",
    "    basis = spin_basis_1d(L)\n",
    "    J=1.0\n",
    "    J_arr =[[J,i,i+1,i+2] for i in range(L-2)]\n",
    "    static_lamb = [[\"xyz\",J_arr]]\n",
    "    dynamic_lamb =[]\n",
    "    op_lamb=hamiltonian(static_lamb,dynamic_lamb,basis=basis,dtype=np.complex_,check_symm=False,check_herm=False)\n",
    "    return op_lamb"
   ]
  },
  {
   "cell_type": "code",
   "execution_count": 178,
   "metadata": {
    "collapsed": false
   },
   "outputs": [
    {
     "name": "stdout",
     "output_type": "stream",
     "text": [
      "(24+0j)\n",
      "(16+0j)\n",
      "(16+0j)\n",
      "0j\n",
      "0j\n",
      "0j\n",
      "0j\n"
     ]
    }
   ],
   "source": [
    "L=3 ##sanity check\n",
    "T1=np.mat(singlebody(L).toarray())\n",
    "T2=np.mat(twobody(L).toarray())\n",
    "T3=np.mat(twobodyYZ(L).toarray())\n",
    "T4=np.mat(threebodyXYZ(L).toarray())\n",
    "print np.trace(T1*T1)\n",
    "print np.trace(T2*T2)\n",
    "print np.trace(T3*T3)\n",
    "print np.trace(T1*T2)\n",
    "print np.trace(T1*T3)\n",
    "print np.trace(T2*T3)\n",
    "print np.trace(T2*T4)"
   ]
  },
  {
   "cell_type": "code",
   "execution_count": 202,
   "metadata": {
    "collapsed": false
   },
   "outputs": [],
   "source": [
    "T1=np.mat(singlebody(L).toarray())\n",
    "T2=np.mat(twobody(L).toarray())\n",
    "\n",
    "mu=2.0\n",
    "L=3\n",
    "H=Ham_int_zzx(L)\n",
    "A_lamb=np.matrix(guage_potent_mu(H,L,mu))"
   ]
  },
  {
   "cell_type": "code",
   "execution_count": 203,
   "metadata": {
    "collapsed": false
   },
   "outputs": [
    {
     "name": "stdout",
     "output_type": "stream",
     "text": [
      "(-19.197369874+0j)\n",
      "10.8039166385j\n",
      "(23.016834106+0j)\n",
      "(12.0261093573+0j)\n"
     ]
    }
   ],
   "source": [
    "print np.trace(T1*A_lamb)\n",
    "print np.trace(T2*A_lamb)\n",
    "print np.trace(T3*A_lamb)\n",
    "print np.trace(T4*A_lamb)"
   ]
  },
  {
   "cell_type": "markdown",
   "metadata": {},
   "source": [
    "### 1 body Hamiltonian\n",
    "$H=\\sigma_z + \\lambda \\sigma_x$ . $A_{\\lambda}= \\sigma_y/(2+ 2 \\lambda^2)$"
   ]
  },
  {
   "cell_type": "code",
   "execution_count": 282,
   "metadata": {
    "collapsed": true
   },
   "outputs": [],
   "source": [
    "def Ham(L):\n",
    "    basis = spin_basis_1d(L)\n",
    "    hz=5.0\n",
    "    hx=10.0\n",
    "    hz_arr = [[hz,i] for i in range(L)] # OBC\n",
    "    hx_arr = [[hx,i] for i in range(L)] # OBC\n",
    "    # static and dynamic lists\n",
    "    static = [[\"z\",hz_arr], [\"x\",hx_arr] ]\n",
    "    dynamic =[]\n",
    "    H = hamiltonian(static,dynamic,basis=basis,dtype=np.complex_)\n",
    "    return H\n",
    "\n",
    "\n",
    "def del_lambda_Ham_single(L):\n",
    "    basis = spin_basis_1d(L)\n",
    "    hx_lamb=1.0\n",
    "    hx_lamb_arr = [[hx_lamb,i] for i in range(L)] # OBC\n",
    "    static_lamb = [[\"x\",hx_lamb_arr]]\n",
    "    dynamic_lamb =[]\n",
    "    op_lamb=hamiltonian(static_lamb,dynamic_lamb,basis=basis,dtype=np.complex_)\n",
    "    return op_lamb\n",
    "\n",
    "def gauge_potent_mu_1body(Ham,L, mu):\n",
    "    E,V= Ham.eigh()\n",
    "    op_lamb= del_lambda_Ham_single(L).toarray()\n",
    "    wij = np.outer(E,np.ones(2**L))-np.outer(np.ones(2**L),E)\n",
    "    num_lamb = np.dot(np.conj(V),np.dot(op_lamb,V))\n",
    "    A_lamb = -1j*num_lamb*wij/(wij**2+ mu**2)\n",
    "    return A_lamb"
   ]
  },
  {
   "cell_type": "code",
   "execution_count": 296,
   "metadata": {
    "collapsed": true
   },
   "outputs": [],
   "source": [
    "def new_gauge_potent_mu_1body(Ham,L, mu):\n",
    "    E,V= Ham.eigh()\n",
    "    V_mat=np.matrix(V)\n",
    "    V_mat_H=V_mat.H\n",
    "    op_lamb_mat = np.matrix(del_lambda_Ham_single(L).toarray())\n",
    "    num_lamb_mat =  (V_mat_H)*(op_lamb_mat*V_mat)\n",
    "    wij = np.outer(E,np.ones(2**L))-np.outer(np.ones(2**L),E)\n",
    "    A_lamb = -1j*np.multiply(wij,num_lamb_mat)/(wij**2+ mu**2)\n",
    "    return A_lamb"
   ]
  },
  {
   "cell_type": "code",
   "execution_count": 292,
   "metadata": {
    "collapsed": false
   },
   "outputs": [
    {
     "name": "stdout",
     "output_type": "stream",
     "text": [
      "Hermiticity check passed!\n",
      "Symmetry checks passed!\n",
      "Hermiticity check passed!\n",
      "Symmetry checks passed!\n",
      "[[  0.         -22.36067977]\n",
      " [ 22.36067977   0.        ]]\n",
      "[[-0.89442719+0.j -0.44721360+0.j]\n",
      " [-0.44721360+0.j  0.89442719+0.j]]\n",
      "[[ 0.00000000+0.j  0.01984127-0.j]\n",
      " [-0.01984127+0.j  0.00000000+0.j]]\n"
     ]
    }
   ],
   "source": [
    "L=1\n",
    "H=Ham(L)\n",
    "E,V= H.eigh()\n",
    "V_mat=np.matrix(V)\n",
    "V_mat_H=V_mat.H\n",
    "op_lamb_mat = np.matrix(del_lambda_Ham_single(L).toarray())\n",
    "num_lamb_mat =  (V_mat_H)*(op_lamb_mat*V_mat)\n",
    "wij = np.outer(E,np.ones(2**L))-np.outer(np.ones(2**L),E)\n",
    "print wij\n",
    "print num_lamb_mat\n",
    "print np.multiply(wij,num_lamb_mat)/(wij**2+ mu**2)"
   ]
  },
  {
   "cell_type": "code",
   "execution_count": 297,
   "metadata": {
    "collapsed": false
   },
   "outputs": [
    {
     "data": {
      "text/plain": [
       "4"
      ]
     },
     "execution_count": 297,
     "metadata": {},
     "output_type": "execute_result"
    }
   ],
   "source": []
  },
  {
   "cell_type": "code",
   "execution_count": 298,
   "metadata": {
    "collapsed": false
   },
   "outputs": [
    {
     "name": "stdout",
     "output_type": "stream",
     "text": [
      "Hermiticity check passed!\n",
      "Symmetry checks passed!\n",
      "Hermiticity check passed!\n",
      "Symmetry checks passed!\n",
      "[[ 0.+0.j         -0.-0.01984127j]\n",
      " [ 0.+0.01984127j  0.+0.j        ]]\n"
     ]
    }
   ],
   "source": [
    "mu=2.0\n",
    "L=1\n",
    "H=Ham(L)\n",
    "A_lamb=guage_potent_mu_1body(H,L,mu)\n",
    "print A_lamb"
   ]
  },
  {
   "cell_type": "code",
   "execution_count": 299,
   "metadata": {
    "collapsed": false
   },
   "outputs": [
    {
     "name": "stdout",
     "output_type": "stream",
     "text": [
      "Hermiticity check passed!\n",
      "Symmetry checks passed!\n",
      "[[ 0.+0.j          0.-0.01984127j]\n",
      " [ 0.+0.01984127j  0.+0.j        ]]\n"
     ]
    }
   ],
   "source": [
    "A_lamb=new_gauge_potent_mu_1body(H,L,mu)\n",
    "print A_lamb"
   ]
  },
  {
   "cell_type": "code",
   "execution_count": 232,
   "metadata": {
    "collapsed": false
   },
   "outputs": [
    {
     "name": "stdout",
     "output_type": "stream",
     "text": [
      "0.0198412698413\n"
     ]
    }
   ],
   "source": [
    "hz=5.0\n",
    "hx=10.0\n",
    "mu=2.0\n",
    "alpha2=4*(hz**2+hx**2)\n",
    "print 2.0*hz/(alpha2+mu**2)"
   ]
  },
  {
   "cell_type": "markdown",
   "metadata": {},
   "source": [
    "### 2 body Hamiltonian\n",
    "$H=\\sigma^z_0 \\sigma^z_1 + \\lambda \\sigma^x_0$ and $A_{\\lambda}=2/(\\alpha^2+ \\mu^2)  \\sigma^y_0 \\sigma^z_1$ where $\\alpha^2= 4(1+ \\lambda^2)$"
   ]
  },
  {
   "cell_type": "code",
   "execution_count": 300,
   "metadata": {
    "collapsed": true
   },
   "outputs": [],
   "source": [
    "def Ham2B(L):\n",
    "    basis = spin_basis_1d(L)\n",
    "    J=1.0\n",
    "    hx=10.0\n",
    "    J_arr = [[J,i,i+1] for i in range(L-1)] # OBC\n",
    "    hx_arr = [[hx,0], [0,1]] # OBC\n",
    "    # static and dynamic lists\n",
    "    static = [[\"zz\",J_arr], [\"x\",hx_arr] ]\n",
    "    dynamic =[]\n",
    "    H = hamiltonian(static,dynamic,basis=basis,dtype=np.complex_)\n",
    "    return H\n",
    "\n",
    "\n",
    "def del_lambda2B(L):\n",
    "    basis = spin_basis_1d(L)\n",
    "    hx_lamb=1.0\n",
    "    hx_arr = [[hx,0], [0,1]] # OBC\n",
    "    static_lamb = [[\"x\",hx_arr]]\n",
    "    dynamic_lamb =[]\n",
    "    op_lamb=hamiltonian(static_lamb,dynamic_lamb,basis=basis,dtype=np.complex_)\n",
    "    return op_lamb\n",
    "\n",
    "def gauge_potent_mu_2B(Ham,L, mu):\n",
    "    E,V= Ham.eigh()\n",
    "    V_mat=np.matrix(V)\n",
    "    V_mat_H=V_mat.H\n",
    "    op_lamb = np.matrix(del_lambda2B(L).toarray())\n",
    "    num_lamb =  (V_mat_H)*(op_lamb*V_mat) #np.dot(np.conj(V),np.dot(op_lamb,V))\n",
    "    wij = np.outer(E,np.ones(2**L))-np.outer(np.ones(2**L),E)\n",
    "    A_lamb = -1j*num_lamb*wij/(wij**2+ mu**2)\n",
    "    return A_lamb\n",
    "\n",
    "def new_gauge_potent_mu_2B(Ham,L, mu):\n",
    "    E,V= Ham.eigh()\n",
    "    V_mat=np.matrix(V)\n",
    "    V_mat_H=V_mat.H\n",
    "    op_lamb_mat = np.matrix(del_lambda2B(L).toarray())\n",
    "    num_lamb_mat =  (V_mat_H)*(op_lamb_mat*V_mat)\n",
    "    wij = np.outer(E,np.ones(2**L))-np.outer(np.ones(2**L),E)\n",
    "    A_lamb = -1j*np.multiply(wij,num_lamb_mat)/(wij**2+ mu**2)\n",
    "    return A_lamb"
   ]
  },
  {
   "cell_type": "code",
   "execution_count": 301,
   "metadata": {
    "collapsed": false
   },
   "outputs": [
    {
     "name": "stdout",
     "output_type": "stream",
     "text": [
      "Hermiticity check passed!\n",
      "Symmetry checks passed!\n",
      "Hermiticity check passed!\n",
      "Symmetry checks passed!\n",
      "[[ 0.+0.j          0.+0.j          0.+0.j          0.+0.04901961j]\n",
      " [ 0.+0.j          0.+0.j          0.+0.04901961j  0.+0.j        ]\n",
      " [ 0.+0.j          0.-0.04901961j  0.+0.j          0.+0.j        ]\n",
      " [ 0.-0.04901961j  0.+0.j          0.+0.j          0.+0.j        ]]\n"
     ]
    }
   ],
   "source": [
    "L=2\n",
    "H=Ham2B(L)\n",
    "mu=2\n",
    "print new_gauge_potent_mu_2B(H,L,mu)"
   ]
  },
  {
   "cell_type": "code",
   "execution_count": 304,
   "metadata": {
    "collapsed": true
   },
   "outputs": [],
   "source": [
    "def gauge_by_hand(L,mu):\n",
    "    basis = spin_basis_1d(L)\n",
    "    h=10.0\n",
    "    alpha=np.sqrt(4*(1+h**2))\n",
    "    J=2/(alpha**2+mu**2)\n",
    "    hx=10.0\n",
    "    J_arr = [[J,0,1]]\n",
    "    # static and dynamic lists\n",
    "    static = [[\"yz\",J_arr]]\n",
    "    dynamic =[]\n",
    "    H = hamiltonian(static,dynamic,basis=basis,dtype=np.complex_)\n",
    "    return H"
   ]
  },
  {
   "cell_type": "code",
   "execution_count": 305,
   "metadata": {
    "collapsed": false
   },
   "outputs": [
    {
     "name": "stdout",
     "output_type": "stream",
     "text": [
      "Hermiticity check passed!\n",
      "Symmetry checks passed!\n",
      "[[ 0.+0.j          0.-0.00490196j  0.+0.j          0.+0.j        ]\n",
      " [ 0.+0.00490196j  0.+0.j          0.+0.j          0.+0.j        ]\n",
      " [ 0.+0.j          0.+0.j          0.+0.j          0.+0.00490196j]\n",
      " [ 0.+0.j          0.+0.j          0.-0.00490196j  0.+0.j        ]]\n"
     ]
    }
   ],
   "source": [
    "L=2\n",
    "mu=2\n",
    "print gauge_by_hand(L,mu).toarray()"
   ]
  },
  {
   "cell_type": "code",
   "execution_count": 264,
   "metadata": {
    "collapsed": true
   },
   "outputs": [],
   "source": [
    "h=10.0\n",
    "alpha=np.sqrt(4*(1+h**2))\n",
    "J=2/(alpha**2+mu**2)"
   ]
  },
  {
   "cell_type": "code",
   "execution_count": 265,
   "metadata": {
    "collapsed": false
   },
   "outputs": [
    {
     "data": {
      "text/plain": [
       "0.0049019607843137254"
      ]
     },
     "execution_count": 265,
     "metadata": {},
     "output_type": "execute_result"
    }
   ],
   "source": [
    "J"
   ]
  },
  {
   "cell_type": "code",
   "execution_count": null,
   "metadata": {
    "collapsed": true
   },
   "outputs": [],
   "source": []
  }
 ],
 "metadata": {
  "kernelspec": {
   "display_name": "Python 2",
   "language": "python",
   "name": "python2"
  },
  "language_info": {
   "codemirror_mode": {
    "name": "ipython",
    "version": 2
   },
   "file_extension": ".py",
   "mimetype": "text/x-python",
   "name": "python",
   "nbconvert_exporter": "python",
   "pygments_lexer": "ipython2",
   "version": "2.7.13"
  }
 },
 "nbformat": 4,
 "nbformat_minor": 2
}

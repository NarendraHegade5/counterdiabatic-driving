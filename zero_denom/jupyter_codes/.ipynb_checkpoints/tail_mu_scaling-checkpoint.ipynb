{
 "cells": [
  {
   "cell_type": "code",
   "execution_count": 4,
   "metadata": {
    "collapsed": true
   },
   "outputs": [],
   "source": [
    "from quspin.operators import hamiltonian\n",
    "from quspin.operators import commutator# Hamiltonians and operators\n",
    "from quspin.basis import spin_basis_1d # Hilbert space spin basis\n",
    "import numpy as np # generic math functions\n",
    "import matplotlib.pyplot as plt\n",
    "%matplotlib inline"
   ]
  },
  {
   "cell_type": "code",
   "execution_count": 2,
   "metadata": {
    "collapsed": true
   },
   "outputs": [],
   "source": [
    "def Ham_nonint(L):\n",
    "    basis = spin_basis_1d(L)\n",
    "    hz=(np.sqrt(5)+1)/4 #parameters used by Kim and Huse\n",
    "    hx=(np.sqrt(5)+5)/8\n",
    "    J=1.0\n",
    "    hz_arr = [[hz,i] for i in range(L)] \n",
    "    hx_arr = [[hx,i] for i in range(L)] \n",
    "    J_arr = [[J,i,(i+1)] for i in range(L-1)] # OBC [[J,i,(i+1)%L] for i in range(L)] # PBC\n",
    "    \n",
    "    # static and dynamic lists\n",
    "    static = [[\"zz\",J_arr],[\"z\",hz_arr], [\"x\",hx_arr] ]\n",
    "    dynamic =[]\n",
    "    H = hamiltonian(static,dynamic,basis=basis,dtype=np.complex_,check_symm=False,check_herm=False)\n",
    "    return H\n",
    "\n",
    "def Ham_int_antiferro(L,hz):\n",
    "    basis = spin_basis_1d(L)\n",
    "    J=1.0\n",
    "    hz_arr = [[hz,i] for i in range(L)] # OBC\n",
    "    J_arr = [[J,i,(i+1)] for i in range(L-1)] # OBC [[J,i,(i+1)%L] for i in range(L)] # PBC\n",
    "    \n",
    "    # static and dynamic lists\n",
    "    static = [[\"zz\",J_arr],[\"x\",hz_arr]]\n",
    "    dynamic =[]\n",
    "    H = hamiltonian(static,dynamic,basis=basis,dtype=np.complex_,check_symm=False,check_herm=False)\n",
    "    return H"
   ]
  },
  {
   "cell_type": "code",
   "execution_count": 3,
   "metadata": {
    "collapsed": true
   },
   "outputs": [],
   "source": [
    "def del_lambda_Ham(L):\n",
    "    basis = spin_basis_1d(L)  \n",
    "    hx_lamb=1.0\n",
    "    hx_lamb_arr = [[hx_lamb,i] for i in range(L)] # OBC\n",
    "    static_lamb = [[\"x\",hx_lamb_arr]]\n",
    "    dynamic_lamb =[]\n",
    "    op_lamb=hamiltonian(static_lamb,dynamic_lamb,basis=basis,dtype=np.complex_,check_symm=False,check_herm=False)\n",
    "    return op_lamb\n",
    "\n",
    "def norm(A_lamb):    \n",
    "    return np.linalg.norm(A_lamb, 'fro')\n",
    "\n",
    "def guage_potent_mu(Ham,L, mu):\n",
    "    E,V= Ham.eigh()\n",
    "    op_lamb= del_lambda_Ham(L)\n",
    "    wij = np.outer(E,np.ones(2**L))-np.outer(np.ones(2**L),E)\n",
    "    num_lamb = np.dot(V,np.dot(op_lamb.toarray(),np.conj(V)))\n",
    "    A_lamb = -1j*num_lamb*wij/(wij**2+ mu**2)\n",
    "    return A_lamb"
   ]
  },
  {
   "cell_type": "markdown",
   "metadata": {},
   "source": [
    "### Analytical formula: trace of $[H, \\partial_{\\lambda}H]$"
   ]
  },
  {
   "cell_type": "code",
   "execution_count": 10,
   "metadata": {
    "collapsed": false
   },
   "outputs": [
    {
     "name": "stdout",
     "output_type": "stream",
     "text": [
      "(56+0j) 56\n"
     ]
    }
   ],
   "source": [
    "#integrbale model\n",
    "L=8\n",
    "hz=5\n",
    "Ham=Ham_int_antiferro(L,hz)\n",
    "partial_lamb_H=del_lambda_Ham(L)\n",
    "comm=commutator(Ham,partial_lamb_H)\n",
    "mat=((-1j*comm)**2).toarray()\n",
    "print np.trace(mat)/2**8, 4*2*(L-1)"
   ]
  },
  {
   "cell_type": "code",
   "execution_count": 13,
   "metadata": {
    "collapsed": false
   },
   "outputs": [
    {
     "name": "stdout",
     "output_type": "stream",
     "text": [
      " num,th: (34.472135955+0j) 34.472135955\n"
     ]
    }
   ],
   "source": [
    "#non-integrbale model\n",
    "L=4\n",
    "Ham=Ham_nonint(L)\n",
    "partial_lamb_H=del_lambda_Ham(L)\n",
    "comm=commutator(Ham,partial_lamb_H)\n",
    "mat=((-1j*comm)**2).toarray()\n",
    "hz=(np.sqrt(5)+1)/4 \n",
    "print \" num,th:\", np.trace(mat)/2**4, 4*(L*hz**2+2*(L-1))"
   ]
  },
  {
   "cell_type": "markdown",
   "metadata": {},
   "source": [
    "### Numerical value: integrable"
   ]
  },
  {
   "cell_type": "code",
   "execution_count": 15,
   "metadata": {
    "collapsed": true
   },
   "outputs": [],
   "source": [
    "muTot=100\n",
    "L=4\n",
    "hz=5\n",
    "norm_arr_int=np.zeros(muTot)\n",
    "mu_arr=np.logspace(-2,40,muTot)\n",
    "H=Ham_int_antiferro(L,hz)\n",
    "for i in range(muTot):\n",
    "    mu=mu_arr[i]\n",
    "    A_lamb=guage_potent_mu(H,L,mu)\n",
    "    norm_arr_int[i]=norm(A_lamb)"
   ]
  },
  {
   "cell_type": "code",
   "execution_count": 44,
   "metadata": {
    "collapsed": false
   },
   "outputs": [
    {
     "name": "stdout",
     "output_type": "stream",
     "text": [
      "0.133591984952 40.3002473846\n"
     ]
    }
   ],
   "source": [
    "E,V= H.eigh()\n",
    "wij = np.outer(E,np.ones(2**L))-np.outer(np.ones(2**L),E)\n",
    "index_lower = np.tril_indices(2**L,-1)\n",
    "wij_arr=wij[index_lower]\n",
    "print min(wij_arr), max(wij_arr)"
   ]
  },
  {
   "cell_type": "code",
   "execution_count": 50,
   "metadata": {
    "collapsed": false
   },
   "outputs": [
    {
     "data": {
      "image/png": "[encoded data removed]",
      "text/plain": [
       "<matplotlib.figure.Figure at 0x7f39f06e5690>"
      ]
     },
     "metadata": {},
     "output_type": "display_data"
    }
   ],
   "source": [
    "plt.loglog(mu_arr,norm_arr_int**2/2**4, 'b.-', label='int, L=4')\n",
    "plt.loglog(mu_arr[80:],norm_arr_int[80:]**2/2**4, 'k+-', label='int, L=4')\n",
    "#plt.loglog(mu_arr_L6,norm_arr_nonintL6/2**6, 'r.-', label='Non-int, L=6')\n",
    "#plt.loglog(mu_arr_L6[40:100],norm_arr_nonintL6[40:100]/2**6, 'k+-', label='Non-int, L=6')\n",
    "#plt.loglog(mu_arr_L8,norm_arr_nonintL8/2**8, 'g.-', label='Non-int, L=8')\n",
    "#plt.loglog(mu_arr_L8[20:50],norm_arr_nonintL8[20:50]/2**8, 'k+-', label='Non-int, L=8')\n",
    "plt.legend(loc='best')\n",
    "plt.grid()"
   ]
  },
  {
   "cell_type": "code",
   "execution_count": 31,
   "metadata": {
    "collapsed": false
   },
   "outputs": [
    {
     "name": "stdout",
     "output_type": "stream",
     "text": [
      "[ 7.58475071 -4.        ] [  5.84839830e-27   8.48648629e-31]\n",
      " num,th: 1967.9559844 24 81.9981660167 4.40671924726\n",
      " log of num,th: 7.58475071171 3.17805383035\n"
     ]
    }
   ],
   "source": [
    "from scipy.optimize import curve_fit\n",
    "def gfunc(x, a,c): #logfunction\n",
    "    return a+ c*x\n",
    "def org_func(x, a,c):\n",
    "    return a*x**c\n",
    "xdata =mu_arr[80:]\n",
    "ydata = norm_arr_int[80:]**2/2**4\n",
    "popt, pcov = curve_fit(gfunc, np.log(xdata), np.log(ydata))\n",
    "print popt, np.diag(pcov)\n",
    "a_in,b_in=popt\n",
    "L=4\n",
    "print \" num,th:\", np.exp(a_in), 4*2*(L-1), np.exp(a_in)/(4*2*(L-1)), np.log(82)\n",
    "print \" log of num,th:\", a_in, np.log(4*2*(L-1))"
   ]
  },
  {
   "cell_type": "code",
   "execution_count": 21,
   "metadata": {
    "collapsed": false
   },
   "outputs": [
    {
     "data": {
      "text/plain": [
       "[<matplotlib.lines.Line2D at 0x7f39c4ebf6d0>]"
      ]
     },
     "execution_count": 21,
     "metadata": {},
     "output_type": "execute_result"
    },
    {
     "data": {
      "image/png": "[encoded data removed]",
      "text/plain": [
       "<matplotlib.figure.Figure at 0x7f39c4f3d310>"
      ]
     },
     "metadata": {},
     "output_type": "display_data"
    }
   ],
   "source": [
    "plt.loglog(mu_arr[50:100],norm_arr_int[50:100]**2/2**4, 'k+-', label='Non-int, L=4')\n",
    "plt.loglog(mu_arr[50:100],org_func(mu_arr[50:100], np.exp(a_in),b_in,), 'r-', label='Non-int, L=4')\n",
    "plt.loglog(mu_arr[50:100],org_func(mu_arr[50:100], 24.0,b_in,), 'k-', label='Non-int, L=4')"
   ]
  },
  {
   "cell_type": "markdown",
   "metadata": {
    "collapsed": true
   },
   "source": [
    "### Numerical value: non-integrable"
   ]
  },
  {
   "cell_type": "code",
   "execution_count": 60,
   "metadata": {
    "collapsed": true
   },
   "outputs": [],
   "source": [
    "muTot=100\n",
    "L=6\n",
    "norm_arr_nonint=np.zeros(muTot)\n",
    "mu_arr=np.logspace(-5,40,muTot)\n",
    "H=Ham_nonint(L)\n",
    "for i in range(muTot):\n",
    "    mu=mu_arr[i]\n",
    "    A_lamb=guage_potent_mu(H,L,mu)\n",
    "    norm_arr_nonint[i]=norm(A_lamb)"
   ]
  },
  {
   "cell_type": "code",
   "execution_count": 79,
   "metadata": {
    "collapsed": false
   },
   "outputs": [
    {
     "name": "stdout",
     "output_type": "stream",
     "text": [
      "0.00172247690936 18.2585719543 64\n"
     ]
    }
   ],
   "source": [
    "L=6\n",
    "H=Ham_nonint(L)\n",
    "E,V= H.eigh()\n",
    "wij = np.outer(E,np.ones(2**L))-np.outer(np.ones(2**L),E)\n",
    "index_lower = np.tril_indices(2**L,-1)\n",
    "wij_arr=wij[index_lower]\n",
    "print min(wij_arr), max(wij_arr), len(E)"
   ]
  },
  {
   "cell_type": "code",
   "execution_count": 56,
   "metadata": {
    "collapsed": false
   },
   "outputs": [
    {
     "name": "stdout",
     "output_type": "stream",
     "text": [
      "2.30793233413e-08 37.5791979082\n"
     ]
    }
   ],
   "source": [
    "L=12\n",
    "H=Ham_nonint(L)\n",
    "E,V= H.eigh()\n",
    "wij = np.outer(E,np.ones(2**L))-np.outer(np.ones(2**L),E)\n",
    "index_lower = np.tril_indices(2**L,-1)\n",
    "wij_arr=wij[index_lower]\n",
    "print min(wij_arr), max(wij_arr)"
   ]
  },
  {
   "cell_type": "code",
   "execution_count": 61,
   "metadata": {
    "collapsed": false
   },
   "outputs": [
    {
     "data": {
      "image/png": "[encoded data removed]",
      "text/plain": [
       "<matplotlib.figure.Figure at 0x7f39c51ef4d0>"
      ]
     },
     "metadata": {},
     "output_type": "display_data"
    }
   ],
   "source": [
    "plt.loglog(mu_arr,norm_arr_nonint**2/2**6, 'b.-', label='non-int, L=6')\n",
    "plt.loglog(mu_arr[80:],norm_arr_nonint[80:]**2/2**6, 'k+-', label='Non-int, L=6')\n",
    "#plt.loglog(mu_arr_L6,norm_arr_nonintL6/2**6, 'r.-', label='Non-int, L=6')\n",
    "#plt.loglog(mu_arr_L6[40:100],norm_arr_nonintL6[40:100]/2**6, 'k+-', label='Non-int, L=6')\n",
    "#plt.loglog(mu_arr_L8,norm_arr_nonintL8/2**8, 'g.-', label='Non-int, L=8')\n",
    "#plt.loglog(mu_arr_L8[20:50],norm_arr_nonintL8[20:50]/2**8, 'k+-', label='Non-int, L=8')\n",
    "plt.legend(loc='best')\n",
    "plt.grid()"
   ]
  },
  {
   "cell_type": "code",
   "execution_count": 78,
   "metadata": {
    "collapsed": false
   },
   "outputs": [
    {
     "name": "stdout",
     "output_type": "stream",
     "text": [
      "[ 5.20864352 -4.        ] [  1.17068595e-26   1.72495694e-30]\n",
      " num,th: 182.84586303 55.7082039325 3.28220710996\n",
      " log of num,th: 5.2086435194 4.02012742392\n"
     ]
    }
   ],
   "source": [
    "from scipy.optimize import curve_fit\n",
    "def gfunc(x, a,c): #logfunction\n",
    "    return a+ c*x\n",
    "def org_func(x, a,c):\n",
    "    return a*x**c\n",
    "xdata =mu_arr[80:]\n",
    "ydata = norm_arr_nonint[80:]**2/2**6\n",
    "popt, pcov = curve_fit(gfunc, np.log(xdata), np.log(ydata))\n",
    "print popt, np.diag(pcov)\n",
    "a_in,b_in=popt\n",
    "hz=(np.sqrt(5)+1)/4 \n",
    "L=6\n",
    "print \" num,th:\", np.exp(a_in), 4*(L*hz**2+2*(L-1)), np.exp(a_in)/(4*(L*hz**2+2*(L-1)))\n",
    "print \" log of num,th:\", a_in, np.log(4*(L*hz**2+2*(L-1))) "
   ]
  },
  {
   "cell_type": "code",
   "execution_count": 64,
   "metadata": {
    "collapsed": true
   },
   "outputs": [],
   "source": [
    "def alpha_fun(norm_gauge_potent,mu,L):\n",
    "    return mu**4*(norm_gauge_potent**2/2**L)"
   ]
  },
  {
   "cell_type": "code",
   "execution_count": 77,
   "metadata": {
    "collapsed": false
   },
   "outputs": [
    {
     "name": "stdout",
     "output_type": "stream",
     "text": [
      "0 0.0222389526003 0.351119173422\n",
      "1 0.469545224312 1.0\n",
      "2 7.31099861692 2.84803586844\n",
      "3 56.3422186252 8.1113083079\n",
      "4 143.080243174 23.1012970008\n",
      "5 176.678601996 65.7933224658\n",
      "6 182.059703454 187.381742286\n",
      "7 182.748531661 533.669923121\n",
      "8 182.833857299 1519.91108295\n",
      "9 182.844382812 4328.76128108\n",
      "10 182.845680541 12328.4673944\n",
      "11 182.845840532 35111.9173422\n",
      "12 182.845860256 100000.0\n",
      "13 182.845862688 284803.586844\n",
      "14 182.845862988 811130.83079\n",
      "15 182.845863025 2310129.70008\n",
      "16 182.84586303 6579332.24658\n",
      "17 182.84586303 18738174.2286\n",
      "18 182.84586303 53366992.3121\n",
      "19 182.84586303 151991108.295\n"
     ]
    }
   ],
   "source": [
    "L=6\n",
    "for i in range(20):\n",
    "    print i,alpha_fun(norm_arr_nonint[10+i],mu_arr[10+i],L), mu_arr[10+i]"
   ]
  },
  {
   "cell_type": "markdown",
   "metadata": {},
   "source": [
    "### Numerical value: non-integrable with periodic boundary condition"
   ]
  },
  {
   "cell_type": "code",
   "execution_count": null,
   "metadata": {
    "collapsed": true
   },
   "outputs": [],
   "source": []
  }
 ],
 "metadata": {
  "kernelspec": {
   "display_name": "Python 2",
   "language": "python",
   "name": "python2"
  },
  "language_info": {
   "codemirror_mode": {
    "name": "ipython",
    "version": 2
   },
   "file_extension": ".py",
   "mimetype": "text/x-python",
   "name": "python",
   "nbconvert_exporter": "python",
   "pygments_lexer": "ipython2",
   "version": "2.7.13"
  }
 },
 "nbformat": 4,
 "nbformat_minor": 2
}

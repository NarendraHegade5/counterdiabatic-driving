{
 "cells": [
  {
   "cell_type": "code",
   "execution_count": 2,
   "metadata": {
    "collapsed": true
   },
   "outputs": [],
   "source": [
    "import numpy as np # generic math functions\n",
    "import matplotlib.pyplot as plt\n",
    "%matplotlib inline"
   ]
  },
  {
   "cell_type": "code",
   "execution_count": 4,
   "metadata": {
    "collapsed": false
   },
   "outputs": [],
   "source": [
    "x1,y1=np.loadtxt(\"v2.0_L6_nonint_mu_scaling.dat\",unpack=True,skiprows=3 )\n",
    "x2,y2=np.loadtxt(\"v2.0_L6_int_mu_scaling.dat\",unpack=True,skiprows=3)\n",
    "x3,y3=np.loadtxt(\"v2.0_L8_nonint_mu_scaling.dat\",unpack=True,skiprows=3 )\n",
    "x4,y4=np.loadtxt(\"v2.0_L8_int_mu_scaling.dat\",unpack=True,skiprows=3)\n",
    "x5,y5=np.loadtxt(\"v2.0_L10_nonint_mu_scaling.dat\",unpack=True,skiprows=3 )\n",
    "x6,y6=np.loadtxt(\"v2.0_L10_int_mu_scaling.dat\",unpack=True,skiprows=3)\n",
    "x7,y7=np.loadtxt(\"v2.0_L12_nonint_mu_scaling.dat\",unpack=True,skiprows=3 )\n",
    "x8,y8=np.loadtxt(\"v2.0_L12_int_mu_scaling.dat\",unpack=True,skiprows=3)\n",
    "x9,y9=np.loadtxt(\"v2.0_L14_nonint_mu_scaling.dat\",unpack=True,skiprows=3 )\n",
    "x10,y10=np.loadtxt(\"v2.0_L14_int_mu_scaling.dat\",unpack=True,skiprows=3)"
   ]
  },
  {
   "cell_type": "code",
   "execution_count": 44,
   "metadata": {
    "collapsed": false
   },
   "outputs": [
    {
     "data": {
      "image/png": "[encoded data removed]",
      "text/plain": [
       "<matplotlib.figure.Figure at 0x7f757d5c8410>"
      ]
     },
     "metadata": {},
     "output_type": "display_data"
    }
   ],
   "source": [
    "plt.loglog(x1[0:150],y1[0:150]/2**6, 'm-', label='Non-int, L=6')\n",
    "plt.loglog(x1[84:105],y1[84:105]/2**6, 'k+-', label='Non-int, L=6')\n",
    "plt.grid()"
   ]
  },
  {
   "cell_type": "code",
   "execution_count": 5,
   "metadata": {
    "collapsed": false
   },
   "outputs": [
    {
     "name": "stdout",
     "output_type": "stream",
     "text": [
      "[-1.10190317 -0.82317538] [ 0.00629798  0.00175744]\n",
      " num 0.332238175757\n"
     ]
    }
   ],
   "source": [
    "from scipy.optimize import curve_fit\n",
    "L=6\n",
    "def gfunc(x, a,c): #logfunction\n",
    "    return a+ c*x\n",
    "def org_func(x, a,c):\n",
    "    return a*x**c\n",
    "xdata =x1[84:105]\n",
    "ydata = y1[84:105]/2**L\n",
    "popt, pcov = curve_fit(gfunc, np.log(xdata), np.log(ydata))\n",
    "print popt, np.diag(pcov)\n",
    "a_in,b_in=popt\n",
    "print \" num\", np.exp(a_in)"
   ]
  },
  {
   "cell_type": "code",
   "execution_count": 6,
   "metadata": {
    "collapsed": false
   },
   "outputs": [
    {
     "data": {
      "text/plain": [
       "[<matplotlib.lines.Line2D at 0x7f75861bc510>]"
      ]
     },
     "execution_count": 6,
     "metadata": {},
     "output_type": "execute_result"
    },
    {
     "data": {
      "image/png": "[encoded data removed]",
      "text/plain": [
       "<matplotlib.figure.Figure at 0x7f75861bc650>"
      ]
     },
     "metadata": {},
     "output_type": "display_data"
    }
   ],
   "source": [
    "plt.loglog(x3[80:105],y3[80:105]/2**8, 'k+-', label='Non-int, L=8')\n",
    "plt.loglog(x3[0:150],y3[0:150]/2**8, 'r-', label='Non-int, L=8')"
   ]
  },
  {
   "cell_type": "code",
   "execution_count": 7,
   "metadata": {
    "collapsed": false
   },
   "outputs": [
    {
     "name": "stdout",
     "output_type": "stream",
     "text": [
      "[-0.77365231 -0.98465169] [ 0.00225149  0.00038838]\n"
     ]
    }
   ],
   "source": [
    "from scipy.optimize import curve_fit\n",
    "L=8\n",
    "def gfunc(x, a,c): #logfunction\n",
    "    return a+ c*x\n",
    "def org_func(x, a,c):\n",
    "    return a*x**c\n",
    "xdata =x3[80:105]\n",
    "ydata = y3[80:105]/2**L\n",
    "popt, pcov = curve_fit(gfunc, np.log(xdata), np.log(ydata))\n",
    "print popt, np.diag(pcov)\n",
    "a_in,b_in=popt\n",
    "#print \" num\", np.exp(a_in)"
   ]
  },
  {
   "cell_type": "code",
   "execution_count": 8,
   "metadata": {
    "collapsed": false
   },
   "outputs": [
    {
     "data": {
      "text/plain": [
       "[<matplotlib.lines.Line2D at 0x7f758618cd10>]"
      ]
     },
     "execution_count": 8,
     "metadata": {},
     "output_type": "execute_result"
    },
    {
     "data": {
      "image/png": "[encoded data removed]",
      "text/plain": [
       "<matplotlib.figure.Figure at 0x7f7587fe0fd0>"
      ]
     },
     "metadata": {},
     "output_type": "display_data"
    }
   ],
   "source": [
    "plt.loglog(x5[78:105],y5[78:105]/2**10, 'k+-', label='Non-int, L=10')\n",
    "plt.loglog(x5[0:150],y5[0:150]/2**10, 'r-', label='Non-int, L=10')"
   ]
  },
  {
   "cell_type": "code",
   "execution_count": 9,
   "metadata": {
    "collapsed": false
   },
   "outputs": [
    {
     "name": "stdout",
     "output_type": "stream",
     "text": [
      "[-0.57520829 -1.11958064] [  5.63459644e-04   7.91586114e-05]\n"
     ]
    }
   ],
   "source": [
    "from scipy.optimize import curve_fit\n",
    "L=10\n",
    "def gfunc(x, a,c): #logfunction\n",
    "    return a+ c*x\n",
    "def org_func(x, a,c):\n",
    "    return a*x**c\n",
    "xdata =x5[78:105]\n",
    "ydata = y5[78:105]/2**L\n",
    "popt, pcov = curve_fit(gfunc, np.log(xdata), np.log(ydata))\n",
    "print popt, np.diag(pcov)\n",
    "a_in,b_in=popt"
   ]
  },
  {
   "cell_type": "code",
   "execution_count": 9,
   "metadata": {
    "collapsed": false
   },
   "outputs": [
    {
     "data": {
      "text/plain": [
       "[<matplotlib.lines.Line2D at 0x7f4c1d3a7b50>]"
      ]
     },
     "execution_count": 9,
     "metadata": {},
     "output_type": "execute_result"
    },
    {
     "data": {
      "image/png": "[encoded data removed]",
      "text/plain": [
       "<matplotlib.figure.Figure at 0x7f4c1d466690>"
      ]
     },
     "metadata": {},
     "output_type": "display_data"
    }
   ],
   "source": [
    "plt.loglog(x7[78:89],y7[78:89]/2**12, 'k+-', label='Non-int, L=12')\n",
    "plt.loglog(x7[90:105],y7[90:105]/2**12, 'b*-', label='Non-int, L=12')\n",
    "plt.loglog(x7[0:150],y7[0:150]/2**12, 'r-', label='Non-int, L=12')"
   ]
  },
  {
   "cell_type": "code",
   "execution_count": 10,
   "metadata": {
    "collapsed": false
   },
   "outputs": [
    {
     "name": "stdout",
     "output_type": "stream",
     "text": [
      "[-1.97425835 -1.14708008] [ 0.0008993   0.00067395]\n"
     ]
    }
   ],
   "source": [
    "from scipy.optimize import curve_fit\n",
    "L=12\n",
    "def gfunc(x, a,c): #logfunction\n",
    "    return a+ c*x\n",
    "def org_func(x, a,c):\n",
    "    return a*x**c\n",
    "xdata =x5[90:105]\n",
    "ydata = y5[90:105]/2**L\n",
    "popt, pcov = curve_fit(gfunc, np.log(xdata), np.log(ydata))\n",
    "print popt, np.diag(pcov)\n",
    "a_in,b_in=popt"
   ]
  },
  {
   "cell_type": "code",
   "execution_count": 11,
   "metadata": {
    "collapsed": false
   },
   "outputs": [
    {
     "name": "stdout",
     "output_type": "stream",
     "text": [
      "[-1.78475072 -1.07247946] [ 0.00495521  0.00032783]\n"
     ]
    }
   ],
   "source": [
    "L=12\n",
    "def gfunc(x, a,c): #logfunction\n",
    "    return a+ c*x\n",
    "def org_func(x, a,c):\n",
    "    return a*x**c\n",
    "xdata =x5[78:89]\n",
    "ydata = y5[78:89]/2**L\n",
    "popt, pcov = curve_fit(gfunc, np.log(xdata), np.log(ydata))\n",
    "print popt, np.diag(pcov)\n",
    "a_in,b_in=popt"
   ]
  },
  {
   "cell_type": "code",
   "execution_count": 11,
   "metadata": {
    "collapsed": false
   },
   "outputs": [
    {
     "data": {
      "text/plain": [
       "[<matplotlib.lines.Line2D at 0x7f758004bd10>]"
      ]
     },
     "execution_count": 11,
     "metadata": {},
     "output_type": "execute_result"
    },
    {
     "data": {
      "image/png": "[encoded data removed]",
      "text/plain": [
       "<matplotlib.figure.Figure at 0x7f757ffc0a90>"
      ]
     },
     "metadata": {},
     "output_type": "display_data"
    }
   ],
   "source": [
    "plt.loglog(x9[78:105],y9[78:105]/2**14, 'k+-', label='Non-int, L=14')\n",
    "plt.loglog(x9[0:150],y9[0:150]/2**14, 'r-', label='Non-int, L=14')"
   ]
  },
  {
   "cell_type": "markdown",
   "metadata": {},
   "source": [
    "### Zooming into bending region for L=6"
   ]
  },
  {
   "cell_type": "code",
   "execution_count": 51,
   "metadata": {
    "collapsed": true
   },
   "outputs": [],
   "source": [
    "x1,y1=np.loadtxt(\"v2.0_L6_nonint_mu_scaling.dat\",unpack=True,skiprows=3 )\n",
    "x2,y2=np.loadtxt(\"v2.0_L6_int_mu_scaling.dat\",unpack=True,skiprows=3)\n",
    "w1,z1=np.loadtxt(\"v3.0_L6_nonint_mu_scaling.dat\",unpack=True,skiprows=3 )\n",
    "w2,z2=np.loadtxt(\"v3.0_L6_int_mu_scaling.dat\",unpack=True,skiprows=3 )"
   ]
  },
  {
   "cell_type": "code",
   "execution_count": 56,
   "metadata": {
    "collapsed": false
   },
   "outputs": [
    {
     "data": {
      "image/png": "[encoded data removed]",
      "text/plain": [
       "<matplotlib.figure.Figure at 0x7f757cba4990>"
      ]
     },
     "metadata": {},
     "output_type": "display_data"
    }
   ],
   "source": [
    "plt.loglog(x1,y1, 'r.-')\n",
    "plt.loglog(w1,z1, 'b.-')\n",
    "plt.grid()"
   ]
  },
  {
   "cell_type": "code",
   "execution_count": 57,
   "metadata": {
    "collapsed": false
   },
   "outputs": [
    {
     "data": {
      "image/png": "[encoded data removed]",
      "text/plain": [
       "<matplotlib.figure.Figure at 0x7f757cbad250>"
      ]
     },
     "metadata": {},
     "output_type": "display_data"
    }
   ],
   "source": [
    "plt.loglog(w1,z1, 'b.-')\n",
    "plt.grid()"
   ]
  },
  {
   "cell_type": "markdown",
   "metadata": {},
   "source": [
    "### Different scales"
   ]
  },
  {
   "cell_type": "code",
   "execution_count": 8,
   "metadata": {
    "collapsed": false
   },
   "outputs": [
    {
     "data": {
      "image/png": "[encoded data removed]",
      "text/plain": [
       "<matplotlib.figure.Figure at 0x7f4c1f3fb050>"
      ]
     },
     "metadata": {},
     "output_type": "display_data"
    }
   ],
   "source": [
    "#plt.loglog(x1,y1/2**6, 'm-', label='Non-int, L=6')\n",
    "plt.plot(x2,x2, 'r.-', label='Int, L=6')\n",
    "#plt.loglog(x3,y3/2**8, 'k-', label='Non-int, L=8')\n",
    "#plt.semilogy(x4,y4/2**8, 'k--', label='Int, L=8')\n",
    "#plt.loglog(x5,y5/2**10, 'r-', label='Non-int, L=10')\n",
    "#plt.semilogy(x6,y6/2**10, 'r--', label='Int, L=10')\n",
    "#plt.loglog(x7,y7/2**12, 'b-', label='Non-int, L=12')\n",
    "#plt.semilogy(x8,y8/2**12, 'b--', label='Int, L=12')\n",
    "#plt.loglog(x9,y9/2**14, 'g-', label='Non-int, L=14')\n",
    "#plt.semilogy(x10,y10/2**14, 'g--', label='Int, L=14')\n",
    "plt.ylabel(r\"$||A||^2/2^L$\", fontsize=13)\n",
    "plt.xlabel(r\"$\\mu$\", fontsize=13)\n",
    "\n",
    "plt.legend(loc='best')\n",
    "plt.grid()\n",
    "#plt.savefig(\"v2.0_norm_mu_scaling.eps\")"
   ]
  },
  {
   "cell_type": "code",
   "execution_count": null,
   "metadata": {
    "collapsed": true
   },
   "outputs": [],
   "source": []
  },
  {
   "cell_type": "markdown",
   "metadata": {},
   "source": [
    "### Testing"
   ]
  },
  {
   "cell_type": "code",
   "execution_count": 12,
   "metadata": {
    "collapsed": true
   },
   "outputs": [],
   "source": [
    "from quspin.operators import hamiltonian # Hamiltonians and operators\n",
    "from quspin.basis import spin_basis_1d # Hilbert space spin basis"
   ]
  },
  {
   "cell_type": "code",
   "execution_count": 21,
   "metadata": {
    "collapsed": false
   },
   "outputs": [],
   "source": [
    "def Ham_nonint(L):\n",
    "    basis = spin_basis_1d(L)\n",
    "    hz=(np.sqrt(5)+1)/4 #parameters used by Kim and Huse\n",
    "    hx=(np.sqrt(5)+5)/8\n",
    "    J=1.0\n",
    "    hz_arr = [[hz,i] for i in range(L)] \n",
    "    hx_arr = [[hx,i] for i in range(L)] \n",
    "    J_arr =[[J,i,(i+1)] for i in range(L-1)] # OBC  [[J,i,(i+1)%L] for i in range(L)] # PBC\n",
    "    \n",
    "    # static and dynamic lists\n",
    "    static = [[\"zz\",J_arr],[\"z\",hz_arr], [\"x\",hx_arr] ]\n",
    "    dynamic =[]\n",
    "    H = hamiltonian(static,dynamic,basis=basis,dtype=np.float_,check_symm=False,check_herm=False)\n",
    "    return H\n",
    "\n",
    "def output_gauge_potent(Ham,L):\n",
    "    E,V= Ham.eigh()\n",
    "    op_lamb_arr = del_lambda_Ham(L).toarray()\n",
    "    x=np.dot(op_lamb_arr, V)\n",
    "    num_lamb_mat =np.dot(V.T,x) #matrix multiplication\n",
    "    wij = np.outer(E,np.ones(2**L))-np.outer(np.ones(2**L),E)\n",
    "    return wij, num_lamb_mat\n",
    "  \n",
    "def gauge_potent_mu(wij,num_lamb_mat,mu):\n",
    "    A_lamb = -1j*np.multiply(wij,num_lamb_mat)/(wij**2+ mu**2)#element-wise multiplication\n",
    "    return A_lamb\n",
    "\n",
    "def del_lambda_Ham(L):\n",
    "    basis = spin_basis_1d(L)  \n",
    "    hx_lamb=1.0\n",
    "    hx_lamb_arr = [[hx_lamb,i] for i in range(L)] \n",
    "    static_lamb = [[\"x\",hx_lamb_arr]]\n",
    "    dynamic_lamb =[]\n",
    "    op_lamb=hamiltonian(static_lamb,dynamic_lamb,basis=basis,dtype=np.float_,check_symm=False,check_herm=False)\n",
    "    return op_lamb"
   ]
  },
  {
   "cell_type": "code",
   "execution_count": 23,
   "metadata": {
    "collapsed": false
   },
   "outputs": [],
   "source": [
    "L=2\n",
    "Ham=Ham_nonint(L)\n",
    "E,V= Ham.eigh()\n",
    "V_mat=np.matrix(V)\n",
    "V_mat_H=V_mat.H\n",
    "op_lamb_mat = np.matrix(del_lambda_Ham(L).toarray())"
   ]
  },
  {
   "cell_type": "code",
   "execution_count": 30,
   "metadata": {
    "collapsed": false
   },
   "outputs": [
    {
     "name": "stdout",
     "output_type": "stream",
     "text": [
      "[[ 0.  1.  1.  0.]\n",
      " [ 1.  0.  0.  1.]\n",
      " [ 1.  0.  0.  1.]\n",
      " [ 0.  1.  1.  0.]]\n",
      "[[ 0.  1.  1.  0.]\n",
      " [ 1.  0.  0.  1.]\n",
      " [ 1.  0.  0.  1.]\n",
      " [ 0.  1.  1.  0.]]\n"
     ]
    }
   ],
   "source": [
    "print del_lambda_Ham(L).toarray().T\n",
    "print op_lamb_mat"
   ]
  },
  {
   "cell_type": "code",
   "execution_count": 31,
   "metadata": {
    "collapsed": false
   },
   "outputs": [
    {
     "name": "stdout",
     "output_type": "stream",
     "text": [
      "[[  5.92022696e-01   0.00000000e+00   7.97723264e-01   1.14659153e-01]\n",
      " [ -5.51546165e-01  -7.07106781e-01   3.75732369e-01   2.33713531e-01]\n",
      " [ -5.51546165e-01   7.07106781e-01   3.75732369e-01   2.33713531e-01]\n",
      " [  2.02738214e-01   2.22044605e-16  -2.85110448e-01   9.36808011e-01]]\n"
     ]
    }
   ],
   "source": [
    "print V"
   ]
  },
  {
   "cell_type": "code",
   "execution_count": 32,
   "metadata": {
    "collapsed": false
   },
   "outputs": [
    {
     "name": "stdout",
     "output_type": "stream",
     "text": [
      "[[  5.92022696e-01  -5.51546165e-01  -5.51546165e-01   2.02738214e-01]\n",
      " [  0.00000000e+00  -7.07106781e-01   7.07106781e-01   2.22044605e-16]\n",
      " [  7.97723264e-01   3.75732369e-01   3.75732369e-01  -2.85110448e-01]\n",
      " [  1.14659153e-01   2.33713531e-01   2.33713531e-01   9.36808011e-01]]\n"
     ]
    }
   ],
   "source": [
    "print V.T"
   ]
  },
  {
   "cell_type": "code",
   "execution_count": 35,
   "metadata": {
    "collapsed": false
   },
   "outputs": [
    {
     "name": "stdout",
     "output_type": "stream",
     "text": [
      "[[ -1.10309233e+00   1.11022302e-16   7.51464738e-01   4.67427062e-01]\n",
      " [  7.94760910e-01   2.22044605e-16   5.12612816e-01   1.05146716e+00]\n",
      " [  7.94760910e-01   2.22044605e-16   5.12612816e-01   1.05146716e+00]\n",
      " [ -1.10309233e+00   1.11022302e-16   7.51464738e-01   4.67427062e-01]]\n"
     ]
    }
   ],
   "source": [
    "print np.dot(del_lambda_Ham(L).toarray(), V)\n",
    "x=np.dot(del_lambda_Ham(L).toarray(), V)"
   ]
  },
  {
   "cell_type": "code",
   "execution_count": 36,
   "metadata": {
    "collapsed": false
   },
   "outputs": [
    {
     "name": "stdout",
     "output_type": "stream",
     "text": [
      "[[ 0.79772326  0.70668185  0.70668185  0.79772326]\n",
      " [-0.33137441 -0.31783263 -0.31783263 -0.33137441]\n",
      " [ 1.08283915 -0.31783263 -0.31783263  1.08283915]\n",
      " [-0.28511045  1.13954622  1.13954622 -0.28511045]]\n"
     ]
    }
   ],
   "source": [
    "print np.dot(V,del_lambda_Ham(L).toarray())"
   ]
  },
  {
   "cell_type": "code",
   "execution_count": 37,
   "metadata": {
    "collapsed": false
   },
   "outputs": [
    {
     "name": "stdout",
     "output_type": "stream",
     "text": [
      "[[ -1.75338933e+00  -1.56699515e-16   3.17755325e-02  -7.88372607e-01]\n",
      " [ -1.33913398e-16   4.93038066e-32   2.77880993e-16   2.14811960e-16]\n",
      " [  3.17755325e-02   2.23770146e-16   7.70420912e-01   1.02974960e+00]\n",
      " [ -7.88372607e-01   2.20525963e-16   1.02974960e+00   9.82968415e-01]]\n"
     ]
    }
   ],
   "source": [
    "print np.dot(V.T,x)"
   ]
  },
  {
   "cell_type": "code",
   "execution_count": 38,
   "metadata": {
    "collapsed": false
   },
   "outputs": [
    {
     "name": "stdout",
     "output_type": "stream",
     "text": [
      "[[  6.93889390e-18   1.00000000e+00   1.00000000e+00  -1.11022302e-16]\n",
      " [  1.00000000e+00  -1.94289029e-16   1.94289029e-16   1.00000000e+00]\n",
      " [  1.00000000e+00  -1.94289029e-16   1.94289029e-16   1.00000000e+00]\n",
      " [  6.93889390e-18   1.00000000e+00   1.00000000e+00  -1.11022302e-16]]\n"
     ]
    }
   ],
   "source": []
  },
  {
   "cell_type": "code",
   "execution_count": 48,
   "metadata": {
    "collapsed": false
   },
   "outputs": [],
   "source": [
    "x1,y1=np.loadtxt(\"v2.0_L6_nonint_mu_scaling.dat\",unpack=True,skiprows=3 )\n",
    "x2,y2=np.loadtxt(\"v2.0_L6_int_mu_scaling.dat\",unpack=True,skiprows=3)\n",
    "w1,z1=np.loadtxt(\"v3.0_L6_nonint_mu_scaling.dat\",unpack=True,skiprows=3 )\n",
    "w2,z2=np.loadtxt(\"v3.0_L6_int_mu_scaling.dat\",unpack=True,skiprows=3 )"
   ]
  },
  {
   "cell_type": "code",
   "execution_count": 49,
   "metadata": {
    "collapsed": false
   },
   "outputs": [
    {
     "data": {
      "text/plain": [
       "[<matplotlib.lines.Line2D at 0x7f757d6f0350>]"
      ]
     },
     "execution_count": 49,
     "metadata": {},
     "output_type": "execute_result"
    },
    {
     "data": {
      "image/png": "[encoded data removed]",
      "text/plain": [
       "<matplotlib.figure.Figure at 0x7f757d3dd190>"
      ]
     },
     "metadata": {},
     "output_type": "display_data"
    }
   ],
   "source": [
    "plt.loglog(x1,y1, 'r.-')\n",
    "plt.loglog(w1,z1, 'b.-')"
   ]
  },
  {
   "cell_type": "code",
   "execution_count": 50,
   "metadata": {
    "collapsed": false
   },
   "outputs": [
    {
     "data": {
      "text/plain": [
       "[<matplotlib.lines.Line2D at 0x7f757d6ed390>]"
      ]
     },
     "execution_count": 50,
     "metadata": {},
     "output_type": "execute_result"
    },
    {
     "data": {
      "image/png": "[encoded data removed]",
      "text/plain": [
       "<matplotlib.figure.Figure at 0x7f757d442290>"
      ]
     },
     "metadata": {},
     "output_type": "display_data"
    }
   ],
   "source": [
    "plt.loglog(x2,y2, 'r.-')\n",
    "plt.loglog(w2,z2, 'b.-')"
   ]
  },
  {
   "cell_type": "code",
   "execution_count": 45,
   "metadata": {
    "collapsed": true
   },
   "outputs": [],
   "source": [
    "x5,y5=np.loadtxt(\"v2.0_L10_nonint_mu_scaling.dat\",unpack=True,skiprows=3 )\n",
    "x6,y6=np.loadtxt(\"v2.0_L10_int_mu_scaling.dat\",unpack=True,skiprows=3)\n",
    "w5,z5=np.loadtxt(\"v3.0_L10_nonint_mu_scaling.dat\",unpack=True,skiprows=3 )\n",
    "w6,z6=np.loadtxt(\"v3.0_L10_int_mu_scaling.dat\",unpack=True,skiprows=3)"
   ]
  },
  {
   "cell_type": "code",
   "execution_count": 46,
   "metadata": {
    "collapsed": false
   },
   "outputs": [
    {
     "data": {
      "text/plain": [
       "[<matplotlib.lines.Line2D at 0x7f757d5b0e90>]"
      ]
     },
     "execution_count": 46,
     "metadata": {},
     "output_type": "execute_result"
    },
    {
     "data": {
      "image/png": "[encoded data removed]",
      "text/plain": [
       "<matplotlib.figure.Figure at 0x7f758003f810>"
      ]
     },
     "metadata": {},
     "output_type": "display_data"
    }
   ],
   "source": [
    "plt.loglog(x5,y5, 'r.-')\n",
    "plt.loglog(w5,z5, 'b.-')"
   ]
  },
  {
   "cell_type": "code",
   "execution_count": 47,
   "metadata": {
    "collapsed": false
   },
   "outputs": [
    {
     "data": {
      "text/plain": [
       "[<matplotlib.lines.Line2D at 0x7f757d681990>]"
      ]
     },
     "execution_count": 47,
     "metadata": {},
     "output_type": "execute_result"
    },
    {
     "data": {
      "image/png": "[encoded data removed]",
      "text/plain": [
       "<matplotlib.figure.Figure at 0x7f757d56c090>"
      ]
     },
     "metadata": {},
     "output_type": "display_data"
    }
   ],
   "source": [
    "plt.loglog(x6,y6, 'r.-')\n",
    "plt.loglog(w6,z6, 'b.-')"
   ]
  },
  {
   "cell_type": "code",
   "execution_count": null,
   "metadata": {
    "collapsed": true
   },
   "outputs": [],
   "source": []
  }
 ],
 "metadata": {
  "kernelspec": {
   "display_name": "Python 2",
   "language": "python",
   "name": "python2"
  },
  "language_info": {
   "codemirror_mode": {
    "name": "ipython",
    "version": 2
   },
   "file_extension": ".py",
   "mimetype": "text/x-python",
   "name": "python",
   "nbconvert_exporter": "python",
   "pygments_lexer": "ipython2",
   "version": "2.7.13"
  }
 },
 "nbformat": 4,
 "nbformat_minor": 2
}

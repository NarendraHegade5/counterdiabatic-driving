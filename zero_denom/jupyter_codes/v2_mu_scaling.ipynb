{
 "cells": [
  {
   "cell_type": "code",
   "execution_count": 8,
   "metadata": {
    "collapsed": true
   },
   "outputs": [],
   "source": [
    "from quspin.operators import hamiltonian\n",
    "from quspin.operators import commutator# Hamiltonians and operators\n",
    "from quspin.basis import spin_basis_1d # Hilbert space spin basis\n",
    "import numpy as np # generic math functions\n",
    "import matplotlib.pyplot as plt\n",
    "%matplotlib inline"
   ]
  },
  {
   "cell_type": "code",
   "execution_count": 7,
   "metadata": {
    "collapsed": true
   },
   "outputs": [],
   "source": [
    "def Ham_nonint(L):\n",
    "    basis = spin_basis_1d(L)\n",
    "    hz=(np.sqrt(5)+1)/4 #parameters used by Kim and Huse\n",
    "    hx=(np.sqrt(5)+5)/8\n",
    "    J=1.0\n",
    "    hz_arr = [[hz,i] for i in range(L)] \n",
    "    hx_arr = [[hx,i] for i in range(L)] \n",
    "    J_arr =[[J,i,(i+1)] for i in range(L-1)] # OBC  [[J,i,(i+1)%L] for i in range(L)] # PBC\n",
    "    \n",
    "    # static and dynamic lists\n",
    "    static = [[\"zz\",J_arr],[\"z\",hz_arr], [\"x\",hx_arr] ]\n",
    "    dynamic =[]\n",
    "    H = hamiltonian(static,dynamic,basis=basis,dtype=np.complex_,check_symm=False,check_herm=False)\n",
    "    return H\n",
    "\n",
    "def Ham_int_antiferro(L,hz):\n",
    "    basis = spin_basis_1d(L)\n",
    "    J=1.0\n",
    "    hz_arr = [[hz,i] for i in range(L)] # OBC\n",
    "    J_arr =[[J,i,(i+1)] for i in range(L-1)] # OBC# [[J,i,(i+1)%L] for i in range(L)] # PBC\n",
    "    # static and dynamic lists\n",
    "    static = [[\"zz\",J_arr],[\"x\",hz_arr]]\n",
    "    dynamic =[]\n",
    "    H = hamiltonian(static,dynamic,basis=basis,dtype=np.complex_,check_symm=False,check_herm=False)\n",
    "    return H"
   ]
  },
  {
   "cell_type": "code",
   "execution_count": 9,
   "metadata": {
    "collapsed": true
   },
   "outputs": [],
   "source": [
    "def del_lambda_Ham(L):\n",
    "    basis = spin_basis_1d(L)  \n",
    "    hx_lamb=1.0\n",
    "    hx_lamb_arr = [[hx_lamb,i] for i in range(L)] \n",
    "    static_lamb = [[\"x\",hx_lamb_arr]]\n",
    "    dynamic_lamb =[]\n",
    "    op_lamb=hamiltonian(static_lamb,dynamic_lamb,basis=basis,dtype=np.complex_,check_symm=False,check_herm=False)\n",
    "    return op_lamb\n",
    "\n",
    "def norm(A_lamb):    \n",
    "    return np.linalg.norm(A_lamb, 'fro')"
   ]
  },
  {
   "cell_type": "code",
   "execution_count": 12,
   "metadata": {
    "collapsed": true
   },
   "outputs": [],
   "source": [
    "def gauge_potent_mu(Ham,L, mu):\n",
    "    E,V= Ham.eigh()\n",
    "    V_mat=np.matrix(V)\n",
    "    V_mat_H=V_mat.H\n",
    "    op_lamb_mat = np.matrix(del_lambda_Ham(L).toarray())\n",
    "    num_lamb_mat =  (V_mat_H)*(op_lamb_mat*V_mat) #matrix multiplication\n",
    "    wij = np.outer(E,np.ones(2**L))-np.outer(np.ones(2**L),E)\n",
    "    A_lamb = -1j*np.multiply(wij,num_lamb_mat)/(wij**2+ mu**2)#element-wise multiplication\n",
    "    return A_lamb"
   ]
  },
  {
   "cell_type": "code",
   "execution_count": 6,
   "metadata": {
    "collapsed": false
   },
   "outputs": [],
   "source": [
    "muTot=200\n",
    "L=2\n",
    "hz=5\n",
    "norm_arr_intL2=np.zeros(muTot)\n",
    "mu_arr=np.logspace(-10,10,muTot)\n",
    "H=Ham_int_antiferro(L,hz)\n",
    "for i in range(muTot):\n",
    "    mu=mu_arr[i]\n",
    "    A_lamb=gauge_potent_mu(H,L,mu)\n",
    "    norm_arr_intL2[i]=norm(A_lamb)"
   ]
  },
  {
   "cell_type": "code",
   "execution_count": 12,
   "metadata": {
    "collapsed": true
   },
   "outputs": [],
   "source": [
    "muTot=200\n",
    "L=2\n",
    "norm_arr_nonintL2=np.zeros(muTot)\n",
    "mu_arr=np.logspace(-10,10,muTot)\n",
    "H=Ham_nonint(L)\n",
    "for i in range(muTot):\n",
    "    mu=mu_arr[i]\n",
    "    A_lamb=gauge_potent_mu(H,L,mu)\n",
    "    norm_arr_nonintL2[i]=norm(A_lamb)"
   ]
  },
  {
   "cell_type": "code",
   "execution_count": 8,
   "metadata": {
    "collapsed": true
   },
   "outputs": [],
   "source": [
    "muTot=200\n",
    "L=4\n",
    "hz=5\n",
    "norm_arr_intL4=np.zeros(muTot)\n",
    "mu_arr=np.logspace(-10,10,muTot)\n",
    "H=Ham_int_antiferro(L,hz)\n",
    "for i in range(muTot):\n",
    "    mu=mu_arr[i]\n",
    "    A_lamb=gauge_potent_mu(H,L,mu)\n",
    "    norm_arr_intL4[i]=norm(A_lamb)"
   ]
  },
  {
   "cell_type": "code",
   "execution_count": 13,
   "metadata": {
    "collapsed": true
   },
   "outputs": [],
   "source": [
    "muTot=200\n",
    "L=4\n",
    "norm_arr_nonintL4=np.zeros(muTot)\n",
    "mu_arr=np.logspace(-10,10,muTot)\n",
    "H=Ham_nonint(L)\n",
    "for i in range(muTot):\n",
    "    mu=mu_arr[i]\n",
    "    A_lamb=gauge_potent_mu(H,L,mu)\n",
    "    norm_arr_nonintL4[i]=norm(A_lamb)"
   ]
  },
  {
   "cell_type": "code",
   "execution_count": 14,
   "metadata": {
    "collapsed": true
   },
   "outputs": [],
   "source": [
    "muTot=200\n",
    "L=6\n",
    "hz=5\n",
    "norm_arr_intL6=np.zeros(muTot)\n",
    "mu_arr=np.logspace(-10,10,muTot)\n",
    "H=Ham_int_antiferro(L,hz)\n",
    "for i in range(muTot):\n",
    "    mu=mu_arr[i]\n",
    "    A_lamb=gauge_potent_mu(H,L,mu)\n",
    "    norm_arr_intL6[i]=norm(A_lamb)"
   ]
  },
  {
   "cell_type": "code",
   "execution_count": 44,
   "metadata": {
    "collapsed": false
   },
   "outputs": [
    {
     "name": "stdout",
     "output_type": "stream",
     "text": [
      "0.0953783318915 60.5007524586\n"
     ]
    }
   ],
   "source": [
    "L=6\n",
    "hz=5.0\n",
    "H=Ham_int_antiferro(L,hz)\n",
    "E,V= H.eigh()\n",
    "wij = np.outer(E,np.ones(2**L))-np.outer(np.ones(2**L),E)\n",
    "index_lower = np.tril_indices(2**L,-1)\n",
    "wij_arr=wij[index_lower]\n",
    "print min(wij_arr), max(wij_arr)"
   ]
  },
  {
   "cell_type": "code",
   "execution_count": 13,
   "metadata": {
    "collapsed": false
   },
   "outputs": [],
   "source": [
    "muTot=200\n",
    "L=6\n",
    "norm_arr_nonintL6=np.zeros(muTot)\n",
    "mu_arr=np.logspace(-10,10,muTot)\n",
    "H=Ham_nonint(L)\n",
    "for i in range(muTot):\n",
    "    mu=mu_arr[i]\n",
    "    A_lamb=gauge_potent_mu(H,L,mu)\n",
    "    norm_arr_nonintL6[i]=norm(A_lamb)"
   ]
  },
  {
   "cell_type": "code",
   "execution_count": 39,
   "metadata": {
    "collapsed": false
   },
   "outputs": [
    {
     "name": "stdout",
     "output_type": "stream",
     "text": [
      "0.00172247690936 18.2585719543 64\n"
     ]
    }
   ],
   "source": [
    "L=6\n",
    "H=Ham_nonint(L)\n",
    "E,V= H.eigh()\n",
    "wij = np.outer(E,np.ones(2**L))-np.outer(np.ones(2**L),E)\n",
    "index_lower = np.tril_indices(2**L,-1)\n",
    "wij_arr=wij[index_lower]\n",
    "print min(wij_arr), max(wij_arr), len(E)"
   ]
  },
  {
   "cell_type": "code",
   "execution_count": 10,
   "metadata": {
    "collapsed": true
   },
   "outputs": [],
   "source": [
    "muTot=200\n",
    "L=8\n",
    "hz=5\n",
    "norm_arr_intL8=np.zeros(muTot)\n",
    "mu_arr=np.logspace(-10,10,muTot)\n",
    "H=Ham_int_antiferro(L,hz)\n",
    "for i in range(muTot):\n",
    "    mu=mu_arr[i]\n",
    "    A_lamb=gauge_potent_mu(H,L,mu)\n",
    "    norm_arr_intL8[i]=norm(A_lamb)"
   ]
  },
  {
   "cell_type": "code",
   "execution_count": 15,
   "metadata": {
    "collapsed": true
   },
   "outputs": [],
   "source": [
    "muTot=200\n",
    "L=8\n",
    "norm_arr_nonintL8=np.zeros(muTot)\n",
    "mu_arr=np.logspace(-10,10,muTot)\n",
    "H=Ham_nonint(L)\n",
    "for i in range(muTot):\n",
    "    mu=mu_arr[i]\n",
    "    A_lamb=gauge_potent_mu(H,L,mu)\n",
    "    norm_arr_nonintL8[i]=norm(A_lamb)"
   ]
  },
  {
   "cell_type": "code",
   "execution_count": 18,
   "metadata": {
    "collapsed": false
   },
   "outputs": [
    {
     "data": {
      "image/png": "[encoded data removed]",
      "text/plain": [
       "<matplotlib.figure.Figure at 0x7f2baefc7410>"
      ]
     },
     "metadata": {},
     "output_type": "display_data"
    }
   ],
   "source": [
    "plt.loglog(mu_arr,norm_arr_intL2**2/2**2, 'b.-', label='int, L=2')\n",
    "plt.loglog(mu_arr,norm_arr_intL4**2/2**4, 'r.-', label='int, L=4')\n",
    "plt.loglog(mu_arr,norm_arr_intL6**2/2**6, 'k.-', label='int, L=6')\n",
    "plt.loglog(mu_arr,norm_arr_intL8**2/2**8, 'g.-', label='int, L=8')\n",
    "plt.loglog(mu_arr,norm_arr_nonintL2**2/2**2, 'b+-', label='non-int, L=2')\n",
    "plt.loglog(mu_arr,norm_arr_nonintL4**2/2**4, 'r+-', label='non-int, L=4')\n",
    "plt.loglog(mu_arr,norm_arr_nonintL6**2/2**6, 'k+-', label='non-int, L=6')\n",
    "plt.loglog(mu_arr,norm_arr_nonintL8**2/2**8, 'g+-', label='non-int, L=8')\n",
    "plt.legend(loc='best')\n",
    "plt.grid()"
   ]
  },
  {
   "cell_type": "code",
   "execution_count": 21,
   "metadata": {
    "collapsed": false
   },
   "outputs": [
    {
     "data": {
      "image/png": "[encoded data removed]",
      "text/plain": [
       "<matplotlib.figure.Figure at 0x7f2ba6a64890>"
      ]
     },
     "metadata": {},
     "output_type": "display_data"
    }
   ],
   "source": [
    "plt.loglog(mu_arr[40:160],norm_arr_nonintL2[40:160]**2/2**2, 'b+-', label='non-int, L=2')\n",
    "plt.loglog(mu_arr[40:160],norm_arr_nonintL4[40:160]**2/2**4, 'r+-', label='non-int, L=4')\n",
    "plt.loglog(mu_arr[40:160],norm_arr_nonintL6[40:160]**2/2**6, 'k+-', label='non-int, L=6')\n",
    "plt.loglog(mu_arr[40:160],norm_arr_nonintL8[40:160]**2/2**8, 'g+-', label='non-int, L=8')\n",
    "plt.legend(loc='best')\n",
    "plt.grid()"
   ]
  },
  {
   "cell_type": "code",
   "execution_count": 21,
   "metadata": {
    "collapsed": false
   },
   "outputs": [],
   "source": [
    "x1,y1=np.loadtxt(\"v2.0_L6_nonint_mu_scaling.dat\",unpack=True,skiprows=3 )\n",
    "x2,y2=np.loadtxt(\"v2.0_L6_int_mu_scaling.dat\",unpack=True,skiprows=3)"
   ]
  },
  {
   "cell_type": "code",
   "execution_count": 25,
   "metadata": {
    "collapsed": false
   },
   "outputs": [
    {
     "data": {
      "text/plain": [
       "[<matplotlib.lines.Line2D at 0x7ff4295557d0>]"
      ]
     },
     "execution_count": 25,
     "metadata": {},
     "output_type": "execute_result"
    },
    {
     "data": {
      "image/png": "[encoded data removed]",
      "text/plain": [
       "<matplotlib.figure.Figure at 0x7ff429555b50>"
      ]
     },
     "metadata": {},
     "output_type": "display_data"
    }
   ],
   "source": [
    "plt.loglog(mu_arr,norm_arr_nonintL6**2/2**6, 'k.-', label='non-int, L=6')\n",
    "plt.loglog(x1,y1/2**6, 'k+-', label='non-int, L=6')"
   ]
  },
  {
   "cell_type": "code",
   "execution_count": 24,
   "metadata": {
    "collapsed": false
   },
   "outputs": [
    {
     "data": {
      "text/plain": [
       "[<matplotlib.lines.Line2D at 0x7ff429601990>]"
      ]
     },
     "execution_count": 24,
     "metadata": {},
     "output_type": "execute_result"
    },
    {
     "data": {
      "image/png": "[encoded data removed]",
      "text/plain": [
       "<matplotlib.figure.Figure at 0x7ff429601cd0>"
      ]
     },
     "metadata": {},
     "output_type": "display_data"
    }
   ],
   "source": [
    "plt.loglog(mu_arr,norm_arr_intL6**2/2**6, 'k.-', label='non-int, L=6')\n",
    "plt.loglog(x2,y2/2**6, 'k+-', label='non-int, L=6')"
   ]
  },
  {
   "cell_type": "code",
   "execution_count": 18,
   "metadata": {
    "collapsed": true
   },
   "outputs": [],
   "source": [
    "w1,z1=np.loadtxt(\"Test_L6_int_mu_scaling.dat\",unpack=True,skiprows=3 )\n",
    "w2,z2=np.loadtxt(\"Test_L6_nonint_mu_scaling.dat\",unpack=True,skiprows=3)"
   ]
  },
  {
   "cell_type": "code",
   "execution_count": 34,
   "metadata": {
    "collapsed": false
   },
   "outputs": [
    {
     "data": {
      "text/plain": [
       "[<matplotlib.lines.Line2D at 0x7ff4290b3f10>]"
      ]
     },
     "execution_count": 34,
     "metadata": {},
     "output_type": "execute_result"
    },
    {
     "data": {
      "image/png": "[encoded data removed]",
      "text/plain": [
       "<matplotlib.figure.Figure at 0x7ff42924ebd0>"
      ]
     },
     "metadata": {},
     "output_type": "display_data"
    }
   ],
   "source": [
    "plt.loglog(mu_arr,norm_arr_intL6**2/2**6, 'k.-', label='non-int, L=6')\n",
    "plt.loglog(x2,y2/2**6, 'r+-', label='non-int, L=6')"
   ]
  },
  {
   "cell_type": "code",
   "execution_count": 35,
   "metadata": {
    "collapsed": false
   },
   "outputs": [
    {
     "name": "stdout",
     "output_type": "stream",
     "text": [
      "[ 3.68887945 -4.        ] [  2.88157393e-27   6.61576885e-30]\n",
      " num,th: 40.0 40\n"
     ]
    }
   ],
   "source": [
    "from scipy.optimize import curve_fit\n",
    "def gfunc(x, a,c): #logfunction\n",
    "    return a+ c*x\n",
    "def org_func(x, a,c):\n",
    "    return a*x**c\n",
    "L=6\n",
    "xdata =x2[180:]\n",
    "ydata = y2[180:]/2**L\n",
    "popt, pcov = curve_fit(gfunc, np.log(xdata), np.log(ydata))\n",
    "print popt, np.diag(pcov)\n",
    "a_in,b_in=popt\n",
    "print \" num,th:\", np.exp(a_in), 4*2*(L-1) "
   ]
  },
  {
   "cell_type": "code",
   "execution_count": 36,
   "metadata": {
    "collapsed": false
   },
   "outputs": [
    {
     "name": "stdout",
     "output_type": "stream",
     "text": [
      "[ 4.02012742 -4.        ] [  8.23306684e-28   1.89021966e-30]\n",
      " num,th: 55.7082039325 55.7082039325\n"
     ]
    }
   ],
   "source": [
    "from scipy.optimize import curve_fit\n",
    "def gfunc(x, a,c): #logfunction\n",
    "    return a+ c*x\n",
    "def org_func(x, a,c):\n",
    "    return a*x**c\n",
    "xdata =x1[180:]\n",
    "ydata = y1[180:]/2**6\n",
    "popt, pcov = curve_fit(gfunc, np.log(xdata), np.log(ydata))\n",
    "print popt, np.diag(pcov)\n",
    "a_in,b_in=popt\n",
    "hz=(np.sqrt(5)+1)/4 \n",
    "L=6\n",
    "print \" num,th:\", np.exp(a_in), 4*(L*hz**2+2*(L-1))"
   ]
  },
  {
   "cell_type": "code",
   "execution_count": null,
   "metadata": {
    "collapsed": true
   },
   "outputs": [],
   "source": []
  }
 ],
 "metadata": {
  "kernelspec": {
   "display_name": "Python 2",
   "language": "python",
   "name": "python2"
  },
  "language_info": {
   "codemirror_mode": {
    "name": "ipython",
    "version": 2
   },
   "file_extension": ".py",
   "mimetype": "text/x-python",
   "name": "python",
   "nbconvert_exporter": "python",
   "pygments_lexer": "ipython2",
   "version": "2.7.13"
  }
 },
 "nbformat": 4,
 "nbformat_minor": 0
}

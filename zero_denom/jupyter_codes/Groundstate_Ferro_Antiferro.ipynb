{
 "cells": [
  {
   "cell_type": "code",
   "execution_count": 3,
   "metadata": {
    "collapsed": true
   },
   "outputs": [],
   "source": [
    "from quspin.operators import hamiltonian # Hamiltonians and operators\n",
    "from quspin.basis import spin_basis_1d # Hilbert space spin basis\n",
    "import numpy as np # generic math functions\n",
    "import matplotlib.pyplot as plt\n",
    "%matplotlib inline"
   ]
  },
  {
   "cell_type": "code",
   "execution_count": 4,
   "metadata": {
    "collapsed": true
   },
   "outputs": [],
   "source": [
    "def Ham_int_ferro(L,hz):\n",
    "    basis = spin_basis_1d(L)\n",
    "    #hz=5#(np.sqrt(5)+1)/4 #parameters used by Kim and Huse\n",
    "    J=-1.0\n",
    "    hz_arr = [[hz,i] for i in range(L)] # OBC\n",
    "    J_arr = [[J,i,(i+1)] for i in range(L-1)] # OBC [[J,i,(i+1)%L] for i in range(L)] # PBC\n",
    "    \n",
    "    # static and dynamic lists\n",
    "    static = [[\"xx\",J_arr],[\"z\",hz_arr]]\n",
    "    dynamic =[]\n",
    "    H = hamiltonian(static,dynamic,basis=basis,dtype=np.complex_,check_symm=False,check_herm=False)\n",
    "    return H\n",
    "\n",
    "def Ham_int_antiferro(L,hz):\n",
    "    basis = spin_basis_1d(L)\n",
    "    #hz=5#(np.sqrt(5)+1)/4 #parameters used by Kim and Huse\n",
    "    J=1.0\n",
    "    hz_arr = [[hz,i] for i in range(L)] # OBC\n",
    "    J_arr = [[J,i,(i+1)] for i in range(L-1)] # OBC [[J,i,(i+1)%L] for i in range(L)] # PBC\n",
    "    \n",
    "    # static and dynamic lists\n",
    "    static = [[\"xx\",J_arr],[\"z\",hz_arr]]\n",
    "    dynamic =[]\n",
    "    H = hamiltonian(static,dynamic,basis=basis,dtype=np.complex_,check_symm=False,check_herm=False)\n",
    "    return H"
   ]
  },
  {
   "cell_type": "markdown",
   "metadata": {},
   "source": [
    "I should see how the ground state is looking like. It should be anti-ferromagnetic.<br /> \n",
    "<b> Update:</b> Physically, one possible way that can be seen is by computing magnetization as a function of $h_z$. However, this only works for ferromagnetic Hamiltonian, and not for anti-ferro. :( <br /> \n",
    "What is magnetization for the following Hamiltonian? <br /> \n",
    "$H = \\sum \\sigma_{i}^x \\sigma_{i+1}^x+ h_z \\sum \\sigma_i^z$ <br /> \n",
    "\n",
    "$<m>=\\sum \\sigma_{i}^x / N$, where $N$ is number of spins."
   ]
  },
  {
   "cell_type": "code",
   "execution_count": 11,
   "metadata": {
    "collapsed": false
   },
   "outputs": [
    {
     "name": "stdout",
     "output_type": "stream",
     "text": [
      "\n"
     ]
    }
   ],
   "source": [
    "def avg_mag(V,L):\n",
    "    basis = spin_basis_1d(L)  \n",
    "    hx=1.0\n",
    "    hx_arr = [[hx,i] for i in range(L)] # OBC\n",
    "    static = [[\"x\",hx_arr]]\n",
    "    dynamic=[]\n",
    "    s_x=hamiltonian(static,dynamic,basis=basis,dtype=np.complex_,check_symm=False,check_herm=False)\n",
    "    return np.dot(V,np.dot(s_x.toarray(),np.conj(V)))\n",
    "\n",
    "def avg_square_mag(V,L):\n",
    "    basis = spin_basis_1d(L)  \n",
    "    hx=1.0\n",
    "    hx_arr = [[hx,i] for i in range(L)] # OBC\n",
    "    static = [[\"x\",hx_arr]]\n",
    "    dynamic=[]\n",
    "    s_x=hamiltonian(static,dynamic,basis=basis,dtype=np.complex_,check_symm=False,check_herm=False)\n",
    "    s_x_sq=s_x**2\n",
    "    return np.dot(V,np.dot(s_x_sq.toarray(),np.conj(V)))"
   ]
  },
  {
   "cell_type": "code",
   "execution_count": 58,
   "metadata": {
    "collapsed": false
   },
   "outputs": [],
   "source": [
    "L=8\n",
    "hz=np.linspace(0,5,20)\n",
    "avg_mag_arr=np.zeros(len(hz))\n",
    "avg_square_mag_arr=np.zeros(len(hz))\n",
    "for i in range(len(hz)):\n",
    "    H_ferro= Ham_int_ferro(L,hz[i])\n",
    "    E_ferro,V_ferro= H_ferro.eigh()\n",
    "    V_gs=V_ferro[:,0]\n",
    "    avg_mag_arr[i]=np.real(avg_mag(V_gs,L))/L\n",
    "    avg_square_mag_arr[i]=np.real(avg_square_mag(V_gs,L))/L**2"
   ]
  },
  {
   "cell_type": "code",
   "execution_count": 18,
   "metadata": {
    "collapsed": false
   },
   "outputs": [],
   "source": [
    "L=10\n",
    "hz=np.linspace(0,5,20)\n",
    "avg_mag_arr10=np.zeros(len(hz))\n",
    "avg_square_mag_arr10=np.zeros(len(hz))\n",
    "for i in range(len(hz)):\n",
    "    H_ferro= Ham_int_ferro(L,hz[i])\n",
    "    E_ferro,V_ferro= H_ferro.eigh()\n",
    "    V_gs=V_ferro[:,0]\n",
    "    avg_mag_arr10[i]=np.real(avg_mag(V_gs,L))/L\n",
    "    avg_square_mag_arr10[i]=np.real(avg_square_mag(V_gs,L))/L**2"
   ]
  },
  {
   "cell_type": "code",
   "execution_count": 60,
   "metadata": {
    "collapsed": false
   },
   "outputs": [
    {
     "data": {
      "text/plain": [
       "<matplotlib.legend.Legend at 0x7f5523bb1710>"
      ]
     },
     "execution_count": 60,
     "metadata": {},
     "output_type": "execute_result"
    },
    {
     "data": {
      "image/png": "[encoded data removed]",
      "text/plain": [
       "<matplotlib.figure.Figure at 0x7f5523c2a150>"
      ]
     },
     "metadata": {},
     "output_type": "display_data"
    }
   ],
   "source": [
    "plt.plot(hz,avg_square_mag_arr, 'b.-', label=r\"$L=8$\")\n",
    "plt.plot(hz,avg_square_mag_arr10, 'r.-', label=r\"$L=10$\")\n",
    "\n",
    "#plt.plot(hz,avg_mag_arr, 'r', label=r\"$<m/L>$\")\n",
    "plt.xlabel(\"h_z\")\n",
    "plt.ylabel(r\"$<m^2>/L^2$\")\n",
    "plt.legend()"
   ]
  },
  {
   "cell_type": "code",
   "execution_count": 22,
   "metadata": {
    "collapsed": false
   },
   "outputs": [
    {
     "data": {
      "text/plain": [
       "<matplotlib.legend.Legend at 0x7f55288de250>"
      ]
     },
     "execution_count": 22,
     "metadata": {},
     "output_type": "execute_result"
    },
    {
     "data": {
      "image/png": "[encoded data removed]",
      "text/plain": [
       "<matplotlib.figure.Figure at 0x7f55287763d0>"
      ]
     },
     "metadata": {},
     "output_type": "display_data"
    }
   ],
   "source": [
    "plt.plot(hz,avg_mag_arr, 'b.-', label=\"L=8\")\n",
    "plt.plot(hz,avg_mag_arr10, 'r.-', label=\"L=10\")\n",
    "plt.xlabel(\"h_z\")\n",
    "plt.ylabel(r\"$<m/L>$\")\n",
    "plt.legend()"
   ]
  },
  {
   "cell_type": "markdown",
   "metadata": {},
   "source": [
    "For groundstate of ferromagnetic Hamiltonian,magnetization $<m>$ is zero for all h/J values, while $<m^2>$ is what captures phase transitions. For anti-ferromagnetic Hamiltonian, staggered magnetization should be measured. $<m_s>= \\sum_j (-1)^j \\sigma_j^z$ will be zero while $<m_s^2>= \\sum_{j,k}(-1)^{j+k} \\sigma_j^z \\sigma_k^z$ will capture phase transition. <br>\n",
    "Things to think about: why <m> is zero for groundstate of both ferromagnetic Hamiltonian and anti-ferromagnetic Hamiltonian? Is it related to Ising symmetry obeyed by these Hamiltonians?"
   ]
  },
  {
   "cell_type": "code",
   "execution_count": 29,
   "metadata": {
    "collapsed": false
   },
   "outputs": [],
   "source": [
    "def avg_staggered_mag(V,L):\n",
    "    basis = spin_basis_1d(L)  \n",
    "    hx=-1.0\n",
    "    hx_arr = [[hx**i,i] for i in range(L)] # OBC\n",
    "    static = [[\"x\",hx_arr]]\n",
    "    dynamic=[]\n",
    "    s_x=hamiltonian(static,dynamic,basis=basis,dtype=np.complex_,check_symm=False,check_herm=False)\n",
    "    return np.dot(V,np.dot(s_x.toarray(),np.conj(V)))\n",
    "\n",
    "def avg_square_staggered_mag(V,L):\n",
    "    basis = spin_basis_1d(L)  \n",
    "    hx=-1.0\n",
    "    hx_arr = [[hx**i,i] for i in range(L)] # OBC\n",
    "    static = [[\"x\",hx_arr]]\n",
    "    dynamic=[]\n",
    "    s_x=hamiltonian(static,dynamic,basis=basis,dtype=np.complex_,check_symm=False,check_herm=False)\n",
    "    s_x_sq=s_x**2\n",
    "    return np.dot(V,np.dot(s_x_sq.toarray(),np.conj(V)))"
   ]
  },
  {
   "cell_type": "code",
   "execution_count": 65,
   "metadata": {
    "collapsed": false
   },
   "outputs": [],
   "source": [
    "L=8\n",
    "hz=np.linspace(0,5,20)\n",
    "avg_stag_mag_arr=np.zeros(len(hz))\n",
    "avg_stag_square_mag_arr=np.zeros(len(hz))\n",
    "for i in range(len(hz)):\n",
    "    H_antiferro=Ham_int_antiferro(L,hz[i])\n",
    "    E_antiferro,V_antiferro= H_antiferro.eigh()\n",
    "    V_gs=V_antiferro[:,0]\n",
    "    avg_stag_mag_arr[i]=np.real(avg_staggered_mag(V_gs,L))/L\n",
    "    avg_stag_square_mag_arr[i]=np.real(avg_square_staggered_mag(V_gs,L))/L**2"
   ]
  },
  {
   "cell_type": "code",
   "execution_count": 70,
   "metadata": {
    "collapsed": false
   },
   "outputs": [
    {
     "data": {
      "text/plain": [
       "<matplotlib.legend.Legend at 0x7f55235cef90>"
      ]
     },
     "execution_count": 70,
     "metadata": {},
     "output_type": "execute_result"
    },
    {
     "data": {
      "image/png": "[encoded data removed]",
      "text/plain": [
       "<matplotlib.figure.Figure at 0x7f55238350d0>"
      ]
     },
     "metadata": {},
     "output_type": "display_data"
    }
   ],
   "source": [
    "plt.plot(hz,avg_stag_square_mag_arr, 'b.-', label=r\"$stag$\")\n",
    "plt.plot(hz,avg_square_mag_arr, 'r+-', label=r\"$usual$\")\n",
    "plt.xlabel(\"$h_z$\")\n",
    "plt.title(\"Ground state of ferro and anti-ferro,L=8\")\n",
    "plt.ylabel(r\"Square magnetization\")\n",
    "plt.legend()"
   ]
  },
  {
   "cell_type": "code",
   "execution_count": 72,
   "metadata": {
    "collapsed": false
   },
   "outputs": [
    {
     "data": {
      "text/plain": [
       "<matplotlib.legend.Legend at 0x7f5523465c50>"
      ]
     },
     "execution_count": 72,
     "metadata": {},
     "output_type": "execute_result"
    },
    {
     "data": {
      "image/png": "[encoded data removed]",
      "text/plain": [
       "<matplotlib.figure.Figure at 0x7f55235ac690>"
      ]
     },
     "metadata": {},
     "output_type": "display_data"
    }
   ],
   "source": [
    "plt.plot(hz,avg_stag_mag_arr, 'b.-', label=r\"$stag$\")\n",
    "plt.plot(hz,avg_mag_arr, 'r+-', label=r\"$usual$\")\n",
    "plt.xlabel(\"$h_z$\")\n",
    "plt.title(\"Ground state of ferro and anti-ferro,L=8\")\n",
    "plt.ylabel(r\"magnetization\")\n",
    "plt.legend()"
   ]
  },
  {
   "cell_type": "code",
   "execution_count": 84,
   "metadata": {
    "collapsed": false
   },
   "outputs": [
    {
     "name": "stdout",
     "output_type": "stream",
     "text": [
      "0.99999999999999955591 1.00000000000000000000\n",
      "0.97261496821379544997 0.97261496821379544997\n",
      "0.87290455814372824861 0.87290455814372913679\n",
      "0.63482049378003191364 0.63482049378003180262\n",
      "0.40618397286121482592 0.40618397286121565859\n",
      "0.29924956960142889972 0.29924956960142917728\n",
      "0.24836934884444966665 0.24836934884444950011\n",
      "0.22001325168772437046 0.22001325168772428720\n",
      "0.20217322742400481439 0.20217322742400489766\n",
      "0.18996460145820054377 0.18996460145820082133\n",
      "0.18109603869933352249 0.18109603869933343923\n",
      "0.17436427894345629674 0.17436427894345629674\n",
      "0.16908028861657153907 0.16908028861657167785\n",
      "0.16482204735345612479 0.16482204735345606927\n",
      "0.16131692386507634485 0.16131692386507637260\n",
      "0.15838103864279595712 0.15838103864279595712\n",
      "0.15588589329718208210 0.15588589329718208210\n",
      "0.15373898652057993441 0.15373898652058007319\n",
      "0.15187203329441223421 0.15187203329441226196\n",
      "0.15023352478063581317 0.15023352478063581317\n"
     ]
    }
   ],
   "source": [
    "for i in range(len(avg_stag_square_mag_arr)):\n",
    "    print (str.format('{0:.20f}', avg_stag_square_mag_arr[i])), (str.format('{0:.20f}',avg_square_mag_arr[i]))"
   ]
  },
  {
   "cell_type": "code",
   "execution_count": 37,
   "metadata": {
    "collapsed": false
   },
   "outputs": [
    {
     "data": {
      "text/plain": [
       "array([False,  True, False, False, False, False, False, False, False,\n",
       "       False, False,  True, False, False, False,  True,  True, False,\n",
       "       False,  True], dtype=bool)"
      ]
     },
     "execution_count": 37,
     "metadata": {},
     "output_type": "execute_result"
    }
   ],
   "source": [
    "avg_stag_square_mag_arr==avg_square_mag_arr"
   ]
  },
  {
   "cell_type": "markdown",
   "metadata": {},
   "source": [
    "We see that staggered magnetization of ground state of anti-ferro Hamiltonian matches with that of magnetization of ground state of ferro Hamiltonian. What is the physical principle behind this?"
   ]
  },
  {
   "cell_type": "markdown",
   "metadata": {
    "collapsed": true
   },
   "source": [
    "### Fidelity of GS and HES of anti-ferro"
   ]
  },
  {
   "cell_type": "code",
   "execution_count": 1,
   "metadata": {
    "collapsed": true
   },
   "outputs": [],
   "source": [
    "def square(V1,V2):\n",
    "    return (np.dot(V1,np.conj(V2)))**2"
   ]
  },
  {
   "cell_type": "code",
   "execution_count": 25,
   "metadata": {
    "collapsed": false
   },
   "outputs": [
    {
     "name": "stdout",
     "output_type": "stream",
     "text": [
      "0.0 (0.98737485623+0j) 64.0 64.0\n",
      "0.263157894737 (0.783100872422+0j) 62.2473579657 62.2473579657\n",
      "0.526315789474 (0.355691078602-0j) 55.8658917212 55.8658917212\n",
      "0.789473684211 (0.066408332417-0j) 40.6285116019 40.6285116019\n",
      "1.05263157895 (0.00648036505275+0j) 25.9957742631 25.9957742631\n",
      "1.31578947368 (0.000842658712882+0j) 19.1519724545 19.1519724545\n",
      "1.57894736842 (0.000163075069012-0j) 15.895638326 15.895638326\n",
      "1.84210526316 (4.21104166771e-05+0j) 14.080848108 14.080848108\n",
      "2.10526315789 (1.33406924831e-05+0j) 12.9390865551 12.9390865551\n",
      "2.36842105263 (4.91268195596e-06-0j) 12.1577344933 12.1577344933\n",
      "2.63157894737 (2.02973823003e-06-0j) 11.5901464768 11.5901464768\n",
      "2.89473684211 (9.18377975259e-07-0j) 11.1593138524 11.1593138524\n",
      "3.15789473684 (4.47265799125e-07-0j) 10.8211384715 10.8211384715\n",
      "3.42105263158 (2.31496444776e-07-0j) 10.5486110306 10.5486110306\n",
      "3.68421052632 (1.26113804834e-07+0j) 10.3242831274 10.3242831274\n",
      "3.94736842105 (7.17729393236e-08+0j) 10.1363864731 10.1363864731\n",
      "4.21052631579 (4.24183315149e-08+0j) 9.97669717102 9.97669717102\n",
      "4.47368421053 (2.59092952376e-08-0j) 9.83929513732 9.83929513732\n",
      "4.73684210526 (1.62914220725e-08+0j) 9.71981013084 9.71981013084\n",
      "5.0 (1.05110751783e-08+0j) 9.61494558596 9.61494558596\n"
     ]
    }
   ],
   "source": [
    "L=8\n",
    "hz=np.linspace(0,5,20)\n",
    "avg_mag_arr10=np.zeros(len(hz))\n",
    "avg_square_mag_arr10=np.zeros(len(hz))\n",
    "inner_prod_arr=np.zeros(len(hz))\n",
    "for i in range(len(hz)):\n",
    "    H_ferro= Ham_int_ferro(L,hz[i])\n",
    "    E_ferro,V_ferro= H_ferro.eigh()\n",
    "    H_antiferro= Ham_int_antiferro(L,hz[i])\n",
    "    E_antiferro,V_antiferro= H_antiferro.eigh()\n",
    "    V1=V_ferro[:,0]\n",
    "    V2=V_antiferro[:,-1]\n",
    "    inner_prod_arr[i]=np.real(square(V1,V2))\n",
    "    print hz[i], square(V1,V2), np.real(avg_square_mag(V1,L)), np.real(avg_square_mag(V2,L))"
   ]
  },
  {
   "cell_type": "code",
   "execution_count": 55,
   "metadata": {
    "collapsed": false
   },
   "outputs": [
    {
     "data": {
      "text/plain": [
       "<matplotlib.text.Text at 0x7ffbab043b10>"
      ]
     },
     "execution_count": 55,
     "metadata": {},
     "output_type": "execute_result"
    },
    {
     "data": {
      "image/png": "[encoded data removed]",
      "text/plain": [
       "<matplotlib.figure.Figure at 0x7ffbaaf6a550>"
      ]
     },
     "metadata": {},
     "output_type": "display_data"
    }
   ],
   "source": [
    "plt.plot(hz,inner_prod_arr, 'b.-')\n",
    "plt.ylabel(r\"$<\\psi_{GS}^F|\\psi_{HS}^{AF} >$\",fontsize=12)\n",
    "plt.xlabel(r\"$h/J$\",fontsize=12)"
   ]
  },
  {
   "cell_type": "code",
   "execution_count": 46,
   "metadata": {
    "collapsed": false
   },
   "outputs": [
    {
     "name": "stdout",
     "output_type": "stream",
     "text": [
      "0.263157894737 (0.783100872422+0j) 0.238990771686 0.238990771686\n",
      "0.526315789474 (0.355691078602-0j) 0.95142474497 0.95142474497\n",
      "0.789473684211 (0.066408332417+0j) 2.21186037091 2.21186037091\n",
      "1.05263157895 (0.00648036505275-0j) 3.41853912566 3.41853912566\n",
      "1.31578947368 (0.000842658712882+0j) 4.1857149546 4.1857149546\n",
      "1.57894736842 (0.000163075069012-0j) 4.70526535924 4.70526535924\n",
      "1.84210526316 (4.21104166771e-05+0j) 5.08900175086 5.08900175086\n",
      "2.10526315789 (1.33406924831e-05+0j) 5.38772681569 5.38772681569\n",
      "2.36842105263 (4.91268195596e-06+0j) 5.62838655681 5.62838655681\n",
      "2.63157894737 (2.02973823003e-06+0j) 5.82709719544 5.82709719544\n",
      "2.89473684211 (9.18377975259e-07+0j) 5.99429082125 5.99429082125\n",
      "3.15789473684 (4.47265799125e-07-0j) 6.13710055293 6.13710055293\n",
      "3.42105263158 (2.31496444776e-07+0j) 6.26060518601 6.26060518601\n",
      "3.68421052632 (1.26113804834e-07-0j) 6.36853621847 6.36853621847\n",
      "3.94736842105 (7.17729393236e-08-0j) 6.46370552471 6.46370552471\n",
      "4.21052631579 (4.24183315149e-08+0j) 6.54827688256 6.54827688256\n",
      "4.47368421053 (2.59092952376e-08+0j) 6.62394514891 6.62394514891\n",
      "4.73684210526 (1.62914220725e-08-0j) 6.69205829817 6.69205829817\n",
      "5.0 (1.05110751783e-08+0j) 6.75370278133 6.75370278133\n"
     ]
    }
   ],
   "source": [
    "L=8\n",
    "hz=np.linspace(0,5,20)\n",
    "avg_mag_arr10=np.zeros(len(hz))\n",
    "avg_square_mag_arr10=np.zeros(len(hz))\n",
    "inner_prod_arr_ulta=np.zeros(len(hz))\n",
    "for i in range(1,len(hz)):\n",
    "    H_ferro= Ham_int_ferro(L,hz[i])\n",
    "    E_ferro,V_ferro= H_ferro.eigh()\n",
    "    H_antiferro= Ham_int_antiferro(L,hz[i])\n",
    "    E_antiferro,V_antiferro= H_antiferro.eigh()\n",
    "    V1=V_ferro[:,-1]\n",
    "    V2=V_antiferro[:,0]\n",
    "    inner_prod_arr_ulta[i]=np.real(square(V1,V2))\n",
    "    print hz[i], square(V1,V2), np.real(avg_square_mag(V1,L)), np.real(avg_square_mag(V2,L))"
   ]
  },
  {
   "cell_type": "code",
   "execution_count": 54,
   "metadata": {
    "collapsed": false
   },
   "outputs": [
    {
     "data": {
      "text/plain": [
       "<matplotlib.text.Text at 0x7ffbab178110>"
      ]
     },
     "execution_count": 54,
     "metadata": {},
     "output_type": "execute_result"
    },
    {
     "data": {
      "image/png": "[encoded data removed]",
      "text/plain": [
       "<matplotlib.figure.Figure at 0x7ffbaafd9050>"
      ]
     },
     "metadata": {},
     "output_type": "display_data"
    }
   ],
   "source": [
    "plt.plot(hz[1:-1],inner_prod_arr_ulta[1:-1], 'b.-')\n",
    "plt.ylabel(r\"$<\\psi_{HS}^F|\\psi_{GS}^{AF} >$\",fontsize=12)\n",
    "plt.xlabel(r\"$h/J$\",fontsize=12)"
   ]
  }
 ],
 "metadata": {
  "kernelspec": {
   "display_name": "Python 2",
   "language": "python",
   "name": "python2"
  },
  "language_info": {
   "codemirror_mode": {
    "name": "ipython",
    "version": 2
   },
   "file_extension": ".py",
   "mimetype": "text/x-python",
   "name": "python",
   "nbconvert_exporter": "python",
   "pygments_lexer": "ipython2",
   "version": "2.7.13"
  }
 },
 "nbformat": 4,
 "nbformat_minor": 0
}

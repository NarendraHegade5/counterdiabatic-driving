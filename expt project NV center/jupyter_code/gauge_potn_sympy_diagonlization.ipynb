{
 "cells": [
  {
   "cell_type": "code",
   "execution_count": 1,
   "metadata": {
    "collapsed": true
   },
   "outputs": [],
   "source": [
    "import numpy as np\n",
    "import  sympy as sp\n",
    "from sympy import Matrix\n",
    "import matplotlib.pyplot as plt\n",
    "%matplotlib inline\n",
    "sp.init_printing(use_unicode=True)#printing option pf sympy"
   ]
  },
  {
   "cell_type": "markdown",
   "metadata": {},
   "source": [
    "### Sanity check\n",
    "I am going to find gauge potential of Landau-Zener model: $H = \\Delta \\sigma_z + \\lambda \\sigma_x$."
   ]
  },
  {
   "cell_type": "code",
   "execution_count": 4,
   "metadata": {
    "collapsed": true
   },
   "outputs": [],
   "source": [
    "Delta,lambda_var = sp.symbols('Delta lambda', real=True)"
   ]
  },
  {
   "cell_type": "code",
   "execution_count": 5,
   "metadata": {
    "collapsed": false
   },
   "outputs": [],
   "source": [
    "sigma_x=Matrix([[0, 1], [1, 0]])\n",
    "sigma_z=Matrix([[1, 0], [0, -1]])\n",
    "sigma_y=Matrix([[0, 1j], [-1j, 0]])"
   ]
  },
  {
   "cell_type": "code",
   "execution_count": 6,
   "metadata": {
    "collapsed": false
   },
   "outputs": [
    {
     "data": {
      "text/latex": [
       "$$\\left[\\begin{matrix}\\Delta & \\lambda\\\\\\lambda & - \\Delta\\end{matrix}\\right]$$"
      ],
      "text/plain": [
       "⎡Δ  λ ⎤\n",
       "⎢     ⎥\n",
       "⎣λ  -Δ⎦"
      ]
     },
     "execution_count": 6,
     "metadata": {},
     "output_type": "execute_result"
    }
   ],
   "source": [
    "H= Delta*sigma_z+ lambda_var*sigma_x\n",
    "H"
   ]
  },
  {
   "cell_type": "code",
   "execution_count": 7,
   "metadata": {
    "collapsed": false
   },
   "outputs": [],
   "source": [
    "P,D= H.diagonalize()"
   ]
  },
  {
   "cell_type": "code",
   "execution_count": 8,
   "metadata": {
    "collapsed": false
   },
   "outputs": [
    {
     "data": {
      "text/latex": [
       "$$\\left ( \\left[\\begin{matrix}- \\frac{\\lambda}{\\Delta + \\sqrt{\\Delta^{2} + \\lambda^{2}}} & - \\frac{\\lambda}{\\Delta - \\sqrt{\\Delta^{2} + \\lambda^{2}}}\\\\1 & 1\\end{matrix}\\right], \\quad \\left[\\begin{matrix}- \\sqrt{\\Delta^{2} + \\lambda^{2}} & 0\\\\0 & \\sqrt{\\Delta^{2} + \\lambda^{2}}\\end{matrix}\\right]\\right )$$"
      ],
      "text/plain": [
       "⎛                                      ⎡    _________              ⎤⎞\n",
       "⎜⎡      -λ                -λ        ⎤  ⎢   ╱  2    2               ⎥⎟\n",
       "⎜⎢────────────────  ────────────────⎥, ⎢-╲╱  Δ  + λ         0      ⎥⎟\n",
       "⎜⎢       _________         _________⎥  ⎢                           ⎥⎟\n",
       "⎜⎢      ╱  2    2         ╱  2    2 ⎥  ⎢                  _________⎥⎟\n",
       "⎜⎢Δ + ╲╱  Δ  + λ    Δ - ╲╱  Δ  + λ  ⎥  ⎢                 ╱  2    2 ⎥⎟\n",
       "⎜⎢                                  ⎥  ⎣      0        ╲╱  Δ  + λ  ⎦⎟\n",
       "⎝⎣       1                 1        ⎦                               ⎠"
      ]
     },
     "execution_count": 8,
     "metadata": {},
     "output_type": "execute_result"
    }
   ],
   "source": [
    "P, D"
   ]
  },
  {
   "cell_type": "code",
   "execution_count": 9,
   "metadata": {
    "collapsed": false
   },
   "outputs": [],
   "source": [
    "P_normalized=sp.eye(2)\n",
    "P_normalized[0:2,0]=Matrix.normalized(P[0:2,0])\n",
    "P_normalized[0:2,1]=Matrix.normalized(P[0:2,1])"
   ]
  },
  {
   "cell_type": "code",
   "execution_count": 11,
   "metadata": {
    "collapsed": false
   },
   "outputs": [
    {
     "data": {
      "text/latex": [
       "$$\\left ( \\left[\\begin{matrix}- \\frac{\\lambda}{\\left(\\Delta + \\sqrt{\\Delta^{2} + \\lambda^{2}}\\right) \\sqrt{\\frac{\\lambda^{2}}{\\left(\\Delta + \\sqrt{\\Delta^{2} + \\lambda^{2}}\\right)^{2}} + 1}}\\\\\\frac{1}{\\sqrt{\\frac{\\lambda^{2}}{\\left(\\Delta + \\sqrt{\\Delta^{2} + \\lambda^{2}}\\right)^{2}} + 1}}\\end{matrix}\\right], \\quad \\left[\\begin{matrix}- \\frac{\\lambda}{\\Delta + \\sqrt{\\Delta^{2} + \\lambda^{2}}} & - \\frac{\\lambda}{\\Delta - \\sqrt{\\Delta^{2} + \\lambda^{2}}}\\\\1 & 1\\end{matrix}\\right]\\right )$$"
      ],
      "text/plain": [
       "⎛⎡                        -λ                          ⎤  ⎡      -λ            \n",
       "⎜⎢────────────────────────────────────────────────────⎥, ⎢────────────────  ──\n",
       "⎜⎢                           _________________________⎥  ⎢       _________    \n",
       "⎜⎢⎛       _________⎞        ╱           2             ⎥  ⎢      ╱  2    2     \n",
       "⎜⎢⎜      ╱  2    2 ⎟       ╱           λ              ⎥  ⎢Δ + ╲╱  Δ  + λ    Δ \n",
       "⎜⎢⎝Δ + ╲╱  Δ  + λ  ⎠⋅     ╱   ─────────────────── + 1 ⎥  ⎢                    \n",
       "⎜⎢                       ╱                      2     ⎥  ⎣       1            \n",
       "⎜⎢                      ╱     ⎛       _________⎞      ⎥                       \n",
       "⎜⎢                     ╱      ⎜      ╱  2    2 ⎟      ⎥                       \n",
       "⎜⎢                   ╲╱       ⎝Δ + ╲╱  Δ  + λ  ⎠      ⎥                       \n",
       "⎜⎢                                                    ⎥                       \n",
       "⎜⎢                         1                          ⎥                       \n",
       "⎜⎢         ─────────────────────────────────          ⎥                       \n",
       "⎜⎢                 _________________________          ⎥                       \n",
       "⎜⎢                ╱           2                       ⎥                       \n",
       "⎜⎢               ╱           λ                        ⎥                       \n",
       "⎜⎢              ╱   ─────────────────── + 1           ⎥                       \n",
       "⎜⎢             ╱                      2               ⎥                       \n",
       "⎜⎢            ╱     ⎛       _________⎞                ⎥                       \n",
       "⎜⎢           ╱      ⎜      ╱  2    2 ⎟                ⎥                       \n",
       "⎝⎣         ╲╱       ⎝Δ + ╲╱  Δ  + λ  ⎠                ⎦                       \n",
       "\n",
       "    -λ        ⎤⎞\n",
       "──────────────⎥⎟\n",
       "     _________⎥⎟\n",
       "    ╱  2    2 ⎥⎟\n",
       "- ╲╱  Δ  + λ  ⎥⎟\n",
       "              ⎥⎟\n",
       "     1        ⎦⎟\n",
       "               ⎟\n",
       "               ⎟\n",
       "               ⎟\n",
       "               ⎟\n",
       "               ⎟\n",
       "               ⎟\n",
       "               ⎟\n",
       "               ⎟\n",
       "               ⎟\n",
       "               ⎟\n",
       "               ⎟\n",
       "               ⎟\n",
       "               ⎟\n",
       "               ⎠"
      ]
     },
     "execution_count": 11,
     "metadata": {},
     "output_type": "execute_result"
    }
   ],
   "source": [
    "P_normalized[0:2,0], P"
   ]
  },
  {
   "cell_type": "code",
   "execution_count": null,
   "metadata": {
    "collapsed": false
   },
   "outputs": [],
   "source": []
  },
  {
   "cell_type": "code",
   "execution_count": 12,
   "metadata": {
    "collapsed": false
   },
   "outputs": [
    {
     "data": {
      "text/latex": [
       "$$\\left[\\begin{matrix}0 & 1\\\\1 & 0\\end{matrix}\\right]$$"
      ],
      "text/plain": [
       "⎡0  1⎤\n",
       "⎢    ⎥\n",
       "⎣1  0⎦"
      ]
     },
     "execution_count": 12,
     "metadata": {},
     "output_type": "execute_result"
    }
   ],
   "source": [
    "partial_lambda_H= sigma_x\n",
    "partial_lambda_H"
   ]
  },
  {
   "cell_type": "code",
   "execution_count": 17,
   "metadata": {
    "collapsed": false
   },
   "outputs": [
    {
     "data": {
      "text/latex": [
       "$$\\left[\\begin{matrix}- \\frac{2 \\lambda}{\\left(\\Delta + \\sqrt{\\Delta^{2} + \\lambda^{2}}\\right) \\left(\\frac{\\lambda^{2}}{\\left(\\Delta + \\sqrt{\\Delta^{2} + \\lambda^{2}}\\right)^{2}} + 1\\right)} & - \\frac{\\lambda}{\\left(\\Delta + \\sqrt{\\Delta^{2} + \\lambda^{2}}\\right) \\sqrt{\\frac{\\lambda^{2}}{\\left(\\Delta - \\sqrt{\\Delta^{2} + \\lambda^{2}}\\right)^{2}} + 1} \\sqrt{\\frac{\\lambda^{2}}{\\left(\\Delta + \\sqrt{\\Delta^{2} + \\lambda^{2}}\\right)^{2}} + 1}} - \\frac{\\lambda}{\\left(\\Delta - \\sqrt{\\Delta^{2} + \\lambda^{2}}\\right) \\sqrt{\\frac{\\lambda^{2}}{\\left(\\Delta - \\sqrt{\\Delta^{2} + \\lambda^{2}}\\right)^{2}} + 1} \\sqrt{\\frac{\\lambda^{2}}{\\left(\\Delta + \\sqrt{\\Delta^{2} + \\lambda^{2}}\\right)^{2}} + 1}}\\\\- \\frac{\\lambda}{\\left(\\Delta + \\sqrt{\\Delta^{2} + \\lambda^{2}}\\right) \\sqrt{\\frac{\\lambda^{2}}{\\left(\\Delta - \\sqrt{\\Delta^{2} + \\lambda^{2}}\\right)^{2}} + 1} \\sqrt{\\frac{\\lambda^{2}}{\\left(\\Delta + \\sqrt{\\Delta^{2} + \\lambda^{2}}\\right)^{2}} + 1}} - \\frac{\\lambda}{\\left(\\Delta - \\sqrt{\\Delta^{2} + \\lambda^{2}}\\right) \\sqrt{\\frac{\\lambda^{2}}{\\left(\\Delta - \\sqrt{\\Delta^{2} + \\lambda^{2}}\\right)^{2}} + 1} \\sqrt{\\frac{\\lambda^{2}}{\\left(\\Delta + \\sqrt{\\Delta^{2} + \\lambda^{2}}\\right)^{2}} + 1}} & - \\frac{2 \\lambda}{\\left(\\Delta - \\sqrt{\\Delta^{2} + \\lambda^{2}}\\right) \\left(\\frac{\\lambda^{2}}{\\left(\\Delta - \\sqrt{\\Delta^{2} + \\lambda^{2}}\\right)^{2}} + 1\\right)}\\end{matrix}\\right]$$"
      ],
      "text/plain": [
       "⎡                                                                             \n",
       "⎢                                                                  ───────────\n",
       "⎢                                                                  ⎛       ___\n",
       "⎢                                                                  ⎜      ╱  2\n",
       "⎢                                                                  ⎝Δ + ╲╱  Δ \n",
       "⎢                                                                             \n",
       "⎢                                                                             \n",
       "⎢                                                                             \n",
       "⎢                                                                             \n",
       "⎢                                                                             \n",
       "⎢                                                                             \n",
       "⎢                                            λ                                \n",
       "⎢- ───────────────────────────────────────────────────────────────────────────\n",
       "⎢                             _________________________         ______________\n",
       "⎢  ⎛       _________⎞        ╱           2                     ╱           2  \n",
       "⎢  ⎜      ╱  2    2 ⎟       ╱           λ                     ╱           λ   \n",
       "⎢  ⎝Δ + ╲╱  Δ  + λ  ⎠⋅     ╱   ─────────────────── + 1 ⋅     ╱   ─────────────\n",
       "⎢                         ╱                      2          ╱                 \n",
       "⎢                        ╱     ⎛       _________⎞          ╱     ⎛       _____\n",
       "⎢                       ╱      ⎜      ╱  2    2 ⎟         ╱      ⎜      ╱  2  \n",
       "⎣                     ╲╱       ⎝Δ - ╲╱  Δ  + λ  ⎠       ╲╱       ⎝Δ + ╲╱  Δ  +\n",
       "\n",
       "        -2⋅λ                                                                  \n",
       "─────────────────────────────────                                             \n",
       "______⎞ ⎛          2            ⎞                                             \n",
       "    2 ⎟ ⎜         λ             ⎟                                             \n",
       " + λ  ⎠⋅⎜─────────────────── + 1⎟                                             \n",
       "        ⎜                  2    ⎟                                             \n",
       "        ⎜⎛       _________⎞     ⎟                                             \n",
       "        ⎜⎜      ╱  2    2 ⎟     ⎟                                             \n",
       "        ⎝⎝Δ + ╲╱  Δ  + λ  ⎠     ⎠                                             \n",
       "                                                                              \n",
       "                                                                              \n",
       "                                                        λ                     \n",
       "─────────── - ────────────────────────────────────────────────────────────────\n",
       "___________                              _________________________         ___\n",
       "              ⎛       _________⎞        ╱           2                     ╱   \n",
       "              ⎜      ╱  2    2 ⎟       ╱           λ                     ╱    \n",
       "────── + 1    ⎝Δ - ╲╱  Δ  + λ  ⎠⋅     ╱   ─────────────────── + 1 ⋅     ╱   ──\n",
       "     2                               ╱                      2          ╱      \n",
       "____⎞                               ╱     ⎛       _________⎞          ╱     ⎛ \n",
       "  2 ⎟                              ╱      ⎜      ╱  2    2 ⎟         ╱      ⎜ \n",
       " λ  ⎠                            ╲╱       ⎝Δ - ╲╱  Δ  + λ  ⎠       ╲╱       ⎝Δ\n",
       "\n",
       "                                                                    λ         \n",
       "                        - ────────────────────────────────────────────────────\n",
       "                                                     _________________________\n",
       "                          ⎛       _________⎞        ╱           2             \n",
       "                          ⎜      ╱  2    2 ⎟       ╱           λ              \n",
       "                          ⎝Δ + ╲╱  Δ  + λ  ⎠⋅     ╱   ─────────────────── + 1 \n",
       "                                                 ╱                      2     \n",
       "                                                ╱     ⎛       _________⎞      \n",
       "                                               ╱      ⎜      ╱  2    2 ⎟      \n",
       "                                             ╲╱       ⎝Δ - ╲╱  Δ  + λ  ⎠      \n",
       "                                                                              \n",
       "                                                                              \n",
       "──────────────────────                                                        \n",
       "______________________                                                        \n",
       "        2                                                                     \n",
       "       λ                                                                      \n",
       "───────────────── + 1                                                         \n",
       "                2                                                             \n",
       "      _________⎞                                                              \n",
       "     ╱  2    2 ⎟                                                              \n",
       " + ╲╱  Δ  + λ  ⎠                                                              \n",
       "\n",
       "                                                                              \n",
       "────────────────────────────────── - ─────────────────────────────────────────\n",
       "         _________________________                              ______________\n",
       "        ╱           2                ⎛       _________⎞        ╱           2  \n",
       "       ╱           λ                 ⎜      ╱  2    2 ⎟       ╱           λ   \n",
       "⋅     ╱   ─────────────────── + 1    ⎝Δ - ╲╱  Δ  + λ  ⎠⋅     ╱   ─────────────\n",
       "     ╱                      2                               ╱                 \n",
       "    ╱     ⎛       _________⎞                               ╱     ⎛       _____\n",
       "   ╱      ⎜      ╱  2    2 ⎟                              ╱      ⎜      ╱  2  \n",
       " ╲╱       ⎝Δ + ╲╱  Δ  + λ  ⎠                            ╲╱       ⎝Δ - ╲╱  Δ  +\n",
       "                                                                              \n",
       "                               -2⋅λ                                           \n",
       "            ────────────────────────────────────────────                      \n",
       "            ⎛       _________⎞ ⎛          2            ⎞                      \n",
       "            ⎜      ╱  2    2 ⎟ ⎜         λ             ⎟                      \n",
       "            ⎝Δ - ╲╱  Δ  + λ  ⎠⋅⎜─────────────────── + 1⎟                      \n",
       "                               ⎜                  2    ⎟                      \n",
       "                               ⎜⎛       _________⎞     ⎟                      \n",
       "                               ⎜⎜      ╱  2    2 ⎟     ⎟                      \n",
       "                               ⎝⎝Δ - ╲╱  Δ  + λ  ⎠     ⎠                      \n",
       "                                                                              \n",
       "\n",
       " λ                                           ⎤\n",
       "─────────────────────────────────────────────⎥\n",
       "___________         _________________________⎥\n",
       "                   ╱           2             ⎥\n",
       "                  ╱           λ              ⎥\n",
       "────── + 1 ⋅     ╱   ─────────────────── + 1 ⎥\n",
       "     2          ╱                      2     ⎥\n",
       "____⎞          ╱     ⎛       _________⎞      ⎥\n",
       "  2 ⎟         ╱      ⎜      ╱  2    2 ⎟      ⎥\n",
       " λ  ⎠       ╲╱       ⎝Δ + ╲╱  Δ  + λ  ⎠      ⎥\n",
       "                                             ⎥\n",
       "                                             ⎥\n",
       "                                             ⎥\n",
       "                                             ⎥\n",
       "                                             ⎥\n",
       "                                             ⎥\n",
       "                                             ⎥\n",
       "                                             ⎥\n",
       "                                             ⎥\n",
       "                                             ⎥\n",
       "                                             ⎦"
      ]
     },
     "execution_count": 17,
     "metadata": {},
     "output_type": "execute_result"
    }
   ],
   "source": [
    "num_lamb=P_normalized.T*(partial_lambda_H *P_normalized)\n",
    "num_lamb"
   ]
  },
  {
   "cell_type": "code",
   "execution_count": 14,
   "metadata": {
    "collapsed": false
   },
   "outputs": [],
   "source": [
    "ev= Matrix([[D[0]], [D[-1]]])"
   ]
  },
  {
   "cell_type": "code",
   "execution_count": 15,
   "metadata": {
    "collapsed": false
   },
   "outputs": [
    {
     "data": {
      "text/latex": [
       "$$\\left[\\begin{matrix}0 & - 2 \\sqrt{\\Delta^{2} + \\lambda^{2}}\\\\2 \\sqrt{\\Delta^{2} + \\lambda^{2}} & 0\\end{matrix}\\right]$$"
      ],
      "text/plain": [
       "⎡                      _________⎤\n",
       "⎢                     ╱  2    2 ⎥\n",
       "⎢      0         -2⋅╲╱  Δ  + λ  ⎥\n",
       "⎢                               ⎥\n",
       "⎢     _________                 ⎥\n",
       "⎢    ╱  2    2                  ⎥\n",
       "⎣2⋅╲╱  Δ  + λ           0       ⎦"
      ]
     },
     "execution_count": 15,
     "metadata": {},
     "output_type": "execute_result"
    }
   ],
   "source": [
    "ev* sp.ones(1,2), sp.ones(2,1)*ev.T\n",
    "wij=ev* sp.ones(1,2)- sp.ones(2,1)*ev.T\n",
    "wij"
   ]
  },
  {
   "cell_type": "code",
   "execution_count": 16,
   "metadata": {
    "collapsed": false
   },
   "outputs": [
    {
     "data": {
      "image/png": "[encoded data removed]",
      "text/latex": [
       "$$\\left ( - \\frac{\\Delta \\left|{\\Delta - \\sqrt{\\Delta^{2} + \\lambda^{2}}}\\right| \\left|{\\Delta + \\sqrt{\\Delta^{2} + \\lambda^{2}}}\\right|}{2 \\lambda \\sqrt{\\Delta^{2} + \\lambda^{2}} \\sqrt{\\Delta^{2} - \\Delta \\sqrt{\\Delta^{2} + \\lambda^{2}} + \\lambda^{2}} \\sqrt{\\Delta^{2} + \\Delta \\sqrt{\\Delta^{2} + \\lambda^{2}} + \\lambda^{2}}}, \\quad \\frac{\\Delta \\left|{\\Delta - \\sqrt{\\Delta^{2} + \\lambda^{2}}}\\right| \\left|{\\Delta + \\sqrt{\\Delta^{2} + \\lambda^{2}}}\\right|}{2 \\lambda \\sqrt{\\Delta^{2} + \\lambda^{2}} \\sqrt{\\Delta^{2} - \\Delta \\sqrt{\\Delta^{2} + \\lambda^{2}} + \\lambda^{2}} \\sqrt{\\Delta^{2} + \\Delta \\sqrt{\\Delta^{2} + \\lambda^{2}} + \\lambda^{2}}}\\right )$$"
      ],
      "text/plain": [
       "⎛                     │       _________│ │       _________│                   \n",
       "⎜                     │      ╱  2    2 │ │      ╱  2    2 │                   \n",
       "⎜                  -Δ⋅│Δ - ╲╱  Δ  + λ  │⋅│Δ + ╲╱  Δ  + λ  │                   \n",
       "⎜─────────────────────────────────────────────────────────────────────────────\n",
       "⎜                     __________________________     _________________________\n",
       "⎜       _________    ╱           _________          ╱           _________     \n",
       "⎜      ╱  2    2    ╱   2       ╱  2    2     2    ╱   2       ╱  2    2     2\n",
       "⎝2⋅λ⋅╲╱  Δ  + λ  ⋅╲╱   Δ  - Δ⋅╲╱  Δ  + λ   + λ  ⋅╲╱   Δ  + Δ⋅╲╱  Δ  + λ   + λ \n",
       "\n",
       "                        │       _________│ │       _________│                 \n",
       "                        │      ╱  2    2 │ │      ╱  2    2 │                 \n",
       "                      Δ⋅│Δ - ╲╱  Δ  + λ  │⋅│Δ + ╲╱  Δ  + λ  │                 \n",
       "─, ───────────────────────────────────────────────────────────────────────────\n",
       "_                       __________________________     _______________________\n",
       "          _________    ╱           _________          ╱           _________   \n",
       "         ╱  2    2    ╱   2       ╱  2    2     2    ╱   2       ╱  2    2    \n",
       "   2⋅λ⋅╲╱  Δ  + λ  ⋅╲╱   Δ  - Δ⋅╲╱  Δ  + λ   + λ  ⋅╲╱   Δ  + Δ⋅╲╱  Δ  + λ   + \n",
       "\n",
       "   ⎞\n",
       "   ⎟\n",
       "   ⎟\n",
       "───⎟\n",
       "___⎟\n",
       "   ⎟\n",
       " 2 ⎟\n",
       "λ  ⎠"
      ]
     },
     "execution_count": 16,
     "metadata": {},
     "output_type": "execute_result"
    }
   ],
   "source": [
    "num_lamb[0,0]=0\n",
    "num_lamb[1,1]=0\n",
    "sp.simplify(num_lamb[0,1]/wij[0,1]), sp.simplify(num_lamb[1,0]/wij[1,0])"
   ]
  },
  {
   "cell_type": "markdown",
   "metadata": {},
   "source": [
    "### Spin 1 Hamiltonian"
   ]
  },
  {
   "cell_type": "code",
   "execution_count": 2,
   "metadata": {
    "collapsed": false
   },
   "outputs": [],
   "source": [
    "alpha,beta = sp.symbols('alpha beta', real=True)\n",
    "hbar = sp.symbols('hbar', positive=True)\n",
    "H= Matrix([[beta, alpha,0], [alpha,0,alpha], [0, alpha, beta]])"
   ]
  },
  {
   "cell_type": "code",
   "execution_count": 70,
   "metadata": {
    "collapsed": false
   },
   "outputs": [
    {
     "data": {
      "text/latex": [
       "$$\\left ( \\left[\\begin{matrix}\\beta & \\alpha & 0\\\\\\alpha & 0 & \\alpha\\\\0 & \\alpha & \\beta\\end{matrix}\\right], \\quad \\hbar\\right )$$"
      ],
      "text/plain": [
       "⎛⎡β  α  0⎤, h̅⎞\n",
       "⎜⎢       ⎥    ⎟\n",
       "⎜⎢α  0  α⎥    ⎟\n",
       "⎜⎢       ⎥    ⎟\n",
       "⎝⎣0  α  β⎦    ⎠"
      ]
     },
     "execution_count": 70,
     "metadata": {},
     "output_type": "execute_result"
    }
   ],
   "source": [
    "H, hbar"
   ]
  },
  {
   "cell_type": "code",
   "execution_count": 71,
   "metadata": {
    "collapsed": true
   },
   "outputs": [],
   "source": [
    "P_spin1,D_spin1= H.diagonalize()"
   ]
  },
  {
   "cell_type": "code",
   "execution_count": 72,
   "metadata": {
    "collapsed": false
   },
   "outputs": [
    {
     "data": {
      "text/latex": [
       "$$\\left ( \\left[\\begin{matrix}-1 & \\frac{\\beta + \\sqrt{8 \\alpha^{2} + \\beta^{2}}}{\\frac{\\beta}{2} + \\frac{1}{2} \\sqrt{8 \\alpha^{2} + \\beta^{2}}} & \\frac{\\beta - \\sqrt{8 \\alpha^{2} + \\beta^{2}}}{\\frac{\\beta}{2} - \\frac{1}{2} \\sqrt{8 \\alpha^{2} + \\beta^{2}}}\\\\0 & - \\frac{1}{\\alpha} \\left(\\beta + \\sqrt{8 \\alpha^{2} + \\beta^{2}}\\right) & - \\frac{1}{\\alpha} \\left(\\beta - \\sqrt{8 \\alpha^{2} + \\beta^{2}}\\right)\\\\1 & 2 & 2\\end{matrix}\\right], \\quad \\left[\\begin{matrix}\\beta & 0 & 0\\\\0 & \\frac{\\beta}{2} - \\frac{1}{2} \\sqrt{8 \\alpha^{2} + \\beta^{2}} & 0\\\\0 & 0 & \\frac{\\beta}{2} + \\frac{1}{2} \\sqrt{8 \\alpha^{2} + \\beta^{2}}\\end{matrix}\\right]\\right )$$"
      ],
      "text/plain": [
       "⎛⎡             ___________             ___________  ⎤                         \n",
       "⎜⎢            ╱    2    2             ╱    2    2   ⎥                         \n",
       "⎜⎢      β + ╲╱  8⋅α  + β        β - ╲╱  8⋅α  + β    ⎥                         \n",
       "⎜⎢-1    ──────────────────      ──────────────────  ⎥, ⎡β          0          \n",
       "⎜⎢             ___________             ___________  ⎥  ⎢                      \n",
       "⎜⎢            ╱    2    2             ╱    2    2   ⎥  ⎢          ___________ \n",
       "⎜⎢      β   ╲╱  8⋅α  + β        β   ╲╱  8⋅α  + β    ⎥  ⎢         ╱    2    2  \n",
       "⎜⎢      ─ + ──────────────      ─ - ──────────────  ⎥  ⎢   β   ╲╱  8⋅α  + β   \n",
       "⎜⎢      2         2             2         2         ⎥  ⎢0  ─ - ────────────── \n",
       "⎜⎢                                                  ⎥  ⎢   2         2        \n",
       "⎜⎢     ⎛       ___________⎞    ⎛       ___________⎞ ⎥  ⎢                      \n",
       "⎜⎢     ⎜      ╱    2    2 ⎟    ⎜      ╱    2    2 ⎟ ⎥  ⎢                      \n",
       "⎜⎢    -⎝β + ╲╱  8⋅α  + β  ⎠   -⎝β - ╲╱  8⋅α  + β  ⎠ ⎥  ⎢                      \n",
       "⎜⎢0   ──────────────────────  ──────────────────────⎥  ⎢                      \n",
       "⎜⎢              α                       α           ⎥  ⎢0          0          \n",
       "⎜⎢                                                  ⎥  ⎣                      \n",
       "⎝⎣1             2                       2           ⎦                         \n",
       "\n",
       "                    ⎞\n",
       "                    ⎟\n",
       "                    ⎟\n",
       "         0         ⎤⎟\n",
       "                   ⎥⎟\n",
       "                   ⎥⎟\n",
       "                   ⎥⎟\n",
       "                   ⎥⎟\n",
       "         0         ⎥⎟\n",
       "                   ⎥⎟\n",
       "                   ⎥⎟\n",
       "        ___________⎥⎟\n",
       "       ╱    2    2 ⎥⎟\n",
       " β   ╲╱  8⋅α  + β  ⎥⎟\n",
       " ─ + ──────────────⎥⎟\n",
       " 2         2       ⎦⎟\n",
       "                    ⎠"
      ]
     },
     "execution_count": 72,
     "metadata": {},
     "output_type": "execute_result"
    }
   ],
   "source": [
    "P_spin1, D_spin1"
   ]
  },
  {
   "cell_type": "code",
   "execution_count": 73,
   "metadata": {
    "collapsed": false
   },
   "outputs": [],
   "source": [
    "P_normalized_spin1=sp.zeros(3,3)\n",
    "P_normalized_spin1[0:3,0]=Matrix.normalized(P_spin1[0:3,0])\n",
    "P_normalized_spin1[0:3,1]=Matrix.normalized(P_spin1[0:3,1])\n",
    "P_normalized_spin1[0:3,2]=Matrix.normalized(P_spin1[0:3,2])"
   ]
  },
  {
   "cell_type": "code",
   "execution_count": 74,
   "metadata": {
    "collapsed": false
   },
   "outputs": [
    {
     "data": {
      "text/latex": [
       "$$\\left[\\begin{matrix}- \\frac{\\sqrt{2}}{2} & \\frac{\\beta + \\sqrt{8 \\alpha^{2} + \\beta^{2}}}{\\left(\\frac{\\beta}{2} + \\frac{1}{2} \\sqrt{8 \\alpha^{2} + \\beta^{2}}\\right) \\sqrt{4 + \\frac{\\left(\\beta + \\sqrt{8 \\alpha^{2} + \\beta^{2}}\\right)^{2}}{\\left(\\frac{\\beta}{2} + \\frac{1}{2} \\sqrt{8 \\alpha^{2} + \\beta^{2}}\\right)^{2}} + \\frac{1}{\\alpha^{2}} \\left(\\beta + \\sqrt{8 \\alpha^{2} + \\beta^{2}}\\right)^{2}}} & \\frac{\\beta - \\sqrt{8 \\alpha^{2} + \\beta^{2}}}{\\left(\\frac{\\beta}{2} - \\frac{1}{2} \\sqrt{8 \\alpha^{2} + \\beta^{2}}\\right) \\sqrt{4 + \\frac{\\left(\\beta - \\sqrt{8 \\alpha^{2} + \\beta^{2}}\\right)^{2}}{\\left(\\frac{\\beta}{2} - \\frac{1}{2} \\sqrt{8 \\alpha^{2} + \\beta^{2}}\\right)^{2}} + \\frac{1}{\\alpha^{2}} \\left(\\beta - \\sqrt{8 \\alpha^{2} + \\beta^{2}}\\right)^{2}}}\\\\0 & - \\frac{\\beta + \\sqrt{8 \\alpha^{2} + \\beta^{2}}}{\\alpha \\sqrt{4 + \\frac{\\left(\\beta + \\sqrt{8 \\alpha^{2} + \\beta^{2}}\\right)^{2}}{\\left(\\frac{\\beta}{2} + \\frac{1}{2} \\sqrt{8 \\alpha^{2} + \\beta^{2}}\\right)^{2}} + \\frac{1}{\\alpha^{2}} \\left(\\beta + \\sqrt{8 \\alpha^{2} + \\beta^{2}}\\right)^{2}}} & - \\frac{\\beta - \\sqrt{8 \\alpha^{2} + \\beta^{2}}}{\\alpha \\sqrt{4 + \\frac{\\left(\\beta - \\sqrt{8 \\alpha^{2} + \\beta^{2}}\\right)^{2}}{\\left(\\frac{\\beta}{2} - \\frac{1}{2} \\sqrt{8 \\alpha^{2} + \\beta^{2}}\\right)^{2}} + \\frac{1}{\\alpha^{2}} \\left(\\beta - \\sqrt{8 \\alpha^{2} + \\beta^{2}}\\right)^{2}}}\\\\\\frac{\\sqrt{2}}{2} & \\frac{2}{\\sqrt{4 + \\frac{\\left(\\beta + \\sqrt{8 \\alpha^{2} + \\beta^{2}}\\right)^{2}}{\\left(\\frac{\\beta}{2} + \\frac{1}{2} \\sqrt{8 \\alpha^{2} + \\beta^{2}}\\right)^{2}} + \\frac{1}{\\alpha^{2}} \\left(\\beta + \\sqrt{8 \\alpha^{2} + \\beta^{2}}\\right)^{2}}} & \\frac{2}{\\sqrt{4 + \\frac{\\left(\\beta - \\sqrt{8 \\alpha^{2} + \\beta^{2}}\\right)^{2}}{\\left(\\frac{\\beta}{2} - \\frac{1}{2} \\sqrt{8 \\alpha^{2} + \\beta^{2}}\\right)^{2}} + \\frac{1}{\\alpha^{2}} \\left(\\beta - \\sqrt{8 \\alpha^{2} + \\beta^{2}}\\right)^{2}}}\\end{matrix}\\right]$$"
      ],
      "text/plain": [
       "⎡                                              ___________                    \n",
       "⎢                                             ╱    2    2                     \n",
       "⎢-√2                                    β + ╲╱  8⋅α  + β                      \n",
       "⎢────  ───────────────────────────────────────────────────────────────────────\n",
       "⎢ 2                                     ______________________________________\n",
       "⎢                                      ╱                         2            \n",
       "⎢      ⎛       ___________⎞           ╱      ⎛       ___________⎞    ⎛       _\n",
       "⎢      ⎜      ╱    2    2 ⎟          ╱       ⎜      ╱    2    2 ⎟    ⎜      ╱ \n",
       "⎢      ⎜β   ╲╱  8⋅α  + β  ⎟         ╱        ⎝β + ╲╱  8⋅α  + β  ⎠    ⎝β + ╲╱  \n",
       "⎢      ⎜─ + ──────────────⎟⋅       ╱     4 + ───────────────────── + ─────────\n",
       "⎢      ⎝2         2       ⎠       ╱                              2            \n",
       "⎢                                ╱           ⎛       ___________⎞             \n",
       "⎢                               ╱            ⎜      ╱    2    2 ⎟             \n",
       "⎢                              ╱             ⎜β   ╲╱  8⋅α  + β  ⎟             \n",
       "⎢                             ╱              ⎜─ + ──────────────⎟             \n",
       "⎢                           ╲╱               ⎝2         2       ⎠             \n",
       "⎢                                                                             \n",
       "⎢                                      ⎛       ___________⎞                   \n",
       "⎢                                      ⎜      ╱    2    2 ⎟                   \n",
       "⎢                                     -⎝β + ╲╱  8⋅α  + β  ⎠                   \n",
       "⎢ 0             ──────────────────────────────────────────────────────────────\n",
       "⎢                             ________________________________________________\n",
       "⎢                            ╱                         2                      \n",
       "⎢                           ╱      ⎛       ___________⎞    ⎛       ___________\n",
       "⎢                          ╱       ⎜      ╱    2    2 ⎟    ⎜      ╱    2    2 \n",
       "⎢                         ╱        ⎝β + ╲╱  8⋅α  + β  ⎠    ⎝β + ╲╱  8⋅α  + β  \n",
       "⎢               α⋅       ╱     4 + ───────────────────── + ───────────────────\n",
       "⎢                       ╱                              2              2       \n",
       "⎢                      ╱           ⎛       ___________⎞              α        \n",
       "⎢                     ╱            ⎜      ╱    2    2 ⎟                       \n",
       "⎢                    ╱             ⎜β   ╲╱  8⋅α  + β  ⎟                       \n",
       "⎢                   ╱              ⎜─ + ──────────────⎟                       \n",
       "⎢                 ╲╱               ⎝2         2       ⎠                       \n",
       "⎢                                                                             \n",
       "⎢ √2                                            2                             \n",
       "⎢ ──             ─────────────────────────────────────────────────────────────\n",
       "⎢ 2                          _________________________________________________\n",
       "⎢                           ╱                         2                       \n",
       "⎢                          ╱      ⎛       ___________⎞    ⎛       ___________⎞\n",
       "⎢                         ╱       ⎜      ╱    2    2 ⎟    ⎜      ╱    2    2 ⎟\n",
       "⎢                        ╱        ⎝β + ╲╱  8⋅α  + β  ⎠    ⎝β + ╲╱  8⋅α  + β  ⎠\n",
       "⎢                       ╱     4 + ───────────────────── + ────────────────────\n",
       "⎢                      ╱                              2              2        \n",
       "⎢                     ╱           ⎛       ___________⎞              α         \n",
       "⎢                    ╱            ⎜      ╱    2    2 ⎟                        \n",
       "⎢                   ╱             ⎜β   ╲╱  8⋅α  + β  ⎟                        \n",
       "⎢                  ╱              ⎜─ + ──────────────⎟                        \n",
       "⎣                ╲╱               ⎝2         2       ⎠                        \n",
       "\n",
       "                                                       ___________            \n",
       "                                                      ╱    2    2             \n",
       "                                                β - ╲╱  8⋅α  + β              \n",
       "─────────────  ───────────────────────────────────────────────────────────────\n",
       "_____________                                   ______________________________\n",
       "           2                                   ╱                         2    \n",
       "__________⎞    ⎛       ___________⎞           ╱      ⎛       ___________⎞    ⎛\n",
       "   2    2 ⎟    ⎜      ╱    2    2 ⎟          ╱       ⎜      ╱    2    2 ⎟    ⎜\n",
       "8⋅α  + β  ⎠    ⎜β   ╲╱  8⋅α  + β  ⎟         ╱        ⎝β - ╲╱  8⋅α  + β  ⎠    ⎝\n",
       "────────────   ⎜─ - ──────────────⎟⋅       ╱     4 + ───────────────────── + ─\n",
       "  2            ⎝2         2       ⎠       ╱                              2    \n",
       " α                                       ╱           ⎛       ___________⎞     \n",
       "                                        ╱            ⎜      ╱    2    2 ⎟     \n",
       "                                       ╱             ⎜β   ╲╱  8⋅α  + β  ⎟     \n",
       "                                      ╱              ⎜─ - ──────────────⎟     \n",
       "                                    ╲╱               ⎝2         2       ⎠     \n",
       "                                                                              \n",
       "                                               ⎛       ___________⎞           \n",
       "                                               ⎜      ╱    2    2 ⎟           \n",
       "                                              -⎝β - ╲╱  8⋅α  + β  ⎠           \n",
       "───                     ──────────────────────────────────────────────────────\n",
       "___                                   ________________________________________\n",
       " 2                                   ╱                         2              \n",
       "⎞                                   ╱      ⎛       ___________⎞    ⎛       ___\n",
       "⎟                                  ╱       ⎜      ╱    2    2 ⎟    ⎜      ╱   \n",
       "⎠                                 ╱        ⎝β - ╲╱  8⋅α  + β  ⎠    ⎝β - ╲╱  8⋅\n",
       "──                      α⋅       ╱     4 + ───────────────────── + ───────────\n",
       "                                ╱                              2              \n",
       "                               ╱           ⎛       ___________⎞              α\n",
       "                              ╱            ⎜      ╱    2    2 ⎟               \n",
       "                             ╱             ⎜β   ╲╱  8⋅α  + β  ⎟               \n",
       "                            ╱              ⎜─ - ──────────────⎟               \n",
       "                          ╲╱               ⎝2         2       ⎠               \n",
       "                                                                              \n",
       "                                                        2                     \n",
       "──                       ─────────────────────────────────────────────────────\n",
       "__                                   _________________________________________\n",
       "2                                   ╱                         2               \n",
       "                                   ╱      ⎛       ___________⎞    ⎛       ____\n",
       "                                  ╱       ⎜      ╱    2    2 ⎟    ⎜      ╱    \n",
       "                                 ╱        ⎝β - ╲╱  8⋅α  + β  ⎠    ⎝β - ╲╱  8⋅α\n",
       "─                               ╱     4 + ───────────────────── + ────────────\n",
       "                               ╱                              2              2\n",
       "                              ╱           ⎛       ___________⎞              α \n",
       "                             ╱            ⎜      ╱    2    2 ⎟                \n",
       "                            ╱             ⎜β   ╲╱  8⋅α  + β  ⎟                \n",
       "                           ╱              ⎜─ - ──────────────⎟                \n",
       "                         ╲╱               ⎝2         2       ⎠                \n",
       "\n",
       "                     ⎤\n",
       "                     ⎥\n",
       "                     ⎥\n",
       "─────────────────────⎥\n",
       "_____________________⎥\n",
       "                   2 ⎥\n",
       "       ___________⎞  ⎥\n",
       "      ╱    2    2 ⎟  ⎥\n",
       "β - ╲╱  8⋅α  + β  ⎠  ⎥\n",
       "──────────────────── ⎥\n",
       "          2          ⎥\n",
       "         α           ⎥\n",
       "                     ⎥\n",
       "                     ⎥\n",
       "                     ⎥\n",
       "                     ⎥\n",
       "                     ⎥\n",
       "                     ⎥\n",
       "                     ⎥\n",
       "                     ⎥\n",
       "───────────          ⎥\n",
       "___________          ⎥\n",
       "         2           ⎥\n",
       "________⎞            ⎥\n",
       " 2    2 ⎟            ⎥\n",
       "α  + β  ⎠            ⎥\n",
       "──────────           ⎥\n",
       "2                    ⎥\n",
       "                     ⎥\n",
       "                     ⎥\n",
       "                     ⎥\n",
       "                     ⎥\n",
       "                     ⎥\n",
       "                     ⎥\n",
       "                     ⎥\n",
       "──────────           ⎥\n",
       "__________           ⎥\n",
       "        2            ⎥\n",
       "_______⎞             ⎥\n",
       "2    2 ⎟             ⎥\n",
       "  + β  ⎠             ⎥\n",
       "─────────            ⎥\n",
       "                     ⎥\n",
       "                     ⎥\n",
       "                     ⎥\n",
       "                     ⎥\n",
       "                     ⎥\n",
       "                     ⎦"
      ]
     },
     "execution_count": 74,
     "metadata": {},
     "output_type": "execute_result"
    }
   ],
   "source": [
    "P_normalized_spin1"
   ]
  },
  {
   "cell_type": "code",
   "execution_count": 75,
   "metadata": {
    "collapsed": false
   },
   "outputs": [],
   "source": [
    "S_plus= hbar*sp.sqrt(2)*Matrix([[0,1,0],[0,0,1], [0,0,0] ])\n",
    "S_minus= hbar*sp.sqrt(2)*Matrix([[0,0,0],[1,0,0], [0,1,0] ])"
   ]
  },
  {
   "cell_type": "code",
   "execution_count": 76,
   "metadata": {
    "collapsed": false
   },
   "outputs": [
    {
     "data": {
      "text/latex": [
       "$$\\left[\\begin{matrix}0 & \\frac{\\sqrt{2} \\hbar}{2} & 0\\\\\\frac{\\sqrt{2} \\hbar}{2} & 0 & \\frac{\\sqrt{2} \\hbar}{2}\\\\0 & \\frac{\\sqrt{2} \\hbar}{2} & 0\\end{matrix}\\right]$$"
      ],
      "text/plain": [
       "⎡       √2⋅h̅       ⎤\n",
       "⎢  0    ─────    0  ⎥\n",
       "⎢         2         ⎥\n",
       "⎢                   ⎥\n",
       "⎢√2⋅h̅         √2⋅h̅⎥\n",
       "⎢─────    0    ─────⎥\n",
       "⎢  2             2  ⎥\n",
       "⎢                   ⎥\n",
       "⎢       √2⋅h̅       ⎥\n",
       "⎢  0    ─────    0  ⎥\n",
       "⎣         2         ⎦"
      ]
     },
     "execution_count": 76,
     "metadata": {},
     "output_type": "execute_result"
    }
   ],
   "source": [
    "partial_lambda_H =(S_plus+ S_minus)/2\n",
    "partial_lambda_H"
   ]
  },
  {
   "cell_type": "code",
   "execution_count": 77,
   "metadata": {
    "collapsed": false
   },
   "outputs": [
    {
     "data": {
      "text/latex": [
       "$$\\left[\\begin{matrix}0 & 0 & 0\\\\0 & - \\frac{4 \\sqrt{2} \\alpha \\hbar \\left(\\beta + \\sqrt{8 \\alpha^{2} + \\beta^{2}}\\right)}{8 \\alpha^{2} + \\left(\\beta + \\sqrt{8 \\alpha^{2} + \\beta^{2}}\\right)^{2}} & - \\frac{4 \\sqrt{2} \\alpha \\beta \\hbar}{\\sqrt{8 \\alpha^{2} + \\left(\\beta - \\sqrt{8 \\alpha^{2} + \\beta^{2}}\\right)^{2}} \\sqrt{8 \\alpha^{2} + \\left(\\beta + \\sqrt{8 \\alpha^{2} + \\beta^{2}}\\right)^{2}}}\\\\0 & - \\frac{4 \\sqrt{2} \\alpha \\beta \\hbar}{\\sqrt{8 \\alpha^{2} + \\left(\\beta - \\sqrt{8 \\alpha^{2} + \\beta^{2}}\\right)^{2}} \\sqrt{8 \\alpha^{2} + \\left(\\beta + \\sqrt{8 \\alpha^{2} + \\beta^{2}}\\right)^{2}}} & - \\frac{4 \\sqrt{2} \\alpha \\hbar \\left(\\beta - \\sqrt{8 \\alpha^{2} + \\beta^{2}}\\right)}{8 \\alpha^{2} + \\left(\\beta - \\sqrt{8 \\alpha^{2} + \\beta^{2}}\\right)^{2}}\\end{matrix}\\right]$$"
      ],
      "text/plain": [
       "⎡0                                     0                                      \n",
       "⎢                                                                             \n",
       "⎢                                 ⎛       ___________⎞                        \n",
       "⎢                                 ⎜      ╱    2    2 ⎟                        \n",
       "⎢                      -4⋅√2⋅α⋅h̅⋅⎝β + ╲╱  8⋅α  + β  ⎠                        \n",
       "⎢0                     ────────────────────────────────                      ─\n",
       "⎢                                                   2                         \n",
       "⎢                               ⎛       ___________⎞                          \n",
       "⎢                           2   ⎜      ╱    2    2 ⎟                          \n",
       "⎢                        8⋅α  + ⎝β + ╲╱  8⋅α  + β  ⎠                          \n",
       "⎢                                                                            ╲\n",
       "⎢                                                                             \n",
       "⎢                                                                             \n",
       "⎢                                                                             \n",
       "⎢                                -4⋅√2⋅α⋅β⋅h̅                                 \n",
       "⎢0  ───────────────────────────────────────────────────────────────────────   \n",
       "⎢        ______________________________      ______________________________   \n",
       "⎢       ╱                            2      ╱                            2    \n",
       "⎢      ╱         ⎛       ___________⎞      ╱         ⎛       ___________⎞     \n",
       "⎢     ╱      2   ⎜      ╱    2    2 ⎟     ╱      2   ⎜      ╱    2    2 ⎟     \n",
       "⎣   ╲╱    8⋅α  + ⎝β - ╲╱  8⋅α  + β  ⎠  ⋅╲╱    8⋅α  + ⎝β + ╲╱  8⋅α  + β  ⎠     \n",
       "\n",
       "                                  0                                   ⎤\n",
       "                                                                      ⎥\n",
       "                                                                      ⎥\n",
       "                                                                      ⎥\n",
       "                            -4⋅√2⋅α⋅β⋅h̅                              ⎥\n",
       "──────────────────────────────────────────────────────────────────────⎥\n",
       "    ______________________________      ______________________________⎥\n",
       "   ╱                            2      ╱                            2 ⎥\n",
       "  ╱         ⎛       ___________⎞      ╱         ⎛       ___________⎞  ⎥\n",
       " ╱      2   ⎜      ╱    2    2 ⎟     ╱      2   ⎜      ╱    2    2 ⎟  ⎥\n",
       "╱    8⋅α  + ⎝β - ╲╱  8⋅α  + β  ⎠  ⋅╲╱    8⋅α  + ⎝β + ╲╱  8⋅α  + β  ⎠  ⎥\n",
       "                                                                      ⎥\n",
       "                             ⎛       ___________⎞                     ⎥\n",
       "                             ⎜      ╱    2    2 ⎟                     ⎥\n",
       "                  -4⋅√2⋅α⋅h̅⋅⎝β - ╲╱  8⋅α  + β  ⎠                     ⎥\n",
       "                  ────────────────────────────────                    ⎥\n",
       "                                               2                      ⎥\n",
       "                           ⎛       ___________⎞                       ⎥\n",
       "                       2   ⎜      ╱    2    2 ⎟                       ⎥\n",
       "                    8⋅α  + ⎝β - ╲╱  8⋅α  + β  ⎠                       ⎥\n",
       "                                                                      ⎦"
      ]
     },
     "execution_count": 77,
     "metadata": {},
     "output_type": "execute_result"
    }
   ],
   "source": [
    "num_lamb_spin1=P_normalized_spin1.T*(partial_lambda_H *P_normalized_spin1)\n",
    "sp.simplify(num_lamb_spin1)"
   ]
  },
  {
   "cell_type": "code",
   "execution_count": 114,
   "metadata": {
    "collapsed": false
   },
   "outputs": [
    {
     "data": {
      "text/latex": [
       "$$\\left[\\begin{matrix}0 & \\frac{\\beta}{2} + \\frac{1}{2} \\sqrt{8 \\alpha^{2} + \\beta^{2}} & \\frac{\\beta}{2} - \\frac{1}{2} \\sqrt{8 \\alpha^{2} + \\beta^{2}}\\\\- \\frac{\\beta}{2} - \\frac{1}{2} \\sqrt{8 \\alpha^{2} + \\beta^{2}} & 0 & - \\sqrt{8 \\alpha^{2} + \\beta^{2}}\\\\- \\frac{\\beta}{2} + \\frac{1}{2} \\sqrt{8 \\alpha^{2} + \\beta^{2}} & \\sqrt{8 \\alpha^{2} + \\beta^{2}} & 0\\end{matrix}\\right]$$"
      ],
      "text/plain": [
       "⎡                             ___________         ___________⎤\n",
       "⎢                            ╱    2    2         ╱    2    2 ⎥\n",
       "⎢                      β   ╲╱  8⋅α  + β    β   ╲╱  8⋅α  + β  ⎥\n",
       "⎢         0            ─ + ──────────────  ─ - ──────────────⎥\n",
       "⎢                      2         2         2         2       ⎥\n",
       "⎢                                                            ⎥\n",
       "⎢         ___________                                        ⎥\n",
       "⎢        ╱    2    2                            ___________  ⎥\n",
       "⎢  β   ╲╱  8⋅α  + β                            ╱    2    2   ⎥\n",
       "⎢- ─ - ──────────────          0            -╲╱  8⋅α  + β    ⎥\n",
       "⎢  2         2                                               ⎥\n",
       "⎢                                                            ⎥\n",
       "⎢         ___________                                        ⎥\n",
       "⎢        ╱    2    2        ___________                      ⎥\n",
       "⎢  β   ╲╱  8⋅α  + β        ╱    2    2                       ⎥\n",
       "⎢- ─ + ──────────────    ╲╱  8⋅α  + β              0         ⎥\n",
       "⎣  2         2                                               ⎦"
      ]
     },
     "execution_count": 114,
     "metadata": {},
     "output_type": "execute_result"
    }
   ],
   "source": [
    "ev= Matrix([[D_spin1[0,0]],[D_spin1[1,1]] ,[D_spin1[2,2]]])\n",
    "#ev* sp.ones(1,3), sp.ones(3,1)*ev.T\n",
    "wij=ev* sp.ones(1,3)- sp.ones(3,1)*ev.T\n",
    "wij"
   ]
  },
  {
   "cell_type": "code",
   "execution_count": 116,
   "metadata": {
    "collapsed": false
   },
   "outputs": [
    {
     "data": {
      "text/latex": [
       "$$\\left[\\begin{matrix}\\beta & 0 & 0\\\\0 & \\frac{\\beta}{2} - \\frac{1}{2} \\sqrt{8 \\alpha^{2} + \\beta^{2}} & 0\\\\0 & 0 & \\frac{\\beta}{2} + \\frac{1}{2} \\sqrt{8 \\alpha^{2} + \\beta^{2}}\\end{matrix}\\right]$$"
      ],
      "text/plain": [
       "⎡β          0                   0         ⎤\n",
       "⎢                                         ⎥\n",
       "⎢          ___________                    ⎥\n",
       "⎢         ╱    2    2                     ⎥\n",
       "⎢   β   ╲╱  8⋅α  + β                      ⎥\n",
       "⎢0  ─ - ──────────────          0         ⎥\n",
       "⎢   2         2                           ⎥\n",
       "⎢                                         ⎥\n",
       "⎢                              ___________⎥\n",
       "⎢                             ╱    2    2 ⎥\n",
       "⎢                       β   ╲╱  8⋅α  + β  ⎥\n",
       "⎢0          0           ─ + ──────────────⎥\n",
       "⎣                       2         2       ⎦"
      ]
     },
     "execution_count": 116,
     "metadata": {},
     "output_type": "execute_result"
    }
   ],
   "source": [
    "D_spin1"
   ]
  },
  {
   "cell_type": "code",
   "execution_count": 79,
   "metadata": {
    "collapsed": false
   },
   "outputs": [],
   "source": [
    "num_lamb_spin1[0,0]=0\n",
    "num_lamb_spin1[1,1]=0\n",
    "num_lamb_spin1[2,2]=0"
   ]
  },
  {
   "cell_type": "code",
   "execution_count": 80,
   "metadata": {
    "collapsed": false
   },
   "outputs": [
    {
     "data": {
      "text/latex": [
       "$$\\left[\\begin{matrix}0 & 0 & 0\\\\0 & 0 & 0\\\\0 & 0 & 0\\end{matrix}\\right]$$"
      ],
      "text/plain": [
       "⎡0  0  0⎤\n",
       "⎢       ⎥\n",
       "⎢0  0  0⎥\n",
       "⎢       ⎥\n",
       "⎣0  0  0⎦"
      ]
     },
     "execution_count": 80,
     "metadata": {},
     "output_type": "execute_result"
    }
   ],
   "source": [
    "A_lambda=sp.zeros(3,3)\n",
    "A_lambda\n",
    "#, sp.simplify(num_lamb[1,0]/wij[1,0])"
   ]
  },
  {
   "cell_type": "code",
   "execution_count": 81,
   "metadata": {
    "collapsed": false
   },
   "outputs": [
    {
     "name": "stdout",
     "output_type": "stream",
     "text": [
      "0 1\n",
      "0 2\n",
      "2 0\n",
      "2 1\n"
     ]
    }
   ],
   "source": [
    "for i in range(1,3):\n",
    "    print 0,i   \n",
    "    A_lambda[0,i]=sp.simplify(num_lamb_spin1[0,i]/wij[0,i])\n",
    "\n",
    "for i in range(0,2):\n",
    "    print 2,i   \n",
    "    A_lambda[2,i]=sp.simplify(num_lamb_spin1[2,i]/wij[2,i])    \n",
    "A_lambda[1,0]=sp.simplify(num_lamb_spin1[1,0]/wij[1,0])    \n",
    "A_lambda[1,2]=sp.simplify(num_lamb_spin1[1,2]/wij[1,2])    "
   ]
  },
  {
   "cell_type": "code",
   "execution_count": 82,
   "metadata": {
    "collapsed": false
   },
   "outputs": [
    {
     "data": {
      "text/latex": [
       "$$\\left[\\begin{matrix}0\\\\0\\\\- \\frac{4 \\sqrt{2} \\alpha \\beta \\hbar}{\\sqrt{8 \\alpha^{2} + \\left(\\beta - \\sqrt{8 \\alpha^{2} + \\beta^{2}}\\right)^{2}} \\sqrt{8 \\alpha^{2} + \\left(\\beta + \\sqrt{8 \\alpha^{2} + \\beta^{2}}\\right)^{2}}}\\end{matrix}\\right]$$"
      ],
      "text/plain": [
       "⎡                                   0                                   ⎤\n",
       "⎢                                                                       ⎥\n",
       "⎢                                   0                                   ⎥\n",
       "⎢                                                                       ⎥\n",
       "⎢                             -4⋅√2⋅α⋅β⋅h̅                              ⎥\n",
       "⎢───────────────────────────────────────────────────────────────────────⎥\n",
       "⎢     ______________________________      ______________________________⎥\n",
       "⎢    ╱                            2      ╱                            2 ⎥\n",
       "⎢   ╱         ⎛       ___________⎞      ╱         ⎛       ___________⎞  ⎥\n",
       "⎢  ╱      2   ⎜      ╱    2    2 ⎟     ╱      2   ⎜      ╱    2    2 ⎟  ⎥\n",
       "⎣╲╱    8⋅α  + ⎝β - ╲╱  8⋅α  + β  ⎠  ⋅╲╱    8⋅α  + ⎝β + ╲╱  8⋅α  + β  ⎠  ⎦"
      ]
     },
     "execution_count": 82,
     "metadata": {},
     "output_type": "execute_result"
    }
   ],
   "source": [
    "sp.simplify(num_lamb_spin1[0:3,1])"
   ]
  },
  {
   "cell_type": "code",
   "execution_count": 75,
   "metadata": {
    "collapsed": false
   },
   "outputs": [
    {
     "data": {
      "text/plain": [
       "'\\\\frac{4.0 \\\\sqrt{2} \\\\alpha \\\\beta \\\\hbar}{\\\\sqrt{8 \\\\alpha^{2} + \\\\beta^{2}} \\\\sqrt{8 \\\\alpha^{2} + \\\\left(\\\\beta - \\\\sqrt{8 \\\\alpha^{2} + \\\\beta^{2}}\\\\right)^{2}} \\\\sqrt{8 \\\\alpha^{2} + \\\\left(\\\\beta + \\\\sqrt{8 \\\\alpha^{2} + \\\\beta^{2}}\\\\right)^{2}}}'"
      ]
     },
     "execution_count": 75,
     "metadata": {},
     "output_type": "execute_result"
    }
   ],
   "source": [
    "sp.latex(A_lambda[1,2])"
   ]
  },
  {
   "cell_type": "code",
   "execution_count": 83,
   "metadata": {
    "collapsed": false
   },
   "outputs": [
    {
     "data": {
      "text/latex": [
       "$$\\left[\\begin{matrix}0 & 0 & 0\\\\0 & 0 & \\frac{4 \\sqrt{2} \\alpha \\beta \\hbar}{\\sqrt{8 \\alpha^{2} + \\beta^{2}} \\sqrt{8 \\alpha^{2} + \\left(\\beta - \\sqrt{8 \\alpha^{2} + \\beta^{2}}\\right)^{2}} \\sqrt{8 \\alpha^{2} + \\left(\\beta + \\sqrt{8 \\alpha^{2} + \\beta^{2}}\\right)^{2}}}\\\\0 & - \\frac{4 \\sqrt{2} \\alpha \\beta \\hbar}{\\sqrt{8 \\alpha^{2} + \\beta^{2}} \\sqrt{8 \\alpha^{2} + \\left(\\beta - \\sqrt{8 \\alpha^{2} + \\beta^{2}}\\right)^{2}} \\sqrt{8 \\alpha^{2} + \\left(\\beta + \\sqrt{8 \\alpha^{2} + \\beta^{2}}\\right)^{2}}} & 0\\end{matrix}\\right]$$"
      ],
      "text/plain": [
       "⎡0                                            0                               \n",
       "⎢                                                                             \n",
       "⎢                                                                             \n",
       "⎢0                                            0                               \n",
       "⎢                                                                             \n",
       "⎢                                                                             \n",
       "⎢                                                                             \n",
       "⎢                                                                             \n",
       "⎢                                                                             \n",
       "⎢                                                                             \n",
       "⎢                                       -4⋅√2⋅α⋅β⋅h̅                          \n",
       "⎢0  ──────────────────────────────────────────────────────────────────────────\n",
       "⎢                       ______________________________      __________________\n",
       "⎢                      ╱                            2      ╱                  \n",
       "⎢      ___________    ╱         ⎛       ___________⎞      ╱         ⎛       __\n",
       "⎢     ╱    2    2    ╱      2   ⎜      ╱    2    2 ⎟     ╱      2   ⎜      ╱  \n",
       "⎣   ╲╱  8⋅α  + β  ⋅╲╱    8⋅α  + ⎝β - ╲╱  8⋅α  + β  ⎠  ⋅╲╱    8⋅α  + ⎝β + ╲╱  8\n",
       "\n",
       "                                                        0                     \n",
       "                                                                              \n",
       "                                                   4⋅√2⋅α⋅β⋅h̅                \n",
       "              ────────────────────────────────────────────────────────────────\n",
       "                                  ______________________________      ________\n",
       "                                 ╱                            2      ╱        \n",
       "                 ___________    ╱         ⎛       ___________⎞      ╱         \n",
       "                ╱    2    2    ╱      2   ⎜      ╱    2    2 ⎟     ╱      2   \n",
       "              ╲╱  8⋅α  + β  ⋅╲╱    8⋅α  + ⎝β - ╲╱  8⋅α  + β  ⎠  ⋅╲╱    8⋅α  + \n",
       "                                                                              \n",
       "                                                                              \n",
       "────────────                                            0                     \n",
       "____________                                                                  \n",
       "          2                                                                   \n",
       "_________⎞                                                                    \n",
       "  2    2 ⎟                                                                    \n",
       "⋅α  + β  ⎠                                                                    \n",
       "\n",
       "                      ⎤\n",
       "                      ⎥\n",
       "                      ⎥\n",
       "──────────────────────⎥\n",
       "______________________⎥\n",
       "                    2 ⎥\n",
       "⎛       ___________⎞  ⎥\n",
       "⎜      ╱    2    2 ⎟  ⎥\n",
       "⎝β + ╲╱  8⋅α  + β  ⎠  ⎥\n",
       "                      ⎥\n",
       "                      ⎥\n",
       "                      ⎥\n",
       "                      ⎥\n",
       "                      ⎥\n",
       "                      ⎥\n",
       "                      ⎥\n",
       "                      ⎦"
      ]
     },
     "execution_count": 83,
     "metadata": {},
     "output_type": "execute_result"
    }
   ],
   "source": [
    "A_lambda"
   ]
  },
  {
   "cell_type": "code",
   "execution_count": 117,
   "metadata": {
    "collapsed": false
   },
   "outputs": [
    {
     "data": {
      "image/png": "[encoded data removed]",
      "text/latex": [
       "$$\\frac{2 \\beta \\hbar}{8 \\alpha^{2} + \\beta^{2}}$$"
      ],
      "text/plain": [
       "  2⋅β⋅h̅ \n",
       "─────────\n",
       "   2    2\n",
       "8⋅α  + β "
      ]
     },
     "execution_count": 117,
     "metadata": {},
     "output_type": "execute_result"
    }
   ],
   "source": [
    "N=2*beta*hbar/(8*alpha**2+ beta**2)\n",
    "N"
   ]
  },
  {
   "cell_type": "code",
   "execution_count": 120,
   "metadata": {
    "collapsed": false
   },
   "outputs": [
    {
     "data": {
      "text/latex": [
       "$$\\left[\\begin{matrix}0 & 0 & 0\\\\0 & 0 & - \\frac{2 \\beta \\hbar}{8 \\alpha^{2} + \\beta^{2}}\\\\0 & \\frac{2 \\beta \\hbar}{8 \\alpha^{2} + \\beta^{2}} & 0\\end{matrix}\\right]$$"
      ],
      "text/plain": [
       "⎡0      0          0    ⎤\n",
       "⎢                       ⎥\n",
       "⎢               -2⋅β⋅h̅ ⎥\n",
       "⎢0      0      ─────────⎥\n",
       "⎢                 2    2⎥\n",
       "⎢              8⋅α  + β ⎥\n",
       "⎢                       ⎥\n",
       "⎢     2⋅β⋅h̅            ⎥\n",
       "⎢0  ─────────      0    ⎥\n",
       "⎢      2    2           ⎥\n",
       "⎣   8⋅α  + β            ⎦"
      ]
     },
     "execution_count": 120,
     "metadata": {},
     "output_type": "execute_result"
    }
   ],
   "source": [
    "A_lambda_off_diagonal=sp.zeros(3,3)\n",
    "A_lambda_off_diagonal[1,2]=-N\n",
    "A_lambda_off_diagonal[2,1]=N\n",
    "A_lambda_off_diagonal"
   ]
  },
  {
   "cell_type": "markdown",
   "metadata": {},
   "source": [
    "### Diagonal elements of gauge potential"
   ]
  },
  {
   "cell_type": "code",
   "execution_count": 58,
   "metadata": {
    "collapsed": true
   },
   "outputs": [],
   "source": [
    "beta = sp.symbols('beta', real=True)\n",
    "alpha = sp.symbols('alpha', nonnegative=True)\n",
    "hbar = sp.symbols('hbar', positive=True)\n",
    "H= Matrix([[beta, alpha,0], [alpha,0,alpha], [0, alpha, beta]])\n",
    "P_spin1,D_spin1= H.diagonalize()"
   ]
  },
  {
   "cell_type": "code",
   "execution_count": 59,
   "metadata": {
    "collapsed": false
   },
   "outputs": [
    {
     "data": {
      "text/latex": [
       "$$\\left[\\begin{matrix}-1 & \\frac{\\beta + \\sqrt{8 \\alpha^{2} + \\beta^{2}}}{\\frac{\\beta}{2} + \\frac{1}{2} \\sqrt{8 \\alpha^{2} + \\beta^{2}}} & \\frac{\\beta - \\sqrt{8 \\alpha^{2} + \\beta^{2}}}{\\frac{\\beta}{2} - \\frac{1}{2} \\sqrt{8 \\alpha^{2} + \\beta^{2}}}\\\\0 & - \\frac{1}{\\alpha} \\left(\\beta + \\sqrt{8 \\alpha^{2} + \\beta^{2}}\\right) & - \\frac{1}{\\alpha} \\left(\\beta - \\sqrt{8 \\alpha^{2} + \\beta^{2}}\\right)\\\\1 & 2 & 2\\end{matrix}\\right]$$"
      ],
      "text/plain": [
       "⎡             ___________             ___________  ⎤\n",
       "⎢            ╱    2    2             ╱    2    2   ⎥\n",
       "⎢      β + ╲╱  8⋅α  + β        β - ╲╱  8⋅α  + β    ⎥\n",
       "⎢-1    ──────────────────      ──────────────────  ⎥\n",
       "⎢             ___________             ___________  ⎥\n",
       "⎢            ╱    2    2             ╱    2    2   ⎥\n",
       "⎢      β   ╲╱  8⋅α  + β        β   ╲╱  8⋅α  + β    ⎥\n",
       "⎢      ─ + ──────────────      ─ - ──────────────  ⎥\n",
       "⎢      2         2             2         2         ⎥\n",
       "⎢                                                  ⎥\n",
       "⎢     ⎛       ___________⎞    ⎛       ___________⎞ ⎥\n",
       "⎢     ⎜      ╱    2    2 ⎟    ⎜      ╱    2    2 ⎟ ⎥\n",
       "⎢    -⎝β + ╲╱  8⋅α  + β  ⎠   -⎝β - ╲╱  8⋅α  + β  ⎠ ⎥\n",
       "⎢0   ──────────────────────  ──────────────────────⎥\n",
       "⎢              α                       α           ⎥\n",
       "⎢                                                  ⎥\n",
       "⎣1             2                       2           ⎦"
      ]
     },
     "execution_count": 59,
     "metadata": {},
     "output_type": "execute_result"
    }
   ],
   "source": [
    "P_spin1"
   ]
  },
  {
   "cell_type": "code",
   "execution_count": 60,
   "metadata": {
    "collapsed": false
   },
   "outputs": [],
   "source": [
    "P_simp=sp.zeros(3,3)\n",
    "P_simp[:,:]=sp.simplify(P_spin1)"
   ]
  },
  {
   "cell_type": "code",
   "execution_count": 61,
   "metadata": {
    "collapsed": false
   },
   "outputs": [
    {
     "data": {
      "text/latex": [
       "$$\\left[\\begin{matrix}-1 & 2 & 2\\\\0 & - \\frac{1}{\\alpha} \\left(\\beta + \\sqrt{8 \\alpha^{2} + \\beta^{2}}\\right) & \\frac{1}{\\alpha} \\left(- \\beta + \\sqrt{8 \\alpha^{2} + \\beta^{2}}\\right)\\\\1 & 2 & 2\\end{matrix}\\right]$$"
      ],
      "text/plain": [
       "⎡-1            2                      2         ⎤\n",
       "⎢                                               ⎥\n",
       "⎢     ⎛       ___________⎞           ___________⎥\n",
       "⎢     ⎜      ╱    2    2 ⎟          ╱    2    2 ⎥\n",
       "⎢    -⎝β + ╲╱  8⋅α  + β  ⎠   -β + ╲╱  8⋅α  + β  ⎥\n",
       "⎢0   ──────────────────────  ───────────────────⎥\n",
       "⎢              α                      α         ⎥\n",
       "⎢                                               ⎥\n",
       "⎣1             2                      2         ⎦"
      ]
     },
     "execution_count": 61,
     "metadata": {},
     "output_type": "execute_result"
    }
   ],
   "source": [
    "P_simp"
   ]
  },
  {
   "cell_type": "code",
   "execution_count": 62,
   "metadata": {
    "collapsed": true
   },
   "outputs": [],
   "source": [
    "P_normalized_spin1=sp.zeros(3,3)\n",
    "P_normalized_spin1[0:3,0]=Matrix.normalized(P_simp[0:3,0])\n",
    "P_normalized_spin1[0:3,1]=Matrix.normalized(P_simp[0:3,1])\n",
    "P_normalized_spin1[0:3,2]=Matrix.normalized(P_simp[0:3,2])"
   ]
  },
  {
   "cell_type": "code",
   "execution_count": 63,
   "metadata": {
    "collapsed": false
   },
   "outputs": [
    {
     "data": {
      "text/latex": [
       "$$\\left[\\begin{matrix}- \\frac{\\sqrt{2}}{2} & \\frac{2 \\alpha}{\\sqrt{8 \\alpha^{2} + \\left(\\beta + \\sqrt{8 \\alpha^{2} + \\beta^{2}}\\right)^{2}}} & \\frac{2 \\alpha}{\\sqrt{8 \\alpha^{2} + \\left(\\beta - \\sqrt{8 \\alpha^{2} + \\beta^{2}}\\right)^{2}}}\\\\0 & - \\frac{\\beta + \\sqrt{8 \\alpha^{2} + \\beta^{2}}}{\\sqrt{8 \\alpha^{2} + \\left(\\beta + \\sqrt{8 \\alpha^{2} + \\beta^{2}}\\right)^{2}}} & \\frac{- \\beta + \\sqrt{8 \\alpha^{2} + \\beta^{2}}}{\\sqrt{8 \\alpha^{2} + \\left(\\beta - \\sqrt{8 \\alpha^{2} + \\beta^{2}}\\right)^{2}}}\\\\\\frac{\\sqrt{2}}{2} & \\frac{2 \\alpha}{\\sqrt{8 \\alpha^{2} + \\left(\\beta + \\sqrt{8 \\alpha^{2} + \\beta^{2}}\\right)^{2}}} & \\frac{2 \\alpha}{\\sqrt{8 \\alpha^{2} + \\left(\\beta - \\sqrt{8 \\alpha^{2} + \\beta^{2}}\\right)^{2}}}\\end{matrix}\\right]$$"
      ],
      "text/plain": [
       "⎡-√2                   2⋅α                                  2⋅α               \n",
       "⎢────  ───────────────────────────────────  ──────────────────────────────────\n",
       "⎢ 2         ______________________________       _____________________________\n",
       "⎢          ╱                            2       ╱                            2\n",
       "⎢         ╱         ⎛       ___________⎞       ╱         ⎛       ___________⎞ \n",
       "⎢        ╱      2   ⎜      ╱    2    2 ⎟      ╱      2   ⎜      ╱    2    2 ⎟ \n",
       "⎢      ╲╱    8⋅α  + ⎝β + ╲╱  8⋅α  + β  ⎠    ╲╱    8⋅α  + ⎝β - ╲╱  8⋅α  + β  ⎠ \n",
       "⎢                                                                             \n",
       "⎢              ⎛       ___________⎞                         ___________       \n",
       "⎢              ⎜      ╱    2    2 ⎟                        ╱    2    2        \n",
       "⎢             -⎝β + ╲╱  8⋅α  + β  ⎠                 -β + ╲╱  8⋅α  + β         \n",
       "⎢ 0    ───────────────────────────────────  ──────────────────────────────────\n",
       "⎢           ______________________________       _____________________________\n",
       "⎢          ╱                            2       ╱                            2\n",
       "⎢         ╱         ⎛       ___________⎞       ╱         ⎛       ___________⎞ \n",
       "⎢        ╱      2   ⎜      ╱    2    2 ⎟      ╱      2   ⎜      ╱    2    2 ⎟ \n",
       "⎢      ╲╱    8⋅α  + ⎝β + ╲╱  8⋅α  + β  ⎠    ╲╱    8⋅α  + ⎝β - ╲╱  8⋅α  + β  ⎠ \n",
       "⎢                                                                             \n",
       "⎢ √2                   2⋅α                                  2⋅α               \n",
       "⎢ ──   ───────────────────────────────────  ──────────────────────────────────\n",
       "⎢ 2         ______________________________       _____________________________\n",
       "⎢          ╱                            2       ╱                            2\n",
       "⎢         ╱         ⎛       ___________⎞       ╱         ⎛       ___________⎞ \n",
       "⎢        ╱      2   ⎜      ╱    2    2 ⎟      ╱      2   ⎜      ╱    2    2 ⎟ \n",
       "⎣      ╲╱    8⋅α  + ⎝β + ╲╱  8⋅α  + β  ⎠    ╲╱    8⋅α  + ⎝β - ╲╱  8⋅α  + β  ⎠ \n",
       "\n",
       " ⎤\n",
       "─⎥\n",
       "_⎥\n",
       " ⎥\n",
       " ⎥\n",
       " ⎥\n",
       " ⎥\n",
       " ⎥\n",
       " ⎥\n",
       " ⎥\n",
       " ⎥\n",
       "─⎥\n",
       "_⎥\n",
       " ⎥\n",
       " ⎥\n",
       " ⎥\n",
       " ⎥\n",
       " ⎥\n",
       " ⎥\n",
       "─⎥\n",
       "_⎥\n",
       " ⎥\n",
       " ⎥\n",
       " ⎥\n",
       " ⎦"
      ]
     },
     "execution_count": 63,
     "metadata": {},
     "output_type": "execute_result"
    }
   ],
   "source": [
    "evector=sp.simplify(P_normalized_spin1)\n",
    "evector"
   ]
  },
  {
   "cell_type": "code",
   "execution_count": 64,
   "metadata": {
    "collapsed": true
   },
   "outputs": [],
   "source": [
    "P_diff_spin1=sp.simplify(sp.diff(evector, alpha))"
   ]
  },
  {
   "cell_type": "code",
   "execution_count": 65,
   "metadata": {
    "collapsed": true
   },
   "outputs": [],
   "source": [
    "A_lambda_diagonal=sp.zeros(3,3)\n",
    "temp_var=P_diff_spin1.T*P_diff_spin1\n",
    "A_lambda_diagonal[0,0]=temp_var[0,0]\n",
    "A_lambda_diagonal[1,1]=temp_var[1,1]\n",
    "A_lambda_diagonal[2,2]=temp_var[2,2]"
   ]
  },
  {
   "cell_type": "code",
   "execution_count": 87,
   "metadata": {
    "collapsed": false
   },
   "outputs": [
    {
     "data": {
      "text/latex": [
       "$$\\left[\\begin{matrix}0 & 0 & 0\\\\0 & \\frac{2 \\beta^{2}}{64 \\alpha^{4} + 16 \\alpha^{2} \\beta^{2} + \\beta^{4}} & 0\\\\0 & 0 & \\frac{2 \\beta^{2}}{64 \\alpha^{4} + 16 \\alpha^{2} \\beta^{2} + \\beta^{4}}\\end{matrix}\\right]$$"
      ],
      "text/plain": [
       "⎡0            0                      0          ⎤\n",
       "⎢                                               ⎥\n",
       "⎢               2                               ⎥\n",
       "⎢            2⋅β                                ⎥\n",
       "⎢0  ─────────────────────            0          ⎥\n",
       "⎢       4       2  2    4                       ⎥\n",
       "⎢   64⋅α  + 16⋅α ⋅β  + β                        ⎥\n",
       "⎢                                               ⎥\n",
       "⎢                                      2        ⎥\n",
       "⎢                                   2⋅β         ⎥\n",
       "⎢0            0            ─────────────────────⎥\n",
       "⎢                              4       2  2    4⎥\n",
       "⎣                          64⋅α  + 16⋅α ⋅β  + β ⎦"
      ]
     },
     "execution_count": 87,
     "metadata": {},
     "output_type": "execute_result"
    }
   ],
   "source": [
    "sp.simplify(A_lambda_diagonal)"
   ]
  },
  {
   "cell_type": "code",
   "execution_count": 84,
   "metadata": {
    "collapsed": false
   },
   "outputs": [
    {
     "data": {
      "text/latex": [
       "$$\\left[\\begin{matrix}0 & 0 & 0\\\\0 & 0 & \\frac{4 \\sqrt{2} \\alpha \\beta \\hbar}{\\sqrt{8 \\alpha^{2} + \\beta^{2}} \\sqrt{8 \\alpha^{2} + \\left(\\beta - \\sqrt{8 \\alpha^{2} + \\beta^{2}}\\right)^{2}} \\sqrt{8 \\alpha^{2} + \\left(\\beta + \\sqrt{8 \\alpha^{2} + \\beta^{2}}\\right)^{2}}}\\\\0 & - \\frac{4 \\sqrt{2} \\alpha \\beta \\hbar}{\\sqrt{8 \\alpha^{2} + \\beta^{2}} \\sqrt{8 \\alpha^{2} + \\left(\\beta - \\sqrt{8 \\alpha^{2} + \\beta^{2}}\\right)^{2}} \\sqrt{8 \\alpha^{2} + \\left(\\beta + \\sqrt{8 \\alpha^{2} + \\beta^{2}}\\right)^{2}}} & 0\\end{matrix}\\right]$$"
      ],
      "text/plain": [
       "⎡0                                            0                               \n",
       "⎢                                                                             \n",
       "⎢                                                                             \n",
       "⎢0                                            0                               \n",
       "⎢                                                                             \n",
       "⎢                                                                             \n",
       "⎢                                                                             \n",
       "⎢                                                                             \n",
       "⎢                                                                             \n",
       "⎢                                                                             \n",
       "⎢                                       -4⋅√2⋅α⋅β⋅h̅                          \n",
       "⎢0  ──────────────────────────────────────────────────────────────────────────\n",
       "⎢                       ______________________________      __________________\n",
       "⎢                      ╱                            2      ╱                  \n",
       "⎢      ___________    ╱         ⎛       ___________⎞      ╱         ⎛       __\n",
       "⎢     ╱    2    2    ╱      2   ⎜      ╱    2    2 ⎟     ╱      2   ⎜      ╱  \n",
       "⎣   ╲╱  8⋅α  + β  ⋅╲╱    8⋅α  + ⎝β - ╲╱  8⋅α  + β  ⎠  ⋅╲╱    8⋅α  + ⎝β + ╲╱  8\n",
       "\n",
       "                                                        0                     \n",
       "                                                                              \n",
       "                                                   4⋅√2⋅α⋅β⋅h̅                \n",
       "              ────────────────────────────────────────────────────────────────\n",
       "                                  ______________________________      ________\n",
       "                                 ╱                            2      ╱        \n",
       "                 ___________    ╱         ⎛       ___________⎞      ╱         \n",
       "                ╱    2    2    ╱      2   ⎜      ╱    2    2 ⎟     ╱      2   \n",
       "              ╲╱  8⋅α  + β  ⋅╲╱    8⋅α  + ⎝β - ╲╱  8⋅α  + β  ⎠  ⋅╲╱    8⋅α  + \n",
       "                                                                              \n",
       "                                                                              \n",
       "────────────                                            0                     \n",
       "____________                                                                  \n",
       "          2                                                                   \n",
       "_________⎞                                                                    \n",
       "  2    2 ⎟                                                                    \n",
       "⋅α  + β  ⎠                                                                    \n",
       "\n",
       "                      ⎤\n",
       "                      ⎥\n",
       "                      ⎥\n",
       "──────────────────────⎥\n",
       "______________________⎥\n",
       "                    2 ⎥\n",
       "⎛       ___________⎞  ⎥\n",
       "⎜      ╱    2    2 ⎟  ⎥\n",
       "⎝β + ╲╱  8⋅α  + β  ⎠  ⎥\n",
       "                      ⎥\n",
       "                      ⎥\n",
       "                      ⎥\n",
       "                      ⎥\n",
       "                      ⎥\n",
       "                      ⎥\n",
       "                      ⎥\n",
       "                      ⎦"
      ]
     },
     "execution_count": 84,
     "metadata": {},
     "output_type": "execute_result"
    }
   ],
   "source": [
    "A_lambda"
   ]
  },
  {
   "cell_type": "code",
   "execution_count": 121,
   "metadata": {
    "collapsed": false
   },
   "outputs": [
    {
     "data": {
      "text/latex": [
       "$$\\left[\\begin{matrix}0 & 0 & 0\\\\0 & \\frac{\\sqrt{2} \\beta^{2} \\hbar}{64 \\alpha^{4} + 16 \\alpha^{2} \\beta^{2} + \\beta^{4}} & - \\frac{2 \\beta \\hbar}{8 \\alpha^{2} + \\beta^{2}}\\\\0 & \\frac{2 \\beta \\hbar}{8 \\alpha^{2} + \\beta^{2}} & \\frac{\\sqrt{2} \\beta^{2} \\hbar}{64 \\alpha^{4} + 16 \\alpha^{2} \\beta^{2} + \\beta^{4}}\\end{matrix}\\right]$$"
      ],
      "text/plain": [
       "⎡0            0                      0          ⎤\n",
       "⎢                                               ⎥\n",
       "⎢              2                                ⎥\n",
       "⎢          √2⋅β ⋅h̅               -2⋅β⋅h̅       ⎥\n",
       "⎢0  ─────────────────────        ─────────      ⎥\n",
       "⎢       4       2  2    4           2    2      ⎥\n",
       "⎢   64⋅α  + 16⋅α ⋅β  + β         8⋅α  + β       ⎥\n",
       "⎢                                               ⎥\n",
       "⎢                                     2         ⎥\n",
       "⎢           2⋅β⋅h̅                √2⋅β ⋅h̅      ⎥\n",
       "⎢0        ─────────        ─────────────────────⎥\n",
       "⎢            2    2            4       2  2    4⎥\n",
       "⎣         8⋅α  + β         64⋅α  + 16⋅α ⋅β  + β ⎦"
      ]
     },
     "execution_count": 121,
     "metadata": {},
     "output_type": "execute_result"
    }
   ],
   "source": [
    "A_lambda_final=A_lambda_off_diagonal + sp.simplify(A_lambda_diagonal)*hbar/sp.sqrt(2)\n",
    "A_lambda_final"
   ]
  },
  {
   "cell_type": "markdown",
   "metadata": {
    "collapsed": true
   },
   "source": [
    "### Verification of gauge potential\n",
    "$[H, \\partial_{\\lambda} H] - \\dfrac{i}{\\hbar} [H,[H,A_{\\lambda}] ]=0$"
   ]
  },
  {
   "cell_type": "code",
   "execution_count": 90,
   "metadata": {
    "collapsed": true
   },
   "outputs": [],
   "source": [
    "def commutator(a,b):\n",
    "    return a*b-b*a"
   ]
  },
  {
   "cell_type": "code",
   "execution_count": 25,
   "metadata": {
    "collapsed": true
   },
   "outputs": [],
   "source": [
    "alpha,beta = sp.symbols('alpha beta', real=True)\n",
    "hbar = sp.symbols('hbar', positive=True)\n",
    "H= Matrix([[beta, alpha,0], [alpha,0,alpha], [0, alpha, beta]])"
   ]
  },
  {
   "cell_type": "code",
   "execution_count": 26,
   "metadata": {
    "collapsed": true
   },
   "outputs": [],
   "source": [
    "S_plus= hbar*sp.sqrt(2)*Matrix([[0,1,0],[0,0,1], [0,0,0] ])\n",
    "S_minus= hbar*sp.sqrt(2)*Matrix([[0,0,0],[1,0,0], [0,1,0] ])\n",
    "partial_lambda_H =(S_plus+ S_minus)/2"
   ]
  },
  {
   "cell_type": "code",
   "execution_count": 122,
   "metadata": {
    "collapsed": false
   },
   "outputs": [
    {
     "data": {
      "text/latex": [
       "$$\\left ( \\left[\\begin{matrix}\\beta & \\alpha & 0\\\\\\alpha & 0 & \\alpha\\\\0 & \\alpha & \\beta\\end{matrix}\\right], \\quad \\left[\\begin{matrix}0 & \\frac{\\sqrt{2} \\hbar}{2} & 0\\\\\\frac{\\sqrt{2} \\hbar}{2} & 0 & \\frac{\\sqrt{2} \\hbar}{2}\\\\0 & \\frac{\\sqrt{2} \\hbar}{2} & 0\\end{matrix}\\right]\\right )$$"
      ],
      "text/plain": [
       "⎛           ⎡       √2⋅h̅       ⎤⎞\n",
       "⎜⎡β  α  0⎤, ⎢  0    ─────    0  ⎥⎟\n",
       "⎜⎢       ⎥  ⎢         2         ⎥⎟\n",
       "⎜⎢α  0  α⎥  ⎢                   ⎥⎟\n",
       "⎜⎢       ⎥  ⎢√2⋅h̅         √2⋅h̅⎥⎟\n",
       "⎜⎣0  α  β⎦  ⎢─────    0    ─────⎥⎟\n",
       "⎜           ⎢  2             2  ⎥⎟\n",
       "⎜           ⎢                   ⎥⎟\n",
       "⎜           ⎢       √2⋅h̅       ⎥⎟\n",
       "⎜           ⎢  0    ─────    0  ⎥⎟\n",
       "⎝           ⎣         2         ⎦⎠"
      ]
     },
     "execution_count": 122,
     "metadata": {},
     "output_type": "execute_result"
    }
   ],
   "source": [
    "H, partial_lambda_H"
   ]
  },
  {
   "cell_type": "code",
   "execution_count": 123,
   "metadata": {
    "collapsed": false
   },
   "outputs": [
    {
     "data": {
      "text/latex": [
       "$$\\left[\\begin{matrix}0 & \\frac{\\beta \\hbar}{2} \\sqrt{2} & 0\\\\- \\frac{\\beta \\hbar}{2} \\sqrt{2} & 0 & - \\frac{\\beta \\hbar}{2} \\sqrt{2}\\\\0 & \\frac{\\beta \\hbar}{2} \\sqrt{2} & 0\\end{matrix}\\right]$$"
      ],
      "text/plain": [
       "⎡           √2⋅β⋅h̅           ⎤\n",
       "⎢    0      ───────      0    ⎥\n",
       "⎢              2              ⎥\n",
       "⎢                             ⎥\n",
       "⎢-√2⋅β⋅h̅            -√2⋅β⋅h̅ ⎥\n",
       "⎢─────────     0     ─────────⎥\n",
       "⎢    2                   2    ⎥\n",
       "⎢                             ⎥\n",
       "⎢           √2⋅β⋅h̅           ⎥\n",
       "⎢    0      ───────      0    ⎥\n",
       "⎣              2              ⎦"
      ]
     },
     "execution_count": 123,
     "metadata": {},
     "output_type": "execute_result"
    }
   ],
   "source": [
    "commutator(H,partial_lambda_H)"
   ]
  },
  {
   "cell_type": "code",
   "execution_count": 124,
   "metadata": {
    "collapsed": false
   },
   "outputs": [
    {
     "data": {
      "text/latex": [
       "$$\\left[\\begin{matrix}0 & \\frac{\\sqrt{2} \\alpha \\beta^{2} \\hbar}{64 \\alpha^{4} + 16 \\alpha^{2} \\beta^{2} + \\beta^{4}} & - \\frac{2 \\alpha \\beta \\hbar}{8 \\alpha^{2} + \\beta^{2}}\\\\- \\frac{\\sqrt{2} \\alpha \\beta^{2} \\hbar}{64 \\alpha^{4} + 16 \\alpha^{2} \\beta^{2} + \\beta^{4}} & \\frac{4 \\alpha \\beta \\hbar}{8 \\alpha^{2} + \\beta^{2}} & \\frac{2 \\beta^{2} \\hbar}{8 \\alpha^{2} + \\beta^{2}}\\\\- \\frac{2 \\alpha \\beta \\hbar}{8 \\alpha^{2} + \\beta^{2}} & \\frac{2 \\beta^{2} \\hbar}{8 \\alpha^{2} + \\beta^{2}} & - \\frac{4 \\alpha \\beta \\hbar}{8 \\alpha^{2} + \\beta^{2}}\\end{matrix}\\right]$$"
      ],
      "text/plain": [
       "⎡                                   2                    ⎤\n",
       "⎢                             √2⋅α⋅β ⋅h̅       -2⋅α⋅β⋅h̅ ⎥\n",
       "⎢          0            ─────────────────────  ──────────⎥\n",
       "⎢                           4       2  2    4     2    2 ⎥\n",
       "⎢                       64⋅α  + 16⋅α ⋅β  + β   8⋅α  + β  ⎥\n",
       "⎢                                                        ⎥\n",
       "⎢            2                                     2     ⎥\n",
       "⎢     -√2⋅α⋅β ⋅h̅              4⋅α⋅β⋅h̅         2⋅β ⋅h̅  ⎥\n",
       "⎢─────────────────────        ─────────        ───────── ⎥\n",
       "⎢    4       2  2    4           2    2           2    2 ⎥\n",
       "⎢64⋅α  + 16⋅α ⋅β  + β         8⋅α  + β         8⋅α  + β  ⎥\n",
       "⎢                                                        ⎥\n",
       "⎢                                 2                      ⎥\n",
       "⎢     -2⋅α⋅β⋅h̅                2⋅β ⋅h̅         -4⋅α⋅β⋅h̅ ⎥\n",
       "⎢     ──────────              ─────────        ──────────⎥\n",
       "⎢        2    2                  2    2           2    2 ⎥\n",
       "⎣     8⋅α  + β                8⋅α  + β         8⋅α  + β  ⎦"
      ]
     },
     "execution_count": 124,
     "metadata": {},
     "output_type": "execute_result"
    }
   ],
   "source": [
    "c1=commutator(H,A_lambda_final)\n",
    "sp.simplify(c1)"
   ]
  },
  {
   "cell_type": "code",
   "execution_count": 125,
   "metadata": {
    "collapsed": false
   },
   "outputs": [
    {
     "data": {
      "text/latex": [
       "$$\\left[\\begin{matrix}- \\frac{2 \\sqrt{2} \\alpha^{2} \\beta^{2} \\hbar}{64 \\alpha^{4} + 16 \\alpha^{2} \\beta^{2} + \\beta^{4}}\\\\- \\frac{\\alpha \\beta \\hbar \\left(48 \\alpha^{3} + 6 \\alpha \\beta^{2} - \\sqrt{2} \\beta^{2}\\right)}{64 \\alpha^{4} + 16 \\alpha^{2} \\beta^{2} + \\beta^{4}}\\\\- \\frac{\\alpha \\beta^{2} \\hbar \\left(16 \\alpha^{2} + \\sqrt{2} \\alpha + 2 \\beta^{2}\\right)}{64 \\alpha^{4} + 16 \\alpha^{2} \\beta^{2} + \\beta^{4}}\\end{matrix}\\right]$$"
      ],
      "text/plain": [
       "⎡                2  2             ⎤\n",
       "⎢         -2⋅√2⋅α ⋅β ⋅h̅          ⎥\n",
       "⎢      ─────────────────────      ⎥\n",
       "⎢          4       2  2    4      ⎥\n",
       "⎢      64⋅α  + 16⋅α ⋅β  + β       ⎥\n",
       "⎢                                 ⎥\n",
       "⎢        ⎛    3        2       2⎞ ⎥\n",
       "⎢-α⋅β⋅h̅⋅⎝48⋅α  + 6⋅α⋅β  - √2⋅β ⎠ ⎥\n",
       "⎢─────────────────────────────────⎥\n",
       "⎢          4       2  2    4      ⎥\n",
       "⎢      64⋅α  + 16⋅α ⋅β  + β       ⎥\n",
       "⎢                                 ⎥\n",
       "⎢     2    ⎛    2             2⎞  ⎥\n",
       "⎢ -α⋅β ⋅h̅⋅⎝16⋅α  + √2⋅α + 2⋅β ⎠  ⎥\n",
       "⎢ ─────────────────────────────── ⎥\n",
       "⎢          4       2  2    4      ⎥\n",
       "⎣      64⋅α  + 16⋅α ⋅β  + β       ⎦"
      ]
     },
     "execution_count": 125,
     "metadata": {},
     "output_type": "execute_result"
    }
   ],
   "source": [
    "sp.simplify(commutator(H,c1)[0:3,0])"
   ]
  },
  {
   "cell_type": "code",
   "execution_count": 126,
   "metadata": {
    "collapsed": false
   },
   "outputs": [
    {
     "data": {
      "text/latex": [
       "$$\\left[\\begin{matrix}\\frac{\\alpha \\beta \\hbar \\left(48 \\alpha^{3} + 6 \\alpha \\beta^{2} + \\sqrt{2} \\beta^{2}\\right)}{64 \\alpha^{4} + 16 \\alpha^{2} \\beta^{2} + \\beta^{4}}\\\\\\frac{2 \\sqrt{2} \\alpha^{2} \\beta^{2} \\hbar}{64 \\alpha^{4} + 16 \\alpha^{2} \\beta^{2} + \\beta^{4}}\\\\\\frac{2 \\beta \\hbar \\left(5 \\alpha^{2} + \\beta^{2}\\right)}{8 \\alpha^{2} + \\beta^{2}}\\end{matrix}\\right]$$"
      ],
      "text/plain": [
       "⎡       ⎛    3        2       2⎞⎤\n",
       "⎢α⋅β⋅h̅⋅⎝48⋅α  + 6⋅α⋅β  + √2⋅β ⎠⎥\n",
       "⎢───────────────────────────────⎥\n",
       "⎢         4       2  2    4     ⎥\n",
       "⎢     64⋅α  + 16⋅α ⋅β  + β      ⎥\n",
       "⎢                               ⎥\n",
       "⎢               2  2            ⎥\n",
       "⎢         2⋅√2⋅α ⋅β ⋅h̅         ⎥\n",
       "⎢     ─────────────────────     ⎥\n",
       "⎢         4       2  2    4     ⎥\n",
       "⎢     64⋅α  + 16⋅α ⋅β  + β      ⎥\n",
       "⎢                               ⎥\n",
       "⎢             ⎛   2    2⎞       ⎥\n",
       "⎢      2⋅β⋅h̅⋅⎝5⋅α  + β ⎠       ⎥\n",
       "⎢      ──────────────────       ⎥\n",
       "⎢             2    2            ⎥\n",
       "⎣          8⋅α  + β             ⎦"
      ]
     },
     "execution_count": 126,
     "metadata": {},
     "output_type": "execute_result"
    }
   ],
   "source": [
    "sp.simplify(commutator(H,c1)[0:3,1])"
   ]
  },
  {
   "cell_type": "code",
   "execution_count": 127,
   "metadata": {
    "collapsed": false
   },
   "outputs": [
    {
     "data": {
      "text/latex": [
       "$$\\left[\\begin{matrix}\\frac{\\alpha \\beta^{2} \\hbar \\left(16 \\alpha^{2} - \\sqrt{2} \\alpha + 2 \\beta^{2}\\right)}{64 \\alpha^{4} + 16 \\alpha^{2} \\beta^{2} + \\beta^{4}}\\\\- \\frac{2 \\beta \\hbar \\left(5 \\alpha^{2} + \\beta^{2}\\right)}{8 \\alpha^{2} + \\beta^{2}}\\\\0\\end{matrix}\\right]$$"
      ],
      "text/plain": [
       "⎡   2    ⎛    2             2⎞⎤\n",
       "⎢α⋅β ⋅h̅⋅⎝16⋅α  - √2⋅α + 2⋅β ⎠⎥\n",
       "⎢─────────────────────────────⎥\n",
       "⎢        4       2  2    4    ⎥\n",
       "⎢    64⋅α  + 16⋅α ⋅β  + β     ⎥\n",
       "⎢                             ⎥\n",
       "⎢            ⎛   2    2⎞      ⎥\n",
       "⎢    -2⋅β⋅h̅⋅⎝5⋅α  + β ⎠      ⎥\n",
       "⎢    ────────────────────     ⎥\n",
       "⎢            2    2           ⎥\n",
       "⎢         8⋅α  + β            ⎥\n",
       "⎢                             ⎥\n",
       "⎣              0              ⎦"
      ]
     },
     "execution_count": 127,
     "metadata": {},
     "output_type": "execute_result"
    }
   ],
   "source": [
    "sp.simplify(commutator(H,c1)[0:3,2])"
   ]
  },
  {
   "cell_type": "code",
   "execution_count": 46,
   "metadata": {
    "collapsed": false
   },
   "outputs": [],
   "source": [
    "x=Matrix([[4,0,0],[0,5,0], [0,0,6] ])"
   ]
  },
  {
   "cell_type": "code",
   "execution_count": 47,
   "metadata": {
    "collapsed": false
   },
   "outputs": [
    {
     "data": {
      "text/latex": [
       "$$\\left[\\begin{matrix}0 & \\alpha & 0\\\\- \\alpha & 0 & \\alpha\\\\0 & - \\alpha & 0\\end{matrix}\\right]$$"
      ],
      "text/plain": [
       "⎡0   α   0⎤\n",
       "⎢         ⎥\n",
       "⎢-α  0   α⎥\n",
       "⎢         ⎥\n",
       "⎣0   -α  0⎦"
      ]
     },
     "execution_count": 47,
     "metadata": {},
     "output_type": "execute_result"
    }
   ],
   "source": [
    "commutator(H,x)"
   ]
  }
 ],
 "metadata": {
  "kernelspec": {
   "display_name": "Python 2",
   "language": "python",
   "name": "python2"
  },
  "language_info": {
   "codemirror_mode": {
    "name": "ipython",
    "version": 2
   },
   "file_extension": ".py",
   "mimetype": "text/x-python",
   "name": "python",
   "nbconvert_exporter": "python",
   "pygments_lexer": "ipython2",
   "version": "2.7.12"
  },
  "widgets": {
   "state": {},
   "version": "1.1.2"
  }
 },
 "nbformat": 4,
 "nbformat_minor": 0
}

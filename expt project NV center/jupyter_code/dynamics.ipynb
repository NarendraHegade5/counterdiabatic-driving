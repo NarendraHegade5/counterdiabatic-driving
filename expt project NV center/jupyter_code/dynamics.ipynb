{
 "cells": [
  {
   "cell_type": "code",
   "execution_count": 1,
   "metadata": {
    "collapsed": true
   },
   "outputs": [],
   "source": [
    "from quspin.operators import hamiltonian # Hamiltonians and operators\n",
    "from quspin.basis import spin_basis_1d # Hilbert space spin basis\n",
    "import numpy as np # generic math functions\n",
    "import matplotlib.pyplot as plt\n",
    "%matplotlib inline"
   ]
  },
  {
   "cell_type": "code",
   "execution_count": 48,
   "metadata": {
    "collapsed": false
   },
   "outputs": [],
   "source": [
    "def Ham():\n",
    "    L=1 # system size\n",
    "\n",
    "    tau=1.0\n",
    "\n",
    "    def ramp(t):\n",
    "        return (t-1.0)/tau\n",
    "    ramp_args=[]\n",
    "\n",
    "    basis = spin_basis_1d(L)\n",
    "\n",
    "    J_z = [[1.0,i] for i in range(L)] # OBC\n",
    "    # static and dynamic lists\n",
    "    static = [[\"z\",J_z]]\n",
    "    dynamic =[[\"x\",J_z,ramp,ramp_args]]\n",
    "    # compute the time-dependent Heisenberg Hamiltonian\n",
    "    H = hamiltonian(static,dynamic,basis=basis,dtype=np.float_)\n",
    "    return H"
   ]
  },
  {
   "cell_type": "code",
   "execution_count": 39,
   "metadata": {
    "collapsed": false
   },
   "outputs": [
    {
     "name": "stdout",
     "output_type": "stream",
     "text": [
      "Hermiticity check passed!\n",
      "Symmetry checks passed!\n",
      "time=0 \n",
      "  (0, 0)\t-1.0\n",
      "  (0, 1)\t-0.1\n",
      "  (1, 0)\t-0.1\n",
      "  (1, 1)\t1.0\n",
      "time=1 \n",
      "  (0, 0)\t-1.0\n",
      "  (1, 1)\t1.0\n"
     ]
    }
   ],
   "source": [
    "tau=10.0\n",
    "H=Ham(tau)\n",
    "print 'time=0 \\n', H(time=0.0)\n",
    "print 'time=1 \\n', H(time=1.0)"
   ]
  },
  {
   "cell_type": "code",
   "execution_count": 11,
   "metadata": {
    "collapsed": false
   },
   "outputs": [],
   "source": [
    "def fidelity(t,psi, Ham):\n",
    "    energy,evector=Ham.eigh(time=t)\n",
    "    psi_gs=evector[:,0]\n",
    "    return np.abs(np.vdot(psi_gs,psi))**2"
   ]
  },
  {
   "cell_type": "code",
   "execution_count": 57,
   "metadata": {
    "collapsed": false
   },
   "outputs": [
    {
     "name": "stdout",
     "output_type": "stream",
     "text": [
      "Hermiticity check passed!\n",
      "Symmetry checks passed!\n"
     ]
    }
   ],
   "source": [
    "tf=2.0\n",
    "#psi0=V0[:,0] #ground state of t=0 hamiltonian\n",
    "t_in=np.linspace(0.0,2.0,20)\n",
    "H=Ham()\n",
    "energy_gs=np.zeros(len(t_in))\n",
    "energy_es=np.zeros(len(t_in))\n",
    "for i in range(len(t_in)):\n",
    "    E,V=H.eigh(time=t_in[i])\n",
    "    energy_gs[i]=E[0]\n",
    "    energy_es[i]=E[1]\n",
    "    #print t_in[i],E0[0], E0[1]"
   ]
  },
  {
   "cell_type": "code",
   "execution_count": 63,
   "metadata": {
    "collapsed": false
   },
   "outputs": [
    {
     "data": {
      "text/plain": [
       "<matplotlib.legend.Legend at 0x7f2491fa2910>"
      ]
     },
     "execution_count": 63,
     "metadata": {},
     "output_type": "execute_result"
    },
    {
     "data": {
      "image/png": "[encoded data removed]",
      "text/plain": [
       "<matplotlib.figure.Figure at 0x7f249200ce90>"
      ]
     },
     "metadata": {},
     "output_type": "display_data"
    }
   ],
   "source": [
    "plt.plot(t_in, energy_gs, 'r', label= 'GS')\n",
    "plt.plot(t_in, energy_es, 'b', label= 'ES')\n",
    "plt.xlabel(r'$t$', fontsize=14)\n",
    "plt.ylabel(r'$E$', fontsize=14)\n",
    "plt.legend(loc='best')"
   ]
  },
  {
   "cell_type": "code",
   "execution_count": null,
   "metadata": {
    "collapsed": true
   },
   "outputs": [],
   "source": []
  }
 ],
 "metadata": {
  "kernelspec": {
   "display_name": "Python 2",
   "language": "python",
   "name": "python2"
  },
  "language_info": {
   "codemirror_mode": {
    "name": "ipython",
    "version": 2
   },
   "file_extension": ".py",
   "mimetype": "text/x-python",
   "name": "python",
   "nbconvert_exporter": "python",
   "pygments_lexer": "ipython2",
   "version": "2.7.13"
  }
 },
 "nbformat": 4,
 "nbformat_minor": 2
}

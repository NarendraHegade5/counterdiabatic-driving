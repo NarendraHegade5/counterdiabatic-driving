{
 "cells": [
  {
   "cell_type": "code",
   "execution_count": 1,
   "metadata": {
    "collapsed": true
   },
   "outputs": [],
   "source": [
    "from quspin.operators import hamiltonian # Hamiltonians and operators\n",
    "from quspin.basis import spin_basis_1d # Hilbert space spin basis\n",
    "import numpy as np # generic math functions\n",
    "import matplotlib.pyplot as plt\n",
    "%matplotlib inline"
   ]
  },
  {
   "cell_type": "markdown",
   "metadata": {},
   "source": [
    "### Two level system : LZ problem"
   ]
  },
  {
   "cell_type": "code",
   "execution_count": 2,
   "metadata": {
    "collapsed": false
   },
   "outputs": [],
   "source": [
    "def Ham(tau, Delta):\n",
    "    L=1 # system size\n",
    "    def ramp(t):\n",
    "        return 2*(t-1)/tau\n",
    "    ramp_args=[]\n",
    "\n",
    "    basis = spin_basis_1d(L)\n",
    "    \n",
    "    J_z = [[Delta,i] for i in range(L)]\n",
    "    # static and dynamic lists\n",
    "    static = [[\"z\",J_z]]\n",
    "    dynamic =[[\"x\",J_z,ramp,ramp_args]]\n",
    "    \n",
    "    H = hamiltonian(static,dynamic,basis=basis,dtype=np.float_, check_symm=False, check_herm=False)\n",
    "    return H"
   ]
  },
  {
   "cell_type": "code",
   "execution_count": 63,
   "metadata": {
    "collapsed": false
   },
   "outputs": [
    {
     "name": "stdout",
     "output_type": "stream",
     "text": [
      "time=0 \n",
      "  (0, 0)\t-2.0\n",
      "  (0, 1)\t-0.4\n",
      "  (1, 0)\t-0.4\n",
      "  (1, 1)\t2.0\n",
      "time=1 \n",
      "  (0, 0)\t-2.0\n",
      "  (1, 1)\t2.0\n"
     ]
    }
   ],
   "source": [
    "tau=10.0\n",
    "Delta=2.0\n",
    "H=Ham(tau, Delta)\n",
    "print 'time=0 \\n', H(time=0.0)\n",
    "print 'time=1 \\n', H(time=1.0)"
   ]
  },
  {
   "cell_type": "code",
   "execution_count": 22,
   "metadata": {
    "collapsed": false
   },
   "outputs": [],
   "source": [
    "def ramp(t,tau):\n",
    "        return 2*(t-1)/tau"
   ]
  },
  {
   "cell_type": "code",
   "execution_count": 86,
   "metadata": {
    "collapsed": false
   },
   "outputs": [],
   "source": [
    "tau=2.0\n",
    "tf=1.0+tau\n",
    "ti=1.0 -tau\n",
    "Delta=1.0\n",
    "H=Ham(tau, Delta)\n",
    "#psi0=V0[:,0] #ground state of t=0 hamiltonian\n",
    "t_arr=np.linspace(ti,tf,20)\n",
    "energy_gs=np.zeros(len(t_arr))\n",
    "energy_es=np.zeros(len(t_arr))\n",
    "for i in range(len(t_arr)):\n",
    "    E,V=H.eigh(time=t_arr[i])\n",
    "    energy_gs[i]=E[0]\n",
    "    energy_es[i]=E[1]\n",
    "    #print t_in[i],E0[0], E0[1]"
   ]
  },
  {
   "cell_type": "code",
   "execution_count": 99,
   "metadata": {
    "collapsed": false
   },
   "outputs": [
    {
     "data": {
      "image/png": "[encoded data removed]",
      "text/plain": [
       "<matplotlib.figure.Figure at 0x7f26c3afa890>"
      ]
     },
     "metadata": {},
     "output_type": "display_data"
    }
   ],
   "source": [
    "tau=2.0\n",
    "plt.plot(t_arr, ramp(t_arr,tau), 'b-')#, label=r'$\\Delta=1$')\n",
    "plt.xlabel(r'$t$', fontsize=14)\n",
    "plt.ylabel(r'$\\lambda(t)$', fontsize=14)\n",
    "plt.grid()\n",
    "plt.title(r'$\\tau=2$')\n",
    "plt.savefig(\"lambda_LZ.eps\")"
   ]
  },
  {
   "cell_type": "code",
   "execution_count": 88,
   "metadata": {
    "collapsed": false
   },
   "outputs": [
    {
     "data": {
      "image/png": "[encoded data removed]",
      "text/plain": [
       "<matplotlib.figure.Figure at 0x7f26c426bb50>"
      ]
     },
     "metadata": {},
     "output_type": "display_data"
    }
   ],
   "source": [
    "fig = plt.figure()\n",
    "ax1 = fig.add_subplot(111)\n",
    "ax1.plot(t_arr, energy_gs, 'r', label= 'GS')\n",
    "ax1.plot(t_arr, energy_es, 'b', label= 'ES')\n",
    "ax1.grid()\n",
    "ax1.set_xlabel('t', fontsize=14)\n",
    "ax1.set_ylabel(r'$E$', fontsize=14)\n",
    "ax2 = ax1.twiny()\n",
    "\n",
    "ax2.plot(ramp(t_arr,tau), energy_gs, 'r', label= 'GS')\n",
    "ax2.plot(ramp(t_arr, tau), energy_es, 'b', label= 'ES')\n",
    "ax2.set_xlabel(r'$\\lambda(t)$', fontsize=14)\n",
    "plt.legend(loc='best')\n",
    "plt.savefig(\"energy_LZ.eps\")"
   ]
  },
  {
   "cell_type": "code",
   "execution_count": 91,
   "metadata": {
    "collapsed": false
   },
   "outputs": [],
   "source": [
    "tau_arr_del1=np.logspace(-3,2,50)\n",
    "Delta=1.0\n",
    "fidelity_arr_del1=np.zeros(len(tau_arr_del1))\n",
    "energy_es=np.zeros(len(tau_arr_del1))\n",
    "for i in range(len(tau_arr_del1)):\n",
    "    tau=tau_arr_del1[i]\n",
    "    tf=1.0+tau\n",
    "    ti=1.0 -tau\n",
    "    tf=tau+1.0\n",
    "    H=Ham(tau, Delta)\n",
    "    E,V=H.eigh(time=ti)\n",
    "    psi0=V[:,0] #ground state of t=ti hamiltonian\n",
    "    psi = H.evolve(psi0,ti,tf) # evolution of time\n",
    "    fidelity_arr_del1[i]=fidelity(tf,psi, H)"
   ]
  },
  {
   "cell_type": "code",
   "execution_count": 92,
   "metadata": {
    "collapsed": false
   },
   "outputs": [],
   "source": [
    "tau_arr_del2=np.logspace(-3,2,50)\n",
    "Delta=2.0\n",
    "fidelity_arr_del2=np.zeros(len(tau_arr_del2))\n",
    "energy_es=np.zeros(len(tau_arr_del2))\n",
    "for i in range(len(tau_arr_del2)):\n",
    "    tau=tau_arr_del2[i]\n",
    "    tf=1.0+tau\n",
    "    ti=1.0 -tau\n",
    "    tf=tau+1.0\n",
    "    H=Ham(tau, Delta)\n",
    "    E,V=H.eigh(time=ti)\n",
    "    psi0=V[:,0] #ground state of t=ti hamiltonian\n",
    "    psi = H.evolve(psi0,ti,tf) # evolution of time\n",
    "    fidelity_arr_del2[i]=fidelity(tf,psi, H)"
   ]
  },
  {
   "cell_type": "code",
   "execution_count": 39,
   "metadata": {
    "collapsed": true
   },
   "outputs": [],
   "source": [
    "def fidelity(t,psi, Ham):\n",
    "    energy,evector=Ham.eigh(time=t)\n",
    "    psi_gs=evector[:,0]\n",
    "    return np.abs(np.vdot(psi_gs,psi))**2"
   ]
  },
  {
   "cell_type": "code",
   "execution_count": 95,
   "metadata": {
    "collapsed": false
   },
   "outputs": [
    {
     "data": {
      "image/png": "[encoded data removed]",
      "text/plain": [
       "<matplotlib.figure.Figure at 0x7f26c3b76610>"
      ]
     },
     "metadata": {},
     "output_type": "display_data"
    }
   ],
   "source": [
    "plt.semilogx(tau_arr_del1, fidelity_arr_del1, 'b-', label=r'$\\Delta=1$')\n",
    "plt.semilogx(tau_arr_del2, fidelity_arr_del2, 'r-', label=r'$\\Delta=2$')\n",
    "plt.xlabel(r'$\\tau$', fontsize=14)\n",
    "plt.ylabel(r'$F^2$', fontsize=14)\n",
    "plt.grid()\n",
    "plt.legend(loc='best')\n",
    "plt.savefig(\"fidelity_LZ.eps\")"
   ]
  },
  {
   "cell_type": "markdown",
   "metadata": {},
   "source": [
    "### Two level system : rotating magnetic field"
   ]
  },
  {
   "cell_type": "code",
   "execution_count": 5,
   "metadata": {
    "collapsed": true
   },
   "outputs": [],
   "source": [
    "def Ham(tau, Delta):\n",
    "    L=1 # system size\n",
    "    def ramp(t):\n",
    "        return 2*t/tau\n",
    "    ramp_args=[]\n",
    "\n",
    "    basis = spin_basis_1d(L)\n",
    "    \n",
    "    J_z = [[Delta,i] for i in range(L)]\n",
    "    # static and dynamic lists\n",
    "    static = [[\"z\",J_z]]\n",
    "    dynamic =[[\"x\",J_z,ramp,ramp_args]]\n",
    "    \n",
    "    H = hamiltonian(static,dynamic,basis=basis,dtype=np.float_, check_symm=False, check_herm=False)\n",
    "    return H"
   ]
  },
  {
   "cell_type": "code",
   "execution_count": 6,
   "metadata": {
    "collapsed": true
   },
   "outputs": [],
   "source": [
    "def fidelity(t,psi, Ham):\n",
    "    energy,evector=Ham.eigh(time=t)\n",
    "    psi_gs=evector[:,0]\n",
    "    return np.abs(np.vdot(psi_gs,psi))**2"
   ]
  },
  {
   "cell_type": "code",
   "execution_count": 9,
   "metadata": {
    "collapsed": false
   },
   "outputs": [],
   "source": [
    "tau_arr_del1=np.logspace(-3,2,50)\n",
    "Delta=1.0\n",
    "fidelity_arr_del1=np.zeros(len(tau_arr_del1))\n",
    "energy_es=np.zeros(len(tau_arr_del1))\n",
    "for i in range(len(tau_arr_del1)):\n",
    "    tau=tau_arr_del1[i]\n",
    "    ti=-tau\n",
    "    tf=tau\n",
    "    H=Ham(tau, Delta)\n",
    "    E,V=H.eigh(time=ti)\n",
    "    psi0=V[:,0] #ground state of t=ti hamiltonian\n",
    "    psi = H.evolve(psi0,ti,tf) # evolution of time\n",
    "    fidelity_arr_del1[i]=fidelity(tf,psi, H)"
   ]
  },
  {
   "cell_type": "code",
   "execution_count": 10,
   "metadata": {
    "collapsed": false
   },
   "outputs": [],
   "source": [
    "tau_arr_del10=np.logspace(-3,2,50)\n",
    "Delta=10.0\n",
    "fidelity_arr_del10=np.zeros(len(tau_arr_del10))\n",
    "energy_es=np.zeros(len(tau_arr_del10))\n",
    "for i in range(len(tau_arr_del1)):\n",
    "    tau=tau_arr_del10[i]\n",
    "    ti=-tau\n",
    "    tf=tau\n",
    "    H=Ham(tau, Delta)\n",
    "    E,V=H.eigh(time=ti)\n",
    "    psi0=V[:,0] #ground state of t=ti hamiltonian\n",
    "    psi = H.evolve(psi0,ti,tf) # evolution of time\n",
    "    fidelity_arr_del10[i]=fidelity(tf,psi, H)"
   ]
  },
  {
   "cell_type": "code",
   "execution_count": 22,
   "metadata": {
    "collapsed": false
   },
   "outputs": [
    {
     "data": {
      "text/plain": [
       "<matplotlib.legend.Legend at 0x7f4d99b0d950>"
      ]
     },
     "execution_count": 22,
     "metadata": {},
     "output_type": "execute_result"
    },
    {
     "data": {
      "image/png": "[encoded data removed]",
      "text/plain": [
       "<matplotlib.figure.Figure at 0x7f4d9a48ef90>"
      ]
     },
     "metadata": {},
     "output_type": "display_data"
    }
   ],
   "source": [
    "plt.semilogx(tau_arr_del1, fidelity_arr_del1, 'b-', label=r'$\\Delta=1$')\n",
    "plt.semilogx(tau_arr_del10, fidelity_arr_del10, 'r-', label=r'$\\Delta=10$')\n",
    "plt.semilogx(tau_arr_del10_rot, fidelity_arr_del10_rot, 'g-', label=r'$\\Delta=10, rot$')\n",
    "plt.xlabel(r'$\\tau$', fontsize=14)\n",
    "plt.ylabel(r'$F^2$', fontsize=14)\n",
    "plt.grid()\n",
    "plt.legend(loc='best')\n",
    "#plt.savefig(\"fidelity_LZ.eps\")"
   ]
  },
  {
   "cell_type": "code",
   "execution_count": 20,
   "metadata": {
    "collapsed": false
   },
   "outputs": [],
   "source": [
    "def Ham_LZ_rotating(tau, Delta):\n",
    "    L=1 # system size\n",
    "    def ramp(t):\n",
    "        return 2*(t-tau)*np.cos(Delta*t)/tau\n",
    "    ramp_args=[]\n",
    "\n",
    "    basis = spin_basis_1d(L)\n",
    "    \n",
    "    J_z = [[Delta,i] for i in range(L)]\n",
    "    # static and dynamic lists\n",
    "    static = [[\"z\",J_z]]\n",
    "    dynamic =[[\"x\",J_z,ramp,ramp_args]]\n",
    "    \n",
    "    H = hamiltonian(static,dynamic,basis=basis,dtype=np.float_, check_symm=False, check_herm=False)\n",
    "    return H"
   ]
  },
  {
   "cell_type": "code",
   "execution_count": 21,
   "metadata": {
    "collapsed": true
   },
   "outputs": [],
   "source": [
    "tau_arr_del10_rot=np.logspace(-3,2,50)\n",
    "Delta=10.0\n",
    "fidelity_arr_del10_rot=np.zeros(len(tau_arr_del10))\n",
    "energy_es=np.zeros(len(tau_arr_del10))\n",
    "for i in range(len(tau_arr_del1)):\n",
    "    tau=tau_arr_del10_rot[i]\n",
    "    ti=0.0\n",
    "    tf=2*tau\n",
    "    H=Ham_LZ_rotating(tau, Delta)\n",
    "    E,V=H.eigh(time=ti)\n",
    "    psi0=V[:,0] #ground state of t=ti hamiltonian\n",
    "    psi = H.evolve(psi0,ti,tf) # evolution of time\n",
    "    fidelity_arr_del10_rot[i]=fidelity(tf,psi, H)"
   ]
  },
  {
   "cell_type": "markdown",
   "metadata": {},
   "source": [
    "### Three level system : NV center problem"
   ]
  },
  {
   "cell_type": "code",
   "execution_count": 14,
   "metadata": {
    "collapsed": true
   },
   "outputs": [],
   "source": [
    "def Ham_NV(tau):\n",
    "    L=1 # system size\n",
    "    basis = spin_basis_1d(L, S='1', pauli=False)\n",
    "    Delta=1.0\n",
    "    J_z = [[Delta,i] for i in range(L)]\n",
    "    # static and dynamic lists\n",
    "    static_z = [[\"z\",J_z]]\n",
    "    dynamic_z =[]\n",
    "    \n",
    "    S_z = hamiltonian(static_z,dynamic_z,basis=basis,dtype=np.float_, check_symm=False, check_herm=False)\n",
    "    \n",
    "    def ramp(t):\n",
    "        gamma_eff=2.8 *1e9/ (2*np.pi*1e9) # 1000 G magnetic field assumed\n",
    "        return 0.5*gamma_eff*t/tau\n",
    "    ramp_args=[]\n",
    "\n",
    "    J_x = [[Delta,i] for i in range(L)]\n",
    "    static_x = []\n",
    "    dynamic_x =[[\"+\",J_x,ramp,ramp_args], [\"-\",J_x,ramp,ramp_args]]\n",
    "    \n",
    "    S_x_t= 0.5*hamiltonian(static_x,dynamic_x,basis=basis,dtype=np.float_, check_symm=False, check_herm=False)\n",
    "    H= Delta*S_z**2 + S_x_t\n",
    "    return H"
   ]
  },
  {
   "cell_type": "code",
   "execution_count": 23,
   "metadata": {
    "collapsed": false
   },
   "outputs": [],
   "source": [
    "def fidelity(t,psi, Ham):\n",
    "    energy,evector=Ham.eigh(time=t)\n",
    "    psi_gs=evector[:,0]\n",
    "    return np.abs(np.vdot(psi_gs,psi))**2"
   ]
  },
  {
   "cell_type": "code",
   "execution_count": 139,
   "metadata": {
    "collapsed": false
   },
   "outputs": [
    {
     "data": {
      "text/plain": [
       "array([[  1.        ,  12.72792206,   0.        ],\n",
       "       [ 12.72792206,   0.        ,  12.72792206],\n",
       "       [  0.        ,  12.72792206,   1.        ]])"
      ]
     },
     "execution_count": 139,
     "metadata": {},
     "output_type": "execute_result"
    }
   ],
   "source": [
    "H(time=10.0).toarray()"
   ]
  },
  {
   "cell_type": "code",
   "execution_count": 15,
   "metadata": {
    "collapsed": false
   },
   "outputs": [],
   "source": [
    "def magnetic_field(t,tau):\n",
    "        B= 1e3*0.5*t/tau\n",
    "        return B"
   ]
  },
  {
   "cell_type": "code",
   "execution_count": 45,
   "metadata": {
    "collapsed": true
   },
   "outputs": [],
   "source": [
    "tau=2.0\n",
    "tf=tau\n",
    "ti=-tau\n",
    "H=Ham_NV(tau)\n",
    "#psi0=V0[:,0] #ground state of t=0 hamiltonian\n",
    "t_arr=np.linspace(ti,tf,20)\n",
    "energy_gs=np.zeros(len(t_arr))\n",
    "energy_es=np.zeros(len(t_arr))\n",
    "energy_2es=np.zeros(len(t_arr))\n",
    "for i in range(len(t_arr)):\n",
    "    E,V=H.eigh(time=t_arr[i])\n",
    "    energy_gs[i]=E[0]\n",
    "    energy_es[i]=E[1]\n",
    "    energy_2es[i]=E[2]"
   ]
  },
  {
   "cell_type": "code",
   "execution_count": 46,
   "metadata": {
    "collapsed": false
   },
   "outputs": [
    {
     "data": {
      "image/png": "[encoded data removed]",
      "text/plain": [
       "<matplotlib.figure.Figure at 0x7f4cc80ab350>"
      ]
     },
     "metadata": {},
     "output_type": "display_data"
    }
   ],
   "source": [
    "fig = plt.figure()\n",
    "ax1 = fig.add_subplot(111)\n",
    "ax1.plot(magnetic_field(t_arr, tau), energy_gs, 'r', label= 'GS')\n",
    "ax1.plot(magnetic_field(t_arr, tau), energy_es, 'b', label= 'ES')\n",
    "ax1.plot(magnetic_field(t_arr, tau), energy_2es, 'k', label= '2ES')\n",
    "ax1.set_xlabel(r'Magnetic field (in G)', fontsize=14)\n",
    "ax1.set_ylabel(r'$E/ \\Delta$', fontsize=14)\n",
    "ax1.grid()\n",
    "pi=np.pi\n",
    "ax2 = ax1.twiny()\n",
    "ax2.plot(t_arr/(2*pi*2.87), energy_gs, 'r', label= 'GS')\n",
    "ax2.plot(t_arr/(2*pi*2.87), energy_es, 'b', label= '1ES')\n",
    "ax2.plot(t_arr/(2*pi*2.87), energy_2es, 'k', label= '2ES')\n",
    "ax2.set_xlabel('time (in nanosec)', fontsize=14)\n",
    "plt.legend(loc='best')\n",
    "plt.tight_layout()\n",
    "plt.savefig(\"energy_NV.eps\")"
   ]
  },
  {
   "cell_type": "code",
   "execution_count": 41,
   "metadata": {
    "collapsed": false
   },
   "outputs": [],
   "source": [
    "tau_arr=np.logspace(-5,1,50)\n",
    "fidelity_arr=np.zeros(len(tau_arr))\n",
    "energy_es=np.zeros(len(tau_arr))\n",
    "for i in range(len(tau_arr)):\n",
    "    tau=tau_arr[i]\n",
    "    tf=tau\n",
    "    ti=-tau\n",
    "    H=Ham_NV(tau)\n",
    "    E,V=H.eigh(time=ti)\n",
    "    psi0=V[:,0] #ground state of t=ti hamiltonian\n",
    "    psi = H.evolve(psi0,ti,tf) # evolution of time\n",
    "    fidelity_arr[i]=fidelity(tf,psi, H)\n",
    "    #print tau, fidelity_arr[i]"
   ]
  },
  {
   "cell_type": "code",
   "execution_count": 37,
   "metadata": {
    "collapsed": false
   },
   "outputs": [
    {
     "name": "stdout",
     "output_type": "stream",
     "text": [
      "1e-10 0.834313986035\n",
      "10.0 0.99933754246\n"
     ]
    }
   ],
   "source": [
    "tau_arr=np.logspace(-10,1,2)\n",
    "fidelity_arr=np.zeros(len(tau_arr))\n",
    "energy_es=np.zeros(len(tau_arr))\n",
    "for i in range(len(tau_arr)):\n",
    "    tau=tau_arr[i]\n",
    "    tf=tau\n",
    "    ti=-tau\n",
    "    H=Ham_NV(tau)\n",
    "    E,V=H.eigh(time=ti)\n",
    "    psi0=V[:,0] #ground state of t=ti hamiltonian\n",
    "    psi = H.evolve(psi0,ti,tf) # evolution of time\n",
    "    fidelity_arr[i]=fidelity(tf,psi, H)\n",
    "    print tau, fidelity_arr[i]"
   ]
  },
  {
   "cell_type": "code",
   "execution_count": 43,
   "metadata": {
    "collapsed": false
   },
   "outputs": [
    {
     "data": {
      "image/png": "[encoded data removed]",
      "text/plain": [
       "<matplotlib.figure.Figure at 0x7f4cc7d86790>"
      ]
     },
     "metadata": {},
     "output_type": "display_data"
    }
   ],
   "source": [
    "plt.semilogx(tau_arr/(2*np.pi*2.87), fidelity_arr, 'r-')#, label=r'$\\Delta=2$')\n",
    "plt.xlabel(r'$T$ (in nanosec)', fontsize=14)\n",
    "plt.ylabel(r'$F^2$', fontsize=14)\n",
    "plt.grid()\n",
    "#plt.legend(loc='best')\n",
    "plt.savefig(\"fidelity_NV_expt.eps\")"
   ]
  },
  {
   "cell_type": "markdown",
   "metadata": {},
   "source": [
    "### Time-dependent three level system : NV center problem"
   ]
  },
  {
   "cell_type": "code",
   "execution_count": 143,
   "metadata": {
    "collapsed": false
   },
   "outputs": [],
   "source": [
    "def Ham_NV_t():\n",
    "    L=1 # system size\n",
    "    basis = spin_basis_1d(L, S='1', pauli=False)\n",
    "    Delta=1.0\n",
    "    J_z = [[Delta,i] for i in range(L)]\n",
    "    # static and dynamic lists\n",
    "    static_z = [[\"z\",J_z]]\n",
    "    dynamic_z =[]\n",
    "    \n",
    "    S_z = hamiltonian(static_z,dynamic_z,basis=basis,dtype=np.float_, check_symm=False, check_herm=False)\n",
    "    \n",
    "    def ramp(t):\n",
    "        gamma_eff=1.0\n",
    "        return gamma_eff*np.cos(t)\n",
    "    ramp_args=[]\n",
    "\n",
    "    J_x = [[Delta,i] for i in range(L)]\n",
    "    static_x = []\n",
    "    dynamic_x =[[\"+\",J_x,ramp,ramp_args], [\"-\",J_x,ramp,ramp_args]]\n",
    "    \n",
    "    S_x_t= 0.5*hamiltonian(static_x,dynamic_x,basis=basis,dtype=np.float_, check_symm=False, check_herm=False)\n",
    "    H= Delta*S_z**2 + S_x_t\n",
    "    return H"
   ]
  },
  {
   "cell_type": "code",
   "execution_count": 144,
   "metadata": {
    "collapsed": false
   },
   "outputs": [
    {
     "name": "stdout",
     "output_type": "stream",
     "text": [
      "[[ 1.          0.70710678  0.        ]\n",
      " [ 0.70710678  0.          0.70710678]\n",
      " [ 0.          0.70710678  1.        ]]\n",
      "[[ 1.          0.70710678  0.        ]\n",
      " [ 0.70710678  0.          0.70710678]\n",
      " [ 0.          0.70710678  1.        ]]\n"
     ]
    }
   ],
   "source": [
    "H=Ham_NV_t()\n",
    "print H(time=0).toarray()\n",
    "print H(time= np.pi*2).toarray()"
   ]
  },
  {
   "cell_type": "code",
   "execution_count": 128,
   "metadata": {
    "collapsed": false
   },
   "outputs": [
    {
     "name": "stdout",
     "output_type": "stream",
     "text": [
      "[[ 1.  0.  0.]\n",
      " [ 0.  0.  0.]\n",
      " [ 0.  0.  1.]]\n",
      "[[ 1.          0.98994949  0.        ]\n",
      " [ 0.98994949  0.          0.98994949]\n",
      " [ 0.          0.98994949  1.        ]]\n",
      "1.0\n"
     ]
    }
   ],
   "source": [
    "print H(time=0.0).toarray()\n",
    "print H(time=2 *np.pi).toarray()\n",
    "print np.cos(2 *np.pi)"
   ]
  },
  {
   "cell_type": "code",
   "execution_count": 141,
   "metadata": {
    "collapsed": false
   },
   "outputs": [],
   "source": [
    "#tau=2.0\n",
    "T=1.0\n",
    "ti=0\n",
    "tf=20.0\n",
    "H=Ham_NV_t()\n",
    "#psi0=V0[:,0] #ground state of t=0 hamiltonian\n",
    "t_arr=np.linspace(ti,tf,1000)\n",
    "energy_gs=np.zeros(len(t_arr))\n",
    "energy_es=np.zeros(len(t_arr))\n",
    "energy_2es=np.zeros(len(t_arr))\n",
    "for i in range(len(t_arr)):\n",
    "    E,V=H.eigh(time=t_arr[i])\n",
    "    energy_gs[i]=E[0]\n",
    "    energy_es[i]=E[1]\n",
    "    energy_2es[i]=E[2]"
   ]
  },
  {
   "cell_type": "code",
   "execution_count": 146,
   "metadata": {
    "collapsed": false
   },
   "outputs": [
    {
     "data": {
      "image/png": "[encoded data removed]",
      "text/plain": [
       "<matplotlib.figure.Figure at 0x7f4cc803f050>"
      ]
     },
     "metadata": {},
     "output_type": "display_data"
    }
   ],
   "source": [
    "plt.grid()\n",
    "plt.plot(t_arr, energy_gs, 'r', label= 'GS')\n",
    "plt.plot(t_arr, energy_es, 'b', label= '1ES')\n",
    "plt.plot(t_arr, energy_2es, 'k', label= '2ES')\n",
    "plt.xlabel(r'$\\tau$ ', fontsize=14)\n",
    "plt.ylabel(r'$E/ \\Delta$', fontsize=14)\n",
    "plt.legend(loc='best')\n",
    "plt.tight_layout()\n",
    "plt.savefig(\"energy_NV_cosine.eps\")"
   ]
  },
  {
   "cell_type": "code",
   "execution_count": null,
   "metadata": {
    "collapsed": true
   },
   "outputs": [],
   "source": []
  },
  {
   "cell_type": "code",
   "execution_count": null,
   "metadata": {
    "collapsed": true
   },
   "outputs": [],
   "source": []
  }
 ],
 "metadata": {
  "kernelspec": {
   "display_name": "Python 2",
   "language": "python",
   "name": "python2"
  },
  "language_info": {
   "codemirror_mode": {
    "name": "ipython",
    "version": 2
   },
   "file_extension": ".py",
   "mimetype": "text/x-python",
   "name": "python",
   "nbconvert_exporter": "python",
   "pygments_lexer": "ipython2",
   "version": "2.7.13"
  }
 },
 "nbformat": 4,
 "nbformat_minor": 2
}

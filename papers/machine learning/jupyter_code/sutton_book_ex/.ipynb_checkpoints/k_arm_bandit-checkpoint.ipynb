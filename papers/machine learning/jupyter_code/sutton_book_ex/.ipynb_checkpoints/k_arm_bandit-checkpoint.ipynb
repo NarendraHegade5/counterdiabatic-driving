{
 "cells": [
  {
   "cell_type": "code",
   "execution_count": 1,
   "metadata": {
    "collapsed": true
   },
   "outputs": [],
   "source": [
    "import numpy as np\n",
    "import matplotlib.pyplot as plt\n",
    "%matplotlib inline"
   ]
  },
  {
   "cell_type": "markdown",
   "metadata": {},
   "source": [
    "## Bandit problem with negative average reward"
   ]
  },
  {
   "cell_type": "code",
   "execution_count": 12,
   "metadata": {
    "collapsed": false
   },
   "outputs": [],
   "source": [
    "mu, sigma = 0, 1.0 # mean and standard deviation\n",
    "np.random.seed(20)\n",
    "k=10\n",
    "q_fn= np.random.normal(mu, sigma, nmax)\n",
    "action_x= np.linspace(1,nmax,nmax)"
   ]
  },
  {
   "cell_type": "code",
   "execution_count": 8,
   "metadata": {
    "collapsed": false
   },
   "outputs": [
    {
     "name": "stdout",
     "output_type": "stream",
     "text": [
      "-0.0560603936272 7\n",
      "[ 0.88389311  0.19586502  0.35753652 -2.34326191 -1.08483259  0.55969629\n",
      "  0.93946935 -0.97848104  0.50309684  0.40641447]\n"
     ]
    }
   ],
   "source": [
    "print np.mean(q_fn), np.argmax(q_fn)+1\n",
    "print q_fn"
   ]
  },
  {
   "cell_type": "code",
   "execution_count": 9,
   "metadata": {
    "collapsed": false
   },
   "outputs": [
    {
     "data": {
      "image/png": "[encoded data removed]",
      "text/plain": [
       "<matplotlib.figure.Figure at 0x7f06423a58d0>"
      ]
     },
     "metadata": {},
     "output_type": "display_data"
    }
   ],
   "source": [
    "plt.errorbar(action_x,q_fn, xerr=0.0, yerr=sigma, capsize=10, color='b', fmt='o')\n",
    "plt.xlabel('action')\n",
    "plt.ylabel(r'$q_*(a)$', fontsize=13)\n",
    "plt.grid( )"
   ]
  },
  {
   "cell_type": "code",
   "execution_count": 13,
   "metadata": {
    "collapsed": false
   },
   "outputs": [],
   "source": [
    "reward_fn=np.random.normal(q_fn, 1.0,k)"
   ]
  },
  {
   "cell_type": "code",
   "execution_count": 14,
   "metadata": {
    "collapsed": false
   },
   "outputs": [
    {
     "data": {
      "image/png": "[encoded data removed]",
      "text/plain": [
       "<matplotlib.figure.Figure at 0x7f064208a6d0>"
      ]
     },
     "metadata": {},
     "output_type": "display_data"
    }
   ],
   "source": [
    "plt.errorbar(action_x, reward_fn, xerr=0.0, yerr=1.0, capsize=10, color='b', fmt='o')\n",
    "plt.xlabel('action')\n",
    "plt.ylabel('rewards')\n",
    "plt.grid()"
   ]
  },
  {
   "cell_type": "code",
   "execution_count": 40,
   "metadata": {
    "collapsed": false
   },
   "outputs": [],
   "source": [
    "def bandit_ten_armed(k, q_fn_star):\n",
    "    reward_fn=np.random.normal(q_fn_star, 1.0,k)# generates 10 points with mean=q_fn(i) and variance 1\n",
    "    return reward_fn#[action]    "
   ]
  },
  {
   "cell_type": "code",
   "execution_count": 41,
   "metadata": {
    "collapsed": true
   },
   "outputs": [],
   "source": [
    "def optimal_action_fn(k, q_fn_star):\n",
    "    return np.argmax(q_fn_star)"
   ]
  },
  {
   "cell_type": "code",
   "execution_count": 44,
   "metadata": {
    "collapsed": false
   },
   "outputs": [],
   "source": [
    "k=10\n",
    "N_steps=1000\n",
    "N_exp=1000\n",
    "mu, sigma = 0, 1.0 # mean and standard deviation\n",
    "action_possible= np.linspace(0,k-1,k, dtype=int)#action goes 0 to 9\n",
    "\n",
    "seedvalue_arr=np.linspace(1,N_exp, N_exp, dtype=int)\n",
    "Q_fn_arr=np.zeros((k,N_steps+1, N_exp))\n",
    "\n",
    "epsilon=0.1\n",
    "counter_optimal=np.zeros(N_steps)\n",
    "\n",
    "for j in range(N_exp):\n",
    "    N_fn_a=np.zeros(k) #N(a)\n",
    "    ###\n",
    "    np.random.seed(seedvalue_arr[j])\n",
    "    q_fn_star= np.random.normal(mu, sigma, k)#actual q_fn_star\n",
    "    ###\n",
    "    for i in range(N_steps):\n",
    "        p=np.random.uniform(0,1.0) \n",
    "        #print 'Q', Q_fn_arr[:,i]\n",
    "        #print 'N', N_fn_a\n",
    "        if p < epsilon: #prob epsilon #exploration\n",
    "            action_chosen=np.random.randint(0,10) #integers is from [0,10)\n",
    "            #counter+=1\n",
    "        #    print 'epsilon', counter, action\n",
    "        else: #prob 1-epsilon\n",
    "            if i==0:\n",
    "                action_chosen=np.random.randint(0,10) #first step every Q(a) would be zero\n",
    "            else:\n",
    "                Q_fn_temp=Q_fn_arr[:,i,j]\n",
    "                action_chosen=np.argmax(Q_fn_temp)  #greedy action #exploitation\n",
    "        reward_possible=bandit_ten_armed(k,q_fn_star)\n",
    "        reward_obt=reward_possible[action_chosen]\n",
    "        optimal_action=optimal_action_fn(k,q_fn_star)\n",
    "        if optimal_action==action_chosen:\n",
    "            #print j,i,'hi'\n",
    "            counter_optimal[i]=counter_optimal[i]+1 #increasing count of optimal actions taken for i-th step in 1\n",
    "        N_fn_a[action_chosen]+=1 #expt realization\n",
    "        Q_fn_arr[:,i+1,j]=Q_fn_arr[:,i,j]# we should not forget reward estimate for previous step\n",
    "        Q_fn_arr[action_chosen,i+1,j]+=(reward_obt-Q_fn_arr[action_chosen,i,j])/N_fn_a[action_chosen]\n",
    "\n",
    "Q_fn_arr_final=np.mean(Q_fn_arr, axis=2) # avg over N_exp\n",
    "Q_fn_arr_final=np.mean(Q_fn_arr_final, axis=0) # avg over 10 actions\n",
    "counter_optimal=100*counter_optimal/N_exp"
   ]
  },
  {
   "cell_type": "code",
   "execution_count": 47,
   "metadata": {
    "collapsed": false
   },
   "outputs": [],
   "source": [
    "k=10\n",
    "N_steps=1000\n",
    "N_exp=1000\n",
    "mu, sigma = 0, 1.0 # mean and standard deviation\n",
    "action_possible= np.linspace(0,k-1,k, dtype=int)#action goes 0 to 9\n",
    "\n",
    "seedvalue_arr=np.linspace(1,N_exp, N_exp, dtype=int)\n",
    "Q_fn_arr_small_eps=np.zeros((k,N_steps+1, N_exp))\n",
    "\n",
    "epsilon=0.01\n",
    "counter_optimal_small_eps=np.zeros(N_steps)\n",
    "\n",
    "for j in range(N_exp):\n",
    "    N_fn_a=np.zeros(k) #N(a)\n",
    "    ###\n",
    "    np.random.seed(seedvalue_arr[j])\n",
    "    q_fn_star= np.random.normal(mu, sigma, k)#actual q_fn_star\n",
    "    ###\n",
    "    for i in range(N_steps):\n",
    "        p=np.random.uniform(0,1.0) \n",
    "        #print 'Q', Q_fn_arr[:,i]\n",
    "        #print 'N', N_fn_a\n",
    "        if p < epsilon: #prob epsilon #exploration\n",
    "            action_chosen=np.random.randint(0,10) #integers is from [0,10)\n",
    "            #counter+=1\n",
    "        #    print 'epsilon', counter, action\n",
    "        else: #prob 1-epsilon\n",
    "            if i==0:\n",
    "                action_chosen=np.random.randint(0,10) #first step every Q(a) would be zero\n",
    "            else:\n",
    "                Q_fn_temp=Q_fn_arr_small_eps[:,i,j]\n",
    "                action_chosen=np.argmax(Q_fn_temp)  #greedy action #exploitation\n",
    "        reward_possible=bandit_ten_armed(k,q_fn_star)\n",
    "        reward_obt=reward_possible[action_chosen]\n",
    "        optimal_action=optimal_action_fn(k,q_fn_star)\n",
    "        if optimal_action==action_chosen:\n",
    "            #print j,i,'hi'\n",
    "            counter_optimal_small_eps[i]=counter_optimal_small_eps[i]+1 #increasing count of optimal actions taken for i-th step in 1\n",
    "        N_fn_a[action_chosen]+=1 #expt realization\n",
    "        Q_fn_arr_small_eps[:,i+1,j]=Q_fn_arr_small_eps[:,i,j]# we should not forget reward estimate for previous step\n",
    "        Q_fn_arr_small_eps[action_chosen,i+1,j]+=(reward_obt-Q_fn_arr_small_eps[action_chosen,i,j])/N_fn_a[action_chosen]\n",
    "\n",
    "Q_fn_arr_final_small_eps=np.mean(Q_fn_arr_small_eps, axis=2) # avg over N_exp\n",
    "Q_fn_arr_final_small_eps=np.mean(Q_fn_arr_final_small_eps, axis=0) # avg over 10 actions\n",
    "counter_optimal_small_eps=100*counter_optimal_small_eps/N_exp"
   ]
  },
  {
   "cell_type": "code",
   "execution_count": 50,
   "metadata": {
    "collapsed": false
   },
   "outputs": [],
   "source": [
    "k=10\n",
    "N_steps=1000\n",
    "N_exp=1000\n",
    "mu, sigma = 0, 1.0 # mean and standard deviation\n",
    "action_possible= np.linspace(0,k-1,k, dtype=int)#action goes 0 to 9\n",
    "\n",
    "seedvalue_arr=np.linspace(1,N_exp, N_exp, dtype=int)\n",
    "Q_fn_arr_greedy=np.zeros((k,N_steps+1, N_exp))\n",
    "\n",
    "epsilon=0.0\n",
    "counter_optimal_greedy=np.zeros(N_steps)\n",
    "\n",
    "for j in range(N_exp):\n",
    "    N_fn_a=np.zeros(k) #N(a)\n",
    "    ###\n",
    "    np.random.seed(seedvalue_arr[j])\n",
    "    q_fn_star= np.random.normal(mu, sigma, k)#actual q_fn_star\n",
    "    ###\n",
    "    for i in range(N_steps):\n",
    "        p=np.random.uniform(0,1.0) \n",
    "        #print 'Q', Q_fn_arr[:,i]\n",
    "        #print 'N', N_fn_a\n",
    "        if p < epsilon: #prob epsilon #exploration\n",
    "            action_chosen=np.random.randint(0,10) #integers is from [0,10)\n",
    "            #counter+=1\n",
    "        #    print 'epsilon', counter, action\n",
    "        else: #prob 1-epsilon\n",
    "            if i==0:\n",
    "                action_chosen=np.random.randint(0,10) #first step every Q(a) would be zero\n",
    "            else:\n",
    "                Q_fn_temp=Q_fn_arr_greedy[:,i,j]\n",
    "                action_chosen=np.argmax(Q_fn_temp)  #greedy action #exploitation\n",
    "        reward_possible=bandit_ten_armed(k,q_fn_star)\n",
    "        reward_obt=reward_possible[action_chosen]\n",
    "        optimal_action=optimal_action_fn(k,q_fn_star)\n",
    "        if optimal_action==action_chosen:\n",
    "            #print j,i,'hi'\n",
    "            counter_optimal_greedy[i]=counter_optimal_greedy[i]+1 #increasing count of optimal actions taken for i-th step in 1\n",
    "        N_fn_a[action_chosen]+=1 #expt realization\n",
    "        Q_fn_arr_greedy[:,i+1,j]=Q_fn_arr_greedy[:,i,j]# we should not forget reward estimate for previous step\n",
    "        Q_fn_arr_greedy[action_chosen,i+1,j]+=(reward_obt-Q_fn_arr_greedy[action_chosen,i,j])/N_fn_a[action_chosen]\n",
    "\n",
    "Q_fn_arr_final_greedy=np.mean(Q_fn_arr_greedy, axis=2) # avg over N_exp\n",
    "Q_fn_arr_final_greedy=np.mean(Q_fn_arr_final_greedy, axis=0) # avg over 10 actions\n",
    "counter_optimal_greedy=100*counter_optimal_greedy/N_exp"
   ]
  },
  {
   "cell_type": "code",
   "execution_count": 55,
   "metadata": {
    "collapsed": false
   },
   "outputs": [
    {
     "data": {
      "image/png": "[encoded data removed]",
      "text/plain": [
       "<matplotlib.figure.Figure at 0x7f0630e18f50>"
      ]
     },
     "metadata": {},
     "output_type": "display_data"
    }
   ],
   "source": [
    "x=np.linspace(1,N_steps+1,N_steps+1)\n",
    "plt.plot(x, Q_fn_arr_final, 'b-', label=r'$\\epsilon=0.1$')\n",
    "plt.plot(x, Q_fn_arr_final_small_eps, 'k-',label=r'$\\epsilon=0.01$')\n",
    "plt.plot(x, Q_fn_arr_final_greedy, 'r-', label=r'$\\epsilon=0$(greedy)')\n",
    "plt.xlabel('steps')\n",
    "plt.ylabel('Avg reward $Q(a)$')\n",
    "plt.grid()\n",
    "plt.legend(loc='best')\n",
    "plt.savefig('reward_neg_new.eps')"
   ]
  },
  {
   "cell_type": "code",
   "execution_count": 56,
   "metadata": {
    "collapsed": false
   },
   "outputs": [
    {
     "data": {
      "image/png": "[encoded data removed]",
      "text/plain": [
       "<matplotlib.figure.Figure at 0x7f0630de6590>"
      ]
     },
     "metadata": {},
     "output_type": "display_data"
    }
   ],
   "source": [
    "x=np.linspace(1,N_steps,N_steps)\n",
    "plt.plot(x, counter_optimal, 'b-.', label=r'$\\epsilon=0.1$')\n",
    "plt.plot(x, counter_optimal_small_eps, 'k-.',label=r'$\\epsilon=0.01$')\n",
    "plt.plot(x, counter_optimal_greedy, 'r-',  label=r'$\\epsilon=0$(greedy)')\n",
    "plt.xlabel('steps')\n",
    "plt.ylabel(r'Optimal action %')\n",
    "plt.grid()\n",
    "plt.legend(loc='best')\n",
    "plt.savefig('optimal_neg_reward_new.eps')"
   ]
  },
  {
   "cell_type": "markdown",
   "metadata": {},
   "source": [
    "## Bandit problem with positive average reward"
   ]
  },
  {
   "cell_type": "code",
   "execution_count": 201,
   "metadata": {
    "collapsed": false
   },
   "outputs": [],
   "source": [
    "mu, sigma = 0, 1.0 # mean and standard deviation\n",
    "np.random.seed(200)\n",
    "nmax=10\n",
    "q_fn= np.random.normal(mu, sigma, nmax)\n",
    "action_x= np.linspace(1,nmax,nmax)"
   ]
  },
  {
   "cell_type": "code",
   "execution_count": 202,
   "metadata": {
    "collapsed": false
   },
   "outputs": [
    {
     "data": {
      "text/plain": [
       "0.16086389302546783"
      ]
     },
     "execution_count": 202,
     "metadata": {},
     "output_type": "execute_result"
    }
   ],
   "source": [
    "np.mean(q_fn)"
   ]
  },
  {
   "cell_type": "code",
   "execution_count": 203,
   "metadata": {
    "collapsed": false
   },
   "outputs": [
    {
     "data": {
      "image/png": "[encoded data removed]",
      "text/plain": [
       "<matplotlib.figure.Figure at 0x7ff53670f250>"
      ]
     },
     "metadata": {},
     "output_type": "display_data"
    }
   ],
   "source": [
    "plt.errorbar(action_x, q_fn, xerr=0.0, yerr=sigma, capsize=10, color='b', fmt='o')\n",
    "plt.xlabel('action')\n",
    "plt.ylabel(r'$q_*(a)$', fontsize=13)\n",
    "plt.grid()"
   ]
  },
  {
   "cell_type": "code",
   "execution_count": 204,
   "metadata": {
    "collapsed": true
   },
   "outputs": [],
   "source": [
    "mu, sigma = 0, 1.0 # mean and standard deviation\n",
    "np.random.seed(200)\n",
    "nmax=10\n",
    "q_fn_star= np.random.normal(mu, sigma, nmax)#actual q_fn_star\n",
    "action_x= np.linspace(1,nmax,nmax, dtype=int)\n",
    "def bandit_ten_armed_pos(action,q_fn_star):\n",
    "    reward_fn=np.random.normal(q_fn, 1.0,len(q_fn))# generates 10 points with mean=q_fn(i) and variance 1\n",
    "    return reward_fn[action]  "
   ]
  },
  {
   "cell_type": "code",
   "execution_count": 205,
   "metadata": {
    "collapsed": true
   },
   "outputs": [],
   "source": [
    "k=10\n",
    "N_steps=1000\n",
    "N_exp=1000\n",
    "\n",
    "Q_fn_arr_pos=np.zeros((k,N_steps+1, N_exp))\n",
    "epsilon=0.1\n",
    "counter=0\n",
    "for j in range(N_exp):\n",
    "    N_fn_a=np.zeros(k) #N(a)\n",
    "    for i in range(N_steps):\n",
    "        p=np.random.uniform(0,1.0)\n",
    "        #print 'Q', Q_fn_arr[:,i]\n",
    "        #print 'N', N_fn_a\n",
    "        if p < epsilon: #prob epsilon #exploration\n",
    "            action=np.random.randint(1,10)\n",
    "            counter+=1\n",
    "        #    print 'epsilon', counter, action\n",
    "        else: #prob 1-epsilon\n",
    "            if i==0:\n",
    "                action=np.random.randint(1,10) #first step every Q(a) would be zero\n",
    "            else:\n",
    "                Q_fn_temp=Q_fn_arr_pos[:,i,j]\n",
    "                action=np.argmax(Q_fn_temp) #greedy action #exploitation\n",
    "        reward=bandit_ten_armed_pos(action,q_fn_star)\n",
    "        N_fn_a[action]+=1\n",
    "        Q_fn_arr_pos[:,i+1,j]=Q_fn_arr_pos[:,i,j]# we should not forget reward estimate for previous step\n",
    "        Q_fn_arr_pos[action,i+1,j]+=(reward-Q_fn_arr_pos[action,i,j])/N_fn_a[action]\n",
    "\n",
    "Q_fn_arr_final_pos=np.mean(Q_fn_arr_pos, axis=2) # avg over N_exp\n",
    "Q_fn_arr_final_pos=np.mean(Q_fn_arr_final_pos, axis=0) # avg over 10 actions"
   ]
  },
  {
   "cell_type": "code",
   "execution_count": 210,
   "metadata": {
    "collapsed": false
   },
   "outputs": [],
   "source": [
    "k=10\n",
    "N_steps=1000\n",
    "N_exp=1000\n",
    "\n",
    "Q_fn_arr_small_eps_pos=np.zeros((k,N_steps+1, N_exp))\n",
    "epsilon=0.01\n",
    "counter=0\n",
    "for j in range(N_exp):\n",
    "    N_fn_a=np.zeros(k) #N(a)\n",
    "    for i in range(N_steps):\n",
    "        p=np.random.uniform(0,1.0)\n",
    "        #print 'Q', Q_fn_arr[:,i]\n",
    "        #print 'N', N_fn_a\n",
    "        if p < epsilon: #prob epsilon #exploration\n",
    "            action=np.random.randint(1,10)\n",
    "            counter+=1\n",
    "        #    print 'epsilon', counter, action\n",
    "        else: #prob 1-epsilon\n",
    "            if i==0:\n",
    "                action=np.random.randint(1,10) #first step every Q(a) would be zero\n",
    "            else:\n",
    "                Q_fn_temp=Q_fn_arr_small_eps_pos[:,i,j]\n",
    "                action=np.argmax(Q_fn_temp) #greedy action #exploitation\n",
    "        reward=bandit_ten_armed_pos(action,q_fn_star)\n",
    "        N_fn_a[action]+=1\n",
    "        Q_fn_arr_small_eps_pos[:,i+1,j]=Q_fn_arr_small_eps_pos[:,i,j]# we should not forget reward estimate for previous step\n",
    "        Q_fn_arr_small_eps_pos[action,i+1,j]+=(reward-Q_fn_arr_small_eps_pos[action,i,j])/N_fn_a[action]\n",
    "\n",
    "Q_fn_arr_small_eps_final_pos=np.mean(Q_fn_arr_small_eps_pos, axis=2) # avg over N_exp\n",
    "Q_fn_arr_small_eps_final_pos=np.mean(Q_fn_arr_small_eps_final_pos, axis=0) # avg over 10 actions"
   ]
  },
  {
   "cell_type": "code",
   "execution_count": 212,
   "metadata": {
    "collapsed": true
   },
   "outputs": [],
   "source": [
    "k=10\n",
    "N_steps=1000\n",
    "N_exp=1000\n",
    "\n",
    "Q_fn_arr_greedy_pos=np.zeros((k,N_steps+1, N_exp))\n",
    "epsilon=0.0\n",
    "counter=0\n",
    "for j in range(N_exp):\n",
    "    N_fn_a=np.zeros(k) #N(a)\n",
    "    for i in range(N_steps):\n",
    "        p=np.random.uniform(0,1.0)\n",
    "        #print 'Q', Q_fn_arr[:,i]\n",
    "        #print 'N', N_fn_a\n",
    "        if p < epsilon: #prob epsilon #exploration\n",
    "            action=np.random.randint(1,10)\n",
    "            counter+=1\n",
    "        #    print 'epsilon', counter, action\n",
    "        else: #prob 1-epsilon\n",
    "            if i==0:\n",
    "                action=np.random.randint(1,10) #first step every Q(a) would be zero\n",
    "            else:\n",
    "                Q_fn_temp=Q_fn_arr_greedy_pos[:,i,j]\n",
    "                action=np.argmax(Q_fn_temp) #greedy action #exploitation\n",
    "        reward=bandit_ten_armed_pos(action,q_fn_star)\n",
    "        N_fn_a[action]+=1\n",
    "        Q_fn_arr_greedy_pos[:,i+1,j]=Q_fn_arr_greedy_pos[:,i,j]# we should not forget reward estimate for previous step\n",
    "        Q_fn_arr_greedy_pos[action,i+1,j]+=(reward-Q_fn_arr_greedy_pos[action,i,j])/N_fn_a[action]\n",
    "\n",
    "Q_fn_arr_greedy_final_pos=np.mean(Q_fn_arr_greedy_pos, axis=2) # avg over N_exp\n",
    "Q_fn_arr_greedy__final_pos=np.mean(Q_fn_arr_greedy_final_pos, axis=0) # avg over 10 actions"
   ]
  },
  {
   "cell_type": "code",
   "execution_count": 214,
   "metadata": {
    "collapsed": false
   },
   "outputs": [
    {
     "data": {
      "image/png": "[encoded data removed]",
      "text/plain": [
       "<matplotlib.figure.Figure at 0x7ff536272f10>"
      ]
     },
     "metadata": {},
     "output_type": "display_data"
    }
   ],
   "source": [
    "x=np.linspace(1,N_steps+1,N_steps+1)\n",
    "plt.plot(x, Q_fn_arr_final_pos, 'b-', label=r'$\\epsilon=0.1$')\n",
    "plt.plot(x, Q_fn_arr_small_eps_final_pos, 'k-',label=r'$\\epsilon=0.01$')\n",
    "plt.plot(x, Q_fn_arr_greedy__final_pos, 'r-', label=r'greedy')\n",
    "plt.xlabel('steps')\n",
    "plt.ylabel('Avg reward $Q(a)$')\n",
    "plt.grid()\n",
    "plt.legend(loc='best')\n",
    "plt.savefig('reward_pos.eps')"
   ]
  },
  {
   "cell_type": "code",
   "execution_count": 207,
   "metadata": {
    "collapsed": false
   },
   "outputs": [
    {
     "data": {
      "text/plain": [
       "0.0"
      ]
     },
     "execution_count": 207,
     "metadata": {},
     "output_type": "execute_result"
    }
   ],
   "source": [
    "Q_fn_arr_final_pos[0]"
   ]
  },
  {
   "cell_type": "code",
   "execution_count": null,
   "metadata": {
    "collapsed": true
   },
   "outputs": [],
   "source": []
  }
 ],
 "metadata": {
  "kernelspec": {
   "display_name": "Python 2",
   "language": "python",
   "name": "python2"
  },
  "language_info": {
   "codemirror_mode": {
    "name": "ipython",
    "version": 2
   },
   "file_extension": ".py",
   "mimetype": "text/x-python",
   "name": "python",
   "nbconvert_exporter": "python",
   "pygments_lexer": "ipython2",
   "version": "2.7.13"
  }
 },
 "nbformat": 4,
 "nbformat_minor": 2
}

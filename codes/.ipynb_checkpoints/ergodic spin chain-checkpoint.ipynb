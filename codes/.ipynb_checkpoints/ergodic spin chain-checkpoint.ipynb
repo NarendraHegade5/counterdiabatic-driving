{
 "cells": [
  {
   "cell_type": "code",
   "execution_count": 1,
   "metadata": {
    "collapsed": false
   },
   "outputs": [],
   "source": [
    "from quspin.operators import hamiltonian # Hamiltonians and operators\n",
    "from quspin.basis import spin_basis_1d # Hilbert space spin basis\n",
    "import numpy as np # generic math functions\n",
    "import matplotlib.pyplot as plt\n",
    "%matplotlib inline\n",
    "pi=np.pi"
   ]
  },
  {
   "cell_type": "markdown",
   "metadata": {},
   "source": [
    "### Sanity check for Quspin: static"
   ]
  },
  {
   "cell_type": "code",
   "execution_count": 2,
   "metadata": {
    "collapsed": false
   },
   "outputs": [
    {
     "name": "stdout",
     "output_type": "stream",
     "text": [
      "Hermiticity check passed!\n",
      "Symmetry checks passed!\n",
      "basis printing-- \n",
      "reference states: \n",
      "         0.  |0>\n",
      "         1.  |1>\n",
      "see review arXiv:1101.3281 for more details about reference states for symmetry reduced blocks.\n",
      "\n",
      "Ham-- \n",
      "static mat: \n",
      "  (0, 0)\t(-1+0j)\n",
      "  (1, 1)\t(1+0j)\n",
      "\n",
      "\n",
      "dynamic:\n",
      "\n"
     ]
    }
   ],
   "source": [
    "L=1\n",
    "\n",
    "#H= -sigma_z^1  \n",
    "\n",
    "basis = spin_basis_1d(L,pauli=True)\n",
    "\n",
    "jz_index=[[1,i] for i in xrange(0,L)]\n",
    "\n",
    "static=[['z',jz_index]]\n",
    "\n",
    "\n",
    "dynamic=[]\n",
    "H=hamiltonian(static,dynamic,basis=basis,dtype=np.complex_)\n",
    "print 'basis printing-- \\n', basis\n",
    "print 'Ham-- \\n', H"
   ]
  },
  {
   "cell_type": "code",
   "execution_count": 3,
   "metadata": {
    "collapsed": false
   },
   "outputs": [
    {
     "name": "stdout",
     "output_type": "stream",
     "text": [
      "Hermiticity check passed!\n",
      "Symmetry checks passed!\n",
      "basis printing-- \n",
      "reference states: \n",
      "         0.  |0 0>\n",
      "         1.  |1 0>\n",
      "         2.  |0 1>\n",
      "         3.  |1 1>\n",
      "see review arXiv:1101.3281 for more details about reference states for symmetry reduced blocks.\n",
      "\n",
      "Ham-- \n",
      "static mat: \n",
      "  (0, 0)\t(-2+0j)\n",
      "  (3, 3)\t(2+0j)\n",
      "\n",
      "\n",
      "dynamic:\n",
      "\n"
     ]
    }
   ],
   "source": [
    "L=2\n",
    "#H= sigma_z^1+ sigma_z^2  \n",
    "\n",
    "\n",
    "jz_index=[[1,i] for i in xrange(0,L)]\n",
    "\n",
    "static=[['z',jz_index]]\n",
    "\n",
    "\n",
    "dynamic=[]\n",
    "basis = spin_basis_1d(L,pauli=True)\n",
    "H=hamiltonian(static,dynamic,basis=basis,dtype=np.complex_)\n",
    "\n",
    "print 'basis printing-- \\n', basis\n",
    "print 'Ham-- \\n', H"
   ]
  },
  {
   "cell_type": "markdown",
   "metadata": {
    "collapsed": false
   },
   "source": [
    "I now understand how to define static Hamiltonian. Let me understand how to use this code for dynamic part"
   ]
  },
  {
   "cell_type": "markdown",
   "metadata": {
    "collapsed": false
   },
   "source": [
    "### Sanity check for QuSpin: dynamic\n",
    "$H=\\sigma_z + t \\sigma_x$ . At time =0, $H=\\sigma_z$. At time =1, $H=\\sigma_z+ \\sigma_x$\n"
   ]
  },
  {
   "cell_type": "code",
   "execution_count": 4,
   "metadata": {
    "collapsed": false
   },
   "outputs": [],
   "source": [
    "from quspin.operators import hamiltonian # Hamiltonians and operators\n",
    "from quspin.basis import spin_basis_1d # Hilbert space spin basis\n",
    "import numpy as np # generic math functions\n",
    "import matplotlib.pyplot as plt\n",
    "%matplotlib inline"
   ]
  },
  {
   "cell_type": "code",
   "execution_count": 180,
   "metadata": {
    "collapsed": false
   },
   "outputs": [
    {
     "name": "stdout",
     "output_type": "stream",
     "text": [
      "Hermiticity check passed!\n",
      "Symmetry checks passed!\n"
     ]
    }
   ],
   "source": [
    "L=1 # system size\n",
    "Jxy=1.0 # xy interaction\n",
    "Jzz_0=1.0 # zz interaction at time t=0\n",
    "v = 1.0 # declare ramp speed variable\n",
    "\n",
    "def ramp(t):\n",
    "\treturn t\n",
    "ramp_args=[]\n",
    "\n",
    "basis = spin_basis_1d(L)\n",
    "\n",
    "J_z = [[1.0,i] for i in range(L)] # OBC\n",
    "# static and dynamic lists\n",
    "static = [[\"z\",J_z]]\n",
    "dynamic =[[\"x\",J_z,ramp,ramp_args]]\n",
    "# compute the time-dependent Heisenberg Hamiltonian\n",
    "H_simple = hamiltonian(static,dynamic,basis=basis,dtype=np.complex_)"
   ]
  },
  {
   "cell_type": "code",
   "execution_count": 181,
   "metadata": {
    "collapsed": false
   },
   "outputs": [
    {
     "name": "stdout",
     "output_type": "stream",
     "text": [
      "time=0 \n",
      "  (0, 0)\t(-1+0j)\n",
      "  (1, 1)\t(1+0j)\n",
      "time=1 \n",
      "  (0, 0)\t(-1+0j)\n",
      "  (0, 1)\t(1+0j)\n",
      "  (1, 0)\t(1+0j)\n",
      "  (1, 1)\t(1+0j)\n"
     ]
    }
   ],
   "source": [
    "print 'time=0 \\n', H_simple(time=0.0)\n",
    "print 'time=1 \\n', H_simple(time=1.0)"
   ]
  },
  {
   "cell_type": "code",
   "execution_count": 182,
   "metadata": {
    "collapsed": false
   },
   "outputs": [],
   "source": [
    "E0,V0= H_simple.eigh(time=0)\n",
    "E1,V1= H_simple.eigh(time=1)"
   ]
  },
  {
   "cell_type": "code",
   "execution_count": 195,
   "metadata": {
    "collapsed": false
   },
   "outputs": [
    {
     "name": "stdout",
     "output_type": "stream",
     "text": [
      "E_0 \n",
      "[-1.  1.]\n",
      "vec GS \n",
      "[-1.+0.j  0.+0.j]\n",
      "H.v \n",
      "[ 1.+0.j  0.+0.j]\n",
      "(v^T H.v) \n",
      "(-1+0j)\n"
     ]
    }
   ],
   "source": [
    "##checking that I am picking up the right vector\n",
    "print \"E_0 \\n\", E0\n",
    "print \"vec GS \\n\", V0[:,0]\n",
    "print \"H.v \\n\" , H_simple(time=0).dot(V0[:,0])\n",
    "print \"(v^T H.v) \\n\" , (H_simple(time=0).dot(V0[:,0])).dot(V0[:,0])"
   ]
  },
  {
   "cell_type": "code",
   "execution_count": 36,
   "metadata": {
    "collapsed": false
   },
   "outputs": [
    {
     "name": "stdout",
     "output_type": "stream",
     "text": [
      "[-1.41421356  1.41421356]\n"
     ]
    }
   ],
   "source": [
    "print E1"
   ]
  },
  {
   "cell_type": "code",
   "execution_count": 40,
   "metadata": {
    "collapsed": false
   },
   "outputs": [
    {
     "name": "stdout",
     "output_type": "stream",
     "text": [
      "[[-0.92387953+0.j  0.38268343+0.j]\n",
      " [ 0.38268343+0.j  0.92387953+0.j]]\n"
     ]
    }
   ],
   "source": [
    "print V1"
   ]
  },
  {
   "cell_type": "code",
   "execution_count": 52,
   "metadata": {
    "collapsed": false
   },
   "outputs": [
    {
     "name": "stdout",
     "output_type": "stream",
     "text": [
      "2.41421357073\n",
      "0.923879532511 0.382683432365\n"
     ]
    }
   ],
   "source": [
    "#checking eigenvectors\n",
    "print 0.92387953/0.38268343  # found by solving eigenvalue equation\n",
    "print (np.sqrt(2)+1)/(np.sqrt(4+ 2*np.sqrt(2))), 1.0/(np.sqrt(4+ 2*np.sqrt(2))) #normalization condn"
   ]
  },
  {
   "cell_type": "markdown",
   "metadata": {},
   "source": [
    "So far, I have learnt that I can write Hamiltonian, diagonalize to obtain eigenvalues ang eigenvectors at any time I want.\n",
    "I still have to learn how to evolve and how to give initial condition. Let me setup Dries hamiltonian first."
   ]
  },
  {
   "cell_type": "markdown",
   "metadata": {},
   "source": [
    "### Dries Hamiltonian: Ising spin chain with tranverse and longitudinal fields\n",
    "$\\begin{equation}\n",
    "H_0=\\sum J \\sigma_j^z \\sigma_{j+1}^z + \\sum  (Z_j  \\sigma_j^z +X_j  \\sigma_j^x)\n",
    "\\end{equation} $\n",
    "+ Here we choose $J=1, Z_j=2, X_j=0.8$\n",
    "+ Driven Bare Hamiltonian is $H_0 + \\lambda \\sigma_0^x$\n",
    "+ CD one spin Hamiltonian is $\\dot{\\lambda} \\alpha_0 \\sigma_0^y$"
   ]
  },
  {
   "cell_type": "code",
   "execution_count": 86,
   "metadata": {
    "collapsed": false
   },
   "outputs": [],
   "source": [
    "\n",
    "def Ham(L):\n",
    "    # system size\n",
    "\n",
    "\n",
    "    basis = spin_basis_1d(L)\n",
    "    # static \n",
    "    J_z = [[1.0,i,(i+1)%L] for i in range(L)] # PBC\n",
    "    Z = [[2.0,i] for i in range(L)] \n",
    "    X = [[0.8,i] for i in range(L)]\n",
    "    static = [[\"zz\",J_z], [\"z\",Z], [\"x\",X]]\n",
    "\n",
    "    #dynamic var\n",
    "    def linear_ramp(t):\n",
    "        global tau\n",
    "        print \"tau:\", tau\n",
    "        #tau=1\n",
    "        return t/tau\n",
    "\n",
    "    def dries_ramp(t):\n",
    "        global tau\n",
    "        p=np.pi\n",
    "        lambda_0=0.1\n",
    "        lambda_f=1.0\n",
    "        return lambda_0 + (lambda_f-lambda_0)*np.sin(pi/2*(np.sin(t*pi/2.0/tau)**2))**2\n",
    "\n",
    "    ramp_args=[]\n",
    "    s=np.zeros(L)\n",
    "    s[0]=1\n",
    "    J_x_t = [[s[j],j] for j in range(L-1) ]\n",
    "\n",
    "    dynamic =[[\"x\", J_x_t,linear_ramp,ramp_args]]\n",
    "    # compute the time-dependent Heisenberg Hamiltonian\n",
    "    H0 = hamiltonian(static,dynamic,basis=basis,dtype=np.complex_)\n",
    "    #print J_z,'\\n', Z, '\\n', X\n",
    "    #print \"Ham \\n\", H0\n",
    "    return H0"
   ]
  },
  {
   "cell_type": "code",
   "execution_count": 61,
   "metadata": {
    "collapsed": false
   },
   "outputs": [
    {
     "name": "stdout",
     "output_type": "stream",
     "text": [
      "Hermiticity check passed!\n",
      "Symmetry checks passed!\n"
     ]
    }
   ],
   "source": [
    "L=2\n",
    "H0=Ham(L)\n",
    "E0,V0=H0.eigh(time=0)"
   ]
  },
  {
   "cell_type": "code",
   "execution_count": 62,
   "metadata": {
    "collapsed": false
   },
   "outputs": [
    {
     "name": "stdout",
     "output_type": "stream",
     "text": [
      "E_0 \n",
      "[-3.28377713 -2.00248984 -0.89484143  6.1811084 ]\n",
      "vec GS \n",
      "[ 0.68108253-0.j -0.53586017+0.j -0.49010503+0.j  0.09368845+0.j]\n",
      "H.v =evalue *v \n",
      "[ 0.68108253-0.j -0.53586017-0.j -0.49010503-0.j  0.09368845-0.j]\n",
      "evalue=(v. H.v) \n",
      "(-3.28377713168+0j)\n",
      "evalue=(v^T. H.v) \n",
      "(-3.28377713168+0j)\n"
     ]
    }
   ],
   "source": [
    "##checking that I am picking up the right vector corresponding to evalue\n",
    "print \"E_0 \\n\", E0\n",
    "print \"vec GS \\n\", V0[:,0]\n",
    "print \"H.v =evalue *v \\n\" , H0(time=0).dot(V0[:,0])/E0[0]\n",
    "print \"evalue=(v. H.v) \\n\" , (H0(time=0).dot(V0[:,0])).dot(V0[:,0])\n",
    "#Idk if I am able to transpose it. I think I should use vdot for it\n",
    "#below I am using vdot. hence it's v.T\n",
    "print \"evalue=(v^T. H.v) \\n\" , np.vdot(V0[:,0],H0(time=0).dot(V0[:,0]))\n"
   ]
  },
  {
   "cell_type": "code",
   "execution_count": 5,
   "metadata": {
    "collapsed": false
   },
   "outputs": [],
   "source": [
    "##intial state is ground state\n",
    "psi0=V0[:,0]"
   ]
  },
  {
   "cell_type": "code",
   "execution_count": 69,
   "metadata": {
    "collapsed": false
   },
   "outputs": [],
   "source": [
    "## evolving using SE\n",
    "t=5\n",
    "tf=t\n",
    "psi = H0.evolve(psi0,0.0,tf)"
   ]
  },
  {
   "cell_type": "code",
   "execution_count": 70,
   "metadata": {
    "collapsed": false
   },
   "outputs": [],
   "source": [
    "### computing fidelity and final energy above the ground state\n",
    "def fidelity(t,psi):\n",
    "    energy,evector=H0.eigh(time=t)\n",
    "    psi_gs=evector[:,0]\n",
    "    return np.abs(np.vdot(psi_gs,psi))**2\n",
    "\n",
    "def energy_diff(t,psi):\n",
    "    energy_psi= np.vdot(psi, H0(time=t).dot(psi))\n",
    "    gs_energy=H0.eigvalsh(time=t)\n",
    "    return energy_psi-gs_energy[0] \n",
    "### here lamba=t. But in reality, it is some sin**2 fn. Import it from sympy"
   ]
  },
  {
   "cell_type": "code",
   "execution_count": 73,
   "metadata": {
    "collapsed": false
   },
   "outputs": [
    {
     "name": "stdout",
     "output_type": "stream",
     "text": [
      "Hermiticity check passed!\n",
      "Symmetry checks passed!\n"
     ]
    }
   ],
   "source": [
    "L=2\n",
    "tau=50\n",
    "H0=Ham(L)\n",
    "E0,V0=H0.eigh(time=0)\n",
    "psi0=V0[:,0]\n",
    "t_in=np.linspace(0,50,10)\n",
    "\n",
    "\n",
    "def fidelity(t,psi):\n",
    "    energy,evector=H0.eigh(time=t)\n",
    "    psi_gs=evector[:,0]\n",
    "    return np.abs(np.vdot(psi_gs,psi))**2\n",
    "\n",
    "def energy_diff(t,psi):\n",
    "    energy_psi= np.vdot(psi, H0(time=t).dot(psi))\n",
    "    gs_energy=H0.eigvalsh(time=t)\n",
    "    return energy_psi-gs_energy[0] \n",
    "\n",
    "for i in range(len(t_in)):\n",
    "    psi = H0.evolve(psi0,0.0,t_in[i])\n",
    "#    print fidelity(t_in[i],psi), np.real(energy_diff(t_in[i],psi))"
   ]
  },
  {
   "cell_type": "markdown",
   "metadata": {
    "collapsed": true
   },
   "source": [
    "### Varying tau in speed"
   ]
  },
  {
   "cell_type": "code",
   "execution_count": null,
   "metadata": {
    "collapsed": false
   },
   "outputs": [],
   "source": [
    "from quspin.operators import hamiltonian # Hamiltonians and operators\n",
    "from quspin.basis import spin_basis_1d # Hilbert space spin basis\n",
    "import numpy as np # generic math functions\n",
    "import matplotlib.pyplot as plt\n",
    "%matplotlib inline\n",
    "\n",
    "def Ham(L):\n",
    "    # system size\n",
    "\n",
    "\n",
    "    basis = spin_basis_1d(L)\n",
    "    # static \n",
    "    J_z = [[1.0,i,(i+1)%L] for i in range(L)] # PBC\n",
    "    Z = [[2.0,i] for i in range(L)] \n",
    "    X = [[0.8,i] for i in range(L)]\n",
    "    static = [[\"zz\",J_z], [\"z\",Z], [\"x\",X]]\n",
    "\n",
    "    #dynamic var\n",
    "    def linear_ramp(t):\n",
    "        global tau\n",
    "        print \"tau:\", tau\n",
    "        #tau=1\n",
    "        return t/tau\n",
    "\n",
    "    def dries_ramp(t):\n",
    "        global tau\n",
    "        p=np.pi\n",
    "        lambda_0=0.1\n",
    "        lambda_f=1.0\n",
    "        return lambda_0 + (lambda_f-lambda_0)*np.sin(pi/2*(np.sin(t*pi/2.0/tau)**2))**2\n",
    "\n",
    "    ramp_args=[]\n",
    "    s=np.zeros(L)\n",
    "    s[0]=1\n",
    "    J_x_t = [[s[j],j] for j in range(L-1) ]\n",
    "\n",
    "    dynamic =[[\"x\", J_x_t,linear_ramp,ramp_args]]\n",
    "    # compute the time-dependent Heisenberg Hamiltonian\n",
    "    H0 = hamiltonian(static,dynamic,basis=basis,dtype=np.complex_)\n",
    "    #print J_z,'\\n', Z, '\\n', X\n",
    "    #print \"Ham \\n\", H0\n",
    "    return H0\n",
    "\n",
    "def fidelity(t,psi):\n",
    "    energy,evector=H0.eigh(time=t)\n",
    "    psi_gs=evector[:,0]\n",
    "    return np.abs(np.vdot(psi_gs,psi))**2\n",
    "\n",
    "def energy_diff(t,psi):\n",
    "    energy_psi= np.vdot(psi, H0(time=t).dot(psi))\n",
    "    gs_energy=H0.eigvalsh(time=t)\n",
    "    return energy_psi-gs_energy[0] \n",
    "\n",
    "\n",
    "\n",
    "L=2\n",
    "\n",
    "H0=Ham(L)\n",
    "E0,V0=H0.eigh(time=0)\n",
    "psi0=V0[:,0]\n",
    "t_in=np.linspace(0.1,50,2)\n",
    "\n",
    "\n",
    "#for i in range(len(t_in)):\n",
    "#    tau=t_in[i]\n",
    "#    psi = H0.evolve(psi0,0.0,t_in[i])\n",
    "#    print fidelity(t_in[i],psi), np.real(energy_diff(t_in[i],psi))"
   ]
  },
  {
   "cell_type": "code",
   "execution_count": null,
   "metadata": {
    "collapsed": true
   },
   "outputs": [],
   "source": []
  }
 ],
 "metadata": {
  "kernelspec": {
   "display_name": "Python 2",
   "language": "python",
   "name": "python2"
  },
  "language_info": {
   "codemirror_mode": {
    "name": "ipython",
    "version": 2
   },
   "file_extension": ".py",
   "mimetype": "text/x-python",
   "name": "python",
   "nbconvert_exporter": "python",
   "pygments_lexer": "ipython2",
   "version": "2.7.13"
  }
 },
 "nbformat": 4,
 "nbformat_minor": 2
}

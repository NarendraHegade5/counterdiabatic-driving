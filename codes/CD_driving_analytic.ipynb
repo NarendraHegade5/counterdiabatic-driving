{
 "cells": [
  {
   "cell_type": "code",
   "execution_count": 1,
   "metadata": {
    "collapsed": true
   },
   "outputs": [],
   "source": [
    "import numpy as np\n",
    "import sympy as sp\n",
    "import matplotlib.pyplot as plt\n",
    "%matplotlib inline"
   ]
  },
  {
   "cell_type": "markdown",
   "metadata": {},
   "source": [
    "### Doing computations in sympy"
   ]
  },
  {
   "cell_type": "code",
   "execution_count": 2,
   "metadata": {
    "collapsed": false
   },
   "outputs": [],
   "source": [
    "x,pi,tau = sp.symbols('x pi tau')\n",
    "sp.init_printing(use_unicode=True)#printing option pf sympy"
   ]
  },
  {
   "cell_type": "code",
   "execution_count": 3,
   "metadata": {
    "collapsed": false
   },
   "outputs": [
    {
     "data": {
      "image/png": "[encoded data removed]",
      "text/latex": [
       "$$0.9 \\sin^{2}{\\left (\\frac{\\pi}{2} \\sin^{2}{\\left (\\frac{0.5 \\pi}{\\tau} x \\right )} \\right )} + 0.1$$"
      ],
      "text/plain": [
       "        ⎛     2⎛0.5⋅π⋅x⎞⎞      \n",
       "        ⎜π⋅sin ⎜───────⎟⎟      \n",
       "       2⎜      ⎝   τ   ⎠⎟      \n",
       "0.9⋅sin ⎜───────────────⎟ + 0.1\n",
       "        ⎝       2       ⎠      "
      ]
     },
     "execution_count": 3,
     "metadata": {},
     "output_type": "execute_result"
    }
   ],
   "source": [
    "def lambda_fn_sym(t):\n",
    "    p=np.pi\n",
    "    lambda_0=0.1\n",
    "    lambda_f=1.0\n",
    "    return lambda_0 + (lambda_f-lambda_0)*sp.sin(pi/2*(sp.sin(t*pi/2.0/tau)**2))**2\n",
    "lambda_fn_sym(x)"
   ]
  },
  {
   "cell_type": "code",
   "execution_count": 119,
   "metadata": {
    "collapsed": false
   },
   "outputs": [
    {
     "data": {
      "image/png": "[encoded data removed]",
      "text/latex": [
       "$$\\frac{0.9 \\pi^{2}}{\\tau} \\sin{\\left (\\frac{\\pi}{2} \\sin^{2}{\\left (\\frac{0.5 \\pi}{\\tau} x \\right )} \\right )} \\sin{\\left (\\frac{0.5 \\pi}{\\tau} x \\right )} \\cos{\\left (\\frac{\\pi}{2} \\sin^{2}{\\left (\\frac{0.5 \\pi}{\\tau} x \\right )} \\right )} \\cos{\\left (\\frac{0.5 \\pi}{\\tau} x \\right )}$$"
      ],
      "text/plain": [
       "          ⎛     2⎛0.5⋅π⋅x⎞⎞                 ⎛     2⎛0.5⋅π⋅x⎞⎞             \n",
       "          ⎜π⋅sin ⎜───────⎟⎟                 ⎜π⋅sin ⎜───────⎟⎟             \n",
       "     2    ⎜      ⎝   τ   ⎠⎟    ⎛0.5⋅π⋅x⎞    ⎜      ⎝   τ   ⎠⎟    ⎛0.5⋅π⋅x⎞\n",
       "0.9⋅π ⋅sin⎜───────────────⎟⋅sin⎜───────⎟⋅cos⎜───────────────⎟⋅cos⎜───────⎟\n",
       "          ⎝       2       ⎠    ⎝   τ   ⎠    ⎝       2       ⎠    ⎝   τ   ⎠\n",
       "──────────────────────────────────────────────────────────────────────────\n",
       "                                    τ                                     "
      ]
     },
     "execution_count": 119,
     "metadata": {},
     "output_type": "execute_result"
    }
   ],
   "source": [
    "def dot_lambda_fn_sym(t):\n",
    "    return sp.diff(lambda_fn_sym(t),t)\n",
    "dot_lambda_fn_sym(x)"
   ]
  },
  {
   "cell_type": "code",
   "execution_count": 5,
   "metadata": {
    "collapsed": true
   },
   "outputs": [],
   "source": [
    "def mu(t):\n",
    "    return 1./lambda_fn_sym(t)\n",
    "\n",
    "def mu_dot(t):\n",
    "    return sp.diff(mu(t),t)\n",
    "\n",
    "def mu_ddot(t):\n",
    "    return sp.diff(mu(t),t,2)"
   ]
  },
  {
   "cell_type": "code",
   "execution_count": 7,
   "metadata": {
    "collapsed": false
   },
   "outputs": [],
   "source": [
    "def lambda_cd(t):\n",
    "    return (lambda_fn_sym(t)/sp.sqrt(1+ mu_dot(t)**2))*(1-mu(t)*mu_ddot(t)/(1+mu_dot(t)**2))\n",
    "#lambda_cd(x)"
   ]
  },
  {
   "cell_type": "code",
   "execution_count": 190,
   "metadata": {
    "collapsed": false
   },
   "outputs": [],
   "source": [
    "###substituting value \n",
    "lambda_fn_sym_value=(lambda_fn_sym(x).subs({pi:np.pi, tau:1.0}))\n",
    "lambda_cd_value=(lambda_cd(x).subs({pi:np.pi, tau:5.0,x:5*x})) ###this is tricky!lambda_cd has tau at two places\n",
    "#on its own and with t/tau. So, here I plotted lambda_cd(t/tau) with tau=5 wherever it's on it's own."
   ]
  },
  {
   "cell_type": "markdown",
   "metadata": {},
   "source": [
    "### Importing functions from sympy to numpy"
   ]
  },
  {
   "cell_type": "code",
   "execution_count": 191,
   "metadata": {
    "collapsed": false
   },
   "outputs": [
    {
     "data": {
      "text/plain": [
       "<matplotlib.legend.Legend at 0x7f9e39added0>"
      ]
     },
     "execution_count": 191,
     "metadata": {},
     "output_type": "execute_result"
    },
    {
     "data": {
      "image/png": "[encoded data removed]",
      "text/plain": [
       "<matplotlib.figure.Figure at 0x7f9e39c7e710>"
      ]
     },
     "metadata": {},
     "output_type": "display_data"
    }
   ],
   "source": [
    "###An example\n",
    "def sin_sym(t):\n",
    "    return sp.sin(t)\n",
    "def cos_sym(t):\n",
    "    return sp.diff(sin_sym(t),t)\n",
    "\n",
    "lam_x = sp.lambdify(x, sin_sym(x), modules=['numpy'])\n",
    "lam_x1 = sp.lambdify(x, cos_sym(x), modules=['numpy'])\n",
    "\n",
    "x_vals = np.linspace(0, np.pi, 1000)\n",
    "y_vals = lam_x(x_vals)\n",
    "y_vals1 = lam_x1(x_vals)\n",
    "\n",
    "plt.plot(x_vals,y_vals,'r', label='sin')\n",
    "plt.plot(x_vals,y_vals1,'b', label='cos')\n",
    "plt.legend()"
   ]
  },
  {
   "cell_type": "code",
   "execution_count": 188,
   "metadata": {
    "collapsed": true
   },
   "outputs": [],
   "source": [
    "np_lambda = sp.lambdify(x, lambda_fn_sym_value, modules=['numpy'])\n",
    "np_lambda_cd = sp.lambdify(x, lambda_cd_value, modules=['numpy'])\n",
    "x_vals = np.linspace(0, 1, 1000)\n",
    "y_vals_real_prot = np_lambda(x_vals)\n",
    "y_vals_cd_prot = np_lambda_cd(x_vals)"
   ]
  },
  {
   "cell_type": "code",
   "execution_count": 192,
   "metadata": {
    "collapsed": false
   },
   "outputs": [
    {
     "data": {
      "text/plain": [
       "<matplotlib.legend.Legend at 0x7f9e3a4167d0>"
      ]
     },
     "execution_count": 192,
     "metadata": {},
     "output_type": "execute_result"
    },
    {
     "data": {
      "image/png": "[encoded data removed]",
      "text/plain": [
       "<matplotlib.figure.Figure at 0x7f9e3a2bf850>"
      ]
     },
     "metadata": {},
     "output_type": "display_data"
    }
   ],
   "source": [
    "plt.plot(x_vals,y_vals_real_prot,'r', label='naive')\n",
    "plt.plot(x_vals,y_vals_cd_prot,'b', label='CD')\n",
    "plt.xlabel(r\"$t/ \\tau$\")\n",
    "plt.ylabel(r\"$\\lambda(t)$\")\n",
    "plt.legend()"
   ]
  },
  {
   "cell_type": "markdown",
   "metadata": {
    "collapsed": true
   },
   "source": [
    "="
   ]
  },
  {
   "cell_type": "code",
   "execution_count": 8,
   "metadata": {
    "collapsed": false
   },
   "outputs": [],
   "source": []
  },
  {
   "cell_type": "code",
   "execution_count": 11,
   "metadata": {
    "collapsed": false
   },
   "outputs": [
    {
     "data": {
      "image/png": "[encoded data removed]",
      "text/latex": [
       "$$4.72553303155e+152$$"
      ],
      "text/plain": [
       "4.72553303155e+152"
      ]
     },
     "execution_count": 11,
     "metadata": {},
     "output_type": "execute_result"
    }
   ],
   "source": []
  },
  {
   "cell_type": "code",
   "execution_count": 15,
   "metadata": {
    "collapsed": false
   },
   "outputs": [],
   "source": []
  },
  {
   "cell_type": "code",
   "execution_count": 16,
   "metadata": {
    "collapsed": false
   },
   "outputs": [
    {
     "data": {
      "image/png": "[encoded data removed]",
      "text/latex": [
       "$$10.0$$"
      ],
      "text/plain": [
       "10.0"
      ]
     },
     "execution_count": 16,
     "metadata": {},
     "output_type": "execute_result"
    }
   ],
   "source": [
    "  "
   ]
  },
  {
   "cell_type": "code",
   "execution_count": null,
   "metadata": {
    "collapsed": true
   },
   "outputs": [],
   "source": []
  }
 ],
 "metadata": {
  "kernelspec": {
   "display_name": "Python 2",
   "language": "python",
   "name": "python2"
  },
  "language_info": {
   "codemirror_mode": {
    "name": "ipython",
    "version": 2
   },
   "file_extension": ".py",
   "mimetype": "text/x-python",
   "name": "python",
   "nbconvert_exporter": "python",
   "pygments_lexer": "ipython2",
   "version": "2.7.13"
  }
 },
 "nbformat": 4,
 "nbformat_minor": 2
}

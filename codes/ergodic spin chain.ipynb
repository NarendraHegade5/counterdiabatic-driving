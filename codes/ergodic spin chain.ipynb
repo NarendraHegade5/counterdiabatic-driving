{
 "cells": [
  {
   "cell_type": "code",
   "execution_count": 2,
   "metadata": {
    "collapsed": false
   },
   "outputs": [],
   "source": [
    "from quspin.operators import hamiltonian # Hamiltonians and operators\n",
    "from quspin.basis import spin_basis_1d # Hilbert space spin basis\n",
    "import numpy as np # generic math functions\n",
    "import matplotlib.pyplot as plt\n",
    "%matplotlib inline\n",
    "pi=np.pi"
   ]
  },
  {
   "cell_type": "markdown",
   "metadata": {},
   "source": [
    "### Sanity check for Quspin: static"
   ]
  },
  {
   "cell_type": "code",
   "execution_count": 2,
   "metadata": {
    "collapsed": false
   },
   "outputs": [
    {
     "name": "stdout",
     "output_type": "stream",
     "text": [
      "Hermiticity check passed!\n",
      "Symmetry checks passed!\n",
      "basis printing-- \n",
      "reference states: \n",
      "         0.  |0>\n",
      "         1.  |1>\n",
      "see review arXiv:1101.3281 for more details about reference states for symmetry reduced blocks.\n",
      "\n",
      "Ham-- \n",
      "static mat: \n",
      "  (0, 0)\t(-1+0j)\n",
      "  (1, 1)\t(1+0j)\n",
      "\n",
      "\n",
      "dynamic:\n",
      "\n"
     ]
    }
   ],
   "source": [
    "L=1\n",
    "\n",
    "#H= -sigma_z^1  \n",
    "\n",
    "basis = spin_basis_1d(L,pauli=True)\n",
    "\n",
    "jz_index=[[1,i] for i in xrange(0,L)]\n",
    "\n",
    "static=[['z',jz_index]]\n",
    "\n",
    "\n",
    "dynamic=[]\n",
    "H=hamiltonian(static,dynamic,basis=basis,dtype=np.complex_)\n",
    "print 'basis printing-- \\n', basis\n",
    "print 'Ham-- \\n', H"
   ]
  },
  {
   "cell_type": "code",
   "execution_count": 3,
   "metadata": {
    "collapsed": false
   },
   "outputs": [
    {
     "name": "stdout",
     "output_type": "stream",
     "text": [
      "Hermiticity check passed!\n",
      "Symmetry checks passed!\n",
      "basis printing-- \n",
      "reference states: \n",
      "         0.  |0 0>\n",
      "         1.  |1 0>\n",
      "         2.  |0 1>\n",
      "         3.  |1 1>\n",
      "see review arXiv:1101.3281 for more details about reference states for symmetry reduced blocks.\n",
      "\n",
      "Ham-- \n",
      "static mat: \n",
      "  (0, 0)\t(-2+0j)\n",
      "  (3, 3)\t(2+0j)\n",
      "\n",
      "\n",
      "dynamic:\n",
      "\n"
     ]
    }
   ],
   "source": [
    "L=2\n",
    "#H= sigma_z^1+ sigma_z^2  \n",
    "\n",
    "\n",
    "jz_index=[[1,i] for i in xrange(0,L)]\n",
    "\n",
    "static=[['z',jz_index]]\n",
    "\n",
    "\n",
    "dynamic=[]\n",
    "basis = spin_basis_1d(L,pauli=True)\n",
    "H=hamiltonian(static,dynamic,basis=basis,dtype=np.complex_)\n",
    "\n",
    "print 'basis printing-- \\n', basis\n",
    "print 'Ham-- \\n', H"
   ]
  },
  {
   "cell_type": "markdown",
   "metadata": {
    "collapsed": false
   },
   "source": [
    "I now understand how to define static Hamiltonian. Let me understand how to use this code for dynamic part"
   ]
  },
  {
   "cell_type": "markdown",
   "metadata": {
    "collapsed": false
   },
   "source": [
    "### Sanity check for QuSpin: dynamic\n",
    "$H=\\sigma_z + t \\sigma_x$ . At time =0, $H=\\sigma_z$. At time =1, $H=\\sigma_z+ \\sigma_x$\n"
   ]
  },
  {
   "cell_type": "code",
   "execution_count": 4,
   "metadata": {
    "collapsed": false
   },
   "outputs": [],
   "source": [
    "from quspin.operators import hamiltonian # Hamiltonians and operators\n",
    "from quspin.basis import spin_basis_1d # Hilbert space spin basis\n",
    "import numpy as np # generic math functions\n",
    "import matplotlib.pyplot as plt\n",
    "%matplotlib inline"
   ]
  },
  {
   "cell_type": "code",
   "execution_count": 180,
   "metadata": {
    "collapsed": false
   },
   "outputs": [
    {
     "name": "stdout",
     "output_type": "stream",
     "text": [
      "Hermiticity check passed!\n",
      "Symmetry checks passed!\n"
     ]
    }
   ],
   "source": [
    "L=1 # system size\n",
    "Jxy=1.0 # xy interaction\n",
    "Jzz_0=1.0 # zz interaction at time t=0\n",
    "v = 1.0 # declare ramp speed variable\n",
    "\n",
    "def ramp(t):\n",
    "\treturn t\n",
    "ramp_args=[]\n",
    "\n",
    "basis = spin_basis_1d(L)\n",
    "\n",
    "J_z = [[1.0,i] for i in range(L)] # OBC\n",
    "# static and dynamic lists\n",
    "static = [[\"z\",J_z]]\n",
    "dynamic =[[\"x\",J_z,ramp,ramp_args]]\n",
    "# compute the time-dependent Heisenberg Hamiltonian\n",
    "H_simple = hamiltonian(static,dynamic,basis=basis,dtype=np.complex_)"
   ]
  },
  {
   "cell_type": "code",
   "execution_count": 181,
   "metadata": {
    "collapsed": false
   },
   "outputs": [
    {
     "name": "stdout",
     "output_type": "stream",
     "text": [
      "time=0 \n",
      "  (0, 0)\t(-1+0j)\n",
      "  (1, 1)\t(1+0j)\n",
      "time=1 \n",
      "  (0, 0)\t(-1+0j)\n",
      "  (0, 1)\t(1+0j)\n",
      "  (1, 0)\t(1+0j)\n",
      "  (1, 1)\t(1+0j)\n"
     ]
    }
   ],
   "source": [
    "print 'time=0 \\n', H_simple(time=0.0)\n",
    "print 'time=1 \\n', H_simple(time=1.0)"
   ]
  },
  {
   "cell_type": "code",
   "execution_count": 182,
   "metadata": {
    "collapsed": false
   },
   "outputs": [],
   "source": [
    "E0,V0= H_simple.eigh(time=0)\n",
    "E1,V1= H_simple.eigh(time=1)"
   ]
  },
  {
   "cell_type": "code",
   "execution_count": 195,
   "metadata": {
    "collapsed": false
   },
   "outputs": [
    {
     "name": "stdout",
     "output_type": "stream",
     "text": [
      "E_0 \n",
      "[-1.  1.]\n",
      "vec GS \n",
      "[-1.+0.j  0.+0.j]\n",
      "H.v \n",
      "[ 1.+0.j  0.+0.j]\n",
      "(v^T H.v) \n",
      "(-1+0j)\n"
     ]
    }
   ],
   "source": [
    "##checking that I am picking up the right vector\n",
    "print \"E_0 \\n\", E0\n",
    "print \"vec GS \\n\", V0[:,0]\n",
    "print \"H.v \\n\" , H_simple(time=0).dot(V0[:,0])\n",
    "print \"(v^T H.v) \\n\" , (H_simple(time=0).dot(V0[:,0])).dot(V0[:,0])"
   ]
  },
  {
   "cell_type": "code",
   "execution_count": 36,
   "metadata": {
    "collapsed": false
   },
   "outputs": [
    {
     "name": "stdout",
     "output_type": "stream",
     "text": [
      "[-1.41421356  1.41421356]\n"
     ]
    }
   ],
   "source": [
    "print E1"
   ]
  },
  {
   "cell_type": "code",
   "execution_count": 40,
   "metadata": {
    "collapsed": false
   },
   "outputs": [
    {
     "name": "stdout",
     "output_type": "stream",
     "text": [
      "[[-0.92387953+0.j  0.38268343+0.j]\n",
      " [ 0.38268343+0.j  0.92387953+0.j]]\n"
     ]
    }
   ],
   "source": [
    "print V1"
   ]
  },
  {
   "cell_type": "code",
   "execution_count": 52,
   "metadata": {
    "collapsed": false
   },
   "outputs": [
    {
     "name": "stdout",
     "output_type": "stream",
     "text": [
      "2.41421357073\n",
      "0.923879532511 0.382683432365\n"
     ]
    }
   ],
   "source": [
    "#checking eigenvectors\n",
    "print 0.92387953/0.38268343  # found by solving eigenvalue equation\n",
    "print (np.sqrt(2)+1)/(np.sqrt(4+ 2*np.sqrt(2))), 1.0/(np.sqrt(4+ 2*np.sqrt(2))) #normalization condn"
   ]
  },
  {
   "cell_type": "markdown",
   "metadata": {},
   "source": [
    "So far, I have learnt that I can write Hamiltonian, diagonalize to obtain eigenvalues ang eigenvectors at any time I want.\n",
    "I still have to learn how to evolve and how to give initial condition. Let me setup Dries hamiltonian first."
   ]
  },
  {
   "cell_type": "markdown",
   "metadata": {},
   "source": [
    "### Dries Hamiltonian: Ising spin chain with tranverse and longitudinal fields\n",
    "$\\begin{equation}\n",
    "H_0=\\sum J \\sigma_j^z \\sigma_{j+1}^z + \\sum  (Z_j  \\sigma_j^z +X_j  \\sigma_j^x)\n",
    "\\end{equation} $\n",
    "+ Here we choose $J=1, Z_j=2, X_j=0.8$\n",
    "+ Driven Bare Hamiltonian is $H_0 + \\lambda \\sigma_0^x$\n",
    "+ CD one spin Hamiltonian is $\\dot{\\lambda} \\alpha_0 \\sigma_0^y$"
   ]
  },
  {
   "cell_type": "code",
   "execution_count": 197,
   "metadata": {
    "collapsed": false
   },
   "outputs": [
    {
     "name": "stdout",
     "output_type": "stream",
     "text": [
      "Hermiticity check passed!\n",
      "Symmetry checks passed!\n",
      "[[1.0, 0, 1], [1.0, 1, 0]] \n",
      "[[2.0, 0], [2.0, 1]] \n",
      "[[0.8, 0], [0.8, 1]]\n",
      "Ham \n",
      "static mat: \n",
      "  (0, 0)\t(-2+0j)\n",
      "  (0, 1)\t(0.8+0j)\n",
      "  (0, 2)\t(0.8+0j)\n",
      "  (1, 0)\t(0.8+0j)\n",
      "  (1, 1)\t(-2+0j)\n",
      "  (1, 3)\t(0.8+0j)\n",
      "  (2, 0)\t(0.8+0j)\n",
      "  (2, 2)\t(-2+0j)\n",
      "  (2, 3)\t(0.8+0j)\n",
      "  (3, 1)\t(0.8+0j)\n",
      "  (3, 2)\t(0.8+0j)\n",
      "  (3, 3)\t(6+0j)\n",
      "\n",
      "\n",
      "dynamic:\n",
      "0) func: ramp, func_args: (), mat: \n",
      "  (0, 1)\t(1+0j)\n",
      "  (1, 0)\t(1+0j)\n",
      "  (2, 3)\t(1+0j)\n",
      "  (3, 2)\t(1+0j) \n",
      "\n"
     ]
    }
   ],
   "source": [
    "L=2# system size\n",
    "\n",
    "\n",
    "basis = spin_basis_1d(L)\n",
    "# static \n",
    "J_z = [[1.0,i,(i+1)%L] for i in range(L)] # PBC\n",
    "Z = [[2.0,i] for i in range(L)] \n",
    "X = [[0.8,i] for i in range(L)]\n",
    "static = [[\"zz\",J_z], [\"z\",Z], [\"x\",X]]\n",
    "\n",
    "#dynamic var\n",
    "def ramp(t):\n",
    "    return t\n",
    "ramp_args=[]\n",
    "s=np.zeros(L)\n",
    "s[0]=1\n",
    "J_x_t = [[s[j],j] for j in range(L-1) ]\n",
    "\n",
    "dynamic =[[\"x\", J_x_t,ramp,ramp_args]]\n",
    "# compute the time-dependent Heisenberg Hamiltonian\n",
    "H0 = hamiltonian(static,dynamic,basis=basis,dtype=np.complex_)\n",
    "print J_z,'\\n', Z, '\\n', X\n",
    "print \"Ham \\n\", H0"
   ]
  },
  {
   "cell_type": "code",
   "execution_count": 198,
   "metadata": {
    "collapsed": false
   },
   "outputs": [],
   "source": [
    "E0,V0=H0.eigh(time=0)"
   ]
  },
  {
   "cell_type": "code",
   "execution_count": 206,
   "metadata": {
    "collapsed": false
   },
   "outputs": [
    {
     "name": "stdout",
     "output_type": "stream",
     "text": [
      "E_0 \n",
      "[-3.20304829 -2.         -0.95689024  6.15993853]\n",
      "vec GS \n",
      "[ 0.01940384+0.j  0.09895883+0.j  0.09895883+0.j  0.98996858+0.j]\n",
      "H.v =evalue *v \n",
      "[ 0.11952645+0.j  0.60958028+0.j  0.60958028+0.j  6.09814561+0.j]\n",
      "evalue=(v^T. H.v) \n",
      "(6.15993853153+0j)\n"
     ]
    }
   ],
   "source": [
    "##checking that I am picking up the right vector corresponding to evalue\n",
    "print \"E_0 \\n\", E0\n",
    "print \"vec GS \\n\", V0[:,3]\n",
    "print \"H.v =evalue *v \\n\" , H0(time=0).dot(V0[:,3])\n",
    "print \"evalue=(v^T. H.v) \\n\" , (H0(time=0).dot(V0[:,3])).dot(V0[:,3])"
   ]
  },
  {
   "cell_type": "code",
   "execution_count": 216,
   "metadata": {
    "collapsed": false
   },
   "outputs": [],
   "source": [
    "##intial state is ground state\n",
    "psi0=V0[:,0]"
   ]
  },
  {
   "cell_type": "code",
   "execution_count": 217,
   "metadata": {
    "collapsed": false
   },
   "outputs": [],
   "source": [
    "## evolving using SE\n",
    "tf=5\n",
    "psi = H0.evolve(psi0,0.0,tf)"
   ]
  },
  {
   "cell_type": "code",
   "execution_count": 218,
   "metadata": {
    "collapsed": false
   },
   "outputs": [],
   "source": [
    "### computing fidelity and final energy above the ground state\n",
    "def fidelity(t):\n",
    "    psi = H0.evolve(psi0,0.0,t)\n",
    "    psi_gs=H0(time=t)\n",
    "    return np.dot\n",
    "### figure out how to define fidelity using vdot (or dot)\n",
    "### here lamba=t. But in reality, it is some sin**2 fn. Import it from sympy"
   ]
  },
  {
   "cell_type": "code",
   "execution_count": null,
   "metadata": {
    "collapsed": true
   },
   "outputs": [],
   "source": []
  }
 ],
 "metadata": {
  "kernelspec": {
   "display_name": "Python 2",
   "language": "python",
   "name": "python2"
  },
  "language_info": {
   "codemirror_mode": {
    "name": "ipython",
    "version": 2
   },
   "file_extension": ".py",
   "mimetype": "text/x-python",
   "name": "python",
   "nbconvert_exporter": "python",
   "pygments_lexer": "ipython2",
   "version": "2.7.12"
  },
  "widgets": {
   "state": {},
   "version": "1.1.2"
  }
 },
 "nbformat": 4,
 "nbformat_minor": 2
}

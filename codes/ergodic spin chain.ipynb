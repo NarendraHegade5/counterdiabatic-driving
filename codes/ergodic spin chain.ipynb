{
 "cells": [
  {
   "cell_type": "code",
   "execution_count": 2,
   "metadata": {
    "collapsed": false
   },
   "outputs": [],
   "source": [
    "from quspin.operators import hamiltonian # Hamiltonians and operators\n",
    "from quspin.basis import spin_basis_1d # Hilbert space spin basis\n",
    "import numpy as np # generic math functions\n",
    "import matplotlib.pyplot as plt\n",
    "%matplotlib inline\n",
    "pi=np.pi"
   ]
  },
  {
   "cell_type": "markdown",
   "metadata": {},
   "source": [
    "### Sanity check for Quspin: static"
   ]
  },
  {
   "cell_type": "code",
   "execution_count": 2,
   "metadata": {
    "collapsed": false
   },
   "outputs": [
    {
     "name": "stdout",
     "output_type": "stream",
     "text": [
      "Hermiticity check passed!\n",
      "Symmetry checks passed!\n",
      "basis printing-- \n",
      "reference states: \n",
      "         0.  |0>\n",
      "         1.  |1>\n",
      "see review arXiv:1101.3281 for more details about reference states for symmetry reduced blocks.\n",
      "\n",
      "Ham-- \n",
      "static mat: \n",
      "  (0, 0)\t(-1+0j)\n",
      "  (1, 1)\t(1+0j)\n",
      "\n",
      "\n",
      "dynamic:\n",
      "\n"
     ]
    }
   ],
   "source": [
    "L=1\n",
    "\n",
    "#H= -sigma_z^1  \n",
    "\n",
    "basis = spin_basis_1d(L,pauli=True)\n",
    "\n",
    "jz_index=[[1,i] for i in xrange(0,L)]\n",
    "\n",
    "static=[['z',jz_index]]\n",
    "\n",
    "\n",
    "dynamic=[]\n",
    "H=hamiltonian(static,dynamic,basis=basis,dtype=np.complex_)\n",
    "print 'basis printing-- \\n', basis\n",
    "print 'Ham-- \\n', H"
   ]
  },
  {
   "cell_type": "code",
   "execution_count": 3,
   "metadata": {
    "collapsed": false
   },
   "outputs": [
    {
     "name": "stdout",
     "output_type": "stream",
     "text": [
      "Hermiticity check passed!\n",
      "Symmetry checks passed!\n",
      "basis printing-- \n",
      "reference states: \n",
      "         0.  |0 0>\n",
      "         1.  |1 0>\n",
      "         2.  |0 1>\n",
      "         3.  |1 1>\n",
      "see review arXiv:1101.3281 for more details about reference states for symmetry reduced blocks.\n",
      "\n",
      "Ham-- \n",
      "static mat: \n",
      "  (0, 0)\t(-2+0j)\n",
      "  (3, 3)\t(2+0j)\n",
      "\n",
      "\n",
      "dynamic:\n",
      "\n"
     ]
    }
   ],
   "source": [
    "L=2\n",
    "#H= sigma_z^1+ sigma_z^2  \n",
    "\n",
    "\n",
    "jz_index=[[1,i] for i in xrange(0,L)]\n",
    "\n",
    "static=[['z',jz_index]]\n",
    "\n",
    "\n",
    "dynamic=[]\n",
    "basis = spin_basis_1d(L,pauli=True)\n",
    "H=hamiltonian(static,dynamic,basis=basis,dtype=np.complex_)\n",
    "\n",
    "print 'basis printing-- \\n', basis\n",
    "print 'Ham-- \\n', H"
   ]
  },
  {
   "cell_type": "markdown",
   "metadata": {
    "collapsed": false
   },
   "source": [
    "I now understand how to define static Hamiltonian. Let me understand how to use this code for dynamic part"
   ]
  },
  {
   "cell_type": "markdown",
   "metadata": {
    "collapsed": false
   },
   "source": [
    "### Sanity check for QuSpin: dynamic\n",
    "$H=\\sigma_z + t \\sigma_x$ . At time =0, $H=\\sigma_z$. At time =1, $H=\\sigma_z+ \\sigma_x$\n"
   ]
  },
  {
   "cell_type": "code",
   "execution_count": 4,
   "metadata": {
    "collapsed": false
   },
   "outputs": [],
   "source": [
    "from quspin.operators import hamiltonian # Hamiltonians and operators\n",
    "from quspin.basis import spin_basis_1d # Hilbert space spin basis\n",
    "import numpy as np # generic math functions\n",
    "import matplotlib.pyplot as plt\n",
    "%matplotlib inline"
   ]
  },
  {
   "cell_type": "code",
   "execution_count": 180,
   "metadata": {
    "collapsed": false
   },
   "outputs": [
    {
     "name": "stdout",
     "output_type": "stream",
     "text": [
      "Hermiticity check passed!\n",
      "Symmetry checks passed!\n"
     ]
    }
   ],
   "source": [
    "L=1 # system size\n",
    "Jxy=1.0 # xy interaction\n",
    "Jzz_0=1.0 # zz interaction at time t=0\n",
    "v = 1.0 # declare ramp speed variable\n",
    "\n",
    "def ramp(t):\n",
    "\treturn t\n",
    "ramp_args=[]\n",
    "\n",
    "basis = spin_basis_1d(L)\n",
    "\n",
    "J_z = [[1.0,i] for i in range(L)] # OBC\n",
    "# static and dynamic lists\n",
    "static = [[\"z\",J_z]]\n",
    "dynamic =[[\"x\",J_z,ramp,ramp_args]]\n",
    "# compute the time-dependent Heisenberg Hamiltonian\n",
    "H_simple = hamiltonian(static,dynamic,basis=basis,dtype=np.complex_)"
   ]
  },
  {
   "cell_type": "code",
   "execution_count": 181,
   "metadata": {
    "collapsed": false
   },
   "outputs": [
    {
     "name": "stdout",
     "output_type": "stream",
     "text": [
      "time=0 \n",
      "  (0, 0)\t(-1+0j)\n",
      "  (1, 1)\t(1+0j)\n",
      "time=1 \n",
      "  (0, 0)\t(-1+0j)\n",
      "  (0, 1)\t(1+0j)\n",
      "  (1, 0)\t(1+0j)\n",
      "  (1, 1)\t(1+0j)\n"
     ]
    }
   ],
   "source": [
    "print 'time=0 \\n', H_simple(time=0.0)\n",
    "print 'time=1 \\n', H_simple(time=1.0)"
   ]
  },
  {
   "cell_type": "code",
   "execution_count": 182,
   "metadata": {
    "collapsed": false
   },
   "outputs": [],
   "source": [
    "E0,V0= H_simple.eigh(time=0)\n",
    "E1,V1= H_simple.eigh(time=1)"
   ]
  },
  {
   "cell_type": "code",
   "execution_count": 195,
   "metadata": {
    "collapsed": false
   },
   "outputs": [
    {
     "name": "stdout",
     "output_type": "stream",
     "text": [
      "E_0 \n",
      "[-1.  1.]\n",
      "vec GS \n",
      "[-1.+0.j  0.+0.j]\n",
      "H.v \n",
      "[ 1.+0.j  0.+0.j]\n",
      "(v^T H.v) \n",
      "(-1+0j)\n"
     ]
    }
   ],
   "source": [
    "##checking that I am picking up the right vector\n",
    "print \"E_0 \\n\", E0\n",
    "print \"vec GS \\n\", V0[:,0]\n",
    "print \"H.v \\n\" , H_simple(time=0).dot(V0[:,0])\n",
    "print \"(v^T H.v) \\n\" , (H_simple(time=0).dot(V0[:,0])).dot(V0[:,0])"
   ]
  },
  {
   "cell_type": "code",
   "execution_count": 36,
   "metadata": {
    "collapsed": false
   },
   "outputs": [
    {
     "name": "stdout",
     "output_type": "stream",
     "text": [
      "[-1.41421356  1.41421356]\n"
     ]
    }
   ],
   "source": [
    "print E1"
   ]
  },
  {
   "cell_type": "code",
   "execution_count": 40,
   "metadata": {
    "collapsed": false
   },
   "outputs": [
    {
     "name": "stdout",
     "output_type": "stream",
     "text": [
      "[[-0.92387953+0.j  0.38268343+0.j]\n",
      " [ 0.38268343+0.j  0.92387953+0.j]]\n"
     ]
    }
   ],
   "source": [
    "print V1"
   ]
  },
  {
   "cell_type": "code",
   "execution_count": 52,
   "metadata": {
    "collapsed": false
   },
   "outputs": [
    {
     "name": "stdout",
     "output_type": "stream",
     "text": [
      "2.41421357073\n",
      "0.923879532511 0.382683432365\n"
     ]
    }
   ],
   "source": [
    "#checking eigenvectors\n",
    "print 0.92387953/0.38268343  # found by solving eigenvalue equation\n",
    "print (np.sqrt(2)+1)/(np.sqrt(4+ 2*np.sqrt(2))), 1.0/(np.sqrt(4+ 2*np.sqrt(2))) #normalization condn"
   ]
  },
  {
   "cell_type": "markdown",
   "metadata": {},
   "source": [
    "So far, I have learnt that I can write Hamiltonian, diagonalize to obtain eigenvalues ang eigenvectors at any time I want.\n",
    "I still have to learn how to evolve and how to give initial condition. Let me setup Dries hamiltonian first."
   ]
  },
  {
   "cell_type": "markdown",
   "metadata": {},
   "source": [
    "### Dries Hamiltonian: Ising spin chain with tranverse and longitudinal fields\n",
    "$\\begin{equation}\n",
    "H_0=\\sum J \\sigma_j^z \\sigma_{j+1}^z + \\sum  (Z_j  \\sigma_j^z +X_j  \\sigma_j^x)\n",
    "\\end{equation} $\n",
    "+ Here we choose $J=1, Z_j=2, X_j=0.8$\n",
    "+ Driven Bare Hamiltonian is $H_0 + \\lambda \\sigma_0^x$\n",
    "+ CD one spin Hamiltonian is $\\dot{\\lambda} \\alpha_0 \\sigma_0^y$"
   ]
  },
  {
   "cell_type": "code",
   "execution_count": 86,
   "metadata": {
    "collapsed": false
   },
   "outputs": [],
   "source": [
    "\n",
    "def Ham(L):\n",
    "    # system size\n",
    "\n",
    "\n",
    "    basis = spin_basis_1d(L)\n",
    "    # static \n",
    "    J_z = [[1.0,i,(i+1)%L] for i in range(L)] # PBC\n",
    "    Z = [[2.0,i] for i in range(L)] \n",
    "    X = [[0.8,i] for i in range(L)]\n",
    "    static = [[\"zz\",J_z], [\"z\",Z], [\"x\",X]]\n",
    "\n",
    "    #dynamic var\n",
    "    def linear_ramp(t):\n",
    "        global tau\n",
    "        print \"tau:\", tau\n",
    "        #tau=1\n",
    "        return t/tau\n",
    "\n",
    "    def dries_ramp(t):\n",
    "        global tau\n",
    "        p=np.pi\n",
    "        lambda_0=0.1\n",
    "        lambda_f=1.0\n",
    "        return lambda_0 + (lambda_f-lambda_0)*np.sin(pi/2*(np.sin(t*pi/2.0/tau)**2))**2\n",
    "\n",
    "    ramp_args=[]\n",
    "    s=np.zeros(L)\n",
    "    s[0]=1\n",
    "    J_x_t = [[s[j],j] for j in range(L-1) ]\n",
    "\n",
    "    dynamic =[[\"x\", J_x_t,linear_ramp,ramp_args]]\n",
    "    # compute the time-dependent Heisenberg Hamiltonian\n",
    "    H0 = hamiltonian(static,dynamic,basis=basis,dtype=np.complex_)\n",
    "    #print J_z,'\\n', Z, '\\n', X\n",
    "    #print \"Ham \\n\", H0\n",
    "    return H0"
   ]
  },
  {
   "cell_type": "code",
   "execution_count": 61,
   "metadata": {
    "collapsed": false
   },
   "outputs": [
    {
     "name": "stdout",
     "output_type": "stream",
     "text": [
      "Hermiticity check passed!\n",
      "Symmetry checks passed!\n"
     ]
    }
   ],
   "source": [
    "L=2\n",
    "H0=Ham(L)\n",
    "E0,V0=H0.eigh(time=0)"
   ]
  },
  {
   "cell_type": "code",
   "execution_count": 62,
   "metadata": {
    "collapsed": false
   },
   "outputs": [
    {
     "name": "stdout",
     "output_type": "stream",
     "text": [
      "E_0 \n",
      "[-3.28377713 -2.00248984 -0.89484143  6.1811084 ]\n",
      "vec GS \n",
      "[ 0.68108253-0.j -0.53586017+0.j -0.49010503+0.j  0.09368845+0.j]\n",
      "H.v =evalue *v \n",
      "[ 0.68108253-0.j -0.53586017-0.j -0.49010503-0.j  0.09368845-0.j]\n",
      "evalue=(v. H.v) \n",
      "(-3.28377713168+0j)\n",
      "evalue=(v^T. H.v) \n",
      "(-3.28377713168+0j)\n"
     ]
    }
   ],
   "source": [
    "##checking that I am picking up the right vector corresponding to evalue\n",
    "print \"E_0 \\n\", E0\n",
    "print \"vec GS \\n\", V0[:,0]\n",
    "print \"H.v =evalue *v \\n\" , H0(time=0).dot(V0[:,0])/E0[0]\n",
    "print \"evalue=(v. H.v) \\n\" , (H0(time=0).dot(V0[:,0])).dot(V0[:,0])\n",
    "#Idk if I am able to transpose it. I think I should use vdot for it\n",
    "#below I am using vdot. hence it's v.T\n",
    "print \"evalue=(v^T. H.v) \\n\" , np.vdot(V0[:,0],H0(time=0).dot(V0[:,0]))\n"
   ]
  },
  {
   "cell_type": "code",
   "execution_count": 5,
   "metadata": {
    "collapsed": false
   },
   "outputs": [],
   "source": [
    "##intial state is ground state\n",
    "psi0=V0[:,0]"
   ]
  },
  {
   "cell_type": "code",
   "execution_count": 69,
   "metadata": {
    "collapsed": false
   },
   "outputs": [],
   "source": [
    "## evolving using SE\n",
    "t=5\n",
    "tf=t\n",
    "psi = H0.evolve(psi0,0.0,tf)"
   ]
  },
  {
   "cell_type": "code",
   "execution_count": 70,
   "metadata": {
    "collapsed": false
   },
   "outputs": [],
   "source": [
    "### computing fidelity and final energy above the ground state\n",
    "def fidelity(t,psi):\n",
    "    energy,evector=H0.eigh(time=t)\n",
    "    psi_gs=evector[:,0]\n",
    "    return np.abs(np.vdot(psi_gs,psi))**2\n",
    "\n",
    "def energy_diff(t,psi):\n",
    "    energy_psi= np.vdot(psi, H0(time=t).dot(psi))\n",
    "    gs_energy=H0.eigvalsh(time=t)\n",
    "    return energy_psi-gs_energy[0] \n",
    "### here lamba=t. But in reality, it is some sin**2 fn. Import it from sympy"
   ]
  },
  {
   "cell_type": "code",
   "execution_count": 73,
   "metadata": {
    "collapsed": false
   },
   "outputs": [
    {
     "name": "stdout",
     "output_type": "stream",
     "text": [
      "Hermiticity check passed!\n",
      "Symmetry checks passed!\n"
     ]
    }
   ],
   "source": [
    "L=2\n",
    "tau=50\n",
    "H0=Ham(L)\n",
    "E0,V0=H0.eigh(time=0)\n",
    "psi0=V0[:,0]\n",
    "t_in=np.linspace(0,50,10)\n",
    "\n",
    "\n",
    "def fidelity(t,psi):\n",
    "    energy,evector=H0.eigh(time=t)\n",
    "    psi_gs=evector[:,0]\n",
    "    return np.abs(np.vdot(psi_gs,psi))**2\n",
    "\n",
    "def energy_diff(t,psi):\n",
    "    energy_psi= np.vdot(psi, H0(time=t).dot(psi))\n",
    "    gs_energy=H0.eigvalsh(time=t)\n",
    "    return energy_psi-gs_energy[0] \n",
    "\n",
    "for i in range(len(t_in)):\n",
    "    psi = H0.evolve(psi0,0.0,t_in[i])\n",
    "#    print fidelity(t_in[i],psi), np.real(energy_diff(t_in[i],psi))"
   ]
  },
  {
   "cell_type": "markdown",
   "metadata": {
    "collapsed": true
   },
   "source": [
    "### Varying tau in speed"
   ]
  },
  {
   "cell_type": "code",
   "execution_count": 1,
   "metadata": {
    "collapsed": false
   },
   "outputs": [],
   "source": [
    "from quspin.operators import hamiltonian # Hamiltonians and operators\n",
    "from quspin.basis import spin_basis_1d # Hilbert space spin basis\n",
    "import numpy as np # generic math functions\n",
    "import matplotlib.pyplot as plt\n",
    "%matplotlib inline"
   ]
  },
  {
   "cell_type": "code",
   "execution_count": 5,
   "metadata": {
    "collapsed": false
   },
   "outputs": [
    {
     "name": "stdout",
     "output_type": "stream",
     "text": [
      "Hermiticity check passed!\n",
      "Symmetry checks passed!\n",
      " 0.1 0.962480103159 0.0922629396205\n",
      "5.64444444444 0.996864112703 0.00594321505355\n",
      "11.1888888889 0.999406529489 0.00112182860887\n",
      "16.7333333333 0.999752522289 0.000467302238376\n",
      "22.2777777778 0.999765201983 0.00044240449672\n",
      "27.8222222222 0.999924024525 0.000143393971232\n",
      "33.3666666667 0.999914499107 0.000161081308696\n",
      "38.9111111111 0.999932582493 0.000127181829889\n",
      "44.4555555556 0.999971441709 5.40716690987e-05\n",
      "50.0 0.99995391639 8.67408421223e-05\n"
     ]
    }
   ],
   "source": [
    "def Ham(L):\n",
    "    basis = spin_basis_1d(L)\n",
    "    # static \n",
    "    J_z = [[1.0,i,(i+1)%L] for i in range(L)] # PBC\n",
    "    Z = [[2.0,i] for i in range(L)] \n",
    "    X = [[0.8,i] for i in range(L)]\n",
    "    static = [[\"zz\",J_z], [\"z\",Z], [\"x\",X]]\n",
    "\n",
    "    #dynamic var\n",
    "    def linear_ramp(t):\n",
    "        global tau\n",
    "        #print \"tau:\", tau\n",
    "        #tau=1\n",
    "        return t/tau\n",
    "\n",
    "    def dries_ramp(t):\n",
    "        global tau\n",
    "        p=np.pi\n",
    "        lambda_0=0.1\n",
    "        lambda_f=1.0\n",
    "        return lambda_0 + (lambda_f-lambda_0)*np.sin(pi/2*(np.sin(t*pi/2.0/tau)**2))**2\n",
    "\n",
    "    ramp_args=[]\n",
    "    s=np.zeros(L)\n",
    "    s[0]=1\n",
    "    J_x_t = [[s[j],j] for j in range(L-1) ]\n",
    "\n",
    "    dynamic =[[\"x\", J_x_t,linear_ramp,ramp_args]]\n",
    "    # compute the time-dependent Heisenberg Hamiltonian\n",
    "    H0 = hamiltonian(static,dynamic,basis=basis,dtype=np.complex_)\n",
    "    #print J_z,'\\n', Z, '\\n', X\n",
    "    #print \"Ham \\n\", H0\n",
    "    return H0\n",
    "\n",
    "def fidelity(t,psi):\n",
    "    energy,evector=H0.eigh(time=t)\n",
    "    psi_gs=evector[:,0]\n",
    "    return np.abs(np.vdot(psi_gs,psi))**2\n",
    "\n",
    "def energy_diff(t,psi):\n",
    "    energy_psi= np.vdot(psi, H0(time=t).dot(psi))\n",
    "    gs_energy=H0.eigvalsh(time=t)\n",
    "    return energy_psi-gs_energy[0] \n",
    "\n",
    "\n",
    "\n",
    "L=2\n",
    "tau=0.01\n",
    "H0=Ham(L)\n",
    "E0,V0=H0.eigh(time=0)\n",
    "psi0=V0[:,0]\n",
    "t_in=np.linspace(0.1,50,10)\n",
    "\n",
    "\n",
    "for i in range(len(t_in)):\n",
    "    tau=t_in[i]\n",
    "    psi = H0.evolve(psi0,0.0,t_in[i])\n",
    "    print t_in[i],fidelity(t_in[i],psi), np.real(energy_diff(t_in[i],psi))"
   ]
  },
  {
   "cell_type": "markdown",
   "metadata": {},
   "source": [
    "### Sampling problem"
   ]
  },
  {
   "cell_type": "code",
   "execution_count": 26,
   "metadata": {
    "collapsed": false
   },
   "outputs": [
    {
     "data": {
      "text/plain": [
       "24.945947269429549"
      ]
     },
     "execution_count": 26,
     "metadata": {},
     "output_type": "execute_result"
    },
    {
     "data": {
      "image/png": "[encoded data removed]",
      "text/plain": [
       "<matplotlib.figure.Figure at 0x7f95c60f4f90>"
      ]
     },
     "metadata": {},
     "output_type": "display_data"
    }
   ],
   "source": [
    "N = 5\n",
    "x1 = np.logspace(-2, 1.397, N, endpoint=True)## 10**(-1) to 10**(1.397)=25\n",
    "#x2 = np.logspace(0.1, 1, N, endpoint=False)\n",
    "y = np.zeros(N)\n",
    "plt.ylim([-0.5, 1])\n",
    "plt.grid()\n",
    "plt.semilogx(x1, y, 'o')\n",
    "#plt.semilogx(x2, y + 0.5, 'o')\n",
    "\n",
    "x1[-1]"
   ]
  },
  {
   "cell_type": "code",
   "execution_count": 18,
   "metadata": {
    "collapsed": false
   },
   "outputs": [
    {
     "data": {
      "text/plain": [
       "array([  0.01      ,   0.0143845 ,   0.02069138,   0.02976351,\n",
       "         0.04281332,   0.06158482,   0.08858668,   0.1274275 ,\n",
       "         0.18329807,   0.26366509,   0.37926902,   0.54555948,\n",
       "         0.78475997,   1.12883789,   1.62377674,   2.33572147,\n",
       "         3.35981829,   4.83293024,   6.95192796,  10.        ])"
      ]
     },
     "execution_count": 18,
     "metadata": {},
     "output_type": "execute_result"
    },
    {
     "data": {
      "image/png": "[encoded data removed]",
      "text/plain": [
       "<matplotlib.figure.Figure at 0x7f95c6be3ed0>"
      ]
     },
     "metadata": {},
     "output_type": "display_data"
    }
   ],
   "source": [
    "plt.ylim([-0.5, 1])\n",
    "plt.plot(x1, y, 'o')\n",
    "#lt.plot(x2, y + 0.5, 'o')\n",
    "x1"
   ]
  },
  {
   "cell_type": "markdown",
   "metadata": {
    "collapsed": false
   },
   "source": [
    "### plotting pictures"
   ]
  },
  {
   "cell_type": "code",
   "execution_count": 3,
   "metadata": {
    "collapsed": false
   },
   "outputs": [],
   "source": [
    "x1,x2,x3=np.loadtxt(\"L12_naive.dat\",skiprows=1,unpack=True) \n",
    "y1,y2,y3=np.loadtxt(\"L12_one_body_CD.dat\",skiprows=1,unpack=True)"
   ]
  },
  {
   "cell_type": "code",
   "execution_count": 6,
   "metadata": {
    "collapsed": false
   },
   "outputs": [
    {
     "data": {
      "image/png": "[encoded data removed]",
      "text/plain": [
       "<matplotlib.figure.Figure at 0x7fe3e421de90>"
      ]
     },
     "metadata": {},
     "output_type": "display_data"
    }
   ],
   "source": [
    "plt.semilogx(x1,x2,'b.-', label=\"naive\")\n",
    "plt.semilogx(y1,y2,'r.-', label= \"local CD\")\n",
    "plt.xlabel(r\"$\\tau$\", fontsize=14)\n",
    "plt.ylabel(r\"$F^2$\", fontsize=14)\n",
    "plt.grid()\n",
    "plt.legend()\n",
    "plt.savefig(\"fidelity_naive.eps\")"
   ]
  },
  {
   "cell_type": "code",
   "execution_count": 8,
   "metadata": {
    "collapsed": false
   },
   "outputs": [
    {
     "data": {
      "image/png": "[encoded data removed]",
      "text/plain": [
       "<matplotlib.figure.Figure at 0x7fe3e3c5cd90>"
      ]
     },
     "metadata": {},
     "output_type": "display_data"
    }
   ],
   "source": [
    "plt.semilogx(x1,x3,'b.-', label=\"naive\")\n",
    "plt.semilogx(y1,y3,'r.-', label= \"local CD\")\n",
    "plt.xlabel(r\"$\\tau$\", fontsize=14)\n",
    "plt.ylabel(r\"$E-E_0$\", fontsize=14)\n",
    "plt.grid()\n",
    "plt.legend()\n",
    "plt.savefig(\"final_energy_naive.eps\")"
   ]
  },
  {
   "cell_type": "markdown",
   "metadata": {},
   "source": [
    "### local CD driving\n",
    "\n",
    "\\begin{equation}\n",
    "H_0=\\sum  \\sigma_j^z \\sigma_{j+1}^z + \\sum  (2  \\sigma_j^z +0.8  \\sigma_j^x)  + \\lambda \\sigma_0^x + \\dot{\\lambda} \\alpha_0 \\sigma_0^y\n",
    "\\end{equation} \n",
    "where $\\alpha_0=(6+ (\\lambda + 0.8)^2)^{-1}$\n"
   ]
  },
  {
   "cell_type": "code",
   "execution_count": 23,
   "metadata": {
    "collapsed": true
   },
   "outputs": [],
   "source": [
    "from quspin.operators import hamiltonian # Hamiltonians and operators\n",
    "from quspin.basis import spin_basis_1d # Hilbert space spin basis\n",
    "import numpy as np # generic math functions\n",
    "import matplotlib.pyplot as plt\n",
    "%matplotlib inline"
   ]
  },
  {
   "cell_type": "code",
   "execution_count": 26,
   "metadata": {
    "collapsed": true
   },
   "outputs": [],
   "source": [
    "import sympy as sp\n",
    "sp.init_printing(use_unicode=True)#printing option pf sympy"
   ]
  },
  {
   "cell_type": "code",
   "execution_count": 27,
   "metadata": {
    "collapsed": false
   },
   "outputs": [
    {
     "name": "stdout",
     "output_type": "stream",
     "text": [
      "0.9*sin(1.5707963267949*sin(1.5707963267949*x/tau)**2)**2 + 0.1\n",
      "8.88264396098042*sin(1.5707963267949*x/tau)*sin(1.5707963267949*sin(1.5707963267949*x/tau)**2)*cos(1.5707963267949*x/tau)*cos(1.5707963267949*sin(1.5707963267949*x/tau)**2)/tau\n"
     ]
    }
   ],
   "source": [
    "x,tau_0 = sp.symbols('x tau')\n",
    "def lambda_fn_sym(t,tau):\n",
    "    pi=np.pi\n",
    "    #tau=1.0\n",
    "    lambda_0=0.1\n",
    "    lambda_f=1.0\n",
    "    return lambda_0 + (lambda_f-lambda_0)*sp.sin(pi/2*(sp.sin(t*pi/2.0/tau)**2))**2\n",
    "print lambda_fn_sym(x,tau_0)\n",
    "def dot_lambda_fn_sym(t,tau):\n",
    "    return sp.diff(lambda_fn_sym(t, tau),t)\n",
    "print dot_lambda_fn_sym(x, tau_0)\n",
    "\n",
    "\n",
    "#lambda_fn_sym_value=(lambda_fn_sym(x).subs({tau:tau_np}))\n",
    "np_lambda = sp.lambdify((x,tau_0),lambda_fn_sym(x,tau_0), modules=['numpy'])\n",
    "np_lambda_dot = sp.lambdify((x,tau_0), dot_lambda_fn_sym(x,tau_0), modules=['numpy'])\n",
    "x_vals = np.linspace(0, 1, 1000)\n",
    "y_lambda = np_lambda(x_vals,1.0)\n",
    "y_lambda_dot = np_lambda_dot(x_vals,1.0)"
   ]
  },
  {
   "cell_type": "code",
   "execution_count": null,
   "metadata": {
    "collapsed": true
   },
   "outputs": [],
   "source": [
    "plt.plot(x_vals,y_lambda,'r', label='prot')\n",
    "plt.plot(x_vals,y_lambda_dot,'b', label='dot')\n",
    "plt.xlabel(r\"$t/ \\tau$\")\n",
    "plt.ylabel(r\"$\\lambda(t)$\")\n",
    "plt.legend()"
   ]
  },
  {
   "cell_type": "code",
   "execution_count": 25,
   "metadata": {
    "collapsed": false
   },
   "outputs": [
    {
     "name": "stdout",
     "output_type": "stream",
     "text": [
      "Hermiticity check passed!\n",
      "Symmetry checks passed!\n",
      "0.1 0.979130328814 0.0536545984399\n",
      "5.64444444444 0.996684164649 0.00626351427812\n",
      "11.1888888889 0.999859010027 0.000265131729916\n",
      "16.7333333333 0.999996981946 5.68856645966e-06\n",
      "22.2777777778 0.999999988325 4.21825916419e-08\n",
      "27.8222222222 0.999999984231 5.41999298775e-08\n",
      "33.3666666667 0.99999998602 5.53051533458e-08\n",
      "38.9111111111 0.999999984635 6.22604385825e-08\n",
      "44.4555555556 0.999999982808 7.00969158274e-08\n",
      "50.0 0.999999980864 7.81768427771e-08\n"
     ]
    }
   ],
   "source": [
    "def Ham(L):\n",
    "    basis = spin_basis_1d(L)\n",
    "    # static \n",
    "    J_z = [[1.0,i,(i+1)%L] for i in range(L)] # PBC\n",
    "    Z = [[2.0,i] for i in range(L)] \n",
    "    X = [[0.8,i] for i in range(L)]\n",
    "    static = [[\"zz\",J_z], [\"z\",Z], [\"x\",X]]\n",
    "\n",
    "    #dynamic var\n",
    "    def linear_ramp(t):\n",
    "        global tau\n",
    "        #print \"tau:\", tau\n",
    "        #tau=1\n",
    "        return t/tau\n",
    "\n",
    "    def dries_ramp(t):\n",
    "        global tau\n",
    "        pi=np.pi\n",
    "        lambda_0=0.1\n",
    "        lambda_f=1.0\n",
    "        return lambda_0 + (lambda_f-lambda_0)*np.sin(pi/2*(np.sin(t*pi/2.0/tau)**2))**2\n",
    "\n",
    "    \n",
    "    def alpha_0(t_var):\n",
    "        return 1.0/(6+ (t_var+0.8)**2 )\n",
    "\n",
    "    def CD_ramp(t):\n",
    "        global tau\n",
    "        p=np.pi\n",
    "        lambda_0=0.1\n",
    "        lambda_f=1.0\n",
    "        return np_lambda_dot(t,tau)*alpha_0(t)\n",
    "\n",
    "    ramp_args=[]\n",
    "    s=np.zeros(L)\n",
    "    s[0]=1\n",
    "    J_x_t = [[s[j],j] for j in range(L-1) ]\n",
    "    J_y_t = [[s[j],j] for j in range(L-1) ]\n",
    "\n",
    "    \n",
    "    dynamic =[[\"x\", J_x_t,dries_ramp,ramp_args], [\"y\", J_y_t,CD_ramp,ramp_args]]\n",
    "    # compute the time-dependent Heisenberg Hamiltonian\n",
    "    H0 = hamiltonian(static,dynamic,basis=basis,dtype=np.complex_)\n",
    "    #print J_z,'\\n', Z, '\\n', X\n",
    "    #print \"Ham \\n\", H0\n",
    "    return H0\n",
    "\n",
    "def fidelity(t,psi):\n",
    "    energy,evector=H0.eigh(time=t)\n",
    "    psi_gs=evector[:,0]\n",
    "    return np.abs(np.vdot(psi_gs,psi))**2\n",
    "\n",
    "def energy_diff(t,psi):\n",
    "    energy_psi= np.vdot(psi, H0(time=t).dot(psi))\n",
    "    gs_energy=H0.eigvalsh(time=t)\n",
    "    return energy_psi-gs_energy[0] \n",
    "\n",
    "\n",
    "\n",
    "L=2\n",
    "tau=0.01\n",
    "H0=Ham(L)\n",
    "E0,V0=H0.eigh(time=0)\n",
    "psi0=V0[:,0]\n",
    "t_in=np.linspace(0.1,50,10)\n",
    "\n",
    "\n",
    "for i in range(len(t_in)):\n",
    "    tau=t_in[i]\n",
    "    psi = H0.evolve(psi0,0.0,t_in[i])\n",
    "    print t_in[i],fidelity(t_in[i],psi), np.real(energy_diff(t_in[i],psi))"
   ]
  },
  {
   "cell_type": "code",
   "execution_count": 1,
   "metadata": {
    "collapsed": false
   },
   "outputs": [],
   "source": []
  },
  {
   "cell_type": "code",
   "execution_count": null,
   "metadata": {
    "collapsed": false
   },
   "outputs": [],
   "source": []
  },
  {
   "cell_type": "code",
   "execution_count": null,
   "metadata": {
    "collapsed": false
   },
   "outputs": [],
   "source": []
  },
  {
   "cell_type": "code",
   "execution_count": 21,
   "metadata": {
    "collapsed": false
   },
   "outputs": [],
   "source": []
  },
  {
   "cell_type": "code",
   "execution_count": null,
   "metadata": {
    "collapsed": false
   },
   "outputs": [],
   "source": []
  },
  {
   "cell_type": "code",
   "execution_count": null,
   "metadata": {
    "collapsed": false
   },
   "outputs": [],
   "source": []
  },
  {
   "cell_type": "code",
   "execution_count": null,
   "metadata": {
    "collapsed": false
   },
   "outputs": [],
   "source": []
  },
  {
   "cell_type": "code",
   "execution_count": null,
   "metadata": {
    "collapsed": false
   },
   "outputs": [],
   "source": []
  },
  {
   "cell_type": "code",
   "execution_count": null,
   "metadata": {
    "collapsed": true
   },
   "outputs": [],
   "source": []
  }
 ],
 "metadata": {
  "kernelspec": {
   "display_name": "Python 2",
   "language": "python",
   "name": "python2"
  },
  "language_info": {
   "codemirror_mode": {
    "name": "ipython",
    "version": 2
   },
   "file_extension": ".py",
   "mimetype": "text/x-python",
   "name": "python",
   "nbconvert_exporter": "python",
   "pygments_lexer": "ipython2",
   "version": "2.7.13"
  }
 },
 "nbformat": 4,
 "nbformat_minor": 2
}

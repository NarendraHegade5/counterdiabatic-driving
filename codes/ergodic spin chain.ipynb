{
 "cells": [
  {
   "cell_type": "code",
   "execution_count": 1,
   "metadata": {
    "collapsed": false
   },
   "outputs": [],
   "source": [
    "from quspin.operators import hamiltonian # Hamiltonians and operators\n",
    "from quspin.basis import spin_basis_1d # Hilbert space spin basis\n",
    "from quspin.tools.measurements import ent_entropy, diag_ensemble # entropies\n",
    "#from numpy.random import ranf,seed # pseudo random numbers\n",
    "#from joblib import delayed,Parallel # parallelisation\n",
    "import numpy as np # generic math functions\n",
    "import matplotlib.pyplot as plt\n",
    "%matplotlib inline\n",
    "pi=np.pi"
   ]
  },
  {
   "cell_type": "markdown",
   "metadata": {},
   "source": [
    "### Sanity check for Quspin: static"
   ]
  },
  {
   "cell_type": "code",
   "execution_count": 30,
   "metadata": {
    "collapsed": false
   },
   "outputs": [
    {
     "name": "stdout",
     "output_type": "stream",
     "text": [
      "Hermiticity check passed!\n",
      "Symmetry checks passed!\n",
      "basis printing-- \n",
      "reference states: \n",
      "         0.  |0>\n",
      "         1.  |1>\n",
      "see review arXiv:1101.3281 for more details about reference states for symmetry reduced blocks.\n",
      "\n",
      "Ham-- \n",
      "static mat: \n",
      "  (0, 0)\t(-1+0j)\n",
      "  (1, 1)\t(1+0j)\n",
      "\n",
      "\n",
      "dynamic:\n",
      "\n"
     ]
    }
   ],
   "source": [
    "L=1\n",
    "\n",
    "#H= -sigma_z^1  \n",
    "\n",
    "basis = spin_basis_1d(L,pauli=True)\n",
    "\n",
    "jz_index=[[1,i] for i in xrange(0,L)]\n",
    "\n",
    "static=[['z',jz_index]]\n",
    "\n",
    "\n",
    "dynamic=[]\n",
    "H=hamiltonian(static,dynamic,basis=basis,dtype=np.complex_)\n",
    "print 'basis printing-- \\n', basis\n",
    "print 'Ham-- \\n', H"
   ]
  },
  {
   "cell_type": "code",
   "execution_count": 37,
   "metadata": {
    "collapsed": false
   },
   "outputs": [
    {
     "name": "stdout",
     "output_type": "stream",
     "text": [
      "Hermiticity check passed!\n",
      "Symmetry checks passed!\n",
      "basis printing-- \n",
      "reference states: \n",
      "         0.  |0 0>\n",
      "         1.  |1 0>\n",
      "         2.  |0 1>\n",
      "         3.  |1 1>\n",
      "see review arXiv:1101.3281 for more details about reference states for symmetry reduced blocks.\n",
      "\n",
      "Ham-- \n",
      "static mat: \n",
      "  (0, 0)\t(-2+0j)\n",
      "  (3, 3)\t(2+0j)\n",
      "\n",
      "\n",
      "dynamic:\n",
      "\n"
     ]
    }
   ],
   "source": [
    "L=2\n",
    "#H= sigma_z^1+ sigma_z^2  \n",
    "\n",
    "\n",
    "jz_index=[[1,i] for i in xrange(0,L)]\n",
    "\n",
    "static=[['z',jz_index]]\n",
    "\n",
    "\n",
    "dynamic=[]\n",
    "basis = spin_basis_1d(L,pauli=True)\n",
    "H=hamiltonian(static,dynamic,basis=basis,dtype=np.complex_)\n",
    "\n",
    "print 'basis printing-- \\n', basis\n",
    "print 'Ham-- \\n', H"
   ]
  },
  {
   "cell_type": "markdown",
   "metadata": {
    "collapsed": false
   },
   "source": [
    "I now understand how to define static Hamiltonian. Let me understand how to use this code for dynamic part"
   ]
  },
  {
   "cell_type": "markdown",
   "metadata": {
    "collapsed": false
   },
   "source": [
    "### Sanity check for QuSpin: dynamic"
   ]
  },
  {
   "cell_type": "code",
   "execution_count": null,
   "metadata": {
    "collapsed": false
   },
   "outputs": [],
   "source": []
  },
  {
   "cell_type": "code",
   "execution_count": null,
   "metadata": {
    "collapsed": true
   },
   "outputs": [],
   "source": []
  }
 ],
 "metadata": {
  "kernelspec": {
   "display_name": "Python 2",
   "language": "python",
   "name": "python2"
  },
  "language_info": {
   "codemirror_mode": {
    "name": "ipython",
    "version": 2
   },
   "file_extension": ".py",
   "mimetype": "text/x-python",
   "name": "python",
   "nbconvert_exporter": "python",
   "pygments_lexer": "ipython2",
   "version": "2.7.13"
  }
 },
 "nbformat": 4,
 "nbformat_minor": 2
}

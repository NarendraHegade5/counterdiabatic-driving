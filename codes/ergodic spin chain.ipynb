{
 "cells": [
  {
   "cell_type": "code",
   "execution_count": 4,
   "metadata": {
    "collapsed": false
   },
   "outputs": [],
   "source": [
    "from quspin.operators import hamiltonian # Hamiltonians and operators\n",
    "from quspin.basis import spin_basis_1d # Hilbert space spin basis\n",
    "from quspin.tools.measurements import ent_entropy, diag_ensemble # entropies\n",
    "#from numpy.random import ranf,seed # pseudo random numbers\n",
    "#from joblib import delayed,Parallel # parallelisation\n",
    "import numpy as np # generic math functions\n",
    "import matplotlib.pyplot as plt\n",
    "%matplotlib inline\n",
    "pi=np.pi"
   ]
  },
  {
   "cell_type": "code",
   "execution_count": 14,
   "metadata": {
    "collapsed": false
   },
   "outputs": [
    {
     "name": "stdout",
     "output_type": "stream",
     "text": [
      "Hermiticity check passed!\n",
      "Symmetry checks passed!\n"
     ]
    },
    {
     "ename": "NameError",
     "evalue": "name 'basis' is not defined",
     "output_type": "error",
     "traceback": [
      "\u001b[0;31m---------------------------------------------------------------------------\u001b[0m",
      "\u001b[0;31mNameError\u001b[0m                                 Traceback (most recent call last)",
      "\u001b[0;32m<ipython-input-14-d4d3fd3fe196>\u001b[0m in \u001b[0;36m<module>\u001b[0;34m()\u001b[0m\n\u001b[1;32m     21\u001b[0m \u001b[0;31m#H2=hamiltonian(static_list,dynamic_list,L,pauli=False,check_herm=False)\u001b[0m\u001b[0;34m\u001b[0m\u001b[0;34m\u001b[0m\u001b[0m\n\u001b[1;32m     22\u001b[0m \u001b[0;34m\u001b[0m\u001b[0m\n\u001b[0;32m---> 23\u001b[0;31m \u001b[0;32mprint\u001b[0m \u001b[0mbasis\u001b[0m\u001b[0;34m\u001b[0m\u001b[0m\n\u001b[0m",
      "\u001b[0;31mNameError\u001b[0m: name 'basis' is not defined"
     ]
    }
   ],
   "source": [
    "L=1\n",
    "\n",
    "#jp_index=[[0.5,i,i+1] for i in xrange(0,L-1)]\n",
    "#jm_index=[[0.5j,i,i+1] for i in xrange(0,L-1)]\n",
    "\n",
    "\n",
    "jz_index=[[1,i] for i in xrange(0,L)]\n",
    "\n",
    "static_list=[['y',jz_index]]\n",
    "\n",
    "\n",
    "dynamic_list=[]\n",
    "H=hamiltonian(static_list,dynamic_list,L,pauli=True,check_herm=True)\n",
    "#Jxy=1.0\n",
    "#Jzz_0=1.0\n",
    "#J_zz = [[Jzz_0,i,i+1] for i in range(0,L-1)] # OBC\n",
    "#J_xy = [[Jxy/2.0,i,i+1] for i in range(0,L-1)] # OBC\n",
    "#static = [[\"+-\",J_xy],[\"-+\",J_xy]]\n",
    "\n",
    "\n",
    "#H2=hamiltonian(static_list,dynamic_list,L,pauli=False,check_herm=False)\n",
    "\n",
    "print basis"
   ]
  },
  {
   "cell_type": "code",
   "execution_count": 38,
   "metadata": {
    "collapsed": false
   },
   "outputs": [
    {
     "name": "stdout",
     "output_type": "stream",
     "text": [
      "Hermiticity check passed!\n",
      "Symmetry checks passed!\n",
      "reference states: \n",
      "         0.  |0>\n",
      "         1.  |1>\n",
      "see review arXiv:1101.3281 for more details about reference states for symmetry reduced blocks.\n",
      "\n",
      "static mat: \n",
      "  (0, 1)\t(1+0j)\n",
      "  (1, 0)\t(1+0j)\n",
      "\n",
      "\n",
      "dynamic:\n",
      "\n"
     ]
    }
   ],
   "source": [
    "##### define model parameters #####\n",
    "L=1 # system size\n",
    "Jxy=np.sqrt(2.0) # xy interaction\n",
    "Jzz_0=1.0 # zz interaction\n",
    "hz=1.0#/np.sqrt(3.0) # z external field\n",
    "#\n",
    "##### set up Heisenberg Hamiltonian in an enternal z-field #####\n",
    "# compute spin-1/2 basis\n",
    "basis = spin_basis_1d(L,pauli=True)\n",
    "# define operators with OBC using site-coupling lists\n",
    "h_z=[[hz,i] for i in range(L)]\n",
    "# static and dynamic lists\n",
    "static = [[\"x\",h_z]]\n",
    "dynamic=[]\n",
    "# compute the time-dependent Heisenberg Hamiltonian\n",
    "H_XXZ = hamiltonian(static,dynamic,basis=basis,dtype=np.complex128)\n",
    "print basis\n",
    "print H_XXZ"
   ]
  },
  {
   "cell_type": "code",
   "execution_count": 31,
   "metadata": {
    "collapsed": false
   },
   "outputs": [
    {
     "name": "stdout",
     "output_type": "stream",
     "text": [
      "reference states: \n",
      "         0.  |0>\n",
      "         1.  |1>\n",
      "see review arXiv:1101.3281 for more details about reference states for symmetry reduced blocks.\n",
      "\n"
     ]
    }
   ],
   "source": []
  },
  {
   "cell_type": "code",
   "execution_count": 32,
   "metadata": {
    "collapsed": false
   },
   "outputs": [
    {
     "name": "stdout",
     "output_type": "stream",
     "text": [
      "static mat: \n",
      "  (0, 0)\t-1.0\n",
      "  (1, 1)\t1.0\n",
      "\n",
      "\n",
      "dynamic:\n",
      "\n"
     ]
    }
   ],
   "source": []
  },
  {
   "cell_type": "code",
   "execution_count": null,
   "metadata": {
    "collapsed": true
   },
   "outputs": [],
   "source": []
  }
 ],
 "metadata": {
  "kernelspec": {
   "display_name": "Python 2",
   "language": "python",
   "name": "python2"
  },
  "language_info": {
   "codemirror_mode": {
    "name": "ipython",
    "version": 2
   },
   "file_extension": ".py",
   "mimetype": "text/x-python",
   "name": "python",
   "nbconvert_exporter": "python",
   "pygments_lexer": "ipython2",
   "version": "2.7.13"
  }
 },
 "nbformat": 4,
 "nbformat_minor": 2
}

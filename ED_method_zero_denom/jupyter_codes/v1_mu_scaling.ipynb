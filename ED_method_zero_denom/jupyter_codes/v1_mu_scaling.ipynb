{
 "cells": [
  {
   "cell_type": "code",
   "execution_count": 2,
   "metadata": {
    "collapsed": true
   },
   "outputs": [],
   "source": [
    "from quspin.operators import hamiltonian # Hamiltonians and operators\n",
    "from quspin.basis import spin_basis_1d # Hilbert space spin basis\n",
    "import numpy as np # generic math functions\n",
    "import matplotlib.pyplot as plt\n",
    "%matplotlib inline"
   ]
  },
  {
   "cell_type": "code",
   "execution_count": 5,
   "metadata": {
    "collapsed": true
   },
   "outputs": [],
   "source": [
    "def Ham_nonint(L):\n",
    "    basis = spin_basis_1d(L)\n",
    "    hz=(np.sqrt(5)+1)/4 #parameters used by Kim and Huse\n",
    "    hx=(np.sqrt(5)+5)/8\n",
    "    J=1.0\n",
    "    hz_arr = [[hz,i] for i in range(L)] \n",
    "    hx_arr = [[hx,i] for i in range(L)] \n",
    "    J_arr = [[J,i,(i+1)] for i in range(L-1)] # OBC [[J,i,(i+1)%L] for i in range(L)] # PBC\n",
    "    \n",
    "    # static and dynamic lists\n",
    "    static = [[\"zz\",J_arr],[\"z\",hz_arr], [\"x\",hx_arr] ]\n",
    "    dynamic =[]\n",
    "    H = hamiltonian(static,dynamic,basis=basis,dtype=np.complex_,check_symm=False,check_herm=False)\n",
    "    return H\n",
    "\n",
    "def Ham_int_antiferro(L,hz):\n",
    "    basis = spin_basis_1d(L)\n",
    "    J=1.0\n",
    "    hz_arr = [[hz,i] for i in range(L)] # OBC\n",
    "    J_arr = [[J,i,(i+1)] for i in range(L-1)] # OBC [[J,i,(i+1)%L] for i in range(L)] # PBC\n",
    "    \n",
    "    # static and dynamic lists\n",
    "    static = [[\"zz\",J_arr],[\"x\",hz_arr]]\n",
    "    dynamic =[]\n",
    "    H = hamiltonian(static,dynamic,basis=basis,dtype=np.complex_,check_symm=False,check_herm=False)\n",
    "    return H"
   ]
  },
  {
   "cell_type": "code",
   "execution_count": 4,
   "metadata": {
    "collapsed": false
   },
   "outputs": [],
   "source": [
    "def del_lambda_Ham(L):\n",
    "    basis = spin_basis_1d(L)  \n",
    "    hx_lamb=1.0\n",
    "    hx_lamb_arr = [[hx_lamb,i] for i in range(L)] # OBC\n",
    "    static_lamb = [[\"x\",hx_lamb_arr]]\n",
    "    dynamic_lamb =[]\n",
    "    op_lamb=hamiltonian(static_lamb,dynamic_lamb,basis=basis,dtype=np.complex_,check_symm=False,check_herm=False)\n",
    "    return op_lamb\n",
    "\n",
    "def norm(A_lamb):    \n",
    "    return np.linalg.norm(A_lamb, 'fro')\n",
    "\n",
    "def guage_potent_mu(Ham,L, mu):\n",
    "    E,V= Ham.eigh()\n",
    "    op_lamb= del_lambda_Ham(L)\n",
    "    wij = np.outer(E,np.ones(2**L))-np.outer(np.ones(2**L),E)\n",
    "    num_lamb = np.dot(V,np.dot(op_lamb.toarray(),np.conj(V)))\n",
    "    A_lamb = -1j*num_lamb*wij/(wij**2+ mu**2)\n",
    "    return A_lamb"
   ]
  },
  {
   "cell_type": "code",
   "execution_count": 14,
   "metadata": {
    "collapsed": false
   },
   "outputs": [],
   "source": [
    "muTot=40\n",
    "mu_arr=np.logspace(-5,3.0,muTot)\n",
    "L=8\n",
    "norm_arr_nonint=np.zeros(muTot)\n",
    "H=Ham_nonint(L)\n",
    "for i in range(muTot):\n",
    "    mu=mu_arr[i]\n",
    "    A_lamb=guage_potent_mu(H,L,mu)\n",
    "    norm_arr_nonint[i]=norm(A_lamb)\n",
    "    #print norm_arr_nonint[i], mu_arr[i]"
   ]
  },
  {
   "cell_type": "code",
   "execution_count": 97,
   "metadata": {
    "collapsed": false
   },
   "outputs": [],
   "source": [
    "muTot=40\n",
    "mu_arr=np.logspace(-5,3.0,muTot)\n",
    "L=8\n",
    "hz=5.00\n",
    "norm_arr_int=np.zeros(muTot)\n",
    "H=Ham_int_antiferro(L,hz)\n",
    "for i in range(muTot):\n",
    "    mu=mu_arr[i]\n",
    "    A_lamb=guage_potent_mu(H,L,mu)\n",
    "    norm_arr_int[i]=norm(A_lamb)\n",
    "    #print norm_arr_int[i], mu_arr[i]"
   ]
  },
  {
   "cell_type": "code",
   "execution_count": 98,
   "metadata": {
    "collapsed": false
   },
   "outputs": [
    {
     "data": {
      "text/plain": [
       "<matplotlib.legend.Legend at 0x7f37bb349550>"
      ]
     },
     "execution_count": 98,
     "metadata": {},
     "output_type": "execute_result"
    },
    {
     "data": {
      "image/png": "[encoded data removed]",
      "text/plain": [
       "<matplotlib.figure.Figure at 0x7f37bb5a2a10>"
      ]
     },
     "metadata": {},
     "output_type": "display_data"
    }
   ],
   "source": [
    "plt.loglog(mu_arr**2,norm_arr_nonint**2/2**8, 'b.--', label='Non-int, L=8')\n",
    "#plt.loglog(mu_arr**2,norm_arr_nonintL10**2/2**10, 'b+--', label='Non-int, L=10')\n",
    "plt.loglog(mu_arr**2,norm_arr_int**2/2**8, 'r.-', label='Int, L=8')\n",
    "#plt.loglog(mu_arr**2,norm_arr_intL10**2/2**10, 'r+-', label='Int, L=10')\n",
    "plt.xlabel(r\"$\\mu^2$\",fontsize=12)\n",
    "plt.ylabel(r\"$||A||^2/2^L$\", fontsize=12)\n",
    "#plt.xlim((10**(-7),10**5))\n",
    "#plt.ylim((10**(-10),10**6))\n",
    "plt.grid()\n",
    "plt.title(\"$\\mu$ scaling of Gauge Potential\")\n",
    "plt.legend()\n",
    "#plt.savefig(\"v1_norm_compar.eps\")"
   ]
  },
  {
   "cell_type": "code",
   "execution_count": 68,
   "metadata": {
    "collapsed": false
   },
   "outputs": [],
   "source": [
    "muTot=40\n",
    "mu_arr=np.logspace(-5,3.0,muTot)\n",
    "L=10\n",
    "norm_arr_nonintL10=np.zeros(muTot)\n",
    "H=Ham_nonint(L)\n",
    "for i in range(muTot):\n",
    "    mu=mu_arr[i]\n",
    "    A_lamb=guage_potent_mu(H,L,mu)\n",
    "    norm_arr_nonintL10[i]=norm(A_lamb)"
   ]
  },
  {
   "cell_type": "code",
   "execution_count": 69,
   "metadata": {
    "collapsed": true
   },
   "outputs": [],
   "source": [
    "muTot=40\n",
    "mu_arr=np.logspace(-5,3.0,muTot)\n",
    "L=10\n",
    "hz=10.00\n",
    "norm_arr_intL10=np.zeros(muTot)\n",
    "H=Ham_int_antiferro(L,hz)\n",
    "for i in range(muTot):\n",
    "    mu=mu_arr[i]\n",
    "    A_lamb=guage_potent_mu(H,L,mu)\n",
    "    norm_arr_intL10[i]=norm(A_lamb)"
   ]
  },
  {
   "cell_type": "markdown",
   "metadata": {},
   "source": [
    "### Fitting of plot"
   ]
  },
  {
   "cell_type": "code",
   "execution_count": 70,
   "metadata": {
    "collapsed": false
   },
   "outputs": [],
   "source": [
    "from scipy.optimize import curve_fit\n",
    "def gfunc(x, a,c):\n",
    "    return a *x**c"
   ]
  },
  {
   "cell_type": "code",
   "execution_count": 79,
   "metadata": {
    "collapsed": false
   },
   "outputs": [
    {
     "name": "stdout",
     "output_type": "stream",
     "text": [
      "[ 2.45815275 -1.50749061]\n"
     ]
    },
    {
     "data": {
      "image/png": "[encoded data removed]",
      "text/plain": [
       "<matplotlib.figure.Figure at 0x7f37bbfcb3d0>"
      ]
     },
     "metadata": {},
     "output_type": "display_data"
    }
   ],
   "source": [
    "xdata = np.linspace(0.1, 4, 50)\n",
    "y = gfunc(xdata, 2.5, -1.5)\n",
    "y_noise = 0.2 * np.random.normal(size=xdata.size)\n",
    "ydata = y + y_noise\n",
    "plt.loglog(xdata, ydata, 'b-', label='data')\n",
    "popt, pcov = curve_fit(gfunc, xdata, ydata)\n",
    "plt.loglog(xdata, gfunc(xdata, *popt), 'r-', label='fit')\n",
    "print popt"
   ]
  },
  {
   "cell_type": "code",
   "execution_count": 85,
   "metadata": {
    "collapsed": false
   },
   "outputs": [
    {
     "name": "stdout",
     "output_type": "stream",
     "text": [
      "[-3.71401382 -1.62670152] [[ 0.19038712  0.01251492]\n",
      " [ 0.01251492  0.00543516]]\n"
     ]
    }
   ],
   "source": [
    "def gfunc(x, a,c): #logfunction\n",
    "    return a+ c*x\n",
    "xdata =mu_arr\n",
    "ydata = norm_arr_nonint**2/2**8\n",
    "popt, pcov = curve_fit(gfunc, np.log(xdata), np.log(ydata))\n",
    "print popt"
   ]
  },
  {
   "cell_type": "code",
   "execution_count": 37,
   "metadata": {
    "collapsed": true
   },
   "outputs": [],
   "source": [
    "x1,y1=np.loadtxt(\"v1.0_L8_nonint_mu_scaling.dat\",unpack=True,skiprows=2 )\n",
    "x2,y2=np.loadtxt(\"v1.0_L8_int_mu_scaling.dat\",unpack=True,skiprows=2 )\n",
    "x3,y3=np.loadtxt(\"v1.0_L10_nonint_mu_scaling.dat\",unpack=True,skiprows=2 )\n",
    "x4,y4=np.loadtxt(\"v1.0_L10_int_mu_scaling.dat\",unpack=True,skiprows=2 )\n",
    "x5,y5=np.loadtxt(\"v1.0_L12_nonint_mu_scaling.dat\",unpack=True,skiprows=2 )\n",
    "x6,y6=np.loadtxt(\"v1.0_L12_int_mu_scaling.dat\",unpack=True,skiprows=2)"
   ]
  },
  {
   "cell_type": "code",
   "execution_count": 14,
   "metadata": {
    "collapsed": false
   },
   "outputs": [],
   "source": [
    "w1,z1=np.loadtxt(\"v1.0_L2_nonint_mu_scaling.dat\",unpack=True,skiprows=2 )\n",
    "w3,z3=np.loadtxt(\"v1.0_L4_nonint_mu_scaling.dat\",unpack=True,skiprows=2 )\n",
    "w5,z5=np.loadtxt(\"v1.0_L6_nonint_mu_scaling.dat\",unpack=True,skiprows=2 )\n",
    "w2,z2=np.loadtxt(\"v1.0_L2_int_mu_scaling.dat\",unpack=True,skiprows=2 )\n",
    "w4,z4=np.loadtxt(\"v1.0_L4_int_mu_scaling.dat\",unpack=True,skiprows=2 )\n",
    "w6,z6=np.loadtxt(\"v1.0_L6_int_mu_scaling.dat\",unpack=True,skiprows=2 )"
   ]
  },
  {
   "cell_type": "code",
   "execution_count": 41,
   "metadata": {
    "collapsed": false
   },
   "outputs": [
    {
     "data": {
      "image/png": "[encoded data removed]",
      "text/plain": [
       "<matplotlib.figure.Figure at 0x7f3a247631d0>"
      ]
     },
     "metadata": {},
     "output_type": "display_data"
    }
   ],
   "source": [
    "#plt.loglog(w1,z1/2**2, 'g.-', label='Non-int, L=2')\n",
    "#plt.loglog(o1,p1/2**3, 'g+-', label='Non-int, L=3')\n",
    "plt.loglog(w3,z3/2**4, 'k.-', label='Non-int, L=4')\n",
    "plt.loglog(o3,p3/2**5, 'k+-', label='Non-int, L=5')\n",
    "plt.loglog(w5,z5/2**6, 'r.-', label='Non-int, L=6')\n",
    "plt.loglog(o5,p5/2**7, 'r+-', label='Non-int, L=7')\n",
    "plt.loglog(x1,y1/2**8, 'b.-', label='Non-int, L=8')\n",
    "plt.loglog(o7,p7/2**9, 'b+-', label='Non-int, L=9')\n",
    "plt.ylabel(r\"$||A||^2/2^L$\", fontsize=13)\n",
    "plt.xlabel(r\"$\\mu$\", fontsize=13)\n",
    "plt.title (\"smaller non-integrable systems\")\n",
    "plt.legend(loc='best')\n",
    "plt.grid()\n",
    "#plt.savefig(\"new_v1.0_norm_L8_L10_L12.eps\")"
   ]
  },
  {
   "cell_type": "code",
   "execution_count": 20,
   "metadata": {
    "collapsed": false
   },
   "outputs": [
    {
     "data": {
      "image/png": "[encoded data removed]",
      "text/plain": [
       "<matplotlib.figure.Figure at 0x7f3a24760e50>"
      ]
     },
     "metadata": {},
     "output_type": "display_data"
    }
   ],
   "source": [
    "plt.loglog(w2,z2/2**2, 'g*-', label='L=2')\n",
    "plt.loglog(w2,z4/2**4, 'k*-', label='L=4')\n",
    "plt.loglog(w6,z6/2**6, 'r*-', label='L=6')\n",
    "plt.loglog(x2,y2/2**8, 'b*-', label='L=8')\n",
    "plt.ylabel(r\"$||A||^2/2^L$\", fontsize=13)\n",
    "plt.xlabel(r\"$\\mu$\", fontsize=13)\n",
    "plt.title (\"smaller integrable systems\")\n",
    "plt.legend(loc='best')\n",
    "plt.grid()"
   ]
  },
  {
   "cell_type": "markdown",
   "metadata": {},
   "source": [
    "#### odd sized chains"
   ]
  },
  {
   "cell_type": "code",
   "execution_count": 27,
   "metadata": {
    "collapsed": false
   },
   "outputs": [],
   "source": [
    "o1,p1=np.loadtxt(\"v1.0_L3_nonint_mu_scaling.dat\",unpack=True,skiprows=2 )\n",
    "o3,p3=np.loadtxt(\"v1.0_L5_nonint_mu_scaling.dat\",unpack=True,skiprows=2 )\n",
    "o5,p5=np.loadtxt(\"v1.0_L7_nonint_mu_scaling.dat\",unpack=True,skiprows=2 )\n",
    "o7,p7=np.loadtxt(\"v1.0_L9_nonint_mu_scaling.dat\",unpack=True,skiprows=2 )\n",
    "#w2,z2=np.loadtxt(\"v1.0_L9_int_mu_scaling.dat\",unpack=True,skiprows=2 )\n",
    "#w4,z4=np.loadtxt(\"v1.0_L4_int_mu_scaling.dat\",unpack=True,skiprows=2 )\n",
    "#w6,z6=np.loadtxt(\"v1.0_L6_int_mu_scaling.dat\",unpack=True,skiprows=2 )"
   ]
  },
  {
   "cell_type": "code",
   "execution_count": 40,
   "metadata": {
    "collapsed": false
   },
   "outputs": [
    {
     "data": {
      "image/png": "[encoded data removed]",
      "text/plain": [
       "<matplotlib.figure.Figure at 0x7f3a269fe250>"
      ]
     },
     "metadata": {},
     "output_type": "display_data"
    }
   ],
   "source": [
    "plt.loglog(w5,z5/2**6, 'r.-', label='Non-int, L=6')\n",
    "plt.loglog(o5,p5/2**7, 'r+-', label='Non-int, L=7')\n",
    "plt.loglog(x1,y1/2**8, 'b.-', label='Non-int, L=8')\n",
    "plt.loglog(o7,p7/2**9, 'b+-', label='Non-int, L=9')\n",
    "plt.ylabel(r\"$||A||^2/2^L$\", fontsize=13)\n",
    "plt.xlabel(r\"$\\mu$\", fontsize=13)\n",
    "plt.title (\"smaller non-integrable systems\")\n",
    "plt.legend(loc='best')\n",
    "plt.grid()"
   ]
  },
  {
   "cell_type": "markdown",
   "metadata": {},
   "source": [
    "There doesn't seem any behavior difference for odd and even sized system sizes."
   ]
  },
  {
   "cell_type": "markdown",
   "metadata": {
    "collapsed": true
   },
   "source": [
    "### Curve fitting: $1/\\mu^4$ and $1/\\mu$  scaling of nonintegrable model"
   ]
  },
  {
   "cell_type": "code",
   "execution_count": 38,
   "metadata": {
    "collapsed": false
   },
   "outputs": [],
   "source": [
    "from scipy.optimize import curve_fit\n",
    "def gfunc(x, a,c): #logfunction\n",
    "    return a+ c*x\n",
    "def org_func(x, a,c):\n",
    "    return a*x**c"
   ]
  },
  {
   "cell_type": "code",
   "execution_count": 39,
   "metadata": {
    "collapsed": false
   },
   "outputs": [
    {
     "name": "stdout",
     "output_type": "stream",
     "text": [
      "[ 3.06773918 -3.61757827] [ 4.20336746  0.04104632]\n",
      "21.49325532\n"
     ]
    }
   ],
   "source": [
    "xdata =x5[46:50]\n",
    "ydata = y5[46:50]/2**12\n",
    "popt, pcov = curve_fit(gfunc, np.log(xdata[0:-1]), np.log(ydata[0:-1]))\n",
    "print popt, np.diag(pcov)\n",
    "a_in,b_in=popt\n",
    "print np.exp(a_in)"
   ]
  },
  {
   "cell_type": "code",
   "execution_count": 40,
   "metadata": {
    "collapsed": false
   },
   "outputs": [
    {
     "name": "stdout",
     "output_type": "stream",
     "text": [
      "[-0.38221431 -1.02377912]\n",
      "0.682348802048\n"
     ]
    }
   ],
   "source": [
    "xdata =x5[15:35]\n",
    "ydata = y5[15:35]/2**12\n",
    "popt, pcov = curve_fit(gfunc, np.log(xdata[0:-1]), np.log(ydata[0:-1]))\n",
    "print popt\n",
    "a_lin,b_lin=popt\n",
    "print np.exp(a_lin)"
   ]
  },
  {
   "cell_type": "code",
   "execution_count": 41,
   "metadata": {
    "collapsed": false
   },
   "outputs": [
    {
     "data": {
      "image/png": "[encoded data removed]",
      "text/plain": [
       "<matplotlib.figure.Figure at 0x7fa61287c8d0>"
      ]
     },
     "metadata": {},
     "output_type": "display_data"
    }
   ],
   "source": [
    "plt.loglog(x5,y5/2**12, 'b+-', label= \"Non-int,L=12\")\n",
    "plt.loglog(x5, org_func(x5,np.exp(a_lin),b_lin), 'k-', label=r'$y_1 \\sim 1/x$')\n",
    "plt.loglog(x5, org_func(x5,np.exp(a_in),b_in), 'r-', label=r'$y_2 \\sim 1/x^{4}$')\n",
    "plt.loglog(x5, org_func(x5,1000,b_in), 'k--', label=r'Th')\n",
    "plt.ylabel(r\"$||A||^2/2^L$\", fontsize=13)\n",
    "plt.xlabel(r\"$\\mu$\", fontsize=13)\n",
    "plt.legend(loc='best')\n",
    "plt.grid()\n",
    "#plt.savefig(\"L12_two_scaling.eps\")"
   ]
  },
  {
   "cell_type": "code",
   "execution_count": 17,
   "metadata": {
    "collapsed": false
   },
   "outputs": [
    {
     "data": {
      "text/plain": [
       "[<matplotlib.lines.Line2D at 0x7f8fcf9587d0>]"
      ]
     },
     "execution_count": 17,
     "metadata": {},
     "output_type": "execute_result"
    },
    {
     "data": {
      "image/png": "[encoded data removed]",
      "text/plain": [
       "<matplotlib.figure.Figure at 0x7f8fcff77590>"
      ]
     },
     "metadata": {},
     "output_type": "display_data"
    }
   ],
   "source": [
    "plt.loglog(x3,y3/2**10, 'b+-', label='Non-int, L=10')\n",
    "plt.loglog(x3[15:35],y3[15:35]/2**10, 'r*-', label='Non-int, L=10')\n",
    "plt.loglog(x3[36:50],y3[36:50]/2**10, 'k.-', label='Non-int, L=10')"
   ]
  },
  {
   "cell_type": "code",
   "execution_count": 95,
   "metadata": {
    "collapsed": false
   },
   "outputs": [
    {
     "name": "stdout",
     "output_type": "stream",
     "text": [
      "[ 5.51317797 -3.89123849] [ 0.05316345  0.00118964]\n",
      "247.937815483\n"
     ]
    }
   ],
   "source": [
    "xdata =x3[36:50]\n",
    "ydata = y3[36:50]/2**10\n",
    "popt, pcov = curve_fit(gfunc, np.log(xdata[0:-2]), np.log(ydata[0:-2]))\n",
    "print popt, np.diag(pcov)\n",
    "a_in_L10,b_in_L10=popt\n",
    "print np.exp(a_in_L10)"
   ]
  },
  {
   "cell_type": "code",
   "execution_count": 21,
   "metadata": {
    "collapsed": false
   },
   "outputs": [
    {
     "name": "stdout",
     "output_type": "stream",
     "text": [
      "[ 5.16432018 -3.90725513] [ 0.05217037  0.00132172]\n"
     ]
    }
   ],
   "source": [
    "xdata =x1[36:50]\n",
    "ydata = y1[36:50]/2**8\n",
    "popt, pcov = curve_fit(gfunc, np.log(xdata[0:-3]), np.log(ydata[0:-3]))\n",
    "print popt, np.diag(pcov)\n",
    "a_in_L8,b_in_L8=popt"
   ]
  },
  {
   "cell_type": "markdown",
   "metadata": {},
   "source": [
    "#### Analyzing $1/\\mu^4$ tail"
   ]
  },
  {
   "cell_type": "code",
   "execution_count": 68,
   "metadata": {
    "collapsed": true
   },
   "outputs": [],
   "source": [
    "muTot=100\n",
    "mu_arr=np.logspace(10,40,muTot)\n",
    "L=4\n",
    "norm_arr_nonint=np.zeros(muTot)\n",
    "H=Ham_nonint(L)\n",
    "for i in range(muTot):\n",
    "    mu=mu_arr[i]\n",
    "    A_lamb=guage_potent_mu(H,L,mu)\n",
    "    norm_arr_nonint[i]=norm(A_lamb)"
   ]
  },
  {
   "cell_type": "code",
   "execution_count": 7,
   "metadata": {
    "collapsed": true
   },
   "outputs": [],
   "source": [
    "muTot=100\n",
    "mu_arr_L6=np.logspace(-5,20.0,muTot)\n",
    "L=6\n",
    "norm_arr_nonintL6=np.zeros(muTot)\n",
    "H=Ham_nonint(L)\n",
    "for i in range(muTot):\n",
    "    mu=mu_arr_L6[i]\n",
    "    A_lamb=guage_potent_mu(H,L,mu)\n",
    "    norm_arr_nonintL6[i]=norm(A_lamb)"
   ]
  },
  {
   "cell_type": "code",
   "execution_count": 8,
   "metadata": {
    "collapsed": true
   },
   "outputs": [],
   "source": [
    "muTot=50\n",
    "mu_arr_L8=np.logspace(-5,20.0,muTot)\n",
    "L=8\n",
    "norm_arr_nonintL8=np.zeros(muTot)\n",
    "H=Ham_nonint(L)\n",
    "for i in range(muTot):\n",
    "    mu=mu_arr_L8[i]\n",
    "    A_lamb=guage_potent_mu(H,L,mu)\n",
    "    norm_arr_nonintL8[i]=norm(A_lamb)"
   ]
  },
  {
   "cell_type": "code",
   "execution_count": 67,
   "metadata": {
    "collapsed": false
   },
   "outputs": [
    {
     "data": {
      "image/png": "[encoded data removed]",
      "text/plain": [
       "<matplotlib.figure.Figure at 0x7fa6120a30d0>"
      ]
     },
     "metadata": {},
     "output_type": "display_data"
    }
   ],
   "source": [
    "plt.loglog(mu_arr,norm_arr_nonint/2**4, 'b.-', label='Non-int, L=4')\n",
    "#plt.loglog(mu_arr[50:100],norm_arr_nonint[50:100]/2**4, 'k+-', label='Non-int, L=4')\n",
    "#plt.loglog(mu_arr_L6,norm_arr_nonintL6/2**6, 'r.-', label='Non-int, L=6')\n",
    "#plt.loglog(mu_arr_L6[40:100],norm_arr_nonintL6[40:100]/2**6, 'k+-', label='Non-int, L=6')\n",
    "#plt.loglog(mu_arr_L8,norm_arr_nonintL8/2**8, 'g.-', label='Non-int, L=8')\n",
    "#plt.loglog(mu_arr_L8[20:50],norm_arr_nonintL8[20:50]/2**8, 'k+-', label='Non-int, L=8')\n",
    "plt.legend(loc='best')\n",
    "plt.grid()"
   ]
  },
  {
   "cell_type": "code",
   "execution_count": 70,
   "metadata": {
    "collapsed": false
   },
   "outputs": [
    {
     "name": "stdout",
     "output_type": "stream",
     "text": [
      "[ 4.50778081 -4.        ] [  9.69540071e-27   2.60673809e-30]\n",
      " num,th: 90.7202693091 34.472135955 2.63169852392\n"
     ]
    }
   ],
   "source": [
    "from scipy.optimize import curve_fit\n",
    "def gfunc(x, a,c): #logfunction\n",
    "    return a+ c*x\n",
    "def org_func(x, a,c):\n",
    "    return a*x**c\n",
    "xdata =mu_arr\n",
    "ydata = norm_arr_nonint**2/2**4\n",
    "popt, pcov = curve_fit(gfunc, np.log(xdata), np.log(ydata))\n",
    "print popt, np.diag(pcov)\n",
    "a_in,b_in=popt\n",
    "hz=(np.sqrt(5)+1)/4 \n",
    "L=4\n",
    "print \" num,th:\", np.exp(a_in), 4*(L*hz**2+2*(L-1)), np.exp(a_in)/(4*(L*hz**2+2*(L-1)))"
   ]
  },
  {
   "cell_type": "code",
   "execution_count": 50,
   "metadata": {
    "collapsed": false
   },
   "outputs": [
    {
     "data": {
      "text/plain": [
       "[<matplotlib.lines.Line2D at 0x7fa6119bed50>]"
      ]
     },
     "execution_count": 50,
     "metadata": {},
     "output_type": "execute_result"
    },
    {
     "data": {
      "image/png": "[encoded data removed]",
      "text/plain": [
       "<matplotlib.figure.Figure at 0x7fa611a15350>"
      ]
     },
     "metadata": {},
     "output_type": "display_data"
    }
   ],
   "source": [
    "plt.loglog(mu_arr[50:100],norm_arr_nonint[50:100]**2/2**4, 'k+-', label='Non-int, L=4')\n",
    "plt.loglog(mu_arr[50:100],org_func(mu_arr[50:100], np.exp(a_in),b_in,), 'r-', label='Non-int, L=4')\n",
    "plt.loglog(mu_arr[50:100],org_func(mu_arr[50:100], 34.47,b_in,), 'b-', label='Non-int, L=4')\n",
    "#plt.loglog(x5,y5/2**12, 'b+-', label= \"Non-int,L=12\")\n",
    "#plt.loglog(x5, org_func(x5,np.exp(a_lin),b_lin), 'k-', label=r'$y_1 \\sim 1/x$')\n",
    "#plt.loglog(x5, org_func(x5,np.exp(a_in),b_in), 'r-', label=r'$y_2 \\sim 1/x^{4}$')"
   ]
  },
  {
   "cell_type": "code",
   "execution_count": 59,
   "metadata": {
    "collapsed": false
   },
   "outputs": [
    {
     "name": "stdout",
     "output_type": "stream",
     "text": [
      "[ 5.20864352 -4.        ] [  2.45105326e-19   2.67448383e-22]\n",
      " num,th: 182.845862779 55.7082039325 3.28220710545\n"
     ]
    }
   ],
   "source": [
    "xdata =mu_arr_L6[40:100]\n",
    "ydata = norm_arr_nonintL6[40:100]**2/2**6\n",
    "popt, pcov = curve_fit(gfunc, np.log(xdata[0:-1]), np.log(ydata[0:-1]))\n",
    "print popt, np.diag(pcov)\n",
    "a_in,b_in=popt\n",
    "hz=(np.sqrt(5)+1)/4 \n",
    "L=6\n",
    "print \" num,th:\" , np.exp(a_in), 4*(L*hz**2+2*(L-1)), np.exp(a_in)/(4*(L*hz**2+2*(L-1)))"
   ]
  },
  {
   "cell_type": "code",
   "execution_count": 60,
   "metadata": {
    "collapsed": false
   },
   "outputs": [
    {
     "name": "stdout",
     "output_type": "stream",
     "text": [
      "[ 5.86653429 -4.        ] [  8.43740812e-19   9.32447372e-22]\n",
      " num,th: 353.023382618 76.94427191 4.58803980927\n"
     ]
    }
   ],
   "source": [
    "xdata =mu_arr_L8[20:50]\n",
    "ydata = norm_arr_nonintL8[20:50]**2/2**8\n",
    "popt, pcov = curve_fit(gfunc, np.log(xdata[0:-1]), np.log(ydata[0:-1]))\n",
    "print popt, np.diag(pcov)\n",
    "a_in,b_in=popt\n",
    "hz=(np.sqrt(5)+1)/4 \n",
    "L=8\n",
    "print \" num,th:\" , np.exp(a_in), 4*(L*hz**2+2*(L-1)), np.exp(a_in)/(4*(L*hz**2+2*(L-1)))"
   ]
  },
  {
   "cell_type": "markdown",
   "metadata": {},
   "source": [
    "### Curve fitting: $1/\\mu^4$ and $1/\\mu$  scaling of integrable model"
   ]
  },
  {
   "cell_type": "code",
   "execution_count": 22,
   "metadata": {
    "collapsed": false
   },
   "outputs": [
    {
     "data": {
      "text/plain": [
       "[<matplotlib.lines.Line2D at 0x7f8fcf79fe90>]"
      ]
     },
     "execution_count": 22,
     "metadata": {},
     "output_type": "execute_result"
    },
    {
     "data": {
      "image/png": "[encoded data removed]",
      "text/plain": [
       "<matplotlib.figure.Figure at 0x7f8fcfa62d90>"
      ]
     },
     "metadata": {},
     "output_type": "display_data"
    }
   ],
   "source": [
    "plt.loglog(x6,y6/2**12, 'b+-', label='Int, L=12')\n",
    "plt.loglog(x6[15:35],y6[15:35]/2**12, 'r*-', label='Fit')\n",
    "plt.loglog(x6[36:50],y6[36:50]/2**12, 'k.-',label='Fit')"
   ]
  },
  {
   "cell_type": "code",
   "execution_count": 24,
   "metadata": {
    "collapsed": false
   },
   "outputs": [
    {
     "name": "stdout",
     "output_type": "stream",
     "text": [
      "[ 6.06918238 -3.56621729] [ 0.60959032  0.01364087]\n"
     ]
    }
   ],
   "source": [
    "xdata =x6[36:50]\n",
    "ydata = y6[36:50]/2**12\n",
    "popt, pcov = curve_fit(gfunc, np.log(xdata[0:-2]), np.log(ydata[0:-2]))\n",
    "print popt, np.diag(pcov)\n",
    "a_int_L12,b_int_L12=popt"
   ]
  },
  {
   "cell_type": "code",
   "execution_count": 29,
   "metadata": {
    "collapsed": false
   },
   "outputs": [
    {
     "data": {
      "text/plain": [
       "<matplotlib.legend.Legend at 0x7f8fcf56a550>"
      ]
     },
     "execution_count": 29,
     "metadata": {},
     "output_type": "execute_result"
    },
    {
     "data": {
      "image/png": "[encoded data removed]",
      "text/plain": [
       "<matplotlib.figure.Figure at 0x7f8fcf8496d0>"
      ]
     },
     "metadata": {},
     "output_type": "display_data"
    }
   ],
   "source": [
    "plt.loglog(x4,y4/2**10, 'b+-', label='Int, L=10')\n",
    "plt.loglog(x4[24:36],y4[24:36]/2**10, 'r*-', label='Fit')\n",
    "plt.loglog(x4[36:50],y4[36:50]/2**10, 'k.-',label='Fit')\n",
    "plt.legend(loc='best')"
   ]
  },
  {
   "cell_type": "code",
   "execution_count": 42,
   "metadata": {
    "collapsed": false
   },
   "outputs": [
    {
     "name": "stdout",
     "output_type": "stream",
     "text": [
      "[ 5.94928895 -3.59738791] [ 0.54998172  0.012307  ]\n",
      "383.480568384\n"
     ]
    }
   ],
   "source": [
    "xdata =x4[36:50]\n",
    "ydata = y4[36:50]/2**10\n",
    "popt, pcov = curve_fit(gfunc, np.log(xdata[0:-2]), np.log(ydata[0:-2]))\n",
    "print popt, np.diag(pcov)\n",
    "a_int_L10,b_int_L10=popt\n",
    "print np.exp(a_int_L10)"
   ]
  },
  {
   "cell_type": "code",
   "execution_count": 30,
   "metadata": {
    "collapsed": false
   },
   "outputs": [
    {
     "name": "stdout",
     "output_type": "stream",
     "text": [
      "[-1.76320825 -0.98380761] [ 0.00248562  0.00019534]\n"
     ]
    }
   ],
   "source": [
    "xdata =x4[24:36]\n",
    "ydata = y4[24:36]/2**10\n",
    "popt, pcov = curve_fit(gfunc, np.log(xdata[0:-2]), np.log(ydata[0:-2]))\n",
    "print popt, np.diag(pcov)\n",
    "a2_int_L10,b2_int_L10=popt"
   ]
  },
  {
   "cell_type": "code",
   "execution_count": 27,
   "metadata": {
    "collapsed": false
   },
   "outputs": [
    {
     "name": "stdout",
     "output_type": "stream",
     "text": [
      "[ 5.81655222 -3.63828172] [ 0.49751955  0.01113305]\n"
     ]
    }
   ],
   "source": [
    "xdata =x2[36:50]\n",
    "ydata = y2[36:50]/2**8\n",
    "popt, pcov = curve_fit(gfunc, np.log(xdata[0:-2]), np.log(ydata[0:-2]))\n",
    "print popt, np.diag(pcov)\n",
    "a_int_L10,b_int_L8=popt"
   ]
  },
  {
   "cell_type": "markdown",
   "metadata": {
    "collapsed": false
   },
   "source": [
    "### Scaling of $\\mu_c^{(1)} \\sim e^{-L}$ and  $\\mu_c^{(2)}\\sim L $?"
   ]
  },
  {
   "cell_type": "code",
   "execution_count": 15,
   "metadata": {
    "collapsed": false
   },
   "outputs": [
    {
     "data": {
      "image/png": "[encoded data removed]",
      "text/plain": [
       "<matplotlib.figure.Figure at 0x7f0d510ac250>"
      ]
     },
     "metadata": {},
     "output_type": "display_data"
    }
   ],
   "source": [
    "plt.loglog(x1,y1/2**8, 'b.-', label='Non-int, L=8')\n",
    "plt.loglog(x3,y3/2**10, 'b*-', label='Non-int, L=10')\n",
    "plt.loglog(x5,y5/2**12, 'b+-', label='Non-int, L=12')\n",
    "plt.ylabel(r\"$||A||^2/2^L$\", fontsize=13)\n",
    "plt.xlabel(r\"$\\mu$\", fontsize=13)\n",
    "plt.legend(loc='best')\n",
    "plt.grid()\n",
    "#plt.savefig(\"new_v1.0_norm_L8_L10_L12.eps\")"
   ]
  },
  {
   "cell_type": "code",
   "execution_count": 3,
   "metadata": {
    "collapsed": false
   },
   "outputs": [
    {
     "data": {
      "text/plain": [
       "[<matplotlib.lines.Line2D at 0x7fb33ffe56d0>]"
      ]
     },
     "execution_count": 3,
     "metadata": {},
     "output_type": "execute_result"
    },
    {
     "data": {
      "image/png": "[encoded data removed]",
      "text/plain": [
       "<matplotlib.figure.Figure at 0x7fb33ffe5650>"
      ]
     },
     "metadata": {},
     "output_type": "display_data"
    }
   ],
   "source": [
    "x = np.linspace(0, 2*np.pi, 100)\n",
    "y = np.cos(x)\n",
    "\n",
    "def deriv(y,x):\n",
    "    dy = np.zeros(y.shape,np.float)\n",
    "    dy[0:-1] = np.diff(y)/np.diff(x)\n",
    "    dy[-1] = (y[-1] - y[-2])/(x[-1] - x[-2]) #last two elements are same\n",
    "    return dy\n",
    "plt.plot(x,y, 'b.-')\n",
    "plt.plot(x,deriv(y,x), 'r.-')"
   ]
  },
  {
   "cell_type": "code",
   "execution_count": 49,
   "metadata": {
    "collapsed": false
   },
   "outputs": [],
   "source": [
    "def log_deriv(y,x):\n",
    "    dy = np.zeros(len(y),np.float)\n",
    "    dy[0:-1] = np.diff(np.log(y))/np.diff(np.log(x))\n",
    "    dy[-1] = dy[-2]#(np.log(y[-1]) - np.log(y[-2]))/(np.log(x[-1]) - np.log(x[-2])) #last two elements are same\n",
    "    return dy"
   ]
  },
  {
   "cell_type": "code",
   "execution_count": 50,
   "metadata": {
    "collapsed": false
   },
   "outputs": [
    {
     "name": "stdout",
     "output_type": "stream",
     "text": [
      "[-23.02585093 -22.32275342 -21.61730596 -20.91080096 -20.20625935\n",
      " -19.50155135 -18.79668414 -18.09173677 -17.3868559  -16.68198807]\n",
      "[ 13.74994015  13.74994015  13.74994015  13.74994015  13.74994015\n",
      "  13.74994014  13.7499401   13.74993993  13.74993926  13.74993652]\n",
      "[ -4.93874931e-11  -2.01567937e-10  -8.24165913e-10  -3.38429824e-09\n",
      "  -1.38551336e-08  -5.67227886e-08  -2.32248571e-07  -9.51127657e-07\n",
      "  -3.89485531e-06  -3.89485531e-06]\n",
      "50\n"
     ]
    }
   ],
   "source": [
    "print np.log(x3[0:-40])\n",
    "print np.log(y1[0:-40]/2**8)\n",
    "print log_deriv(y1[0:-40]/2**8,x1[0:-40])\n",
    "print len(y1)"
   ]
  },
  {
   "cell_type": "code",
   "execution_count": 53,
   "metadata": {
    "collapsed": false
   },
   "outputs": [
    {
     "data": {
      "image/png": "[encoded data removed]",
      "text/plain": [
       "<matplotlib.figure.Figure at 0x7fb33d699ad0>"
      ]
     },
     "metadata": {},
     "output_type": "display_data"
    }
   ],
   "source": [
    "plt.loglog(x1[0:-3],-1*(log_deriv(y1[0:-3]/2**8,x1[0:-3])), 'b.-', label='Non-int, L=8')\n",
    "plt.loglog(x3[0:-3],-1*(log_deriv(y3[0:-3]/2**10,x3[0:-3])),'b*-', label='Non-int, L=10')\n",
    "plt.loglog(x5[0:-3],-1*(log_deriv(y5[0:-3]/2**12,x5[0:-3])), 'b+-', label='Non-int, L=12')\n",
    "plt.loglog(x2[0:-3],-1*(log_deriv(y2[0:-3]/2**8,x2[0:-3])), 'r.-', label='Int, L=8')\n",
    "plt.loglog(x4[0:-3],-1*(log_deriv(y4[0:-3]/2**10,x4[0:-3])),'r*-', label='Int, L=10')\n",
    "plt.loglog(x6[0:-3],-1*(log_deriv(y6[0:-3]/2**12,x6[0:-3])), 'r+-', label='Int, L=12')\n",
    "plt.loglog(x5[0:-3],4*np.ones(len(x5[0:-3])), 'm--', label=r'$-\\beta=4$')\n",
    "plt.loglog(x5[0:-3],np.ones(len(x5[0:-3])), 'g--', label=r'$-\\beta=1$')\n",
    "plt.ylabel(r\"-Slope (- $\\beta$)\", fontsize=13)\n",
    "plt.xlabel(r\"$\\mu$\", fontsize=13)\n",
    "plt.legend(loc='best')\n",
    "plt.savefig(\"slope.eps\")\n",
    "plt.grid()"
   ]
  },
  {
   "cell_type": "code",
   "execution_count": null,
   "metadata": {
    "collapsed": true
   },
   "outputs": [],
   "source": [
    "plt.loglog(x1[0:-3],-1*(log_deriv(y1[0:-3]/2**8,x1[0:-3])), 'b.-', label='Non-int, L=8')\n",
    "plt.loglog(x3[0:-3],-1*(log_deriv(y3[0:-3]/2**10,x3[0:-3])),'b*-', label='Non-int, L=10')\n",
    "plt.loglog(x5[0:-3],-1*(log_deriv(y5[0:-3]/2**12,x5[0:-3])), 'b+-', label='Non-int, L=12')"
   ]
  },
  {
   "cell_type": "code",
   "execution_count": 81,
   "metadata": {
    "collapsed": false
   },
   "outputs": [
    {
     "name": "stdout",
     "output_type": "stream",
     "text": [
      "18\n",
      "2.05768535488 0.90690037968 3.2374575e-05\n"
     ]
    }
   ],
   "source": [
    "arr_nonintL8=-1*(log_deriv(y1[0:-3]/2**8,x1[0:-3]))\n",
    "for i in range(len(x1)):\n",
    "    if arr_nonintL8[i]>1:\n",
    "        print i\n",
    "        break\n",
    "print arr_nonintL8[i],arr_nonintL8[i-1], x1[i]"
   ]
  },
  {
   "cell_type": "code",
   "execution_count": 86,
   "metadata": {
    "collapsed": false
   },
   "outputs": [
    {
     "name": "stdout",
     "output_type": "stream",
     "text": [
      "12\n",
      "1.23151530645 0.533438096222 4.71487e-07\n"
     ]
    }
   ],
   "source": [
    "arr_nonintL10=-1*(log_deriv(y3[0:-3]/2**10,x3[0:-3]))\n",
    "for i in range(len(x3)):\n",
    "    if arr_nonintL10[i]>1:\n",
    "        print i\n",
    "        break\n",
    "print arr_nonintL10[i],arr_nonintL10[i-1], x3[i]"
   ]
  },
  {
   "cell_type": "code",
   "execution_count": 87,
   "metadata": {
    "collapsed": false
   },
   "outputs": [
    {
     "name": "stdout",
     "output_type": "stream",
     "text": [
      "7\n",
      "1.13668783958 0.394893588852 1.3895e-08\n"
     ]
    }
   ],
   "source": [
    "arr_nonintL12=-1*(log_deriv(y5[0:-3]/2**12,x5[0:-3]))\n",
    "for i in range(len(x3)):\n",
    "    if arr_nonintL12[i]>1:\n",
    "        print i\n",
    "        break\n",
    "print arr_nonintL12[i],arr_nonintL12[i-1], x5[i]"
   ]
  },
  {
   "cell_type": "code",
   "execution_count": 99,
   "metadata": {
    "collapsed": false
   },
   "outputs": [
    {
     "data": {
      "text/plain": [
       "<matplotlib.legend.Legend at 0x7fb33c838990>"
      ]
     },
     "execution_count": 99,
     "metadata": {},
     "output_type": "execute_result"
    },
    {
     "data": {
      "image/png": "[encoded data removed]",
      "text/plain": [
       "<matplotlib.figure.Figure at 0x7fb33d4afd90>"
      ]
     },
     "metadata": {},
     "output_type": "display_data"
    }
   ],
   "source": [
    "L=[8,10,12]\n",
    "mu_c_nonint=[3.2374575e-05,4.71487e-07,1.3895e-08]\n",
    "mu_c_int=[0.308884359648,0.002222996483, 3.2374575e-05]\n",
    "plt.loglog(L,mu_c_int, 'r+-', label='int')\n",
    "plt.loglog(L,mu_c_nonint, 'b.-', label='non-int')\n",
    "plt.legend()"
   ]
  },
  {
   "cell_type": "code",
   "execution_count": 90,
   "metadata": {
    "collapsed": false
   },
   "outputs": [
    {
     "name": "stdout",
     "output_type": "stream",
     "text": [
      "31\n",
      "1.07231917667 0.977280075815 0.308884359648\n"
     ]
    }
   ],
   "source": [
    "arr_intL8=-1*(log_deriv(y2[0:-3]/2**8,x2[0:-3]))\n",
    "for i in range(len(x2)):\n",
    "    if arr_intL8[i]>1:\n",
    "        print i\n",
    "        break\n",
    "print arr_intL8[i],arr_intL8[i-1], x2[i]"
   ]
  },
  {
   "cell_type": "code",
   "execution_count": 94,
   "metadata": {
    "collapsed": false
   },
   "outputs": [
    {
     "name": "stdout",
     "output_type": "stream",
     "text": [
      "24\n",
      "1.0517000596 0.800563867082 0.002222996483\n"
     ]
    }
   ],
   "source": [
    "arr_intL10=-1*(log_deriv(y4[0:-3]/2**10,x4[0:-3]))\n",
    "for i in range(len(x4)):\n",
    "    if arr_intL10[i]>1:\n",
    "        print i\n",
    "        break\n",
    "print arr_intL10[i],arr_intL10[i-1], x4[i]"
   ]
  },
  {
   "cell_type": "code",
   "execution_count": 95,
   "metadata": {
    "collapsed": false
   },
   "outputs": [
    {
     "name": "stdout",
     "output_type": "stream",
     "text": [
      "18\n",
      "1.08345223172 0.34700307303 3.2374575e-05\n"
     ]
    }
   ],
   "source": [
    "arr_intL12=-1*(log_deriv(y6[0:-3]/2**12,x6[0:-3]))\n",
    "for i in range(len(x4)):\n",
    "    if arr_intL12[i]>1:\n",
    "        print i\n",
    "        break\n",
    "print arr_intL12[i],arr_intL12[i-1], x6[i]"
   ]
  },
  {
   "cell_type": "markdown",
   "metadata": {
    "collapsed": true
   },
   "source": [
    "### Computing trace of $[H, \\partial_{\\lambda}H]$"
   ]
  },
  {
   "cell_type": "code",
   "execution_count": 61,
   "metadata": {
    "collapsed": true
   },
   "outputs": [],
   "source": [
    "def Ham_int_antiferro(L,hz):\n",
    "    basis = spin_basis_1d(L)\n",
    "    \n",
    "    J=1.0\n",
    "    hz_arr = [[hz,i] for i in range(L)] # OBC\n",
    "    J_arr = [[J,i,(i+1)%L] for i in range(L)] # PBC[[J,i,(i+1)] for i in range(L-1)] # OBC \n",
    "    \n",
    "    # static and dynamic lists\n",
    "    static = [[\"zz\",J_arr],[\"x\",hz_arr]]\n",
    "    dynamic =[]\n",
    "    H = hamiltonian(static,dynamic,basis=basis,dtype=np.complex_,check_symm=False,check_herm=False)\n",
    "    return H\n",
    "\n",
    "def Ham_nonint(L):\n",
    "    basis = spin_basis_1d(L)\n",
    "    hz=(np.sqrt(5)+1)/4 #parameters used by Kim and Huse\n",
    "    hx=(np.sqrt(5)+5)/8\n",
    "    J=1.0\n",
    "    hz_arr = [[hz,i] for i in range(L)] \n",
    "    hx_arr = [[hx,i] for i in range(L)] \n",
    "    J_arr = [[J,i,(i+1)] for i in range(L-1)] # OBC [[J,i,(i+1)%L] for i in range(L)] # PBC\n",
    "    \n",
    "    # static and dynamic lists\n",
    "    static = [[\"zz\",J_arr],[\"z\",hz_arr], [\"x\",hx_arr] ]\n",
    "    dynamic =[]\n",
    "    H = hamiltonian(static,dynamic,basis=basis,dtype=np.complex_,check_symm=False,check_herm=False)\n",
    "    return H\n",
    "\n",
    "def del_lambda_Ham(L):\n",
    "    basis = spin_basis_1d(L)  \n",
    "    hx_lamb=1.0\n",
    "    hx_lamb_arr = [[hx_lamb,i] for i in range(L)] # OBC\n",
    "    static_lamb = [[\"x\",hx_lamb_arr]]\n",
    "    dynamic_lamb =[]\n",
    "    op_lamb=hamiltonian(static_lamb,dynamic_lamb,basis=basis,dtype=np.complex_,check_symm=False,check_herm=False)\n",
    "    return op_lamb"
   ]
  },
  {
   "cell_type": "code",
   "execution_count": 54,
   "metadata": {
    "collapsed": true
   },
   "outputs": [],
   "source": [
    "def comm_Ham(L): #writing by hand\n",
    "    basis = spin_basis_1d(L)  \n",
    "    J=1\n",
    "    J_arr =[[J,i,(i+1)] for i in range(L-1)] # OBC [[J,i,(i+1)%L] for i in range(L)] # PBC\n",
    "    \n",
    "    # static and dynamic lists\n",
    "    static = [[\"yz\",J_arr]]\n",
    "    dynamic_lamb =[]\n",
    "    op_lamb=hamiltonian(static,dynamic_lamb,basis=basis,dtype=np.complex_,check_symm=False,check_herm=False)\n",
    "    return op_lamb"
   ]
  },
  {
   "cell_type": "code",
   "execution_count": 55,
   "metadata": {
    "collapsed": false
   },
   "outputs": [
    {
     "name": "stdout",
     "output_type": "stream",
     "text": [
      "(7+0j)\n"
     ]
    }
   ],
   "source": [
    "L=8\n",
    "Ham_by_hand=comm_Ham(L)\n",
    "mat=(Ham_by_hand**2).toarray()\n",
    "print np.trace(mat)/2**8"
   ]
  },
  {
   "cell_type": "code",
   "execution_count": 62,
   "metadata": {
    "collapsed": true
   },
   "outputs": [],
   "source": [
    "L=8\n",
    "hz=5\n",
    "Ham=Ham_int_antiferro(L,hz)\n",
    "partial_lamb_H=del_lambda_Ham(L)"
   ]
  },
  {
   "cell_type": "code",
   "execution_count": 20,
   "metadata": {
    "collapsed": false
   },
   "outputs": [
    {
     "ename": "NameError",
     "evalue": "name 'Ham' is not defined",
     "output_type": "error",
     "traceback": [
      "\u001b[0;31m---------------------------------------------------------------------------\u001b[0m",
      "\u001b[0;31mNameError\u001b[0m                                 Traceback (most recent call last)",
      "\u001b[0;32m<ipython-input-20-de7b54a1159c>\u001b[0m in \u001b[0;36m<module>\u001b[0;34m()\u001b[0m\n\u001b[1;32m      1\u001b[0m \u001b[0;32mfrom\u001b[0m \u001b[0mquspin\u001b[0m\u001b[0;34m.\u001b[0m\u001b[0moperators\u001b[0m \u001b[0;32mimport\u001b[0m \u001b[0mcommutator\u001b[0m\u001b[0;34m\u001b[0m\u001b[0m\n\u001b[0;32m----> 2\u001b[0;31m \u001b[0mcomm\u001b[0m\u001b[0;34m=\u001b[0m\u001b[0mcommutator\u001b[0m\u001b[0;34m(\u001b[0m\u001b[0mHam\u001b[0m\u001b[0;34m,\u001b[0m\u001b[0mpartial_lamb_H\u001b[0m\u001b[0;34m)\u001b[0m\u001b[0;34m\u001b[0m\u001b[0m\n\u001b[0m",
      "\u001b[0;31mNameError\u001b[0m: name 'Ham' is not defined"
     ]
    }
   ],
   "source": [
    "from quspin.operators import commutator\n",
    "comm=commutator(Ham,partial_lamb_H)"
   ]
  },
  {
   "cell_type": "code",
   "execution_count": 64,
   "metadata": {
    "collapsed": false
   },
   "outputs": [],
   "source": [
    "mat=(comm**2).toarray()"
   ]
  },
  {
   "cell_type": "code",
   "execution_count": 65,
   "metadata": {
    "collapsed": false
   },
   "outputs": [
    {
     "name": "stdout",
     "output_type": "stream",
     "text": [
      "(-64+0j)\n",
      "-64\n"
     ]
    }
   ],
   "source": [
    "print np.trace(mat)/2**8\n",
    "print -4*2*(L)"
   ]
  },
  {
   "cell_type": "code",
   "execution_count": 21,
   "metadata": {
    "collapsed": true
   },
   "outputs": [],
   "source": [
    "L=4\n",
    "Ham=Ham_nonint(L)\n",
    "partial_lamb_H=del_lambda_Ham(L)"
   ]
  },
  {
   "cell_type": "code",
   "execution_count": 22,
   "metadata": {
    "collapsed": true
   },
   "outputs": [],
   "source": [
    "comm=commutator(Ham,partial_lamb_H)"
   ]
  },
  {
   "cell_type": "code",
   "execution_count": 23,
   "metadata": {
    "collapsed": false
   },
   "outputs": [
    {
     "name": "stdout",
     "output_type": "stream",
     "text": [
      "(-34.472135955+0j)\n"
     ]
    }
   ],
   "source": [
    "mat=(comm**2).toarray()\n",
    "print np.trace(mat)/2**4\n",
    "\n",
    "#print mat"
   ]
  },
  {
   "cell_type": "code",
   "execution_count": 24,
   "metadata": {
    "collapsed": false
   },
   "outputs": [
    {
     "name": "stdout",
     "output_type": "stream",
     "text": [
      "34.472135955\n"
     ]
    }
   ],
   "source": [
    "hz=(np.sqrt(5)+1)/4 \n",
    "print  4*(L*hz**2+2*(L-1))"
   ]
  },
  {
   "cell_type": "markdown",
   "metadata": {
    "collapsed": true
   },
   "source": [
    "### Scaling of norm of gauge potential with system size L in $1/\\mu$ regime "
   ]
  },
  {
   "cell_type": "code",
   "execution_count": 2,
   "metadata": {
    "collapsed": false
   },
   "outputs": [],
   "source": [
    "def Ham_nonint(L):\n",
    "    basis = spin_basis_1d(L)\n",
    "    hz=(np.sqrt(5)+1)/4 #parameters used by Kim and Huse\n",
    "    hx=(np.sqrt(5)+5)/8\n",
    "    J=1.0\n",
    "    hz_arr = [[hz,i] for i in range(L)] \n",
    "    hx_arr = [[hx,i] for i in range(L)] \n",
    "    J_arr = [[J,i,(i+1)] for i in range(L-1)] # OBC [[J,i,(i+1)%L] for i in range(L)] # PBC\n",
    "    \n",
    "    # static and dynamic lists\n",
    "    static = [[\"zz\",J_arr],[\"z\",hz_arr], [\"x\",hx_arr] ]\n",
    "    dynamic =[]\n",
    "    H = hamiltonian(static,dynamic,basis=basis,dtype=np.complex_,check_symm=False,check_herm=False)\n",
    "    return H\n",
    "\n",
    "def Ham_int_antiferro(L,hz):\n",
    "    basis = spin_basis_1d(L)\n",
    "    \n",
    "    J=1.0\n",
    "    hz_arr = [[hz,i] for i in range(L)] # OBC\n",
    "    J_arr = [[J,i,(i+1)] for i in range(L-1)] # OBC [[J,i,(i+1)%L] for i in range(L)] # PBC\n",
    "    \n",
    "    # static and dynamic lists\n",
    "    static = [[\"zz\",J_arr],[\"x\",hz_arr]]\n",
    "    dynamic =[]\n",
    "    H = hamiltonian(static,dynamic,basis=basis,dtype=np.complex_,check_symm=False,check_herm=False)\n",
    "    return H\n",
    "\n",
    "\n",
    "def del_lambda_Ham(L):\n",
    "    basis = spin_basis_1d(L)  \n",
    "    hx_lamb=1.0\n",
    "    hx_lamb_arr = [[hx_lamb,i] for i in range(L)] # OBC\n",
    "    static_lamb = [[\"x\",hx_lamb_arr]]\n",
    "    dynamic_lamb =[]\n",
    "    op_lamb=hamiltonian(static_lamb,dynamic_lamb,basis=basis,dtype=np.complex_,check_symm=False,check_herm=False)\n",
    "    return op_lamb\n",
    "\n",
    "def norm(A_lamb):    \n",
    "    return np.linalg.norm(A_lamb, 'fro')\n",
    "\n",
    "def guage_potent_mu(Ham,L, mu):\n",
    "    E,V= Ham.eigh()\n",
    "    op_lamb= del_lambda_Ham(L)\n",
    "    wij = np.outer(E,np.ones(2**L))-np.outer(np.ones(2**L),E)\n",
    "    num_lamb = np.dot(V,np.dot(op_lamb.toarray(),np.conj(V)))\n",
    "    A_lamb = -1j*num_lamb*wij/(wij**2+ mu**2)\n",
    "    return A_lamb\n"
   ]
  },
  {
   "cell_type": "code",
   "execution_count": 31,
   "metadata": {
    "collapsed": false
   },
   "outputs": [
    {
     "name": "stdout",
     "output_type": "stream",
     "text": [
      "6 0.469545224312\n",
      "7 0.525472774807\n",
      "8 0.562091821093\n",
      "9 0.603994314784\n",
      "10 0.645469806668\n"
     ]
    }
   ],
   "source": [
    "mu=1.0\n",
    "L_arr=np.arange(6,11)\n",
    "norm_arr_nonint=np.zeros(len(L_arr))\n",
    "for i in range(len(L_arr)):\n",
    "    L=int(L_arr[i])\n",
    "    H=Ham_nonint(L)\n",
    "    A_lamb=guage_potent_mu(H,L,mu)\n",
    "    norm_arr_nonint[i]=norm(A_lamb)\n",
    "    print L_arr[i], norm_arr_nonint[i]**2/2**L_arr[i]"
   ]
  },
  {
   "cell_type": "code",
   "execution_count": 32,
   "metadata": {
    "collapsed": false
   },
   "outputs": [
    {
     "name": "stdout",
     "output_type": "stream",
     "text": [
      "6 2.07000866751\n",
      "7 2.4558080787\n",
      "8 2.56197613992\n",
      "9 2.74343695086\n",
      "10 2.94700918716\n"
     ]
    }
   ],
   "source": [
    "mu=0.25\n",
    "L_arr=np.arange(6,11)\n",
    "norm_arr_nonint_small_mu=np.zeros(len(L_arr))\n",
    "for i in range(len(L_arr)):\n",
    "    L=int(L_arr[i])\n",
    "    H=Ham_nonint(L)\n",
    "    A_lamb=guage_potent_mu(H,L,mu)\n",
    "    norm_arr_nonint_small_mu[i]=norm(A_lamb)\n",
    "    print L_arr[i], norm_arr_nonint_small_mu[i]**2/2**L_arr[i]"
   ]
  },
  {
   "cell_type": "code",
   "execution_count": 39,
   "metadata": {
    "collapsed": false
   },
   "outputs": [
    {
     "name": "stdout",
     "output_type": "stream",
     "text": [
      "6 5.10891611464\n",
      "7 5.95442658914\n",
      "8 6.44117531856\n",
      "9 6.95676052597\n",
      "10 7.4718714273\n"
     ]
    }
   ],
   "source": [
    "mu=0.1\n",
    "L_arr=np.arange(6,11)\n",
    "norm_arr_nonint_small_mu=np.zeros(len(L_arr))\n",
    "for i in range(len(L_arr)):\n",
    "    L=int(L_arr[i])\n",
    "    H=Ham_nonint(L)\n",
    "    A_lamb=guage_potent_mu(H,L,mu)\n",
    "    norm_arr_nonint_small_mu[i]=norm(A_lamb)\n",
    "    print L_arr[i], norm_arr_nonint_small_mu[i]**2/2**L_arr[i]"
   ]
  },
  {
   "cell_type": "code",
   "execution_count": 35,
   "metadata": {
    "collapsed": false
   },
   "outputs": [
    {
     "name": "stdout",
     "output_type": "stream",
     "text": [
      "6 1.01188206457\n",
      "7 1.17569066489\n",
      "8 1.23332109419\n",
      "9 1.31846026276\n",
      "10 1.41398356676\n"
     ]
    }
   ],
   "source": [
    "mu=0.5\n",
    "L_arr=np.arange(6,11)\n",
    "norm_arr_nonint_small_mu=np.zeros(len(L_arr))\n",
    "for i in range(len(L_arr)):\n",
    "    L=int(L_arr[i])\n",
    "    H=Ham_nonint(L)\n",
    "    A_lamb=guage_potent_mu(H,L,mu)\n",
    "    norm_arr_nonint_small_mu[i]=norm(A_lamb)\n",
    "    print L_arr[i], norm_arr_nonint_small_mu[i]**2/2**L_arr[i]"
   ]
  },
  {
   "cell_type": "code",
   "execution_count": 4,
   "metadata": {
    "collapsed": true
   },
   "outputs": [],
   "source": [
    "from scipy.optimize import curve_fit\n",
    "def gfunc(x, a,c): #logfunction\n",
    "    return a+ c*x\n",
    "def org_func(x, a,c):\n",
    "    return a*x**c"
   ]
  },
  {
   "cell_type": "code",
   "execution_count": 37,
   "metadata": {
    "collapsed": false
   },
   "outputs": [
    {
     "name": "stdout",
     "output_type": "stream",
     "text": [
      "[-1.84313207  0.61046852] [ 0.00170507  0.00039744]\n",
      "0.158320777658 [ 0.46954522  0.52547277  0.56209182  0.60399431  0.64546981]\n"
     ]
    }
   ],
   "source": [
    "xdata =L_arr\n",
    "ydata = norm_arr_nonint**2/2**L_arr\n",
    "popt, pcov = curve_fit(gfunc, np.log(xdata), np.log(ydata))\n",
    "print popt, np.diag(pcov)\n",
    "alpha,beta=popt\n",
    "print np.exp(alpha), ydata"
   ]
  },
  {
   "cell_type": "code",
   "execution_count": 40,
   "metadata": {
    "collapsed": false
   },
   "outputs": [
    {
     "name": "stdout",
     "output_type": "stream",
     "text": [
      "[ 0.3519084   0.72397092] [ 0.00855393  0.00199385]\n",
      "1.42177827984 [ 5.10891611  5.95442659  6.44117532  6.95676053  7.47187143]\n"
     ]
    }
   ],
   "source": [
    "xdata =L_arr\n",
    "ydata = norm_arr_nonint_small_mu**2/2**L_arr\n",
    "popt, pcov = curve_fit(gfunc, np.log(xdata), np.log(ydata))\n",
    "print popt, np.diag(pcov)\n",
    "alpha,beta=popt\n",
    "print np.exp(alpha), ydata"
   ]
  },
  {
   "cell_type": "code",
   "execution_count": 23,
   "metadata": {
    "collapsed": false
   },
   "outputs": [
    {
     "data": {
      "image/png": "[encoded data removed]",
      "text/plain": [
       "<matplotlib.figure.Figure at 0x7f04648d2bd0>"
      ]
     },
     "metadata": {},
     "output_type": "display_data"
    }
   ],
   "source": [
    "plt.semilogy(L_arr,norm_arr_nonint_small_mu**2/2**L, 'b.-')\n",
    "plt.semilogy(L_arr,org_func(L_arr,np.exp(alpha),beta), 'r-')\n",
    "plt.ylabel(r\"$||A||^2/2^L$\", fontsize=13)\n",
    "plt.xlabel(r\"$L$\", fontsize=13)\n",
    "#plt.legend(loc='best')\n",
    "plt.grid()"
   ]
  },
  {
   "cell_type": "code",
   "execution_count": 56,
   "metadata": {
    "collapsed": false
   },
   "outputs": [],
   "source": []
  },
  {
   "cell_type": "code",
   "execution_count": null,
   "metadata": {
    "collapsed": false
   },
   "outputs": [],
   "source": []
  },
  {
   "cell_type": "code",
   "execution_count": null,
   "metadata": {
    "collapsed": true
   },
   "outputs": [],
   "source": []
  }
 ],
 "metadata": {
  "kernelspec": {
   "display_name": "Python 2",
   "language": "python",
   "name": "python2"
  },
  "language_info": {
   "codemirror_mode": {
    "name": "ipython",
    "version": 2
   },
   "file_extension": ".py",
   "mimetype": "text/x-python",
   "name": "python",
   "nbconvert_exporter": "python",
   "pygments_lexer": "ipython2",
   "version": "2.7.13"
  }
 },
 "nbformat": 4,
 "nbformat_minor": 2
}

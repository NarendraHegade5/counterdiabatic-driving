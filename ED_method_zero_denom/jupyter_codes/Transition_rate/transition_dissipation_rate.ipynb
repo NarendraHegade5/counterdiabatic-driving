{
 "cells": [
  {
   "cell_type": "code",
   "execution_count": 3,
   "metadata": {
    "collapsed": true
   },
   "outputs": [],
   "source": [
    "import numpy as np # generic math functions\n",
    "import matplotlib.pyplot as plt\n",
    "%matplotlib notebook\n",
    "#%matplotlib inline"
   ]
  },
  {
   "cell_type": "code",
   "execution_count": 11,
   "metadata": {
    "collapsed": true
   },
   "outputs": [],
   "source": [
    "from quspin.operators import hamiltonian # Hamiltonians and operators\n",
    "from quspin.basis import spin_basis_1d # Hilbert space spin basis\n",
    "import numpy as np # generic math functions\n",
    "import time\n",
    "\n",
    "def Ham_nonint(L):\n",
    "    basis = spin_basis_1d(L)\n",
    "    hz=(np.sqrt(5)+1)/4 #parameters used by Kim and Huse\n",
    "    hx=(np.sqrt(5)+5)/8\n",
    "    J=1.0\n",
    "    hz_arr = [[hz,i] for i in range(L)] \n",
    "    hx_arr = [[hx,i] for i in range(L)] \n",
    "    J_arr =[[J,i,(i+1)] for i in range(L-1)] # OBC  [[J,i,(i+1)%L] for i in range(L)] # PBC\n",
    "    \n",
    "    # static and dynamic lists\n",
    "    static = [[\"zz\",J_arr],[\"z\",hz_arr], [\"x\",hx_arr] ]\n",
    "    dynamic =[]\n",
    "    H = hamiltonian(static,dynamic,basis=basis,dtype=np.float_,check_symm=False,check_herm=False)\n",
    "    return H\n",
    "\n",
    "\n",
    "def output_gauge_potent(Ham,L):\n",
    "    E,V= Ham.eigh()\n",
    "    op_lamb_arr = del_lambda_Ham(L).toarray()\n",
    "    x=np.dot(op_lamb_arr, V)\n",
    "    num_lamb_mat =np.dot(V.T,x) #matrix multiplication\n",
    "    wij = np.outer(E,np.ones(2**L))-np.outer(np.ones(2**L),E)\n",
    "    return wij, num_lamb_mat\n",
    "  \n",
    "def gauge_potent_mu(wij,num_lamb_mat,mu):\n",
    "    A_lamb = -1j*np.multiply(wij,num_lamb_mat)/(wij**2+ mu**2)#element-wise multiplication\n",
    "    return A_lamb\n",
    "\n",
    "\n",
    "def del_lambda_Ham(L):\n",
    "    basis = spin_basis_1d(L)  \n",
    "    hx_lamb=1.0\n",
    "    hx_lamb_arr = [[hx_lamb,i] for i in range(L)] \n",
    "    static_lamb = [[\"x\",hx_lamb_arr]]\n",
    "    dynamic_lamb =[]\n",
    "    op_lamb=hamiltonian(static_lamb,dynamic_lamb,basis=basis,dtype=np.float_,check_symm=False,check_herm=False)\n",
    "    return op_lamb\n",
    "\n",
    "def norm(A_lamb):    \n",
    "    return np.linalg.norm(A_lamb, 'fro')"
   ]
  },
  {
   "cell_type": "markdown",
   "metadata": {},
   "source": [
    "### Transition rate without CD term"
   ]
  },
  {
   "cell_type": "code",
   "execution_count": 4,
   "metadata": {
    "collapsed": false
   },
   "outputs": [],
   "source": [
    "L=2\n",
    "ham= Ham_nonint(L)\n",
    "E,V= ham.eigh()\n",
    "wij, num_lamb_mat= output_gauge_potent(ham,L)"
   ]
  },
  {
   "cell_type": "code",
   "execution_count": 13,
   "metadata": {
    "collapsed": false
   },
   "outputs": [
    {
     "name": "stdout",
     "output_type": "stream",
     "text": [
      "[[ 0.         -1.30336868 -2.53739238 -5.37271366]\n",
      " [ 1.30336868  0.         -1.2340237  -4.06934498]\n",
      " [ 2.53739238  1.2340237   0.         -2.83532128]\n",
      " [ 5.37271366  4.06934498  2.83532128  0.        ]]\n",
      "[[ -1.75338933e+00  -1.56699515e-16   3.17755325e-02  -7.88372607e-01]\n",
      " [ -1.33913398e-16   4.93038066e-32   2.77880993e-16   2.14811960e-16]\n",
      " [  3.17755325e-02   2.23770146e-16   7.70420912e-01   1.02974960e+00]\n",
      " [ -7.88372607e-01   2.20525963e-16   1.02974960e+00   9.82968415e-01]]\n"
     ]
    }
   ],
   "source": [
    "print wij\n",
    "print num_lamb_mat\n",
    "#output should be index of energy levels    "
   ]
  },
  {
   "cell_type": "code",
   "execution_count": 18,
   "metadata": {
    "collapsed": false
   },
   "outputs": [
    {
     "name": "stdout",
     "output_type": "stream",
     "text": [
      "(array([0, 0, 0, 1, 1, 1, 2, 2, 2, 3, 3, 3]), array([1, 2, 3, 0, 2, 3, 0, 1, 3, 0, 1, 2]))\n",
      "[-1.30336868 -2.53739238 -5.37271366  1.30336868 -1.2340237  -4.06934498\n",
      "  2.53739238  1.2340237  -2.83532128  5.37271366  4.06934498  2.83532128]\n",
      "[ -1.56699515e-16   3.17755325e-02  -7.88372607e-01  -1.33913398e-16\n",
      "   2.77880993e-16   2.14811960e-16   3.17755325e-02   2.23770146e-16\n",
      "   1.02974960e+00  -7.88372607e-01   2.20525963e-16   1.02974960e+00]\n"
     ]
    }
   ],
   "source": [
    "print np.where(np.abs(wij)>0.0)\n",
    "print wij[np.where(np.abs(wij)>0.0)]\n",
    "print num_lamb_mat[np.where(np.abs(wij)>0.0)]"
   ]
  },
  {
   "cell_type": "code",
   "execution_count": 30,
   "metadata": {
    "collapsed": false
   },
   "outputs": [
    {
     "name": "stdout",
     "output_type": "stream",
     "text": [
      "[ 0.  0.  0.  0.]\n",
      "[ 0.  0.  0.  0.]\n"
     ]
    }
   ],
   "source": [
    "def delta(omega, omega_ij, tol):\n",
    "    return np.where(np.abs(wij-omega)< tol)\n",
    "\n",
    "di = np.diag_indices(2**L)\n",
    "print np.diag(num_lamb_mat)\n",
    "num_lamb_mat[di]=0.0\n",
    "print np.diag(num_lamb_mat)"
   ]
  },
  {
   "cell_type": "code",
   "execution_count": 36,
   "metadata": {
    "collapsed": false
   },
   "outputs": [],
   "source": [
    "omega=0.0\n",
    "tol=2.0\n",
    "omega_ij=wij\n",
    "x=delta(omega,omega_ij,tol)"
   ]
  },
  {
   "cell_type": "code",
   "execution_count": 42,
   "metadata": {
    "collapsed": false
   },
   "outputs": [
    {
     "name": "stdout",
     "output_type": "stream",
     "text": [
      "[[ 0.         -1.30336868 -2.53739238 -5.37271366]\n",
      " [ 1.30336868  0.         -1.2340237  -4.06934498]\n",
      " [ 2.53739238  1.2340237   0.         -2.83532128]\n",
      " [ 5.37271366  4.06934498  2.83532128  0.        ]]\n",
      "[ 0.         -1.30336868  1.30336868  0.         -1.2340237   1.2340237   0.\n",
      "  0.        ]\n",
      "[[  0.00000000e+00  -1.56699515e-16   3.17755325e-02  -7.88372607e-01]\n",
      " [ -1.33913398e-16   0.00000000e+00   2.77880993e-16   2.14811960e-16]\n",
      " [  3.17755325e-02   2.23770146e-16   0.00000000e+00   1.02974960e+00]\n",
      " [ -7.88372607e-01   2.20525963e-16   1.02974960e+00   0.00000000e+00]]\n",
      "[  0.00000000e+00  -1.56699515e-16  -1.33913398e-16   0.00000000e+00\n",
      "   2.77880993e-16   2.23770146e-16   0.00000000e+00   0.00000000e+00]\n",
      "abs [  0.00000000e+00   2.45547379e-32   1.79327982e-32   0.00000000e+00\n",
      "   7.72178465e-32   5.00730783e-32   0.00000000e+00   0.00000000e+00]\n",
      "sum 1.69778460786e-31\n"
     ]
    }
   ],
   "source": [
    "print wij\n",
    "print wij[x]\n",
    "print num_lamb_mat\n",
    "print num_lamb_mat[x]\n",
    "print 'abs', np.abs(num_lamb_mat[x])**2\n",
    "print 'sum', np.sum(np.abs(num_lamb_mat[x])**2)"
   ]
  },
  {
   "cell_type": "code",
   "execution_count": 76,
   "metadata": {
    "collapsed": false
   },
   "outputs": [],
   "source": [
    "omegaN_tot=200\n",
    "L=10\n",
    "tol=1e-5\n",
    "ham= Ham_nonint(L)\n",
    "E,V= ham.eigh()\n",
    "wij, num_lamb_mat= output_gauge_potent(ham,L)\n",
    "\n",
    "def delta(omega, omega_ij, tol):\n",
    "    return np.where(np.abs(wij-omega)< tol)\n",
    "#####\n",
    "di = np.diag_indices(2**L)\n",
    "#print np.diag(num_lamb_mat)\n",
    "num_lamb_mat[di]=0.0\n",
    "####\n",
    "omega_max=2*L\n",
    "omega_arr=np.linspace(-omega_max,omega_max,omegaN_tot)\n",
    "avg_transition_arr=np.zeros(omegaN_tot)\n",
    "omega_ij=wij\n",
    "####\n",
    "for i in range(omegaN_tot):\n",
    "    omega=omega_arr[i]\n",
    "    x=delta(omega,omega_ij,tol)\n",
    "    avg_transition_arr[i]=np.sum(np.abs(num_lamb_mat[x])**2)/2**L\n",
    "\n",
    "#print avg_transition_arr"
   ]
  },
  {
   "cell_type": "code",
   "execution_count": 3,
   "metadata": {
    "collapsed": true
   },
   "outputs": [],
   "source": [
    "omegaN_tot=200\n",
    "L=10\n",
    "tol=1e-3\n",
    "ham= Ham_nonint(L)\n",
    "E,V= ham.eigh()\n",
    "wij, num_lamb_mat= output_gauge_potent(ham,L)\n",
    "\n",
    "def delta(omega, omega_ij, tol):\n",
    "    return np.where(np.abs(wij-omega)< tol)\n",
    "#####\n",
    "di = np.diag_indices(2**L)\n",
    "#print np.diag(num_lamb_mat)\n",
    "num_lamb_mat[di]=0.0\n",
    "####\n",
    "omega_max=2*L\n",
    "omega_arr=np.linspace(-omega_max,omega_max,omegaN_tot)\n",
    "avg_transition_arr_tol_thousandth=np.zeros(omegaN_tot)\n",
    "omega_ij=wij\n",
    "####\n",
    "for i in range(omegaN_tot):\n",
    "    omega=omega_arr[i]\n",
    "    x=delta(omega,omega_ij,tol)\n",
    "    avg_transition_arr_tol_thousandth[i]=np.sum(np.abs(num_lamb_mat[x])**2)/2**L"
   ]
  },
  {
   "cell_type": "code",
   "execution_count": 135,
   "metadata": {
    "collapsed": false
   },
   "outputs": [],
   "source": [
    "omegaN_tot=200\n",
    "L=10\n",
    "tol=1e-1\n",
    "##\n",
    "ham= Ham_nonint(L)\n",
    "E,V= ham.eigh()\n",
    "wij, num_lamb_mat= output_gauge_potent(ham,L)\n",
    "\n",
    "def delta(omega, omega_ij, tol):\n",
    "    return np.where(np.abs(wij-omega)< tol)\n",
    "#####\n",
    "di = np.diag_indices(2**L)\n",
    "#print np.diag(num_lamb_mat)\n",
    "num_lamb_mat[di]=0.0\n",
    "####\n",
    "omega_max=2*L\n",
    "omega_arr=np.linspace(-omega_max,omega_max,omegaN_tot)\n",
    "avg_transition_arr_tol_tenth=np.zeros(omegaN_tot)\n",
    "\n",
    "omega_ij=wij\n",
    "####\n",
    "for i in range(omegaN_tot):\n",
    "    omega=omega_arr[i]\n",
    "    x=delta(omega,omega_ij,tol)\n",
    "    #print x\n",
    "    avg_transition_arr_tol_tenth[i]=np.sum(np.abs(num_lamb_mat[x])**2)/2**L\n",
    "\n",
    "#print avg_transition_arr"
   ]
  },
  {
   "cell_type": "code",
   "execution_count": 78,
   "metadata": {
    "collapsed": true
   },
   "outputs": [],
   "source": [
    "omegaN_tot=200\n",
    "L=10\n",
    "tol=1e0\n",
    "##\n",
    "ham= Ham_nonint(L)\n",
    "E,V= ham.eigh()\n",
    "wij, num_lamb_mat= output_gauge_potent(ham,L)\n",
    "\n",
    "def delta(omega, omega_ij, tol):\n",
    "    return np.where(np.abs(wij-omega)< tol)\n",
    "#####\n",
    "di = np.diag_indices(2**L)\n",
    "#print np.diag(num_lamb_mat)\n",
    "num_lamb_mat[di]=0.0\n",
    "####\n",
    "omega_max=2*L\n",
    "omega_arr=np.linspace(-omega_max,omega_max,omegaN_tot)\n",
    "avg_transition_arr_tol_one=np.zeros(omegaN_tot)\n",
    "\n",
    "omega_ij=wij\n",
    "####\n",
    "for i in range(omegaN_tot):\n",
    "    omega=omega_arr[i]\n",
    "    x=delta(omega,omega_ij,tol)\n",
    "    #print x\n",
    "    avg_transition_arr_tol_one[i]=np.sum(np.abs(num_lamb_mat[x])**2)/2**L"
   ]
  },
  {
   "cell_type": "code",
   "execution_count": 83,
   "metadata": {
    "collapsed": true
   },
   "outputs": [],
   "source": [
    "omegaN_tot=200\n",
    "L=10\n",
    "tol=1e1\n",
    "##\n",
    "ham= Ham_nonint(L)\n",
    "E,V= ham.eigh()\n",
    "wij, num_lamb_mat= output_gauge_potent(ham,L)\n",
    "\n",
    "def delta(omega, omega_ij, tol):\n",
    "    return np.where(np.abs(wij-omega)< tol)\n",
    "#####\n",
    "di = np.diag_indices(2**L)\n",
    "#print np.diag(num_lamb_mat)\n",
    "num_lamb_mat[di]=0.0\n",
    "####\n",
    "omega_max=2*L\n",
    "omega_arr=np.linspace(-omega_max,omega_max,omegaN_tot)\n",
    "avg_transition_arr_tol_ten=np.zeros(omegaN_tot)\n",
    "\n",
    "omega_ij=wij\n",
    "####\n",
    "for i in range(omegaN_tot):\n",
    "    omega=omega_arr[i]\n",
    "    x=delta(omega,omega_ij,tol)\n",
    "    #print x\n",
    "    avg_transition_arr_tol_ten[i]=np.sum(np.abs(num_lamb_mat[x])**2)/2**L"
   ]
  },
  {
   "cell_type": "code",
   "execution_count": 82,
   "metadata": {
    "collapsed": false
   },
   "outputs": [
    {
     "data": {
      "text/plain": [
       "<matplotlib.legend.Legend at 0x7f3b78380b50>"
      ]
     },
     "execution_count": 82,
     "metadata": {},
     "output_type": "execute_result"
    },
    {
     "data": {
      "image/png": "[encoded data removed]",
      "text/plain": [
       "<matplotlib.figure.Figure at 0x7f3b78380b90>"
      ]
     },
     "metadata": {},
     "output_type": "display_data"
    }
   ],
   "source": [
    "#plt.plot(omega_arr, avg_transition_arr, 'b.-', label=\"tol=1e-5\")\n",
    "plt.plot(omega_arr, avg_transition_arr_tol_tenth, 'r.-', label=\"tol=1e-1\")\n",
    "plt.legend()"
   ]
  },
  {
   "cell_type": "code",
   "execution_count": 4,
   "metadata": {
    "collapsed": false
   },
   "outputs": [
    {
     "data": {
      "text/plain": [
       "<matplotlib.legend.Legend at 0x7fed35fd3150>"
      ]
     },
     "execution_count": 4,
     "metadata": {},
     "output_type": "execute_result"
    },
    {
     "data": {
      "image/png": "[encoded data removed]",
      "text/plain": [
       "<matplotlib.figure.Figure at 0x7fed3e09fc10>"
      ]
     },
     "metadata": {},
     "output_type": "display_data"
    }
   ],
   "source": [
    "plt.plot(omega_arr, avg_transition_arr_tol_thousandth, 'r.-', label=\"tol=1e-3\")\n",
    "plt.legend()"
   ]
  },
  {
   "cell_type": "code",
   "execution_count": 86,
   "metadata": {
    "collapsed": false
   },
   "outputs": [
    {
     "data": {
      "text/plain": [
       "<matplotlib.legend.Legend at 0x7f3b7814bc50>"
      ]
     },
     "execution_count": 86,
     "metadata": {},
     "output_type": "execute_result"
    },
    {
     "data": {
      "image/png": "[encoded data removed]",
      "text/plain": [
       "<matplotlib.figure.Figure at 0x7f3b7814b7d0>"
      ]
     },
     "metadata": {},
     "output_type": "display_data"
    }
   ],
   "source": [
    "plt.plot(omega_arr, avg_transition_arr, 'b.-', label=\"tol=1e-5\")\n",
    "plt.legend()"
   ]
  },
  {
   "cell_type": "code",
   "execution_count": 88,
   "metadata": {
    "collapsed": false
   },
   "outputs": [
    {
     "data": {
      "text/plain": [
       "<matplotlib.legend.Legend at 0x7f3b78026490>"
      ]
     },
     "execution_count": 88,
     "metadata": {},
     "output_type": "execute_result"
    },
    {
     "data": {
      "image/png": "[encoded data removed]",
      "text/plain": [
       "<matplotlib.figure.Figure at 0x7f3b78bcd290>"
      ]
     },
     "metadata": {},
     "output_type": "display_data"
    }
   ],
   "source": [
    "plt.plot(omega_arr, avg_transition_arr_tol_one, 'b.-', label=\"tol=1.0\")\n",
    "plt.legend()"
   ]
  },
  {
   "cell_type": "code",
   "execution_count": 89,
   "metadata": {
    "collapsed": false
   },
   "outputs": [
    {
     "data": {
      "text/plain": [
       "<matplotlib.legend.Legend at 0x7f3b77f7e8d0>"
      ]
     },
     "execution_count": 89,
     "metadata": {},
     "output_type": "execute_result"
    },
    {
     "data": {
      "image/png": "[encoded data removed]",
      "text/plain": [
       "<matplotlib.figure.Figure at 0x7f3b77f7e910>"
      ]
     },
     "metadata": {},
     "output_type": "display_data"
    }
   ],
   "source": [
    "plt.plot(omega_arr, avg_transition_arr_tol_ten, 'b.-', label=\"tol=10.0\")\n",
    "plt.legend()"
   ]
  },
  {
   "cell_type": "markdown",
   "metadata": {},
   "source": [
    "Above was transition rate without any CD term. Let's see what happens with CD term\n",
    "\n",
    "### Transition rate with CD term"
   ]
  },
  {
   "cell_type": "code",
   "execution_count": 103,
   "metadata": {
    "collapsed": false
   },
   "outputs": [
    {
     "name": "stdout",
     "output_type": "stream",
     "text": [
      "[ 0.         -1.30336868 -2.53739238 -5.37271366  1.30336868  0.         -1.2340237\n",
      " -4.06934498  2.53739238  1.2340237   0.         -2.83532128  5.37271366\n",
      "  4.06934498  2.83532128  0.        ]\n",
      "[  3.07437413e+00   2.45547379e-32   1.00968446e-03   6.21531367e-01\n",
      "   1.79327982e-32   2.43086534e-63   7.72178465e-32   4.61441781e-32\n",
      "   1.00968446e-03   5.00730783e-32   5.93548381e-01   1.06038424e+00\n",
      "   6.21531367e-01   4.86317003e-32   1.06038424e+00   9.66226906e-01]\n"
     ]
    }
   ],
   "source": [
    "L=2\n",
    "ham= Ham_nonint(L)\n",
    "E,V= ham.eigh()\n",
    "wij, num_lamb_mat= output_gauge_potent(ham,L)\n",
    "tol=1e1\n",
    "omega_ij=wij  \n",
    "omega=1.0\n",
    "x=delta(omega,omega_ij,tol)\n",
    "print wij[x]\n",
    "#print wij[x]**2\n",
    "#print wij[x]**2 +mu**2\n",
    "#mu=10.0\n",
    "#print 1.0- wij[x]**2/( wij[x]**2 + mu**2)\n",
    "print np.abs(num_lamb_mat[x])**2\n",
    "#print np.abs(num_lamb_mat[x])**2*(1.0- wij[x]**2/( wij[x]**2 + mu**2))"
   ]
  },
  {
   "cell_type": "code",
   "execution_count": 147,
   "metadata": {
    "collapsed": true
   },
   "outputs": [],
   "source": [
    "omegaN_tot=200\n",
    "L=10\n",
    "tol=1e-1\n",
    "####\n",
    "mu=1e2\n",
    "##\n",
    "ham= Ham_nonint(L)\n",
    "E,V= ham.eigh()\n",
    "wij, num_lamb_mat= output_gauge_potent(ham,L)\n",
    "###\n",
    "def delta(omega, omega_ij, tol):\n",
    "    return np.where(np.abs(wij-omega)< tol)\n",
    "#####\n",
    "di = np.diag_indices(2**L)\n",
    "#print np.diag(num_lamb_mat)\n",
    "num_lamb_mat[di]=0.0\n",
    "####\n",
    "omega_max=2*L\n",
    "omega_arr=np.linspace(-omega_max,omega_max,omegaN_tot)\n",
    "avg_transition_arr_tol_tenth_mu100=np.zeros(omegaN_tot)\n",
    "\n",
    "omega_ij=wij\n",
    "####\n",
    "for i in range(omegaN_tot):\n",
    "    omega=omega_arr[i]\n",
    "    x=delta(omega,omega_ij,tol)\n",
    "    trans_temp=np.abs(num_lamb_mat[x])**2*(1.0- wij[x]**2/( wij[x]**2 + mu**2))\n",
    "    avg_transition_arr_tol_tenth_mu100[i]=np.sum(trans_temp)/2**L"
   ]
  },
  {
   "cell_type": "code",
   "execution_count": 148,
   "metadata": {
    "collapsed": true
   },
   "outputs": [],
   "source": [
    "omegaN_tot=200\n",
    "L=10\n",
    "tol=1e-1\n",
    "####\n",
    "mu=1e1\n",
    "##\n",
    "ham= Ham_nonint(L)\n",
    "E,V= ham.eigh()\n",
    "wij, num_lamb_mat= output_gauge_potent(ham,L)\n",
    "###\n",
    "def delta(omega, omega_ij, tol):\n",
    "    return np.where(np.abs(wij-omega)< tol)\n",
    "#####\n",
    "di = np.diag_indices(2**L)\n",
    "#print np.diag(num_lamb_mat)\n",
    "num_lamb_mat[di]=0.0\n",
    "####\n",
    "omega_max=2*L\n",
    "omega_arr=np.linspace(-omega_max,omega_max,omegaN_tot)\n",
    "avg_transition_arr_tol_tenth_mu10=np.zeros(omegaN_tot)\n",
    "\n",
    "omega_ij=wij\n",
    "####\n",
    "for i in range(omegaN_tot):\n",
    "    omega=omega_arr[i]\n",
    "    x=delta(omega,omega_ij,tol)\n",
    "    trans_temp=np.abs(num_lamb_mat[x])**2*(1.0- wij[x]**2/( wij[x]**2 + mu**2))\n",
    "    avg_transition_arr_tol_tenth_mu10[i]=np.sum(trans_temp)/2**L"
   ]
  },
  {
   "cell_type": "code",
   "execution_count": 149,
   "metadata": {
    "collapsed": true
   },
   "outputs": [],
   "source": [
    "omegaN_tot=200\n",
    "L=10\n",
    "tol=1e-1\n",
    "####\n",
    "mu=1e0\n",
    "##\n",
    "ham= Ham_nonint(L)\n",
    "E,V= ham.eigh()\n",
    "wij, num_lamb_mat= output_gauge_potent(ham,L)\n",
    "###\n",
    "def delta(omega, omega_ij, tol):\n",
    "    return np.where(np.abs(wij-omega)< tol)\n",
    "#####\n",
    "di = np.diag_indices(2**L)\n",
    "#print np.diag(num_lamb_mat)\n",
    "num_lamb_mat[di]=0.0\n",
    "####\n",
    "omega_max=2*L\n",
    "omega_arr=np.linspace(-omega_max,omega_max,omegaN_tot)\n",
    "avg_transition_arr_tol_tenth_mu1=np.zeros(omegaN_tot)\n",
    "\n",
    "omega_ij=wij\n",
    "####\n",
    "for i in range(omegaN_tot):\n",
    "    omega=omega_arr[i]\n",
    "    x=delta(omega,omega_ij,tol)\n",
    "    trans_temp=np.abs(num_lamb_mat[x])**2*(1.0- wij[x]**2/( wij[x]**2 + mu**2))\n",
    "    avg_transition_arr_tol_tenth_mu1[i]=np.sum(trans_temp)/2**L"
   ]
  },
  {
   "cell_type": "code",
   "execution_count": 151,
   "metadata": {
    "collapsed": true
   },
   "outputs": [],
   "source": [
    "omegaN_tot=200\n",
    "L=10\n",
    "tol=1e-1\n",
    "####\n",
    "mu=1e-1\n",
    "##\n",
    "ham= Ham_nonint(L)\n",
    "E,V= ham.eigh()\n",
    "wij, num_lamb_mat= output_gauge_potent(ham,L)\n",
    "###\n",
    "def delta(omega, omega_ij, tol):\n",
    "    return np.where(np.abs(wij-omega)< tol)\n",
    "#####\n",
    "di = np.diag_indices(2**L)\n",
    "#print np.diag(num_lamb_mat)\n",
    "num_lamb_mat[di]=0.0\n",
    "####\n",
    "omega_max=2*L\n",
    "omega_arr=np.linspace(-omega_max,omega_max,omegaN_tot)\n",
    "avg_transition_arr_tol_tenth_mu_tenth=np.zeros(omegaN_tot)\n",
    "\n",
    "omega_ij=wij\n",
    "####\n",
    "for i in range(omegaN_tot):\n",
    "    omega=omega_arr[i]\n",
    "    x=delta(omega,omega_ij,tol)\n",
    "    trans_temp=np.abs(num_lamb_mat[x])**2*(1.0- wij[x]**2/( wij[x]**2 + mu**2))\n",
    "    avg_transition_arr_tol_tenth_mu_tenth[i]=np.sum(trans_temp)/2**L"
   ]
  },
  {
   "cell_type": "code",
   "execution_count": 155,
   "metadata": {
    "collapsed": true
   },
   "outputs": [],
   "source": [
    "omegaN_tot=200\n",
    "L=10\n",
    "tol=1e-1\n",
    "####\n",
    "mu=1e-2\n",
    "##\n",
    "ham= Ham_nonint(L)\n",
    "E,V= ham.eigh()\n",
    "wij, num_lamb_mat= output_gauge_potent(ham,L)\n",
    "###\n",
    "def delta(omega, omega_ij, tol):\n",
    "    return np.where(np.abs(wij-omega)< tol)\n",
    "#####\n",
    "di = np.diag_indices(2**L)\n",
    "#print np.diag(num_lamb_mat)\n",
    "num_lamb_mat[di]=0.0\n",
    "####\n",
    "omega_max=2*L\n",
    "omega_arr=np.linspace(-omega_max,omega_max,omegaN_tot)\n",
    "avg_transition_arr_tol_tenth_mu_hundredth=np.zeros(omegaN_tot)\n",
    "\n",
    "omega_ij=wij\n",
    "####\n",
    "for i in range(omegaN_tot):\n",
    "    omega=omega_arr[i]\n",
    "    x=delta(omega,omega_ij,tol)\n",
    "    trans_temp=np.abs(num_lamb_mat[x])**2*(1.0- wij[x]**2/( wij[x]**2 + mu**2))\n",
    "    avg_transition_arr_tol_tenth_mu_hundredth[i]=np.sum(trans_temp)/2**L"
   ]
  },
  {
   "cell_type": "code",
   "execution_count": 164,
   "metadata": {
    "collapsed": false
   },
   "outputs": [
    {
     "data": {
      "image/png": "[encoded data removed]",
      "text/plain": [
       "<matplotlib.figure.Figure at 0x7f3b76358f50>"
      ]
     },
     "metadata": {},
     "output_type": "display_data"
    }
   ],
   "source": [
    "plt.plot(omega_arr, avg_transition_arr_tol_tenth_mu100, 'b.-', label=r\"$\\mu=100$\")\n",
    "plt.plot(omega_arr, avg_transition_arr_tol_tenth_mu10, 'r.-', label=r\"$\\mu=10$\")\n",
    "plt.plot(omega_arr, avg_transition_arr_tol_tenth_mu1, 'g.-', label=r\"$\\mu=1$\")\n",
    "plt.plot(omega_arr, avg_transition_arr_tol_tenth_mu_tenth, 'k.-', label=r\"$\\mu=0.1$\")\n",
    "plt.plot(omega_arr, avg_transition_arr_tol_tenth_mu_hundredth, 'c.-', label=r\"$\\mu=0.01$\")\n",
    "plt.legend()\n",
    "plt.title(\"tolerance=0.1\")\n",
    "plt.xlabel(r\"$\\omega$\", fontsize=13)\n",
    "plt.ylabel(r\"Average transition rate\")\n",
    "plt.savefig(\"transition_rate_high_tol.eps\")"
   ]
  },
  {
   "cell_type": "code",
   "execution_count": 167,
   "metadata": {
    "collapsed": false
   },
   "outputs": [
    {
     "data": {
      "image/png": "[encoded data removed]",
      "text/plain": [
       "<matplotlib.figure.Figure at 0x7f3b75eec690>"
      ]
     },
     "metadata": {},
     "output_type": "display_data"
    }
   ],
   "source": [
    "plt.plot(omega_arr, avg_transition_arr_mu100, 'b.-', label=r\"$\\mu=100$\")\n",
    "plt.plot(omega_arr, avg_transition_arr_mu10, 'r.-', label=r\"$\\mu=10$\")\n",
    "plt.plot(omega_arr, avg_transition_arr_mu1, 'g.-', label=r\"$\\mu=1$\")\n",
    "plt.plot(omega_arr, avg_transition_arr_mu_tenth, 'k.-', label=r\"$\\mu=0.1$\")\n",
    "#plt.plot(omega_arr, avg_transition_arr_tol_tenth_mu_hundredth, 'c.-', label=r\"$\\mu=0.01$\")\n",
    "plt.legend()\n",
    "plt.title(r\"tolerance$=10^{-5}$\")\n",
    "plt.xlabel(r\"$\\omega$\", fontsize=13)\n",
    "plt.ylabel(r\"Average transition rate\")\n",
    "plt.tight_layout()\n",
    "plt.savefig(\"transition_rate_low_tol.eps\")"
   ]
  },
  {
   "cell_type": "code",
   "execution_count": 157,
   "metadata": {
    "collapsed": false
   },
   "outputs": [],
   "source": [
    "omegaN_tot=200\n",
    "L=10\n",
    "tol=1e-5\n",
    "####\n",
    "mu=1e2\n",
    "##\n",
    "ham= Ham_nonint(L)\n",
    "E,V= ham.eigh()\n",
    "wij, num_lamb_mat= output_gauge_potent(ham,L)\n",
    "###\n",
    "def delta(omega, omega_ij, tol):\n",
    "    return np.where(np.abs(wij-omega)< tol)\n",
    "#####\n",
    "di = np.diag_indices(2**L)\n",
    "#print np.diag(num_lamb_mat)\n",
    "num_lamb_mat[di]=0.0\n",
    "####\n",
    "omega_max=2*L\n",
    "omega_arr=np.linspace(-omega_max,omega_max,omegaN_tot)\n",
    "avg_transition_arr_mu100=np.zeros(omegaN_tot)\n",
    "\n",
    "omega_ij=wij\n",
    "####\n",
    "for i in range(omegaN_tot):\n",
    "    omega=omega_arr[i]\n",
    "    x=delta(omega,omega_ij,tol)\n",
    "    trans_temp=np.abs(num_lamb_mat[x])**2*(1.0- wij[x]**2/( wij[x]**2 + mu**2))\n",
    "    avg_transition_arr_mu100[i]=np.sum(trans_temp)/2**L"
   ]
  },
  {
   "cell_type": "code",
   "execution_count": 159,
   "metadata": {
    "collapsed": true
   },
   "outputs": [],
   "source": [
    "omegaN_tot=200\n",
    "L=10\n",
    "tol=1e-5\n",
    "####\n",
    "mu=1e1\n",
    "##\n",
    "ham= Ham_nonint(L)\n",
    "E,V= ham.eigh()\n",
    "wij, num_lamb_mat= output_gauge_potent(ham,L)\n",
    "###\n",
    "def delta(omega, omega_ij, tol):\n",
    "    return np.where(np.abs(wij-omega)< tol)\n",
    "#####\n",
    "di = np.diag_indices(2**L)\n",
    "#print np.diag(num_lamb_mat)\n",
    "num_lamb_mat[di]=0.0\n",
    "####\n",
    "omega_max=2*L\n",
    "omega_arr=np.linspace(-omega_max,omega_max,omegaN_tot)\n",
    "avg_transition_arr_mu10=np.zeros(omegaN_tot)\n",
    "\n",
    "omega_ij=wij\n",
    "####\n",
    "for i in range(omegaN_tot):\n",
    "    omega=omega_arr[i]\n",
    "    x=delta(omega,omega_ij,tol)\n",
    "    trans_temp=np.abs(num_lamb_mat[x])**2*(1.0- wij[x]**2/( wij[x]**2 + mu**2))\n",
    "    avg_transition_arr_mu10[i]=np.sum(trans_temp)/2**L"
   ]
  },
  {
   "cell_type": "code",
   "execution_count": 161,
   "metadata": {
    "collapsed": true
   },
   "outputs": [],
   "source": [
    "omegaN_tot=200\n",
    "L=10\n",
    "tol=1e-5\n",
    "####\n",
    "mu=1e0\n",
    "##\n",
    "ham= Ham_nonint(L)\n",
    "E,V= ham.eigh()\n",
    "wij, num_lamb_mat= output_gauge_potent(ham,L)\n",
    "###\n",
    "def delta(omega, omega_ij, tol):\n",
    "    return np.where(np.abs(wij-omega)< tol)\n",
    "#####\n",
    "di = np.diag_indices(2**L)\n",
    "#print np.diag(num_lamb_mat)\n",
    "num_lamb_mat[di]=0.0\n",
    "####\n",
    "omega_max=2*L\n",
    "omega_arr=np.linspace(-omega_max,omega_max,omegaN_tot)\n",
    "avg_transition_arr_mu1=np.zeros(omegaN_tot)\n",
    "\n",
    "omega_ij=wij\n",
    "####\n",
    "for i in range(omegaN_tot):\n",
    "    omega=omega_arr[i]\n",
    "    x=delta(omega,omega_ij,tol)\n",
    "    trans_temp=np.abs(num_lamb_mat[x])**2*(1.0- wij[x]**2/( wij[x]**2 + mu**2))\n",
    "    avg_transition_arr_mu1[i]=np.sum(trans_temp)/2**L"
   ]
  },
  {
   "cell_type": "code",
   "execution_count": 162,
   "metadata": {
    "collapsed": true
   },
   "outputs": [],
   "source": [
    "omegaN_tot=200\n",
    "L=10\n",
    "tol=1e-5\n",
    "####\n",
    "mu=1e-1\n",
    "##\n",
    "ham= Ham_nonint(L)\n",
    "E,V= ham.eigh()\n",
    "wij, num_lamb_mat= output_gauge_potent(ham,L)\n",
    "###\n",
    "def delta(omega, omega_ij, tol):\n",
    "    return np.where(np.abs(wij-omega)< tol)\n",
    "#####\n",
    "di = np.diag_indices(2**L)\n",
    "#print np.diag(num_lamb_mat)\n",
    "num_lamb_mat[di]=0.0\n",
    "####\n",
    "omega_max=2*L\n",
    "omega_arr=np.linspace(-omega_max,omega_max,omegaN_tot)\n",
    "avg_transition_arr_mu_tenth=np.zeros(omegaN_tot)\n",
    "\n",
    "omega_ij=wij\n",
    "####\n",
    "for i in range(omegaN_tot):\n",
    "    omega=omega_arr[i]\n",
    "    x=delta(omega,omega_ij,tol)\n",
    "    trans_temp=np.abs(num_lamb_mat[x])**2*(1.0- wij[x]**2/( wij[x]**2 + mu**2))\n",
    "    avg_transition_arr_mu_tenth[i]=np.sum(trans_temp)/2**L"
   ]
  },
  {
   "cell_type": "markdown",
   "metadata": {},
   "source": [
    "### Dissipation rate"
   ]
  },
  {
   "cell_type": "code",
   "execution_count": 177,
   "metadata": {
    "collapsed": false
   },
   "outputs": [
    {
     "name": "stdout",
     "output_type": "stream",
     "text": [
      "[[ 0.         -1.30336868 -2.53739238 -5.37271366]\n",
      " [ 1.30336868  0.         -1.2340237  -4.06934498]\n",
      " [ 2.53739238  1.2340237   0.         -2.83532128]\n",
      " [ 5.37271366  4.06934498  2.83532128  0.        ]]\n",
      "[ 0.         -1.30336868 -2.53739238 -5.37271366]\n",
      "[ 1.30336868  0.         -1.2340237  -4.06934498]\n",
      "[[ -1.75338933e+00  -1.56699515e-16   3.17755325e-02  -7.88372607e-01]\n",
      " [ -1.33913398e-16   4.93038066e-32   2.77880993e-16   2.14811960e-16]\n",
      " [  3.17755325e-02   2.23770146e-16   7.70420912e-01   1.02974960e+00]\n",
      " [ -7.88372607e-01   2.20525963e-16   1.02974960e+00   9.82968415e-01]]\n",
      "[ -1.75338933e+00  -1.56699515e-16   3.17755325e-02  -7.88372607e-01]\n"
     ]
    }
   ],
   "source": [
    "L=2\n",
    "ham= Ham_nonint(L)\n",
    "E,V= ham.eigh()\n",
    "wij, num_lamb_mat= output_gauge_potent(ham,L)\n",
    "print wij\n",
    "print wij[0,:]\n",
    "print wij[1,:]\n",
    "print num_lamb_mat\n",
    "print num_lamb_mat[0,:]"
   ]
  },
  {
   "cell_type": "code",
   "execution_count": 178,
   "metadata": {
    "collapsed": true
   },
   "outputs": [],
   "source": [
    "####\n",
    "mu=1e2\n",
    "L=10\n",
    "ntot=2**L\n",
    "##\n",
    "ham= Ham_nonint(L)\n",
    "E,V= ham.eigh()\n",
    "wij, num_lamb_mat= output_gauge_potent(ham,L)\n",
    "####\n",
    "di = np.diag_indices(2**L)\n",
    "num_lamb_mat[di]=0.0\n",
    "####\n",
    "\n",
    "dissipation_arr_100=np.zeros(ntot)\n",
    "\n",
    "omega_ij=wij\n",
    "####\n",
    "for i in range(ntot):\n",
    "    num_lamb_mat_temp=num_lamb_mat[i,:]\n",
    "    wij_temp=wij[i,:]\n",
    "    diss_temp=mu**4*np.abs(num_lamb_mat_temp)**2*(wij_temp**2/( wij_temp**2 + mu**2)**2)\n",
    "    dissipation_arr_100[i]=np.sum(diss_temp)"
   ]
  },
  {
   "cell_type": "code",
   "execution_count": 182,
   "metadata": {
    "collapsed": true
   },
   "outputs": [],
   "source": [
    "####\n",
    "mu=1e1\n",
    "L=10\n",
    "ntot=2**L\n",
    "##\n",
    "ham= Ham_nonint(L)\n",
    "E,V= ham.eigh()\n",
    "wij, num_lamb_mat= output_gauge_potent(ham,L)\n",
    "####\n",
    "di = np.diag_indices(2**L)\n",
    "num_lamb_mat[di]=0.0\n",
    "####\n",
    "\n",
    "dissipation_arr_10=np.zeros(ntot)\n",
    "\n",
    "omega_ij=wij\n",
    "####\n",
    "for i in range(ntot):\n",
    "    num_lamb_mat_temp=num_lamb_mat[i,:]\n",
    "    wij_temp=wij[i,:]\n",
    "    diss_temp=mu**4*np.abs(num_lamb_mat_temp)**2*(wij_temp**2/( wij_temp**2 + mu**2)**2)\n",
    "    dissipation_arr_10[i]=np.sum(diss_temp)"
   ]
  },
  {
   "cell_type": "code",
   "execution_count": 195,
   "metadata": {
    "collapsed": true
   },
   "outputs": [],
   "source": [
    "####\n",
    "mu=0.5*1e1\n",
    "L=10\n",
    "ntot=2**L\n",
    "##\n",
    "ham= Ham_nonint(L)\n",
    "E,V= ham.eigh()\n",
    "wij, num_lamb_mat= output_gauge_potent(ham,L)\n",
    "####\n",
    "di = np.diag_indices(2**L)\n",
    "num_lamb_mat[di]=0.0\n",
    "####\n",
    "\n",
    "dissipation_arr_5=np.zeros(ntot)\n",
    "\n",
    "omega_ij=wij\n",
    "####\n",
    "for i in range(ntot):\n",
    "    num_lamb_mat_temp=num_lamb_mat[i,:]\n",
    "    wij_temp=wij[i,:]\n",
    "    diss_temp=mu**4*np.abs(num_lamb_mat_temp)**2*(wij_temp**2/( wij_temp**2 + mu**2)**2)\n",
    "    dissipation_arr_5[i]=np.sum(diss_temp)"
   ]
  },
  {
   "cell_type": "code",
   "execution_count": 186,
   "metadata": {
    "collapsed": true
   },
   "outputs": [],
   "source": [
    "####\n",
    "mu=1e0\n",
    "L=10\n",
    "ntot=2**L\n",
    "##\n",
    "ham= Ham_nonint(L)\n",
    "E,V= ham.eigh()\n",
    "wij, num_lamb_mat= output_gauge_potent(ham,L)\n",
    "####\n",
    "di = np.diag_indices(2**L)\n",
    "num_lamb_mat[di]=0.0\n",
    "####\n",
    "\n",
    "dissipation_arr_1=np.zeros(ntot)\n",
    "\n",
    "omega_ij=wij\n",
    "####\n",
    "for i in range(ntot):\n",
    "    num_lamb_mat_temp=num_lamb_mat[i,:]\n",
    "    wij_temp=wij[i,:]\n",
    "    diss_temp=mu**4*np.abs(num_lamb_mat_temp)**2*(wij_temp**2/( wij_temp**2 + mu**2)**2)\n",
    "    dissipation_arr_1[i]=np.sum(diss_temp)"
   ]
  },
  {
   "cell_type": "code",
   "execution_count": 187,
   "metadata": {
    "collapsed": true
   },
   "outputs": [],
   "source": [
    "####\n",
    "mu=1e-1\n",
    "L=10\n",
    "ntot=2**L\n",
    "##\n",
    "ham= Ham_nonint(L)\n",
    "E,V= ham.eigh()\n",
    "wij, num_lamb_mat= output_gauge_potent(ham,L)\n",
    "####\n",
    "di = np.diag_indices(2**L)\n",
    "num_lamb_mat[di]=0.0\n",
    "####\n",
    "\n",
    "dissipation_arr_tenth=np.zeros(ntot)\n",
    "\n",
    "omega_ij=wij\n",
    "####\n",
    "for i in range(ntot):\n",
    "    num_lamb_mat_temp=num_lamb_mat[i,:]\n",
    "    wij_temp=wij[i,:]\n",
    "    diss_temp=mu**4*np.abs(num_lamb_mat_temp)**2*(wij_temp**2/( wij_temp**2 + mu**2)**2)\n",
    "    dissipation_arr_tenth[i]=np.sum(diss_temp)"
   ]
  },
  {
   "cell_type": "code",
   "execution_count": 199,
   "metadata": {
    "collapsed": false
   },
   "outputs": [
    {
     "data": {
      "image/png": "[encoded data removed]",
      "text/plain": [
       "<matplotlib.figure.Figure at 0x7f3b7571aa10>"
      ]
     },
     "metadata": {},
     "output_type": "display_data"
    }
   ],
   "source": [
    "plt.semilogx(E, dissipation_arr_100, 'b.', label=r\"$\\mu=100$\")\n",
    "plt.semilogx(E, dissipation_arr_10, 'r.', label=r\"$\\mu=10$\")\n",
    "plt.semilogx(E, dissipation_arr_5, 'g.', label=r\"$\\mu=5$\")\n",
    "plt.semilogx(E, dissipation_arr_1, 'k.', label=r\"$\\mu=1$\")\n",
    "plt.legend()\n",
    "plt.xlabel(r\"$E$\", fontsize=13)\n",
    "plt.ylabel(r\"Induced fluctuation\")\n",
    "plt.tight_layout()\n",
    "plt.savefig(\"dissipation_rate.eps\")"
   ]
  },
  {
   "cell_type": "markdown",
   "metadata": {
    "collapsed": true
   },
   "source": [
    "### Average dissipation rate"
   ]
  },
  {
   "cell_type": "code",
   "execution_count": 26,
   "metadata": {
    "collapsed": false
   },
   "outputs": [],
   "source": [
    "####\n",
    "muTot=200\n",
    "mu=np.logspace(-5,5,muTot)\n",
    "L=10\n",
    "ntot=2**L\n",
    "##\n",
    "ham= Ham_nonint(L)\n",
    "E,V= ham.eigh()\n",
    "wij, num_lamb_mat= output_gauge_potent(ham,L)\n",
    "####\n",
    "di = np.diag_indices(2**L)\n",
    "num_lamb_mat[di]=0.0\n",
    "####\n",
    "\n",
    "\n",
    "avg_dissipation_arr=np.zeros(muTot)\n",
    "omega_ij=wij\n",
    "####\n",
    "for j in range(muTot):\n",
    "    dissipation_arr=np.zeros(ntot)\n",
    "    for i in range(ntot):\n",
    "        num_lamb_mat_temp=num_lamb_mat[i,:]\n",
    "        wij_temp=wij[i,:]\n",
    "        diss_temp=mu[j]**4*np.abs(num_lamb_mat_temp)**2*(wij_temp**2/( wij_temp**2 + mu[j]**2)**2)\n",
    "        dissipation_arr[i]=np.sum(diss_temp)\n",
    "    avg_dissipation_arr[j]=np.sum(dissipation_arr)/ntot\n",
    "    #print mu[j], avg_dissipation_arr[j]"
   ]
  },
  {
   "cell_type": "code",
   "execution_count": 21,
   "metadata": {
    "collapsed": false
   },
   "outputs": [
    {
     "name": "stdout",
     "output_type": "stream",
     "text": [
      "98.1803398875\n"
     ]
    }
   ],
   "source": [
    "print avg_dissipation_arr[-1]"
   ]
  },
  {
   "cell_type": "code",
   "execution_count": 27,
   "metadata": {
    "collapsed": true
   },
   "outputs": [],
   "source": [
    "####\n",
    "muTot=200\n",
    "mu=np.logspace(-5,5,muTot)\n",
    "L=9\n",
    "ntot=2**L\n",
    "##\n",
    "ham= Ham_nonint(L)\n",
    "E,V= ham.eigh()\n",
    "wij, num_lamb_mat= output_gauge_potent(ham,L)\n",
    "####\n",
    "di = np.diag_indices(2**L)\n",
    "num_lamb_mat[di]=0.0\n",
    "####\n",
    "\n",
    "\n",
    "avg_dissipation_arr_L9=np.zeros(muTot)\n",
    "omega_ij=wij\n",
    "####\n",
    "for j in range(muTot):\n",
    "    dissipation_arr=np.zeros(ntot)\n",
    "    for i in range(ntot):\n",
    "        num_lamb_mat_temp=num_lamb_mat[i,:]\n",
    "        wij_temp=wij[i,:]\n",
    "        diss_temp=mu[j]**4*np.abs(num_lamb_mat_temp)**2*(wij_temp**2/( wij_temp**2 + mu[j]**2)**2)\n",
    "        dissipation_arr[i]=np.sum(diss_temp)\n",
    "    avg_dissipation_arr_L9[j]=np.sum(dissipation_arr)/ntot\n",
    "    #print mu[j], avg_dissipation_arr[j]"
   ]
  },
  {
   "cell_type": "code",
   "execution_count": 29,
   "metadata": {
    "collapsed": true
   },
   "outputs": [],
   "source": [
    "####\n",
    "muTot=200\n",
    "mu=np.logspace(-5,5,muTot)\n",
    "L=8\n",
    "ntot=2**L\n",
    "##\n",
    "ham= Ham_nonint(L)\n",
    "E,V= ham.eigh()\n",
    "wij, num_lamb_mat= output_gauge_potent(ham,L)\n",
    "####\n",
    "di = np.diag_indices(2**L)\n",
    "num_lamb_mat[di]=0.0\n",
    "####\n",
    "\n",
    "\n",
    "avg_dissipation_arr_L8=np.zeros(muTot)\n",
    "omega_ij=wij\n",
    "####\n",
    "for j in range(muTot):\n",
    "    dissipation_arr=np.zeros(ntot)\n",
    "    for i in range(ntot):\n",
    "        num_lamb_mat_temp=num_lamb_mat[i,:]\n",
    "        wij_temp=wij[i,:]\n",
    "        diss_temp=mu[j]**4*np.abs(num_lamb_mat_temp)**2*(wij_temp**2/( wij_temp**2 + mu[j]**2)**2)\n",
    "        dissipation_arr[i]=np.sum(diss_temp)\n",
    "    avg_dissipation_arr_L8[j]=np.sum(dissipation_arr)/ntot"
   ]
  },
  {
   "cell_type": "code",
   "execution_count": 39,
   "metadata": {
    "collapsed": false
   },
   "outputs": [
    {
     "data": {
      "application/javascript": [
       "/* Put everything inside the global mpl namespace */\n",
       "window.mpl = {};\n",
       "\n",
       "\n",
       "mpl.get_websocket_type = function() {\n",
       "    if (typeof(WebSocket) !== 'undefined') {\n",
       "        return WebSocket;\n",
       "    } else if (typeof(MozWebSocket) !== 'undefined') {\n",
       "        return MozWebSocket;\n",
       "    } else {\n",
       "        alert('Your browser does not have WebSocket support.' +\n",
       "              'Please try Chrome, Safari or Firefox ≥ 6. ' +\n",
       "              'Firefox 4 and 5 are also supported but you ' +\n",
       "              'have to enable WebSockets in about:config.');\n",
       "    };\n",
       "}\n",
       "\n",
       "mpl.figure = function(figure_id, websocket, ondownload, parent_element) {\n",
       "    this.id = figure_id;\n",
       "\n",
       "    this.ws = websocket;\n",
       "\n",
       "    this.supports_binary = (this.ws.binaryType != undefined);\n",
       "\n",
       "    if (!this.supports_binary) {\n",
       "        var warnings = document.getElementById(\"mpl-warnings\");\n",
       "        if (warnings) {\n",
       "            warnings.style.display = 'block';\n",
       "            warnings.textContent = (\n",
       "                \"This browser does not support binary websocket messages. \" +\n",
       "                    \"Performance may be slow.\");\n",
       "        }\n",
       "    }\n",
       "\n",
       "    this.imageObj = new Image();\n",
       "\n",
       "    this.context = undefined;\n",
       "    this.message = undefined;\n",
       "    this.canvas = undefined;\n",
       "    this.rubberband_canvas = undefined;\n",
       "    this.rubberband_context = undefined;\n",
       "    this.format_dropdown = undefined;\n",
       "\n",
       "    this.image_mode = 'full';\n",
       "\n",
       "    this.root = $('<div/>');\n",
       "    this._root_extra_style(this.root)\n",
       "    this.root.attr('style', 'display: inline-block');\n",
       "\n",
       "    $(parent_element).append(this.root);\n",
       "\n",
       "    this._init_header(this);\n",
       "    this._init_canvas(this);\n",
       "    this._init_toolbar(this);\n",
       "\n",
       "    var fig = this;\n",
       "\n",
       "    this.waiting = false;\n",
       "\n",
       "    this.ws.onopen =  function () {\n",
       "            fig.send_message(\"supports_binary\", {value: fig.supports_binary});\n",
       "            fig.send_message(\"send_image_mode\", {});\n",
       "            if (mpl.ratio != 1) {\n",
       "                fig.send_message(\"set_dpi_ratio\", {'dpi_ratio': mpl.ratio});\n",
       "            }\n",
       "            fig.send_message(\"refresh\", {});\n",
       "        }\n",
       "\n",
       "    this.imageObj.onload = function() {\n",
       "            if (fig.image_mode == 'full') {\n",
       "                // Full images could contain transparency (where diff images\n",
       "                // almost always do), so we need to clear the canvas so that\n",
       "                // there is no ghosting.\n",
       "                fig.context.clearRect(0, 0, fig.canvas.width, fig.canvas.height);\n",
       "            }\n",
       "            fig.context.drawImage(fig.imageObj, 0, 0);\n",
       "        };\n",
       "\n",
       "    this.imageObj.onunload = function() {\n",
       "        this.ws.close();\n",
       "    }\n",
       "\n",
       "    this.ws.onmessage = this._make_on_message_function(this);\n",
       "\n",
       "    this.ondownload = ondownload;\n",
       "}\n",
       "\n",
       "mpl.figure.prototype._init_header = function() {\n",
       "    var titlebar = $(\n",
       "        '<div class=\"ui-dialog-titlebar ui-widget-header ui-corner-all ' +\n",
       "        'ui-helper-clearfix\"/>');\n",
       "    var titletext = $(\n",
       "        '<div class=\"ui-dialog-title\" style=\"width: 100%; ' +\n",
       "        'text-align: center; padding: 3px;\"/>');\n",
       "    titlebar.append(titletext)\n",
       "    this.root.append(titlebar);\n",
       "    this.header = titletext[0];\n",
       "}\n",
       "\n",
       "\n",
       "\n",
       "mpl.figure.prototype._canvas_extra_style = function(canvas_div) {\n",
       "\n",
       "}\n",
       "\n",
       "\n",
       "mpl.figure.prototype._root_extra_style = function(canvas_div) {\n",
       "\n",
       "}\n",
       "\n",
       "mpl.figure.prototype._init_canvas = function() {\n",
       "    var fig = this;\n",
       "\n",
       "    var canvas_div = $('<div/>');\n",
       "\n",
       "    canvas_div.attr('style', 'position: relative; clear: both; outline: 0');\n",
       "\n",
       "    function canvas_keyboard_event(event) {\n",
       "        return fig.key_event(event, event['data']);\n",
       "    }\n",
       "\n",
       "    canvas_div.keydown('key_press', canvas_keyboard_event);\n",
       "    canvas_div.keyup('key_release', canvas_keyboard_event);\n",
       "    this.canvas_div = canvas_div\n",
       "    this._canvas_extra_style(canvas_div)\n",
       "    this.root.append(canvas_div);\n",
       "\n",
       "    var canvas = $('<canvas/>');\n",
       "    canvas.addClass('mpl-canvas');\n",
       "    canvas.attr('style', \"left: 0; top: 0; z-index: 0; outline: 0\")\n",
       "\n",
       "    this.canvas = canvas[0];\n",
       "    this.context = canvas[0].getContext(\"2d\");\n",
       "\n",
       "    var backingStore = this.context.backingStorePixelRatio ||\n",
       "\tthis.context.webkitBackingStorePixelRatio ||\n",
       "\tthis.context.mozBackingStorePixelRatio ||\n",
       "\tthis.context.msBackingStorePixelRatio ||\n",
       "\tthis.context.oBackingStorePixelRatio ||\n",
       "\tthis.context.backingStorePixelRatio || 1;\n",
       "\n",
       "    mpl.ratio = (window.devicePixelRatio || 1) / backingStore;\n",
       "\n",
       "    var rubberband = $('<canvas/>');\n",
       "    rubberband.attr('style', \"position: absolute; left: 0; top: 0; z-index: 1;\")\n",
       "\n",
       "    var pass_mouse_events = true;\n",
       "\n",
       "    canvas_div.resizable({\n",
       "        start: function(event, ui) {\n",
       "            pass_mouse_events = false;\n",
       "        },\n",
       "        resize: function(event, ui) {\n",
       "            fig.request_resize(ui.size.width, ui.size.height);\n",
       "        },\n",
       "        stop: function(event, ui) {\n",
       "            pass_mouse_events = true;\n",
       "            fig.request_resize(ui.size.width, ui.size.height);\n",
       "        },\n",
       "    });\n",
       "\n",
       "    function mouse_event_fn(event) {\n",
       "        if (pass_mouse_events)\n",
       "            return fig.mouse_event(event, event['data']);\n",
       "    }\n",
       "\n",
       "    rubberband.mousedown('button_press', mouse_event_fn);\n",
       "    rubberband.mouseup('button_release', mouse_event_fn);\n",
       "    // Throttle sequential mouse events to 1 every 20ms.\n",
       "    rubberband.mousemove('motion_notify', mouse_event_fn);\n",
       "\n",
       "    rubberband.mouseenter('figure_enter', mouse_event_fn);\n",
       "    rubberband.mouseleave('figure_leave', mouse_event_fn);\n",
       "\n",
       "    canvas_div.on(\"wheel\", function (event) {\n",
       "        event = event.originalEvent;\n",
       "        event['data'] = 'scroll'\n",
       "        if (event.deltaY < 0) {\n",
       "            event.step = 1;\n",
       "        } else {\n",
       "            event.step = -1;\n",
       "        }\n",
       "        mouse_event_fn(event);\n",
       "    });\n",
       "\n",
       "    canvas_div.append(canvas);\n",
       "    canvas_div.append(rubberband);\n",
       "\n",
       "    this.rubberband = rubberband;\n",
       "    this.rubberband_canvas = rubberband[0];\n",
       "    this.rubberband_context = rubberband[0].getContext(\"2d\");\n",
       "    this.rubberband_context.strokeStyle = \"#000000\";\n",
       "\n",
       "    this._resize_canvas = function(width, height) {\n",
       "        // Keep the size of the canvas, canvas container, and rubber band\n",
       "        // canvas in synch.\n",
       "        canvas_div.css('width', width)\n",
       "        canvas_div.css('height', height)\n",
       "\n",
       "        canvas.attr('width', width * mpl.ratio);\n",
       "        canvas.attr('height', height * mpl.ratio);\n",
       "        canvas.attr('style', 'width: ' + width + 'px; height: ' + height + 'px;');\n",
       "\n",
       "        rubberband.attr('width', width);\n",
       "        rubberband.attr('height', height);\n",
       "    }\n",
       "\n",
       "    // Set the figure to an initial 600x600px, this will subsequently be updated\n",
       "    // upon first draw.\n",
       "    this._resize_canvas(600, 600);\n",
       "\n",
       "    // Disable right mouse context menu.\n",
       "    $(this.rubberband_canvas).bind(\"contextmenu\",function(e){\n",
       "        return false;\n",
       "    });\n",
       "\n",
       "    function set_focus () {\n",
       "        canvas.focus();\n",
       "        canvas_div.focus();\n",
       "    }\n",
       "\n",
       "    window.setTimeout(set_focus, 100);\n",
       "}\n",
       "\n",
       "mpl.figure.prototype._init_toolbar = function() {\n",
       "    var fig = this;\n",
       "\n",
       "    var nav_element = $('<div/>')\n",
       "    nav_element.attr('style', 'width: 100%');\n",
       "    this.root.append(nav_element);\n",
       "\n",
       "    // Define a callback function for later on.\n",
       "    function toolbar_event(event) {\n",
       "        return fig.toolbar_button_onclick(event['data']);\n",
       "    }\n",
       "    function toolbar_mouse_event(event) {\n",
       "        return fig.toolbar_button_onmouseover(event['data']);\n",
       "    }\n",
       "\n",
       "    for(var toolbar_ind in mpl.toolbar_items) {\n",
       "        var name = mpl.toolbar_items[toolbar_ind][0];\n",
       "        var tooltip = mpl.toolbar_items[toolbar_ind][1];\n",
       "        var image = mpl.toolbar_items[toolbar_ind][2];\n",
       "        var method_name = mpl.toolbar_items[toolbar_ind][3];\n",
       "\n",
       "        if (!name) {\n",
       "            // put a spacer in here.\n",
       "            continue;\n",
       "        }\n",
       "        var button = $('<button/>');\n",
       "        button.addClass('ui-button ui-widget ui-state-default ui-corner-all ' +\n",
       "                        'ui-button-icon-only');\n",
       "        button.attr('role', 'button');\n",
       "        button.attr('aria-disabled', 'false');\n",
       "        button.click(method_name, toolbar_event);\n",
       "        button.mouseover(tooltip, toolbar_mouse_event);\n",
       "\n",
       "        var icon_img = $('<span/>');\n",
       "        icon_img.addClass('ui-button-icon-primary ui-icon');\n",
       "        icon_img.addClass(image);\n",
       "        icon_img.addClass('ui-corner-all');\n",
       "\n",
       "        var tooltip_span = $('<span/>');\n",
       "        tooltip_span.addClass('ui-button-text');\n",
       "        tooltip_span.html(tooltip);\n",
       "\n",
       "        button.append(icon_img);\n",
       "        button.append(tooltip_span);\n",
       "\n",
       "        nav_element.append(button);\n",
       "    }\n",
       "\n",
       "    var fmt_picker_span = $('<span/>');\n",
       "\n",
       "    var fmt_picker = $('<select/>');\n",
       "    fmt_picker.addClass('mpl-toolbar-option ui-widget ui-widget-content');\n",
       "    fmt_picker_span.append(fmt_picker);\n",
       "    nav_element.append(fmt_picker_span);\n",
       "    this.format_dropdown = fmt_picker[0];\n",
       "\n",
       "    for (var ind in mpl.extensions) {\n",
       "        var fmt = mpl.extensions[ind];\n",
       "        var option = $(\n",
       "            '<option/>', {selected: fmt === mpl.default_extension}).html(fmt);\n",
       "        fmt_picker.append(option)\n",
       "    }\n",
       "\n",
       "    // Add hover states to the ui-buttons\n",
       "    $( \".ui-button\" ).hover(\n",
       "        function() { $(this).addClass(\"ui-state-hover\");},\n",
       "        function() { $(this).removeClass(\"ui-state-hover\");}\n",
       "    );\n",
       "\n",
       "    var status_bar = $('<span class=\"mpl-message\"/>');\n",
       "    nav_element.append(status_bar);\n",
       "    this.message = status_bar[0];\n",
       "}\n",
       "\n",
       "mpl.figure.prototype.request_resize = function(x_pixels, y_pixels) {\n",
       "    // Request matplotlib to resize the figure. Matplotlib will then trigger a resize in the client,\n",
       "    // which will in turn request a refresh of the image.\n",
       "    this.send_message('resize', {'width': x_pixels, 'height': y_pixels});\n",
       "}\n",
       "\n",
       "mpl.figure.prototype.send_message = function(type, properties) {\n",
       "    properties['type'] = type;\n",
       "    properties['figure_id'] = this.id;\n",
       "    this.ws.send(JSON.stringify(properties));\n",
       "}\n",
       "\n",
       "mpl.figure.prototype.send_draw_message = function() {\n",
       "    if (!this.waiting) {\n",
       "        this.waiting = true;\n",
       "        this.ws.send(JSON.stringify({type: \"draw\", figure_id: this.id}));\n",
       "    }\n",
       "}\n",
       "\n",
       "\n",
       "mpl.figure.prototype.handle_save = function(fig, msg) {\n",
       "    var format_dropdown = fig.format_dropdown;\n",
       "    var format = format_dropdown.options[format_dropdown.selectedIndex].value;\n",
       "    fig.ondownload(fig, format);\n",
       "}\n",
       "\n",
       "\n",
       "mpl.figure.prototype.handle_resize = function(fig, msg) {\n",
       "    var size = msg['size'];\n",
       "    if (size[0] != fig.canvas.width || size[1] != fig.canvas.height) {\n",
       "        fig._resize_canvas(size[0], size[1]);\n",
       "        fig.send_message(\"refresh\", {});\n",
       "    };\n",
       "}\n",
       "\n",
       "mpl.figure.prototype.handle_rubberband = function(fig, msg) {\n",
       "    var x0 = msg['x0'] / mpl.ratio;\n",
       "    var y0 = (fig.canvas.height - msg['y0']) / mpl.ratio;\n",
       "    var x1 = msg['x1'] / mpl.ratio;\n",
       "    var y1 = (fig.canvas.height - msg['y1']) / mpl.ratio;\n",
       "    x0 = Math.floor(x0) + 0.5;\n",
       "    y0 = Math.floor(y0) + 0.5;\n",
       "    x1 = Math.floor(x1) + 0.5;\n",
       "    y1 = Math.floor(y1) + 0.5;\n",
       "    var min_x = Math.min(x0, x1);\n",
       "    var min_y = Math.min(y0, y1);\n",
       "    var width = Math.abs(x1 - x0);\n",
       "    var height = Math.abs(y1 - y0);\n",
       "\n",
       "    fig.rubberband_context.clearRect(\n",
       "        0, 0, fig.canvas.width, fig.canvas.height);\n",
       "\n",
       "    fig.rubberband_context.strokeRect(min_x, min_y, width, height);\n",
       "}\n",
       "\n",
       "mpl.figure.prototype.handle_figure_label = function(fig, msg) {\n",
       "    // Updates the figure title.\n",
       "    fig.header.textContent = msg['label'];\n",
       "}\n",
       "\n",
       "mpl.figure.prototype.handle_cursor = function(fig, msg) {\n",
       "    var cursor = msg['cursor'];\n",
       "    switch(cursor)\n",
       "    {\n",
       "    case 0:\n",
       "        cursor = 'pointer';\n",
       "        break;\n",
       "    case 1:\n",
       "        cursor = 'default';\n",
       "        break;\n",
       "    case 2:\n",
       "        cursor = 'crosshair';\n",
       "        break;\n",
       "    case 3:\n",
       "        cursor = 'move';\n",
       "        break;\n",
       "    }\n",
       "    fig.rubberband_canvas.style.cursor = cursor;\n",
       "}\n",
       "\n",
       "mpl.figure.prototype.handle_message = function(fig, msg) {\n",
       "    fig.message.textContent = msg['message'];\n",
       "}\n",
       "\n",
       "mpl.figure.prototype.handle_draw = function(fig, msg) {\n",
       "    // Request the server to send over a new figure.\n",
       "    fig.send_draw_message();\n",
       "}\n",
       "\n",
       "mpl.figure.prototype.handle_image_mode = function(fig, msg) {\n",
       "    fig.image_mode = msg['mode'];\n",
       "}\n",
       "\n",
       "mpl.figure.prototype.updated_canvas_event = function() {\n",
       "    // Called whenever the canvas gets updated.\n",
       "    this.send_message(\"ack\", {});\n",
       "}\n",
       "\n",
       "// A function to construct a web socket function for onmessage handling.\n",
       "// Called in the figure constructor.\n",
       "mpl.figure.prototype._make_on_message_function = function(fig) {\n",
       "    return function socket_on_message(evt) {\n",
       "        if (evt.data instanceof Blob) {\n",
       "            /* FIXME: We get \"Resource interpreted as Image but\n",
       "             * transferred with MIME type text/plain:\" errors on\n",
       "             * Chrome.  But how to set the MIME type?  It doesn't seem\n",
       "             * to be part of the websocket stream */\n",
       "            evt.data.type = \"image/png\";\n",
       "\n",
       "            /* Free the memory for the previous frames */\n",
       "            if (fig.imageObj.src) {\n",
       "                (window.URL || window.webkitURL).revokeObjectURL(\n",
       "                    fig.imageObj.src);\n",
       "            }\n",
       "\n",
       "            fig.imageObj.src = (window.URL || window.webkitURL).createObjectURL(\n",
       "                evt.data);\n",
       "            fig.updated_canvas_event();\n",
       "            fig.waiting = false;\n",
       "            return;\n",
       "        }\n",
       "        else if (typeof evt.data === 'string' && evt.data.slice(0, 21) == \"data:image/png;base64\") {\n",
       "            fig.imageObj.src = evt.data;\n",
       "            fig.updated_canvas_event();\n",
       "            fig.waiting = false;\n",
       "            return;\n",
       "        }\n",
       "\n",
       "        var msg = JSON.parse(evt.data);\n",
       "        var msg_type = msg['type'];\n",
       "\n",
       "        // Call the  \"handle_{type}\" callback, which takes\n",
       "        // the figure and JSON message as its only arguments.\n",
       "        try {\n",
       "            var callback = fig[\"handle_\" + msg_type];\n",
       "        } catch (e) {\n",
       "            console.log(\"No handler for the '\" + msg_type + \"' message type: \", msg);\n",
       "            return;\n",
       "        }\n",
       "\n",
       "        if (callback) {\n",
       "            try {\n",
       "                // console.log(\"Handling '\" + msg_type + \"' message: \", msg);\n",
       "                callback(fig, msg);\n",
       "            } catch (e) {\n",
       "                console.log(\"Exception inside the 'handler_\" + msg_type + \"' callback:\", e, e.stack, msg);\n",
       "            }\n",
       "        }\n",
       "    };\n",
       "}\n",
       "\n",
       "// from http://stackoverflow.com/questions/1114465/getting-mouse-location-in-canvas\n",
       "mpl.findpos = function(e) {\n",
       "    //this section is from http://www.quirksmode.org/js/events_properties.html\n",
       "    var targ;\n",
       "    if (!e)\n",
       "        e = window.event;\n",
       "    if (e.target)\n",
       "        targ = e.target;\n",
       "    else if (e.srcElement)\n",
       "        targ = e.srcElement;\n",
       "    if (targ.nodeType == 3) // defeat Safari bug\n",
       "        targ = targ.parentNode;\n",
       "\n",
       "    // jQuery normalizes the pageX and pageY\n",
       "    // pageX,Y are the mouse positions relative to the document\n",
       "    // offset() returns the position of the element relative to the document\n",
       "    var x = e.pageX - $(targ).offset().left;\n",
       "    var y = e.pageY - $(targ).offset().top;\n",
       "\n",
       "    return {\"x\": x, \"y\": y};\n",
       "};\n",
       "\n",
       "/*\n",
       " * return a copy of an object with only non-object keys\n",
       " * we need this to avoid circular references\n",
       " * http://stackoverflow.com/a/24161582/3208463\n",
       " */\n",
       "function simpleKeys (original) {\n",
       "  return Object.keys(original).reduce(function (obj, key) {\n",
       "    if (typeof original[key] !== 'object')\n",
       "        obj[key] = original[key]\n",
       "    return obj;\n",
       "  }, {});\n",
       "}\n",
       "\n",
       "mpl.figure.prototype.mouse_event = function(event, name) {\n",
       "    var canvas_pos = mpl.findpos(event)\n",
       "\n",
       "    if (name === 'button_press')\n",
       "    {\n",
       "        this.canvas.focus();\n",
       "        this.canvas_div.focus();\n",
       "    }\n",
       "\n",
       "    var x = canvas_pos.x * mpl.ratio;\n",
       "    var y = canvas_pos.y * mpl.ratio;\n",
       "\n",
       "    this.send_message(name, {x: x, y: y, button: event.button,\n",
       "                             step: event.step,\n",
       "                             guiEvent: simpleKeys(event)});\n",
       "\n",
       "    /* This prevents the web browser from automatically changing to\n",
       "     * the text insertion cursor when the button is pressed.  We want\n",
       "     * to control all of the cursor setting manually through the\n",
       "     * 'cursor' event from matplotlib */\n",
       "    event.preventDefault();\n",
       "    return false;\n",
       "}\n",
       "\n",
       "mpl.figure.prototype._key_event_extra = function(event, name) {\n",
       "    // Handle any extra behaviour associated with a key event\n",
       "}\n",
       "\n",
       "mpl.figure.prototype.key_event = function(event, name) {\n",
       "\n",
       "    // Prevent repeat events\n",
       "    if (name == 'key_press')\n",
       "    {\n",
       "        if (event.which === this._key)\n",
       "            return;\n",
       "        else\n",
       "            this._key = event.which;\n",
       "    }\n",
       "    if (name == 'key_release')\n",
       "        this._key = null;\n",
       "\n",
       "    var value = '';\n",
       "    if (event.ctrlKey && event.which != 17)\n",
       "        value += \"ctrl+\";\n",
       "    if (event.altKey && event.which != 18)\n",
       "        value += \"alt+\";\n",
       "    if (event.shiftKey && event.which != 16)\n",
       "        value += \"shift+\";\n",
       "\n",
       "    value += 'k';\n",
       "    value += event.which.toString();\n",
       "\n",
       "    this._key_event_extra(event, name);\n",
       "\n",
       "    this.send_message(name, {key: value,\n",
       "                             guiEvent: simpleKeys(event)});\n",
       "    return false;\n",
       "}\n",
       "\n",
       "mpl.figure.prototype.toolbar_button_onclick = function(name) {\n",
       "    if (name == 'download') {\n",
       "        this.handle_save(this, null);\n",
       "    } else {\n",
       "        this.send_message(\"toolbar_button\", {name: name});\n",
       "    }\n",
       "};\n",
       "\n",
       "mpl.figure.prototype.toolbar_button_onmouseover = function(tooltip) {\n",
       "    this.message.textContent = tooltip;\n",
       "};\n",
       "mpl.toolbar_items = [[\"Home\", \"Reset original view\", \"fa fa-home icon-home\", \"home\"], [\"Back\", \"Back to  previous view\", \"fa fa-arrow-left icon-arrow-left\", \"back\"], [\"Forward\", \"Forward to next view\", \"fa fa-arrow-right icon-arrow-right\", \"forward\"], [\"\", \"\", \"\", \"\"], [\"Pan\", \"Pan axes with left mouse, zoom with right\", \"fa fa-arrows icon-move\", \"pan\"], [\"Zoom\", \"Zoom to rectangle\", \"fa fa-square-o icon-check-empty\", \"zoom\"], [\"\", \"\", \"\", \"\"], [\"Download\", \"Download plot\", \"fa fa-floppy-o icon-save\", \"download\"]];\n",
       "\n",
       "mpl.extensions = [\"eps\", \"jpeg\", \"pdf\", \"png\", \"ps\", \"raw\", \"svg\", \"tif\"];\n",
       "\n",
       "mpl.default_extension = \"png\";var comm_websocket_adapter = function(comm) {\n",
       "    // Create a \"websocket\"-like object which calls the given IPython comm\n",
       "    // object with the appropriate methods. Currently this is a non binary\n",
       "    // socket, so there is still some room for performance tuning.\n",
       "    var ws = {};\n",
       "\n",
       "    ws.close = function() {\n",
       "        comm.close()\n",
       "    };\n",
       "    ws.send = function(m) {\n",
       "        //console.log('sending', m);\n",
       "        comm.send(m);\n",
       "    };\n",
       "    // Register the callback with on_msg.\n",
       "    comm.on_msg(function(msg) {\n",
       "        //console.log('receiving', msg['content']['data'], msg);\n",
       "        // Pass the mpl event to the overriden (by mpl) onmessage function.\n",
       "        ws.onmessage(msg['content']['data'])\n",
       "    });\n",
       "    return ws;\n",
       "}\n",
       "\n",
       "mpl.mpl_figure_comm = function(comm, msg) {\n",
       "    // This is the function which gets called when the mpl process\n",
       "    // starts-up an IPython Comm through the \"matplotlib\" channel.\n",
       "\n",
       "    var id = msg.content.data.id;\n",
       "    // Get hold of the div created by the display call when the Comm\n",
       "    // socket was opened in Python.\n",
       "    var element = $(\"#\" + id);\n",
       "    var ws_proxy = comm_websocket_adapter(comm)\n",
       "\n",
       "    function ondownload(figure, format) {\n",
       "        window.open(figure.imageObj.src);\n",
       "    }\n",
       "\n",
       "    var fig = new mpl.figure(id, ws_proxy,\n",
       "                           ondownload,\n",
       "                           element.get(0));\n",
       "\n",
       "    // Call onopen now - mpl needs it, as it is assuming we've passed it a real\n",
       "    // web socket which is closed, not our websocket->open comm proxy.\n",
       "    ws_proxy.onopen();\n",
       "\n",
       "    fig.parent_element = element.get(0);\n",
       "    fig.cell_info = mpl.find_output_cell(\"<div id='\" + id + \"'></div>\");\n",
       "    if (!fig.cell_info) {\n",
       "        console.error(\"Failed to find cell for figure\", id, fig);\n",
       "        return;\n",
       "    }\n",
       "\n",
       "    var output_index = fig.cell_info[2]\n",
       "    var cell = fig.cell_info[0];\n",
       "\n",
       "};\n",
       "\n",
       "mpl.figure.prototype.handle_close = function(fig, msg) {\n",
       "    var width = fig.canvas.width/mpl.ratio\n",
       "    fig.root.unbind('remove')\n",
       "\n",
       "    // Update the output cell to use the data from the current canvas.\n",
       "    fig.push_to_output();\n",
       "    var dataURL = fig.canvas.toDataURL();\n",
       "    // Re-enable the keyboard manager in IPython - without this line, in FF,\n",
       "    // the notebook keyboard shortcuts fail.\n",
       "    IPython.keyboard_manager.enable()\n",
       "    $(fig.parent_element).html('<img src=\"' + dataURL + '\" width=\"' + width + '\">');\n",
       "    fig.close_ws(fig, msg);\n",
       "}\n",
       "\n",
       "mpl.figure.prototype.close_ws = function(fig, msg){\n",
       "    fig.send_message('closing', msg);\n",
       "    // fig.ws.close()\n",
       "}\n",
       "\n",
       "mpl.figure.prototype.push_to_output = function(remove_interactive) {\n",
       "    // Turn the data on the canvas into data in the output cell.\n",
       "    var width = this.canvas.width/mpl.ratio\n",
       "    var dataURL = this.canvas.toDataURL();\n",
       "    this.cell_info[1]['text/html'] = '<img src=\"' + dataURL + '\" width=\"' + width + '\">';\n",
       "}\n",
       "\n",
       "mpl.figure.prototype.updated_canvas_event = function() {\n",
       "    // Tell IPython that the notebook contents must change.\n",
       "    IPython.notebook.set_dirty(true);\n",
       "    this.send_message(\"ack\", {});\n",
       "    var fig = this;\n",
       "    // Wait a second, then push the new image to the DOM so\n",
       "    // that it is saved nicely (might be nice to debounce this).\n",
       "    setTimeout(function () { fig.push_to_output() }, 1000);\n",
       "}\n",
       "\n",
       "mpl.figure.prototype._init_toolbar = function() {\n",
       "    var fig = this;\n",
       "\n",
       "    var nav_element = $('<div/>')\n",
       "    nav_element.attr('style', 'width: 100%');\n",
       "    this.root.append(nav_element);\n",
       "\n",
       "    // Define a callback function for later on.\n",
       "    function toolbar_event(event) {\n",
       "        return fig.toolbar_button_onclick(event['data']);\n",
       "    }\n",
       "    function toolbar_mouse_event(event) {\n",
       "        return fig.toolbar_button_onmouseover(event['data']);\n",
       "    }\n",
       "\n",
       "    for(var toolbar_ind in mpl.toolbar_items){\n",
       "        var name = mpl.toolbar_items[toolbar_ind][0];\n",
       "        var tooltip = mpl.toolbar_items[toolbar_ind][1];\n",
       "        var image = mpl.toolbar_items[toolbar_ind][2];\n",
       "        var method_name = mpl.toolbar_items[toolbar_ind][3];\n",
       "\n",
       "        if (!name) { continue; };\n",
       "\n",
       "        var button = $('<button class=\"btn btn-default\" href=\"#\" title=\"' + name + '\"><i class=\"fa ' + image + ' fa-lg\"></i></button>');\n",
       "        button.click(method_name, toolbar_event);\n",
       "        button.mouseover(tooltip, toolbar_mouse_event);\n",
       "        nav_element.append(button);\n",
       "    }\n",
       "\n",
       "    // Add the status bar.\n",
       "    var status_bar = $('<span class=\"mpl-message\" style=\"text-align:right; float: right;\"/>');\n",
       "    nav_element.append(status_bar);\n",
       "    this.message = status_bar[0];\n",
       "\n",
       "    // Add the close button to the window.\n",
       "    var buttongrp = $('<div class=\"btn-group inline pull-right\"></div>');\n",
       "    var button = $('<button class=\"btn btn-mini btn-primary\" href=\"#\" title=\"Stop Interaction\"><i class=\"fa fa-power-off icon-remove icon-large\"></i></button>');\n",
       "    button.click(function (evt) { fig.handle_close(fig, {}); } );\n",
       "    button.mouseover('Stop Interaction', toolbar_mouse_event);\n",
       "    buttongrp.append(button);\n",
       "    var titlebar = this.root.find($('.ui-dialog-titlebar'));\n",
       "    titlebar.prepend(buttongrp);\n",
       "}\n",
       "\n",
       "mpl.figure.prototype._root_extra_style = function(el){\n",
       "    var fig = this\n",
       "    el.on(\"remove\", function(){\n",
       "\tfig.close_ws(fig, {});\n",
       "    });\n",
       "}\n",
       "\n",
       "mpl.figure.prototype._canvas_extra_style = function(el){\n",
       "    // this is important to make the div 'focusable\n",
       "    el.attr('tabindex', 0)\n",
       "    // reach out to IPython and tell the keyboard manager to turn it's self\n",
       "    // off when our div gets focus\n",
       "\n",
       "    // location in version 3\n",
       "    if (IPython.notebook.keyboard_manager) {\n",
       "        IPython.notebook.keyboard_manager.register_events(el);\n",
       "    }\n",
       "    else {\n",
       "        // location in version 2\n",
       "        IPython.keyboard_manager.register_events(el);\n",
       "    }\n",
       "\n",
       "}\n",
       "\n",
       "mpl.figure.prototype._key_event_extra = function(event, name) {\n",
       "    var manager = IPython.notebook.keyboard_manager;\n",
       "    if (!manager)\n",
       "        manager = IPython.keyboard_manager;\n",
       "\n",
       "    // Check for shift+enter\n",
       "    if (event.shiftKey && event.which == 13) {\n",
       "        this.canvas_div.blur();\n",
       "        // select the cell after this one\n",
       "        var index = IPython.notebook.find_cell_index(this.cell_info[0]);\n",
       "        IPython.notebook.select(index + 1);\n",
       "    }\n",
       "}\n",
       "\n",
       "mpl.figure.prototype.handle_save = function(fig, msg) {\n",
       "    fig.ondownload(fig, null);\n",
       "}\n",
       "\n",
       "\n",
       "mpl.find_output_cell = function(html_output) {\n",
       "    // Return the cell and output element which can be found *uniquely* in the notebook.\n",
       "    // Note - this is a bit hacky, but it is done because the \"notebook_saving.Notebook\"\n",
       "    // IPython event is triggered only after the cells have been serialised, which for\n",
       "    // our purposes (turning an active figure into a static one), is too late.\n",
       "    var cells = IPython.notebook.get_cells();\n",
       "    var ncells = cells.length;\n",
       "    for (var i=0; i<ncells; i++) {\n",
       "        var cell = cells[i];\n",
       "        if (cell.cell_type === 'code'){\n",
       "            for (var j=0; j<cell.output_area.outputs.length; j++) {\n",
       "                var data = cell.output_area.outputs[j];\n",
       "                if (data.data) {\n",
       "                    // IPython >= 3 moved mimebundle to data attribute of output\n",
       "                    data = data.data;\n",
       "                }\n",
       "                if (data['text/html'] == html_output) {\n",
       "                    return [cell, data, j];\n",
       "                }\n",
       "            }\n",
       "        }\n",
       "    }\n",
       "}\n",
       "\n",
       "// Register the function which deals with the matplotlib target/channel.\n",
       "// The kernel may be null if the page has been refreshed.\n",
       "if (IPython.notebook.kernel != null) {\n",
       "    IPython.notebook.kernel.comm_manager.register_target('matplotlib', mpl.mpl_figure_comm);\n",
       "}\n"
      ],
      "text/plain": [
       "<IPython.core.display.Javascript object>"
      ]
     },
     "metadata": {},
     "output_type": "display_data"
    },
    {
     "data": {
      "text/html": [
       "<img src=\"data:image/png;base64,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\" width=\"640\">"
      ],
      "text/plain": [
       "<IPython.core.display.HTML object>"
      ]
     },
     "metadata": {},
     "output_type": "display_data"
    }
   ],
   "source": [
    "plt.semilogx(mu, avg_dissipation_arr, 'b-.', label=r\"$L=10$\")\n",
    "#plt.semilogx(mu, theor_exp(10)*np.ones(muTot)/10.0, 'g-', label=r\"$Theor.$\")\n",
    "plt.semilogx(mu, avg_dissipation_arr_L9, 'r--', label=r\"$L=9$\")\n",
    "plt.semilogx(mu, avg_dissipation_arr_L8, 'k:', label=r\"$L=8$\")\n",
    "plt.legend()\n",
    "plt.xlabel(r\"$\\mu$\", fontsize=13)\n",
    "plt.ylabel(r\"$\\delta^2_E/2^L $\", fontsize=14)\n",
    "plt.tight_layout()\n",
    "plt.savefig(\"avg_dissipation_rate_2.eps\")"
   ]
  },
  {
   "cell_type": "code",
   "execution_count": 22,
   "metadata": {
    "collapsed": false
   },
   "outputs": [],
   "source": [
    "L=10\n",
    "\n",
    "def theor_exp(L):\n",
    "    hz=(np.sqrt(5)+1)/4 #parameters used by Kim and Huse\n",
    "    hx=(np.sqrt(5)+5)/8\n",
    "    return 4* (hz**2*L+ 2*(L-1))"
   ]
  },
  {
   "cell_type": "code",
   "execution_count": 19,
   "metadata": {
    "collapsed": false
   },
   "outputs": [
    {
     "name": "stdout",
     "output_type": "stream",
     "text": [
      "104.725424859\n"
     ]
    }
   ],
   "source": [
    "print theo"
   ]
  },
  {
   "cell_type": "code",
   "execution_count": null,
   "metadata": {
    "collapsed": true
   },
   "outputs": [],
   "source": []
  }
 ],
 "metadata": {
  "kernelspec": {
   "display_name": "Python 2",
   "language": "python",
   "name": "python2"
  },
  "language_info": {
   "codemirror_mode": {
    "name": "ipython",
    "version": 2
   },
   "file_extension": ".py",
   "mimetype": "text/x-python",
   "name": "python",
   "nbconvert_exporter": "python",
   "pygments_lexer": "ipython2",
   "version": "2.7.13"
  }
 },
 "nbformat": 4,
 "nbformat_minor": 2
}

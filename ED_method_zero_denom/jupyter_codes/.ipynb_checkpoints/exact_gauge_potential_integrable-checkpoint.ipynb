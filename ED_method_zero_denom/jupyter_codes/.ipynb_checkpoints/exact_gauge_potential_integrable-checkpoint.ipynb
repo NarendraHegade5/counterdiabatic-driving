{
 "cells": [
  {
   "cell_type": "code",
   "execution_count": 1,
   "metadata": {
    "collapsed": false
   },
   "outputs": [],
   "source": [
    "from numpy import sin,cos,pi\n",
    "import numpy as np\n",
    "import matplotlib.pyplot as plt\n",
    "%matplotlib inline"
   ]
  },
  {
   "cell_type": "code",
   "execution_count": 3,
   "metadata": {
    "collapsed": false
   },
   "outputs": [],
   "source": [
    "def alpha_l(l,lambda_var,L):\n",
    "    k=pi*np.arange(0,L)/L\n",
    "    sum_var=sin(k)*sin(l*k)/((cos(k)-lambda_var)**2+sin(k)**2)\n",
    "    sum_var=-1.0* sum_var/4.0/L\n",
    "    sum_var=np.sum(sum_var)\n",
    "    return sum_var"
   ]
  },
  {
   "cell_type": "code",
   "execution_count": 8,
   "metadata": {
    "collapsed": true
   },
   "outputs": [],
   "source": [
    "def alpha_l_theor_big_lambda(lambda_var,l): #lambda_var is greater than 1\n",
    "    x= lambda_var**(-l-1)\n",
    "    x=-x/8.0\n",
    "    return x\n",
    "\n",
    "def alpha_l_theor_small_lambda(lambda_var,l): #lambda_var is smaller than 1\n",
    "    x= lambda_var**(l-1)\n",
    "    x=-x/8.0\n",
    "    return x"
   ]
  },
  {
   "cell_type": "code",
   "execution_count": 101,
   "metadata": {
    "collapsed": false
   },
   "outputs": [],
   "source": [
    "L=14\n",
    "lambda_var=2.0\n",
    "l_arr=np.arange(1,L)# string of length L is ignored\n",
    "alpha_arr=np.zeros(len(l_arr))\n",
    "for i in range(len(l_arr)):\n",
    "    alpha_arr[i]=alpha_l(l_arr[i],lambda_var,L)"
   ]
  },
  {
   "cell_type": "code",
   "execution_count": 65,
   "metadata": {
    "collapsed": false
   },
   "outputs": [],
   "source": [
    "def error(x1,x2,L):\n",
    "    return np.abs(np.sum(x1**2-x2**2)/(L-1))"
   ]
  },
  {
   "cell_type": "code",
   "execution_count": 148,
   "metadata": {
    "collapsed": false
   },
   "outputs": [
    {
     "name": "stdout",
     "output_type": "stream",
     "text": [
      "1 0.0\n",
      "2 0.00017578125\n",
      "3 6.44029313114e-05\n",
      "4 1.92883765409e-05\n",
      "5 5.35425621212e-06\n",
      "6 1.43137844738e-06\n",
      "7 3.74712515197e-07\n",
      "8 9.68609963411e-08\n",
      "9 2.48354855048e-08\n",
      "10 6.33300712613e-09\n",
      "11 1.60864893792e-09\n",
      "12 4.07453679997e-10\n",
      "13 1.02982788056e-10\n",
      "14 2.59855631217e-11\n",
      "15 6.54836187414e-12\n",
      "16 1.6484591513e-12\n",
      "17 4.14622570807e-13\n",
      "18 1.04212911928e-13\n",
      "19 2.6177879922e-14\n",
      "20 6.57252516287e-15\n"
     ]
    }
   ],
   "source": [
    "lambda_var=2.0\n",
    "L=1\n",
    "L_arr=np.zeros(20)\n",
    "err_arr=np.zeros(20)\n",
    "for j in range(20):\n",
    "    L_arr[j]=L\n",
    "    l_arr=np.arange(1,L)\n",
    "    alpha_arr=np.zeros(len(l_arr))\n",
    "    for i in range(len(l_arr)):\n",
    "        alpha_arr[i]=alpha_l(l_arr[i],lambda_var,L)\n",
    "    x1=alpha_arr\n",
    "    x2=alpha_l_theor_big_lambda(lambda_var,l_arr)\n",
    "    L=L+1\n",
    "    err_arr[j]=error(x1,x2,L)\n",
    "    print L_arr[j].astype(int),err_arr[j]"
   ]
  },
  {
   "cell_type": "code",
   "execution_count": 149,
   "metadata": {
    "collapsed": false
   },
   "outputs": [
    {
     "data": {
      "image/png": "[encoded data removed]",
      "text/plain": [
       "<matplotlib.figure.Figure at 0x7f2d1831e710>"
      ]
     },
     "metadata": {},
     "output_type": "display_data"
    }
   ],
   "source": [
    "plt.semilogy(L_arr.astype(int), err_arr, 'b.-')\n",
    "plt.xlabel(\"system size L\")\n",
    "#plt.title(\"L=14\")\n",
    "plt.ylabel(r\"$Error$\", fontsize=13)\n",
    "#plt.legend(loc='best')\n",
    "plt.savefig(\"error_alpha.eps\")"
   ]
  },
  {
   "cell_type": "code",
   "execution_count": 115,
   "metadata": {
    "collapsed": false
   },
   "outputs": [
    {
     "data": {
      "image/png": "[encoded data removed]",
      "text/plain": [
       "<matplotlib.figure.Figure at 0x7f2d1833aed0>"
      ]
     },
     "metadata": {},
     "output_type": "display_data"
    }
   ],
   "source": [
    "plt.semilogy(l_arr, alpha_arr**2, 'r.-', label='numerical')\n",
    "plt.semilogy(l_arr, alpha_l_theor_big_lambda(lambda_var,l_arr)**2, 'b.-', label=r'$\\lambda^{-2l-2}$')\n",
    "plt.legend(loc='best')\n",
    "plt.xlabel(\"string length l\")\n",
    "plt.title(\"L=14\")\n",
    "plt.ylabel(r\"$\\alpha_l^2$\", fontsize=13)\n",
    "plt.savefig(\"alpha_num_theoret.eps\")"
   ]
  },
  {
   "cell_type": "code",
   "execution_count": 100,
   "metadata": {
    "collapsed": false
   },
   "outputs": [
    {
     "name": "stdout",
     "output_type": "stream",
     "text": [
      "2.54658514058e-11\n",
      "2.81943342303e-11\n"
     ]
    }
   ],
   "source": [
    "print alpha_l_theor_big_lambda(lambda_var,l_arr)[-1]**2- alpha_arr[-1]**2\n",
    "print alpha_l_theor_big_lambda(lambda_var,l_arr)[-2]**2- alpha_arr[-2]**2"
   ]
  },
  {
   "cell_type": "code",
   "execution_count": 95,
   "metadata": {
    "collapsed": false
   },
   "outputs": [
    {
     "data": {
      "text/plain": [
       "[<matplotlib.lines.Line2D at 0x7f2d19472a50>]"
      ]
     },
     "execution_count": 95,
     "metadata": {},
     "output_type": "execute_result"
    },
    {
     "data": {
      "image/png": "[encoded data removed]",
      "text/plain": [
       "<matplotlib.figure.Figure at 0x7f2d1a1a3910>"
      ]
     },
     "metadata": {},
     "output_type": "display_data"
    }
   ],
   "source": [
    "plt.plot(l_arr, np.abs(alpha_arr**2-alpha_l_theor_big_lambda(lambda_var,l_arr)**2), 'r.-')\n",
    "#plt.semilogy(l_arr, , 'b.-')"
   ]
  },
  {
   "cell_type": "markdown",
   "metadata": {},
   "source": [
    "### Norm of gauge potential: comparing it with ED method"
   ]
  },
  {
   "cell_type": "code",
   "execution_count": 2,
   "metadata": {
    "collapsed": true
   },
   "outputs": [],
   "source": [
    "x1,y1,w1,z1=np.loadtxt(\"v2_mu1e-10_int_L_scaling.dat\",unpack=True,skiprows=2 )"
   ]
  },
  {
   "cell_type": "code",
   "execution_count": 7,
   "metadata": {
    "collapsed": false
   },
   "outputs": [],
   "source": [
    "def alpha_l(l,lambda_var,L):\n",
    "    k=pi*np.arange(0,L)/L\n",
    "    sum_var=sin(k)*sin(l*k)/((cos(k)-lambda_var)**2+sin(k)**2)\n",
    "    sum_var=-1.0* sum_var/4.0/L\n",
    "    sum_var=np.sum(sum_var)\n",
    "    return sum_var\n",
    "\n",
    "def norm_gauge(L, lambda_var):\n",
    "    l_arr=np.arange(1,L)# string of length L is ignored\n",
    "    alpha_arr=np.zeros(len(l_arr))\n",
    "    for i in range(len(l_arr)):\n",
    "        alpha_arr[i]=alpha_l(l_arr[i],lambda_var,L)\n",
    "    return 2*np.sum((L*np.ones(L-1)-l_arr)*alpha_arr**2)  \n",
    "\n",
    "def alpha_l_theor_big_lambda(lambda_var,l): #lambda_var is greater than 1\n",
    "    x= lambda_var**(-l-1)\n",
    "    x=-x/8.0\n",
    "    return x\n",
    "\n",
    "def norm_gauge_GP(L, lambda_var):\n",
    "    l_arr=np.arange(1,L)# string of length L is ignored\n",
    "    alpha_arr=alpha_l_theor_big_lambda(lambda_var,l_arr)\n",
    "    return 2*np.sum((L*np.ones(L-1)-l_arr)*alpha_arr**2)"
   ]
  },
  {
   "cell_type": "code",
   "execution_count": 8,
   "metadata": {
    "collapsed": false
   },
   "outputs": [
    {
     "name": "stdout",
     "output_type": "stream",
     "text": [
      "2.0 4.62278106509e-05 5e-05\n",
      "3.0 0.00010153645225 0.000102\n",
      "4.0 0.000154042527551 0.00015408\n",
      "5.0 0.000206160687777 0.0002061632\n",
      "6.0 0.000258246376738 0.000258246528\n",
      "7.0 0.000310329852629 0.00031032986112\n",
      "8.0 0.000362413193991 0.000362413194445\n",
      "9.0 0.000414496527754 0.000414496527778\n",
      "10.0 0.00046657986111 0.000466579861111\n",
      "11.0 0.000518663194444 0.000518663194444\n",
      "12.0 0.000570746527778 0.000570746527778\n",
      "13.0 0.000622829861111 0.000622829861111\n",
      "14.0 0.000674913194444 0.000674913194444\n"
     ]
    }
   ],
   "source": [
    "L=2\n",
    "L_tot=13\n",
    "L_arr=np.zeros(L_tot)\n",
    "norm_arr=np.zeros(L_tot)\n",
    "norm_GP_arr=np.zeros(L_tot)\n",
    "lambda_var=5.0\n",
    "for i in range(L_tot):\n",
    "    L_arr[i]=L\n",
    "    norm_arr[i]=norm_gauge(L, lambda_var)\n",
    "    norm_GP_arr[i]=norm_gauge_GP(L, lambda_var)\n",
    "    print L_arr[i], norm_arr[i],norm_GP_arr[i]\n",
    "    L=L+1"
   ]
  },
  {
   "cell_type": "code",
   "execution_count": 77,
   "metadata": {
    "collapsed": false
   },
   "outputs": [
    {
     "data": {
      "image/png": "[encoded data removed]",
      "text/plain": [
       "<matplotlib.figure.Figure at 0x7f822cbd0b50>"
      ]
     },
     "metadata": {},
     "output_type": "display_data"
    }
   ],
   "source": [
    "plt.semilogy(L_arr, norm_arr, 'r.-', label='analy_sum')\n",
    "plt.semilogy(L_arr, norm_GP_arr, 'b.-', label='analy_integral')\n",
    "plt.semilogy(x1,y1, 'k.-', label='numerical')\n",
    "plt.grid()\n",
    "#plt.title(r\"$\\mu=10^{-10}$\")\n",
    "plt.ylabel(r\"$||A||^2/2^L$\", fontsize=13)\n",
    "plt.xlabel(r\"$L$\", fontsize=13)\n",
    "plt.legend(loc='best')\n",
    "plt.savefig(\"OBC_int_comparing_num_anal_norm_L_scaling.eps\")"
   ]
  },
  {
   "cell_type": "code",
   "execution_count": 69,
   "metadata": {
    "collapsed": false
   },
   "outputs": [],
   "source": [
    "x1,y1,w1,z1=np.loadtxt(\"v2_mu1e-10_int_L_scaling.dat\",unpack=True,skiprows=2 )\n",
    "x3,y3,w3,z3=np.loadtxt(\"v2_mu1e-30_int_L_scaling.dat\",unpack=True,skiprows=2 )"
   ]
  },
  {
   "cell_type": "code",
   "execution_count": 16,
   "metadata": {
    "collapsed": false
   },
   "outputs": [
    {
     "data": {
      "text/plain": [
       "[<matplotlib.lines.Line2D at 0x7f822e105e10>]"
      ]
     },
     "execution_count": 16,
     "metadata": {},
     "output_type": "execute_result"
    },
    {
     "data": {
      "image/png": "[encoded data removed]",
      "text/plain": [
       "<matplotlib.figure.Figure at 0x7f822e185650>"
      ]
     },
     "metadata": {},
     "output_type": "display_data"
    }
   ],
   "source": [
    "plt.semilogy(L_arr, y1-norm_arr, 'r.-', label='analy')"
   ]
  },
  {
   "cell_type": "code",
   "execution_count": 49,
   "metadata": {
    "collapsed": false
   },
   "outputs": [
    {
     "data": {
      "text/plain": [
       "[<matplotlib.lines.Line2D at 0x7f85efbda6d0>]"
      ]
     },
     "execution_count": 49,
     "metadata": {},
     "output_type": "execute_result"
    },
    {
     "data": {
      "image/png": "[encoded data removed]",
      "text/plain": [
       "<matplotlib.figure.Figure at 0x7f85f81b1f50>"
      ]
     },
     "metadata": {},
     "output_type": "display_data"
    }
   ],
   "source": [
    "plt.semilogy(x1,y1, 'b.-')\n",
    "plt.semilogy(x3,y3, 'r.-')"
   ]
  },
  {
   "cell_type": "code",
   "execution_count": 51,
   "metadata": {
    "collapsed": false
   },
   "outputs": [
    {
     "name": "stdout",
     "output_type": "stream",
     "text": [
      "[ 0.  0.  0.  0.  0.  0.  0.  0.  0.  0.  0.  0.  0.]\n"
     ]
    }
   ],
   "source": [
    "print  np.abs(y3-y1)"
   ]
  },
  {
   "cell_type": "markdown",
   "metadata": {
    "collapsed": false
   },
   "source": [
    "### integrable model: periodic boundary condition"
   ]
  },
  {
   "cell_type": "code",
   "execution_count": 2,
   "metadata": {
    "collapsed": false
   },
   "outputs": [],
   "source": [
    "x2,y2,w2,z2=np.loadtxt(\"PBC_v2_mu1e-10_int_L_scaling.dat\",unpack=True,skiprows=2 )"
   ]
  },
  {
   "cell_type": "code",
   "execution_count": 3,
   "metadata": {
    "collapsed": false
   },
   "outputs": [],
   "source": [
    "def alpha_l(l,lambda_var,L):\n",
    "    k=pi*np.arange(0,L)/L\n",
    "    sum_var=sin(k)*sin(l*k)/((cos(k)-lambda_var)**2+sin(k)**2)\n",
    "    sum_var=-1.0* sum_var/4.0/L\n",
    "    sum_var=np.sum(sum_var)\n",
    "    return sum_var\n",
    "\n",
    "def norm_gauge_pbc(L, lambda_var):\n",
    "    l_arr=np.arange(1,L+1)# string of length L is ignored\n",
    "    alpha_arr=np.zeros(len(l_arr))\n",
    "    for i in range(len(l_arr)): #L-1 times it runs\n",
    "        alpha_arr[i]=alpha_l(l_arr[i],lambda_var,L)\n",
    "    return 2*L*np.sum(alpha_arr**2)\n",
    "\n",
    "def norm_gauge_GP_PBC(L, lambda_var):\n",
    "    l_arr=np.arange(1,L+1)# string of length L is ignored\n",
    "    alpha_arr=alpha_l_theor_big_lambda(lambda_var,l_arr)\n",
    "    return 2*L*np.sum(alpha_arr**2)"
   ]
  },
  {
   "cell_type": "code",
   "execution_count": 4,
   "metadata": {
    "collapsed": false
   },
   "outputs": [
    {
     "name": "stdout",
     "output_type": "stream",
     "text": [
      "2.0 -5.8877249959e-19\n",
      "3.0 1.4933855128e-19\n",
      "4.0 -1.8811410042e-19\n",
      "5.0 1.29169779728e-19\n",
      "6.0 -1.12897152112e-19\n",
      "7.0 9.53801218829e-20\n",
      "8.0 -8.3722244809e-20\n",
      "9.0 7.43192810631e-20\n",
      "10.0 -6.68844045649e-20\n",
      "11.0 6.07872109414e-20\n",
      "12.0 -5.92921613295e-19\n",
      "13.0 -7.90023949347e-19\n",
      "14.0 -8.22485842183e-19\n"
     ]
    }
   ],
   "source": [
    "L=2\n",
    "L_tot=13\n",
    "L_arr=np.zeros(L_tot)\n",
    "norm_arr_pbc=np.zeros(L_tot)\n",
    "norm_GP_PBC_arr=np.zeros(L_tot)\n",
    "lambda_var=5.0\n",
    "for i in range(L_tot):\n",
    "    L_arr[i]=L\n",
    "    print L_arr[i], alpha_l(L,lambda_var,L)\n",
    "    L=L+1"
   ]
  },
  {
   "cell_type": "code",
   "execution_count": 9,
   "metadata": {
    "collapsed": false
   },
   "outputs": [
    {
     "name": "stdout",
     "output_type": "stream",
     "text": [
      "2.0 9.24556213018e-05 0.000104\n",
      "3.0 0.000155069832303 0.00015624\n",
      "4.0 0.000208244799511 0.0002083328\n",
      "5.0 0.000260410959999 0.00026041664\n",
      "6.0 0.00031249966464 0.00031249999872\n",
      "7.0 0.000364583314816 0.000364583333274\n",
      "8.0 0.000416666665689 0.000416666666664\n",
      "9.0 0.00046874999995 0.00046875\n",
      "10.0 0.000520833333331 0.000520833333333\n",
      "11.0 0.000572916666667 0.000572916666667\n",
      "12.0 0.000625 0.000625\n",
      "13.0 0.000677083333333 0.000677083333333\n",
      "14.0 0.000729166666667 0.000729166666667\n"
     ]
    }
   ],
   "source": [
    "L=2\n",
    "L_tot=13\n",
    "L_arr=np.zeros(L_tot)\n",
    "norm_arr_pbc=np.zeros(L_tot)\n",
    "norm_GP_PBC_arr=np.zeros(L_tot)\n",
    "lambda_var=5.0\n",
    "for i in range(L_tot):\n",
    "    L_arr[i]=L\n",
    "    norm_arr_pbc[i]=norm_gauge_pbc(L, lambda_var)\n",
    "    norm_GP_PBC_arr[i]=norm_gauge_GP_PBC(L, lambda_var)\n",
    "    print L_arr[i], norm_arr_pbc[i],norm_GP_PBC_arr[i]\n",
    "    L=L+1"
   ]
  },
  {
   "cell_type": "code",
   "execution_count": 17,
   "metadata": {
    "collapsed": false
   },
   "outputs": [
    {
     "name": "stdout",
     "output_type": "stream",
     "text": [
      "[  3.   4.   5.   6.   7.   8.   9.  10.] [  5.16899441e-05   5.20611999e-05   5.20821920e-05   5.20832774e-05\n",
      "   5.20833307e-05   5.20833332e-05   5.20833333e-05   5.20833333e-05]\n"
     ]
    }
   ],
   "source": [
    "print x2[1:],y2[1:]/x2[1:]"
   ]
  },
  {
   "cell_type": "code",
   "execution_count": 19,
   "metadata": {
    "collapsed": false
   },
   "outputs": [
    {
     "data": {
      "text/plain": [
       "<matplotlib.legend.Legend at 0x7f9dbac02710>"
      ]
     },
     "execution_count": 19,
     "metadata": {},
     "output_type": "execute_result"
    },
    {
     "data": {
      "image/png": "[encoded data removed]",
      "text/plain": [
       "<matplotlib.figure.Figure at 0x7f9dbac0ccd0>"
      ]
     },
     "metadata": {},
     "output_type": "display_data"
    }
   ],
   "source": [
    "#plt.semilogy(L_arr[0:9], norm_arr_pbc[0:9], 'r.-', label='analy_sum')\n",
    "#plt.semilogy(L_arr[0:9],norm_GP_PBC_arr[0:9], 'b+-', label='analy_int')\n",
    "plt.plot(x2[0:],y2[0:]/x2[0:], 'k.-', label='numerical')\n",
    "#plt.grid()\n",
    "plt.title(r\"PBC\")\n",
    "plt.ylabel(r\"$||A||^2/2^L$\", fontsize=13)\n",
    "plt.xlabel(r\"$L$\", fontsize=13)\n",
    "plt.legend(loc='best')\n",
    "#plt.savefig(\"PBC_int_comparing_num_anal_norm_L_scaling.eps\")"
   ]
  },
  {
   "cell_type": "code",
   "execution_count": 16,
   "metadata": {
    "collapsed": false
   },
   "outputs": [
    {
     "data": {
      "text/plain": [
       "[<matplotlib.lines.Line2D at 0x7fce952e62d0>]"
      ]
     },
     "execution_count": 16,
     "metadata": {},
     "output_type": "execute_result"
    },
    {
     "data": {
      "image/png": "[encoded data removed]",
      "text/plain": [
       "<matplotlib.figure.Figure at 0x7fce97a2db10>"
      ]
     },
     "metadata": {},
     "output_type": "display_data"
    }
   ],
   "source": [
    "plt.semilogy(L_arr[0:9], np.abs(y2[0:]-norm_arr_pbc[0:9]), 'r.-')"
   ]
  },
  {
   "cell_type": "code",
   "execution_count": 64,
   "metadata": {
    "collapsed": false
   },
   "outputs": [
    {
     "name": "stdout",
     "output_type": "stream",
     "text": [
      "[[1, 0, 1], [1, 1, 0]]\n"
     ]
    }
   ],
   "source": [
    "L=2\n",
    "J=1\n",
    "print [[J,i,(i+1)%L] for i in range(L)]"
   ]
  },
  {
   "cell_type": "code",
   "execution_count": 46,
   "metadata": {
    "collapsed": false
   },
   "outputs": [
    {
     "name": "stdout",
     "output_type": "stream",
     "text": [
      "0.000184911242604\n",
      "0.000184911242604\n"
     ]
    }
   ],
   "source": [
    "alpha2= 16*(1+25.0)\n",
    "norm=2*64.0/alpha2**2\n",
    "print norm/2**2\n",
    "print y2[0]"
   ]
  },
  {
   "cell_type": "markdown",
   "metadata": {
    "collapsed": true
   },
   "source": [
    "We find that PBC result matches with analytical results. But not the open boundary condition one. Why is that?"
   ]
  },
  {
   "cell_type": "markdown",
   "metadata": {},
   "source": [
    "###  L=2 open boundary case integrable case"
   ]
  },
  {
   "cell_type": "code",
   "execution_count": 71,
   "metadata": {
    "collapsed": false
   },
   "outputs": [
    {
     "name": "stdout",
     "output_type": "stream",
     "text": [
      "4.90148024703e-05\n",
      "4.90148024703e-05\n",
      "6.91246647595e-14\n",
      "6.91246647595e-14\n"
     ]
    }
   ],
   "source": [
    "alpha2= 4*(1+4*25.0)\n",
    "norm=8.0/alpha2**2\n",
    "print norm\n",
    "print y1[0]\n",
    "print 100*(norm-y1[0])/y1[0]\n",
    "print 100*(norm-y1[0])/norm"
   ]
  },
  {
   "cell_type": "code",
   "execution_count": 7,
   "metadata": {
    "collapsed": false
   },
   "outputs": [],
   "source": [
    "from quspin.operators import hamiltonian # Hamiltonians and operators\n",
    "from quspin.basis import spin_basis_1d # Hilbert space spin basis\n",
    "def Ham_int_antiferro(L,hz):\n",
    "    basis = spin_basis_1d(L)\n",
    "    J=1.0\n",
    "    hz_arr = [[hz,i] for i in range(L)] # OBC\n",
    "    J_arr =[[J,i,(i+1)] for i in range(L-1)] # OBC# [[J,i,(i+1)%L] for i in range(L)] # PBC \n",
    "    # static and dynamic lists\n",
    "    static = [[\"zz\",J_arr],[\"x\",hz_arr]]\n",
    "    dynamic =[]\n",
    "    H = hamiltonian(static,dynamic,basis=basis,dtype=np.float_,check_symm=False,check_herm=False)\n",
    "    return H\n",
    "\n",
    "\n",
    "def del_lambda_Ham(L):\n",
    "    basis = spin_basis_1d(L)  \n",
    "    hx_lamb=1.0\n",
    "    hx_lamb_arr = [[hx_lamb,i] for i in range(L)] \n",
    "    static_lamb = [[\"x\",hx_lamb_arr]]\n",
    "    dynamic_lamb =[]\n",
    "    op_lamb=hamiltonian(static_lamb,dynamic_lamb,basis=basis,dtype=np.float_,check_symm=False,check_herm=False)\n",
    "    return op_lamb\n",
    "\n",
    "def output_gauge_potent(Ham,L):\n",
    "    E,V= Ham.eigh()\n",
    "    V_mat=np.matrix(V)\n",
    "    V_mat_H=V_mat.H\n",
    "    op_lamb_mat = np.matrix(del_lambda_Ham(L).toarray())\n",
    "    num_lamb_mat =  (V_mat_H)*(op_lamb_mat*V_mat) #matrix multiplication\n",
    "    wij = np.outer(E,np.ones(2**L))-np.outer(np.ones(2**L),E)\n",
    "    return wij, num_lamb_mat\n",
    "  \n",
    "def gauge_potent_mu(wij,num_lamb_mat,mu):\n",
    "    A_lamb = -1j*np.multiply(wij,num_lamb_mat)/(wij**2+ mu**2)#element-wise multiplication\n",
    "    return A_lamb\n",
    "\n",
    "def norm(A_lamb):    \n",
    "    return np.linalg.norm(A_lamb, 'fro')"
   ]
  },
  {
   "cell_type": "code",
   "execution_count": 13,
   "metadata": {
    "collapsed": false
   },
   "outputs": [
    {
     "name": "stdout",
     "output_type": "stream",
     "text": [
      "static mat: \n",
      "  (0, 1)\t1.0\n",
      "  (0, 2)\t1.0\n",
      "  (1, 0)\t1.0\n",
      "  (1, 3)\t1.0\n",
      "  (2, 0)\t1.0\n",
      "  (2, 3)\t1.0\n",
      "  (3, 1)\t1.0\n",
      "  (3, 2)\t1.0\n",
      "\n",
      "\n",
      "dynamic:\n",
      "\n"
     ]
    }
   ],
   "source": [
    "L=2\n",
    "print del_lambda_Ham(L)"
   ]
  },
  {
   "cell_type": "code",
   "execution_count": 16,
   "metadata": {
    "collapsed": false
   },
   "outputs": [
    {
     "name": "stdout",
     "output_type": "stream",
     "text": [
      "[-10.04987562  -1.           1.          10.04987562]\n"
     ]
    }
   ],
   "source": [
    "L=2\n",
    "hz=5.0\n",
    "Ham=Ham_int_antiferro(L,hz)\n",
    "E,V= Ham.eigh()\n",
    "V_mat=np.matrix(V)\n",
    "V_mat_H=V_mat.H\n",
    "op_lamb_mat = np.matrix(del_lambda_Ham(L).toarray())\n",
    "num_lamb_mat =  (V_mat_H)*(op_lamb_mat*V_mat) #matrix multiplication\n",
    "print E"
   ]
  },
  {
   "cell_type": "code",
   "execution_count": 9,
   "metadata": {
    "collapsed": false
   },
   "outputs": [
    {
     "name": "stdout",
     "output_type": "stream",
     "text": [
      "[[ -1.99007438e+00   1.05354039e-16   2.12326412e-15   1.99007438e-01]\n",
      " [  1.11022302e-16   0.00000000e+00  -9.86076132e-32  -1.11022302e-16]\n",
      " [  1.99840144e-15  -9.86076132e-32  -2.36658272e-30  -4.44089210e-16]\n",
      " [  1.99007438e-01  -1.16414903e-16  -4.74251964e-16   1.99007438e+00]]\n"
     ]
    }
   ],
   "source": [
    "print num_lamb_mat"
   ]
  },
  {
   "cell_type": "code",
   "execution_count": 12,
   "metadata": {
    "collapsed": false
   },
   "outputs": [
    {
     "name": "stdout",
     "output_type": "stream",
     "text": [
      "4.90148024703e-05\n"
     ]
    }
   ],
   "source": [
    "mu=1e-30\n",
    "wij, num_lamb_mat=output_gauge_potent(Ham,L)\n",
    "A_lamb=gauge_potent_mu(wij, num_lamb_mat,mu)\n",
    "print norm(A_lamb)**2/2**L"
   ]
  },
  {
   "cell_type": "code",
   "execution_count": 52,
   "metadata": {
    "collapsed": false
   },
   "outputs": [
    {
     "name": "stdout",
     "output_type": "stream",
     "text": [
      "[[ -1.99007438e+00   1.05354039e-16   2.12326412e-15   1.99007438e-01]\n",
      " [  1.11022302e-16   0.00000000e+00  -9.86076132e-32  -1.11022302e-16]\n",
      " [  1.99840144e-15  -9.86076132e-32  -2.36658272e-30  -4.44089210e-16]\n",
      " [  1.99007438e-01  -1.16414903e-16  -4.74251964e-16   1.99007438e+00]]\n",
      "-9.04987562112\n"
     ]
    }
   ],
   "source": [
    "mu=1e-30\n",
    "wij, num_lamb_mat=output_gauge_potent(Ham,L)\n",
    "print num_lamb_mat\n",
    "#print wij.item(1)\n",
    "#print np.multiply(wij,num_lamb_mat)/(wij**2+ mu**2)\n",
    "a=np.multiply(wij,num_lamb_mat)/(wij**2+ mu**2)"
   ]
  },
  {
   "cell_type": "code",
   "execution_count": 62,
   "metadata": {
    "collapsed": false
   },
   "outputs": [
    {
     "name": "stdout",
     "output_type": "stream",
     "text": [
      "0 0.0\n",
      "-1.1641490314e-17\n",
      "-1.92152761599e-16\n",
      "-0.00990099009901\n",
      "1.22678263338e-17\n",
      "5 0.0\n",
      "4.93038065763e-32\n",
      "1.00473802846e-17\n",
      "1.80852845122e-16\n",
      "-4.93038065763e-32\n",
      "10 0.0\n",
      "4.90713053353e-17\n",
      "0.00990099009901\n",
      "-1.05354039386e-17\n",
      "-5.24042521499e-17\n",
      "15 0.0\n"
     ]
    }
   ],
   "source": [
    "x=np.zeros(16)\n",
    "for i in range(16):\n",
    "    if (i ==0) or (i==5) or (i==10) or (i==15):\n",
    "        print i, wij.item(i)\n",
    "    else:\n",
    "        print num_lamb_mat.item(i)/wij.item(i)\n",
    "        x[i]=num_lamb_mat.item(i)/wij.item(i)"
   ]
  },
  {
   "cell_type": "code",
   "execution_count": 66,
   "metadata": {
    "collapsed": false
   },
   "outputs": [
    {
     "name": "stdout",
     "output_type": "stream",
     "text": [
      "4.90148024703e-05\n"
     ]
    }
   ],
   "source": [
    "print np.sum(x**2)/4.0"
   ]
  },
  {
   "cell_type": "markdown",
   "metadata": {},
   "source": [
    "### Checking results with Dries's code\n",
    "It matches very well with it!"
   ]
  },
  {
   "cell_type": "code",
   "execution_count": 73,
   "metadata": {
    "collapsed": true
   },
   "outputs": [],
   "source": [
    "norm_nonint_dries=[0.076796,0.37295,0.58748,2.3833,4.5438,12.521,61.188,431.04,3976.4,3428.1,7124.2,14951,44376]"
   ]
  },
  {
   "cell_type": "code",
   "execution_count": 77,
   "metadata": {
    "collapsed": false
   },
   "outputs": [],
   "source": [
    "L_arr=np.arange(2,15)"
   ]
  },
  {
   "cell_type": "code",
   "execution_count": 76,
   "metadata": {
    "collapsed": false
   },
   "outputs": [
    {
     "data": {
      "text/plain": [
       "(13, 12)"
      ]
     },
     "execution_count": 76,
     "metadata": {},
     "output_type": "execute_result"
    }
   ],
   "source": [
    "len(norm_nonint_dries), len(L_arr)"
   ]
  },
  {
   "cell_type": "code",
   "execution_count": 85,
   "metadata": {
    "collapsed": false
   },
   "outputs": [
    {
     "data": {
      "text/plain": [
       "[<matplotlib.lines.Line2D at 0x7f68db688d10>]"
      ]
     },
     "execution_count": 85,
     "metadata": {},
     "output_type": "execute_result"
    },
    {
     "data": {
      "image/png": "[encoded data removed]",
      "text/plain": [
       "<matplotlib.figure.Figure at 0x7f68db15dd90>"
      ]
     },
     "metadata": {},
     "output_type": "display_data"
    }
   ],
   "source": [
    "plt.semilogy(L_arr, norm_nonint_dries, 'b.-')\n",
    "plt.semilogy(x1, y1, 'r.-')"
   ]
  },
  {
   "cell_type": "code",
   "execution_count": 84,
   "metadata": {
    "collapsed": true
   },
   "outputs": [],
   "source": [
    "x1,y1,w1,z1=np.loadtxt(\"v2_mu1e-10_nonint_L_scaling.dat\",unpack=True,skiprows=2 )\n",
    "#x3,y3,w3,z3=np.loadtxt(\"v2_mu1e-30_int_L_scaling.dat\",unpack=True,skiprows=2 )"
   ]
  },
  {
   "cell_type": "code",
   "execution_count": 95,
   "metadata": {
    "collapsed": false
   },
   "outputs": [
    {
     "data": {
      "text/plain": [
       "[<matplotlib.lines.Line2D at 0x7f68dad73850>]"
      ]
     },
     "execution_count": 95,
     "metadata": {},
     "output_type": "execute_result"
    },
    {
     "data": {
      "image/png": "[encoded data removed]",
      "text/plain": [
       "<matplotlib.figure.Figure at 0x7f68daf96e90>"
      ]
     },
     "metadata": {},
     "output_type": "display_data"
    }
   ],
   "source": [
    "plt.plot(x1, 100*np.abs(y1-norm_nonint_dries)/y1) #percentage error"
   ]
  },
  {
   "cell_type": "code",
   "execution_count": 92,
   "metadata": {
    "collapsed": false
   },
   "outputs": [
    {
     "data": {
      "text/plain": [
       "(44375.666785039481, 44376)"
      ]
     },
     "execution_count": 92,
     "metadata": {},
     "output_type": "execute_result"
    }
   ],
   "source": [
    "y1[-1], norm_nonint_dries[-1]"
   ]
  },
  {
   "cell_type": "code",
   "execution_count": 94,
   "metadata": {
    "collapsed": false
   },
   "outputs": [
    {
     "data": {
      "text/plain": [
       "-0.00075089567021838406"
      ]
     },
     "execution_count": 94,
     "metadata": {},
     "output_type": "execute_result"
    }
   ],
   "source": [
    "100*(y1[-1]-norm_nonint_dries[-1])/y1[-1]"
   ]
  },
  {
   "cell_type": "code",
   "execution_count": null,
   "metadata": {
    "collapsed": true
   },
   "outputs": [],
   "source": []
  }
 ],
 "metadata": {
  "kernelspec": {
   "display_name": "Python 2",
   "language": "python",
   "name": "python2"
  },
  "language_info": {
   "codemirror_mode": {
    "name": "ipython",
    "version": 2
   },
   "file_extension": ".py",
   "mimetype": "text/x-python",
   "name": "python",
   "nbconvert_exporter": "python",
   "pygments_lexer": "ipython2",
   "version": "2.7.13"
  }
 },
 "nbformat": 4,
 "nbformat_minor": 2
}

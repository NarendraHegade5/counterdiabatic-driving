{
 "cells": [
  {
   "cell_type": "code",
   "execution_count": 1,
   "metadata": {
    "collapsed": true
   },
   "outputs": [],
   "source": [
    "import numpy as np # generic math functions\n",
    "import matplotlib.pyplot as plt\n",
    "#%matplotlib notebook\n",
    "%matplotlib inline"
   ]
  },
  {
   "cell_type": "code",
   "execution_count": 2,
   "metadata": {
    "collapsed": true
   },
   "outputs": [],
   "source": [
    "from quspin.operators import commutator\n",
    "from quspin.operators import hamiltonian # Hamiltonians and operators\n",
    "from quspin.basis import spin_basis_1d # Hilbert space spin basis\n",
    "import numpy as np # generic math functions"
   ]
  },
  {
   "cell_type": "markdown",
   "metadata": {},
   "source": [
    "### Sanity check: commutator definition"
   ]
  },
  {
   "cell_type": "code",
   "execution_count": 15,
   "metadata": {
    "collapsed": true
   },
   "outputs": [],
   "source": [
    "def Ham_single(L):\n",
    "    basis = spin_basis_1d(L)\n",
    "    hz=5.0\n",
    "    hx=10.0\n",
    "    hz_arr = [[hz,i] for i in range(L)] # OBC\n",
    "    hx_arr = [[hx,i] for i in range(L)] # OBC\n",
    "    # static and dynamic lists\n",
    "    static = [[\"z\",hz_arr], [\"x\",hx_arr] ]\n",
    "    dynamic =[]\n",
    "    H = hamiltonian(static,dynamic,basis=basis,dtype=np.complex_)\n",
    "    return H\n",
    "\n",
    "\n",
    "def del_lambda_Ham_single(L):\n",
    "    basis = spin_basis_1d(L)\n",
    "    hx_lamb=1.0\n",
    "    hx_lamb_arr = [[hx_lamb,i] for i in range(L)] # OBC\n",
    "    static_lamb = [[\"x\",hx_lamb_arr]]\n",
    "    dynamic_lamb =[]\n",
    "    op_lamb=hamiltonian(static_lamb,dynamic_lamb,basis=basis,dtype=np.complex_)\n",
    "    return op_lamb"
   ]
  },
  {
   "cell_type": "code",
   "execution_count": 11,
   "metadata": {
    "collapsed": false
   },
   "outputs": [
    {
     "name": "stdout",
     "output_type": "stream",
     "text": [
      "Hermiticity check passed!\n",
      "Symmetry checks passed!\n",
      "Hermiticity check passed!\n",
      "Symmetry checks passed!\n",
      "[[  0.+0.j -10.+0.j]\n",
      " [ 10.+0.j   0.+0.j]]\n"
     ]
    }
   ],
   "source": [
    "L=1\n",
    "H=Ham(L)\n",
    "partial_lamb_H=del_lambda_Ham_single(L)\n",
    "print commutator(H,partial_lamb_H).toarray()\n",
    "#mat=((-1j*comm)**2).toarray()\n",
    "#print np.trace(mat)/2**L, 4*2*(L-1)"
   ]
  },
  {
   "cell_type": "code",
   "execution_count": 8,
   "metadata": {
    "collapsed": false
   },
   "outputs": [
    {
     "name": "stdout",
     "output_type": "stream",
     "text": [
      "[[ 0.+0.j  1.+0.j]\n",
      " [ 1.+0.j  0.+0.j]]\n",
      "[[ -5.+0.j  10.+0.j]\n",
      " [ 10.+0.j   5.+0.j]]\n"
     ]
    }
   ],
   "source": [
    "print partial_lamb_H.toarray()\n",
    "print H.toarray()"
   ]
  },
  {
   "cell_type": "code",
   "execution_count": 12,
   "metadata": {
    "collapsed": true
   },
   "outputs": [],
   "source": [
    "lambda_H=partial_lamb_H.toarray()\n",
    "H=H.toarray()    "
   ]
  },
  {
   "cell_type": "code",
   "execution_count": 15,
   "metadata": {
    "collapsed": false
   },
   "outputs": [
    {
     "data": {
      "text/plain": [
       "array([[  0.+0.j,  10.+0.j],\n",
       "       [-10.+0.j,   0.+0.j]])"
      ]
     },
     "execution_count": 15,
     "metadata": {},
     "output_type": "execute_result"
    }
   ],
   "source": [
    "np.dot(lambda_H, H)-np.dot( H, lambda_H)"
   ]
  },
  {
   "cell_type": "markdown",
   "metadata": {},
   "source": [
    "### Sanity check:  finding gauge potn of single body using $C^{(n)}$ formula"
   ]
  },
  {
   "cell_type": "code",
   "execution_count": 13,
   "metadata": {
    "collapsed": true
   },
   "outputs": [],
   "source": [
    "def term(comm, mu, n):\n",
    "    return (-1)**n*comm/mu**(2*n+2)\n",
    "\n",
    "def norm(A_lamb):    \n",
    "    return np.linalg.norm(A_lamb, 'fro')\n",
    "\n",
    "def commutator_op(A, B):    \n",
    "    return np.dot(A, B)-np.dot(B, A)"
   ]
  },
  {
   "cell_type": "code",
   "execution_count": 26,
   "metadata": {
    "collapsed": false
   },
   "outputs": [
    {
     "name": "stdout",
     "output_type": "stream",
     "text": [
      "Hermiticity check passed!\n",
      "Symmetry checks passed!\n",
      "Hermiticity check passed!\n",
      "Symmetry checks passed!\n",
      "[[  0.+0.j -10.+0.j]\n",
      " [ 10.+0.j   0.+0.j]]\n",
      "0 [[    0.+0.j -5000.+0.j]\n",
      " [ 5000.+0.j     0.+0.j]]\n",
      "1 [[       0.+0.j -2500000.+0.j]\n",
      " [ 2500000.+0.j        0.+0.j]]\n",
      "2 [[  0.00000000e+00+0.j  -1.25000000e+09+0.j]\n",
      " [  1.25000000e+09+0.j   0.00000000e+00+0.j]]\n"
     ]
    }
   ],
   "source": [
    "mu=1.0\n",
    "tot=1\n",
    "####\n",
    "####\n",
    "L=1\n",
    " \n",
    "sum_temp=0\n",
    "H=Ham_single(L).toarray()\n",
    "partial_lamb_H=del_lambda_Ham_single(L).toarray()\n",
    "comm_temp=commutator_op(H,partial_lamb_H)\n",
    "print comm_temp\n",
    "for i in range(3):\n",
    "    sum_temp+=term(comm_temp,mu,i)\n",
    "    comm_temp=commutator_op(H,commutator_op(H,comm_temp))\n",
    "    #print norm(sum_temp)\n",
    "    print i, comm_temp\n"
   ]
  },
  {
   "cell_type": "code",
   "execution_count": 30,
   "metadata": {
    "collapsed": false
   },
   "outputs": [
    {
     "name": "stdout",
     "output_type": "stream",
     "text": [
      "Hermiticity check passed!\n",
      "Symmetry checks passed!\n",
      "Hermiticity check passed!\n",
      "Symmetry checks passed!\n",
      "[[  0.+0.j -10.+0.j]\n",
      " [ 10.+0.j   0.+0.j]]\n",
      "[[ 200.+0.j  100.+0.j]\n",
      " [ 100.+0.j -200.+0.j]]\n"
     ]
    }
   ],
   "source": [
    "H=Ham_single(L).toarray()\n",
    "partial_lamb_H=del_lambda_Ham_single(L).toarray()\n",
    "comm_temp=commutator_op(H,partial_lamb_H)\n",
    "print comm_temp\n",
    "print commutator_op(H,comm_temp)"
   ]
  },
  {
   "cell_type": "markdown",
   "metadata": {},
   "source": [
    "### Approximate gauge potential"
   ]
  },
  {
   "cell_type": "code",
   "execution_count": null,
   "metadata": {
    "collapsed": true
   },
   "outputs": [],
   "source": []
  },
  {
   "cell_type": "code",
   "execution_count": 8,
   "metadata": {
    "collapsed": true
   },
   "outputs": [],
   "source": [
    "def Ham_nonint(L):\n",
    "    basis = spin_basis_1d(L)\n",
    "    hz=(np.sqrt(5)+1)/4 #parameters used by Kim and Huse\n",
    "    hx=(np.sqrt(5)+5)/8\n",
    "    J=1.0\n",
    "    hz_arr = [[hz,i] for i in range(L)] \n",
    "    hx_arr = [[hx,i] for i in range(L)] \n",
    "    J_arr =[[J,i,(i+1)] for i in range(L-1)] # OBC  [[J,i,(i+1)%L] for i in range(L)] # PBC\n",
    "    \n",
    "    # static and dynamic lists\n",
    "    static = [[\"zz\",J_arr],[\"z\",hz_arr], [\"x\",hx_arr] ]\n",
    "    dynamic =[]\n",
    "    H = hamiltonian(static,dynamic,basis=basis,dtype=np.float_,check_symm=False,check_herm=False)\n",
    "    return H\n",
    "\n",
    "def del_lambda_Ham(L):\n",
    "    basis = spin_basis_1d(L)  \n",
    "    hx_lamb=1.0\n",
    "    hx_lamb_arr = [[hx_lamb,i] for i in range(L)] \n",
    "    static_lamb = [[\"x\",hx_lamb_arr]]\n",
    "    dynamic_lamb =[]\n",
    "    op_lamb=hamiltonian(static_lamb,dynamic_lamb,basis=basis,dtype=np.float_,check_symm=False,check_herm=False)\n",
    "    return op_lamb\n",
    "\n",
    "def term(comm, mu, n):\n",
    "    return (-1)**n*comm/mu**(2*n+2)\n",
    "\n",
    "def norm(A_lamb):    \n",
    "    return np.linalg.norm(A_lamb, 'fro')\n",
    "\n",
    "def commutator_op(A, B):    \n",
    "    return 1.0#np.dot(A, B)-np.dot(B, A)"
   ]
  },
  {
   "cell_type": "code",
   "execution_count": 70,
   "metadata": {
    "collapsed": false
   },
   "outputs": [
    {
     "name": "stdout",
     "output_type": "stream",
     "text": [
      "2.0 0.219837161049\n",
      "3.0 27.4064505694\n",
      "4.0 2042.17661584\n",
      "5.0 159509.365491\n",
      "6.0 16946189.0032\n",
      "7.0 2594163208.74\n",
      "8.0 544298515918.0\n",
      "9.0 1.46735538714e+14\n",
      "10.0 4.90301986709e+16\n"
     ]
    }
   ],
   "source": [
    "mu=4.0\n",
    "tot=9\n",
    "####\n",
    "####\n",
    "L=2\n",
    "norm_arr_small_mu=np.zeros(tot)\n",
    "L_arr=np.zeros(tot)\n",
    "for j in range(tot):\n",
    "    sum_temp=0\n",
    "    H=Ham_nonint(L).toarray()\n",
    "    partial_lamb_H=del_lambda_Ham(L).toarray()\n",
    "    comm_temp=commutator_op(H,partial_lamb_H)\n",
    "    for i in range(L+1):\n",
    "        sum_temp+=term(comm_temp,mu,i)\n",
    "        comm_temp=commutator_op(H,commutator_op(H,comm_temp))\n",
    "        #print 'i',L, i\n",
    "    norm_arr_small_mu[j]=norm(sum_temp)**2/2**L\n",
    "    L_arr[j]=L\n",
    "    print L_arr[j], norm_arr_small_mu[j]\n",
    "    L+=1"
   ]
  },
  {
   "cell_type": "code",
   "execution_count": 71,
   "metadata": {
    "collapsed": true
   },
   "outputs": [],
   "source": [
    "mu=10.0\n",
    "tot=9\n",
    "####\n",
    "####\n",
    "L=2\n",
    "norm_arr_big_mu=np.zeros(tot)\n",
    "L_arr=np.zeros(tot)\n",
    "for j in range(tot):\n",
    "    sum_temp=0\n",
    "    H=Ham_nonint(L).toarray()\n",
    "    partial_lamb_H=del_lambda_Ham(L).toarray()\n",
    "    comm_temp=commutator_op(H,partial_lamb_H)\n",
    "    for i in range(L+1):\n",
    "        sum_temp+=term(comm_temp,mu,i)\n",
    "        comm_temp=commutator_op(H,commutator_op(H,comm_temp))\n",
    "        #print 'i',L, i\n",
    "    norm_arr_big_mu[j]=norm(sum_temp)**2/2**L\n",
    "    L_arr[j]=L\n",
    "    #print 'j', j,  L_arr[j], norm_arr[j]\n",
    "    L+=1"
   ]
  },
  {
   "cell_type": "code",
   "execution_count": 77,
   "metadata": {
    "collapsed": false
   },
   "outputs": [
    {
     "data": {
      "text/plain": [
       "<matplotlib.text.Text at 0x7fd124e02510>"
      ]
     },
     "execution_count": 77,
     "metadata": {},
     "output_type": "execute_result"
    },
    {
     "data": {
      "image/png": "[encoded data removed]",
      "text/plain": [
       "<matplotlib.figure.Figure at 0x7fd124880e90>"
      ]
     },
     "metadata": {},
     "output_type": "display_data"
    }
   ],
   "source": [
    "plt.semilogy(L_arr, norm_arr_small_mu, 'b.-')\n",
    "plt.semilogy(L_arr, norm_arr_big_mu, 'r.-')\n",
    "plt.ylabel(r'$||A||^2/2^L$', fontsize=13)\n",
    "plt.xlabel(r'$L$', fontsize=13)"
   ]
  },
  {
   "cell_type": "markdown",
   "metadata": {},
   "source": [
    "Run a few more sanity checks and then see what's happening."
   ]
  },
  {
   "cell_type": "code",
   "execution_count": null,
   "metadata": {
    "collapsed": true
   },
   "outputs": [],
   "source": []
  }
 ],
 "metadata": {
  "kernelspec": {
   "display_name": "Python 2",
   "language": "python",
   "name": "python2"
  },
  "language_info": {
   "codemirror_mode": {
    "name": "ipython",
    "version": 2
   },
   "file_extension": ".py",
   "mimetype": "text/x-python",
   "name": "python",
   "nbconvert_exporter": "python",
   "pygments_lexer": "ipython2",
   "version": "2.7.12"
  },
  "widgets": {
   "state": {},
   "version": "1.1.2"
  }
 },
 "nbformat": 4,
 "nbformat_minor": 0
}

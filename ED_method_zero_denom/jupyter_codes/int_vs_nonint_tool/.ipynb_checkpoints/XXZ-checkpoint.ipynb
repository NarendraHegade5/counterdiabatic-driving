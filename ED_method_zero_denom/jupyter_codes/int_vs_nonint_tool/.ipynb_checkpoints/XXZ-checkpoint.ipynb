{
 "cells": [
  {
   "cell_type": "code",
   "execution_count": 1,
   "metadata": {
    "collapsed": true
   },
   "outputs": [],
   "source": [
    "import numpy as np # generic math functions\n",
    "import matplotlib.pyplot as plt\n",
    "#%matplotlib notebook\n",
    "%matplotlib inline"
   ]
  },
  {
   "cell_type": "code",
   "execution_count": 3,
   "metadata": {
    "collapsed": true
   },
   "outputs": [],
   "source": [
    "from quspin.operators import hamiltonian # Hamiltonians and operators\n",
    "from quspin.basis import spin_basis_1d # Hilbert space spin basis\n",
    "import numpy as np # generic math functions\n",
    "import time\n",
    "\n",
    "def Ham_int_XXZ(L):\n",
    "    basis = spin_basis_1d(L)\n",
    "    J=1.0\n",
    "    J_arr =[[J,i,(i+1)%L] for i in range(L)] # PBC [[J,i,(i+1)] for i in range(L-1)] # OBC  \n",
    "    \n",
    "    # static and dynamic lists\n",
    "    static = [[\"zz\",J_arr],[\"xx\",J_arr], [\"yy\",J_arr] ]\n",
    "    dynamic =[]\n",
    "    H = hamiltonian(static,dynamic,basis=basis,dtype=np.float_,check_symm=False,check_herm=False)\n",
    "    return H\n",
    "\n",
    "\n",
    "def output_gauge_potent(Ham,L):\n",
    "    E,V= Ham.eigh()\n",
    "    op_lamb_arr = del_lambda_Ham(L).toarray()\n",
    "    x=np.dot(op_lamb_arr, V)\n",
    "    num_lamb_mat =np.dot(V.T,x) #matrix multiplication\n",
    "    wij = np.outer(E,np.ones(2**L))-np.outer(np.ones(2**L),E)\n",
    "    return wij, num_lamb_mat\n",
    "  \n",
    "def gauge_potent_mu(wij,num_lamb_mat,mu):\n",
    "    A_lamb = -1j*np.multiply(wij,num_lamb_mat)/(wij**2+ mu**2)#element-wise multiplication\n",
    "    return A_lamb\n",
    "\n",
    "\n",
    "def del_lambda_Ham(L):\n",
    "    basis = spin_basis_1d(L)  \n",
    "    hz_lamb=1.0\n",
    "    hz_lamb_arr = [[hz_lamb,i,(i+1)%L] for i in range(L)] # \n",
    "    static_lamb = [[\"zz\",hx_lamb_arr]]\n",
    "    dynamic_lamb =[]\n",
    "    op_lamb=hamiltonian(static_lamb,dynamic_lamb,basis=basis,dtype=np.float_,check_symm=False,check_herm=False)\n",
    "    return op_lamb\n",
    "\n",
    "def norm(A_lamb):    \n",
    "    return np.linalg.norm(A_lamb, 'fro')"
   ]
  },
  {
   "cell_type": "code",
   "execution_count": null,
   "metadata": {
    "collapsed": true
   },
   "outputs": [],
   "source": []
  }
 ],
 "metadata": {
  "kernelspec": {
   "display_name": "Python 2",
   "language": "python",
   "name": "python2"
  },
  "language_info": {
   "codemirror_mode": {
    "name": "ipython",
    "version": 2
   },
   "file_extension": ".py",
   "mimetype": "text/x-python",
   "name": "python",
   "nbconvert_exporter": "python",
   "pygments_lexer": "ipython2",
   "version": "2.7.12"
  },
  "widgets": {
   "state": {},
   "version": "1.1.2"
  }
 },
 "nbformat": 4,
 "nbformat_minor": 0
}

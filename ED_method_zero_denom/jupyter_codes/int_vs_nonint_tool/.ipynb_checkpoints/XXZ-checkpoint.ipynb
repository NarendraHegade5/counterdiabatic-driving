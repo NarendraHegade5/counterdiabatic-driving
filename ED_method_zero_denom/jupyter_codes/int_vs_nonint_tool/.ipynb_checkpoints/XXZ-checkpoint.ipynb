{
 "cells": [
  {
   "cell_type": "code",
   "execution_count": 12,
   "metadata": {
    "collapsed": true
   },
   "outputs": [],
   "source": [
    "import numpy as np # generic math functions\n",
    "import matplotlib.pyplot as plt\n",
    "#%matplotlib notebook\n",
    "%matplotlib inline"
   ]
  },
  {
   "cell_type": "code",
   "execution_count": 35,
   "metadata": {
    "collapsed": true
   },
   "outputs": [],
   "source": [
    "from quspin.operators import hamiltonian # Hamiltonians and operators\n",
    "from quspin.basis import spin_basis_1d # Hilbert space spin basis\n",
    "import numpy as np # generic math functions\n",
    "import time\n",
    "\n",
    "def Ham_int_XXZ(L, Delta):\n",
    "    basis = spin_basis_1d(L)\n",
    "    J=1.0\n",
    "    J_arr =[[J,i,(i+1)%L] for i in range(L)] # PBC [[J,i,(i+1)] for i in range(L-1)] # OBC  \n",
    "    Delta_arr =[[Delta,i,(i+1)%L] for i in range(L)] # PBC     \n",
    "    # static and dynamic lists\n",
    "    static = [[\"zz\",Delta_arr],[\"xx\",J_arr], [\"yy\",J_arr] ]\n",
    "    dynamic =[]\n",
    "    H = hamiltonian(static,dynamic,basis=basis,dtype=np.float_,check_symm=False,check_herm=False)\n",
    "    return H\n",
    "\n",
    "\n",
    "\n",
    "def del_lambda_Ham(L):\n",
    "    basis = spin_basis_1d(L)  \n",
    "    hz_lamb=1.0\n",
    "    hz_lamb_arr = [[hz_lamb,i,(i+1)%L] for i in range(L)] #PBC \n",
    "    static_lamb = [[\"zz\",hz_lamb_arr]]\n",
    "    dynamic_lamb =[]\n",
    "    op_lamb=hamiltonian(static_lamb,dynamic_lamb,basis=basis,dtype=np.float_,check_symm=False,check_herm=False)\n",
    "    return op_lamb\n",
    "\n",
    "def output_gauge_potent(Ham,L):\n",
    "    E,V= Ham.eigh()\n",
    "    op_lamb_arr = del_lambda_Ham(L).toarray()\n",
    "    x=np.dot(op_lamb_arr, V)\n",
    "    num_lamb_mat =np.dot(V.T,x) #matrix multiplication\n",
    "    wij = np.outer(E,np.ones(2**L))-np.outer(np.ones(2**L),E)\n",
    "    return wij, num_lamb_mat\n",
    "  \n",
    "def gauge_potent_mu(wij,num_lamb_mat,mu):\n",
    "    A_lamb = -1j*np.multiply(wij,num_lamb_mat)/(wij**2+ mu**2)#element-wise multiplication\n",
    "    return A_lamb\n",
    "\n",
    "\n",
    "\n",
    "def norm(A_lamb):    \n",
    "    return np.linalg.norm(A_lamb, 'fro')"
   ]
  },
  {
   "cell_type": "code",
   "execution_count": null,
   "metadata": {
    "collapsed": false
   },
   "outputs": [],
   "source": []
  },
  {
   "cell_type": "code",
   "execution_count": 67,
   "metadata": {
    "collapsed": false
   },
   "outputs": [
    {
     "name": "stdout",
     "output_type": "stream",
     "text": [
      "2 0.0\n",
      "3 0.00048828125\n",
      "4 0.00147928994083\n",
      "5 0.0679996084941\n",
      "6 0.371557077732\n",
      "7 2.39916072595\n",
      "8 1.506749216\n",
      "9 0.0415810572303\n",
      "10 182.172501094\n"
     ]
    }
   ],
   "source": [
    "mu=1e-30\n",
    "Delta=np.sqrt(5)\n",
    "L_arr=range(2,11)\n",
    "norm_arr_int=np.zeros(len(L_arr))\n",
    "wij_min_arr= np.zeros(len(L_arr)) \n",
    "wij_max_arr= np.zeros(len(L_arr))  \n",
    "\n",
    "###finding minimum and maximum wij\n",
    "###running the loop    \n",
    "\n",
    "for i in range(len(L_arr)):\n",
    "    L=L_arr[i]\n",
    "    H=Ham_int_XXZ(L, Delta)\n",
    "    wij, num_lamb_mat=output_gauge_potent(H,L)\n",
    "    index_lower = np.tril_indices(2**L,-1)\n",
    "    wij_arr=wij[index_lower]\n",
    "    wij_min_arr[i]= min(wij_arr)\n",
    "    wij_max_arr[i]=max(wij_arr)\n",
    "    A_lamb=gauge_potent_mu(wij, num_lamb_mat,mu)\n",
    "    norm_arr_int[i]=norm(A_lamb)**2/2**L\n",
    "    print L, norm_arr_int[i]"
   ]
  },
  {
   "cell_type": "code",
   "execution_count": 65,
   "metadata": {
    "collapsed": false
   },
   "outputs": [
    {
     "name": "stdout",
     "output_type": "stream",
     "text": [
      "2 0.0\n",
      "3 0.000258264462801\n",
      "4 0.00308641975309\n",
      "5 94.2482759544\n",
      "6 2.13997728589e+29\n",
      "7 3.50861724822e+23\n",
      "8 1.40928840386e+30\n",
      "9 0.359127641548\n",
      "10 3.48514884329e+28\n"
     ]
    }
   ],
   "source": [
    "mu=1e-20\n",
    "Delta=-1.0\n",
    "L_arr=range(2,11)\n",
    "norm_arr_int=np.zeros(len(L_arr))\n",
    "wij_min_arr= np.zeros(len(L_arr)) \n",
    "wij_max_arr= np.zeros(len(L_arr))  \n",
    "\n",
    "###finding minimum and maximum wij\n",
    "###running the loop    \n",
    "\n",
    "for i in range(len(L_arr)):\n",
    "    L=L_arr[i]\n",
    "    H=Ham_int_XXZ(L, Delta)\n",
    "    wij, num_lamb_mat=output_gauge_potent(H,L)\n",
    "    index_lower = np.tril_indices(2**L,-1)\n",
    "    wij_arr=wij[index_lower]\n",
    "    wij_min_arr[i]= min(wij_arr)\n",
    "    wij_max_arr[i]=max(wij_arr)\n",
    "    A_lamb=gauge_potent_mu(wij, num_lamb_mat,mu)\n",
    "    norm_arr_int[i]=norm(A_lamb)**2/2**L\n",
    "    print L, norm_arr_int[i]"
   ]
  },
  {
   "cell_type": "code",
   "execution_count": 17,
   "metadata": {
    "collapsed": false
   },
   "outputs": [
    {
     "data": {
      "text/plain": [
       "([2, 3, 4, 5, 6, 7], array([ 0.,  0.,  0.,  0.,  0.,  0.]))"
      ]
     },
     "execution_count": 17,
     "metadata": {},
     "output_type": "execute_result"
    }
   ],
   "source": [
    "L_arr, wij_min_nonint"
   ]
  },
  {
   "cell_type": "code",
   "execution_count": 69,
   "metadata": {
    "collapsed": false
   },
   "outputs": [
    {
     "data": {
      "text/plain": [
       "[<matplotlib.lines.Line2D at 0x7f157e52ef10>]"
      ]
     },
     "execution_count": 69,
     "metadata": {},
     "output_type": "execute_result"
    },
    {
     "data": {
      "image/png": "[encoded data removed]",
      "text/plain": [
       "<matplotlib.figure.Figure at 0x7f157e631510>"
      ]
     },
     "metadata": {},
     "output_type": "display_data"
    }
   ],
   "source": [
    "plt.semilogy(L_arr,norm_arr_int, 'b.-')"
   ]
  },
  {
   "cell_type": "code",
   "execution_count": 14,
   "metadata": {
    "collapsed": false
   },
   "outputs": [
    {
     "data": {
      "text/plain": [
       "7"
      ]
     },
     "execution_count": 14,
     "metadata": {},
     "output_type": "execute_result"
    }
   ],
   "source": []
  },
  {
   "cell_type": "code",
   "execution_count": null,
   "metadata": {
    "collapsed": true
   },
   "outputs": [],
   "source": []
  }
 ],
 "metadata": {
  "kernelspec": {
   "display_name": "Python 2",
   "language": "python",
   "name": "python2"
  },
  "language_info": {
   "codemirror_mode": {
    "name": "ipython",
    "version": 2
   },
   "file_extension": ".py",
   "mimetype": "text/x-python",
   "name": "python",
   "nbconvert_exporter": "python",
   "pygments_lexer": "ipython2",
   "version": "2.7.12"
  },
  "widgets": {
   "state": {},
   "version": "1.1.2"
  }
 },
 "nbformat": 4,
 "nbformat_minor": 0
}

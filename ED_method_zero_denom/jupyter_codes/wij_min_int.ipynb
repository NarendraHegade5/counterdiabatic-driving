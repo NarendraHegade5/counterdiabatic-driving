{
 "cells": [
  {
   "cell_type": "code",
   "execution_count": 1,
   "metadata": {
    "collapsed": true
   },
   "outputs": [],
   "source": [
    "from quspin.operators import hamiltonian\n",
    "from quspin.operators import commutator# Hamiltonians and operators\n",
    "from quspin.basis import spin_basis_1d # Hilbert space spin basis\n",
    "import numpy as np # generic math functions\n",
    "import matplotlib.pyplot as plt\n",
    "%matplotlib inline"
   ]
  },
  {
   "cell_type": "code",
   "execution_count": 53,
   "metadata": {
    "collapsed": true
   },
   "outputs": [],
   "source": [
    "def Ham_int_antiferro(L,hz):\n",
    "    basis = spin_basis_1d(L)\n",
    "    J=1.0\n",
    "    hz_arr = [[hz,i] for i in range(L)] # OBC\n",
    "    J_arr =[[J,i,(i+1)%L] for i in range(L)] # PBC[[J,i,(i+1)] for i in range(L-1)] # OBC\n",
    "    # static and dynamic lists\n",
    "    static = [[\"zz\",J_arr],[\"x\",hz_arr]]\n",
    "    dynamic =[]\n",
    "    H = hamiltonian(static,dynamic,basis=basis,dtype=np.float_,check_symm=False,check_herm=False)\n",
    "    return H"
   ]
  },
  {
   "cell_type": "code",
   "execution_count": 30,
   "metadata": {
    "collapsed": true
   },
   "outputs": [],
   "source": [
    "def Ham_int_ferro(L,hz):\n",
    "    basis = spin_basis_1d(L)\n",
    "    J=-1.0\n",
    "    hz_arr = [[hz,i] for i in range(L)] # OBC\n",
    "    J_arr =[[J,i,(i+1)] for i in range(L-1)] # OBC# [[J,i,(i+1)%L] for i in range(L)] # PBC\n",
    "    # static and dynamic lists\n",
    "    static = [[\"zz\",J_arr],[\"x\",hz_arr]]\n",
    "    dynamic =[]\n",
    "    H = hamiltonian(static,dynamic,basis=basis,dtype=np.float_,check_symm=False,check_herm=False)\n",
    "    return H"
   ]
  },
  {
   "cell_type": "code",
   "execution_count": 5,
   "metadata": {
    "collapsed": false
   },
   "outputs": [],
   "source": [
    "def del_lambda_Ham(L):\n",
    "    basis = spin_basis_1d(L)  \n",
    "    hx_lamb=1.0\n",
    "    hx_lamb_arr = [[hx_lamb,i] for i in range(L)] \n",
    "    static_lamb = [[\"x\",hx_lamb_arr]]\n",
    "    dynamic_lamb =[]\n",
    "    op_lamb=hamiltonian(static_lamb,dynamic_lamb,basis=basis,dtype=np.complex_,check_symm=False,check_herm=False)\n",
    "    return op_lamb\n",
    "\n",
    "def norm(A_lamb):    \n",
    "    return np.linalg.norm(A_lamb, 'fro')"
   ]
  },
  {
   "cell_type": "code",
   "execution_count": 6,
   "metadata": {
    "collapsed": true
   },
   "outputs": [],
   "source": [
    "def gauge_potent_mu(Ham,L, mu):\n",
    "    E,V= Ham.eigh()\n",
    "    V_mat=np.matrix(V)\n",
    "    V_mat_H=V_mat.H\n",
    "    op_lamb_mat = np.matrix(del_lambda_Ham(L).toarray())\n",
    "    num_lamb_mat =  (V_mat_H)*(op_lamb_mat*V_mat) #matrix multiplication\n",
    "    wij = np.outer(E,np.ones(2**L))-np.outer(np.ones(2**L),E)\n",
    "    A_lamb = -1j*np.multiply(wij,num_lamb_mat)/(wij**2+ mu**2)#element-wise multiplication\n",
    "    return A_lamb"
   ]
  },
  {
   "cell_type": "code",
   "execution_count": 65,
   "metadata": {
    "collapsed": false
   },
   "outputs": [
    {
     "name": "stdout",
     "output_type": "stream",
     "text": [
      "4.4408920985e-16\n",
      "[-15.13552873  -6.          -6.          -3.16515139   4.           4.\n",
      "   7.13552873  15.16515139]\n"
     ]
    }
   ],
   "source": [
    "L=3\n",
    "hz=5.0\n",
    "Ham=Ham_int_antiferro(L,hz)\n",
    "E,V=Ham.eigh()\n",
    "wij = np.outer(E,np.ones(2**L))-np.outer(np.ones(2**L),E)\n",
    "index_lower = np.tril_indices(2**L,-1)\n",
    "wij_arr=wij[index_lower]\n",
    "#print wij\n",
    "#print wij_arr\n",
    "print min(wij_arr)\n",
    "print E"
   ]
  },
  {
   "cell_type": "code",
   "execution_count": 52,
   "metadata": {
    "collapsed": false
   },
   "outputs": [
    {
     "name": "stdout",
     "output_type": "stream",
     "text": [
      "[[  0. +0.j   1. -1.j   2. -2.j   3. -3.j]\n",
      " [  4. -4.j   5. -5.j   6. -6.j   7. -7.j]\n",
      " [  8. -8.j   9. -9.j  10.-10.j  11.-11.j]]\n",
      "[[  0. -0.j   4. +4.j   8. +8.j]\n",
      " [  1. +1.j   5. +5.j   9. +9.j]\n",
      " [  2. +2.j   6. +6.j  10.+10.j]\n",
      " [  3. +3.j   7. +7.j  11.+11.j]]\n"
     ]
    }
   ],
   "source": [
    "x = np.matrix(np.arange(12).reshape((3,4)))\n",
    "z = x - 1j*x; z\n",
    "print z\n",
    "print z.H"
   ]
  },
  {
   "cell_type": "code",
   "execution_count": 40,
   "metadata": {
    "collapsed": false
   },
   "outputs": [
    {
     "name": "stdout",
     "output_type": "stream",
     "text": [
      "0.132938316133\n"
     ]
    }
   ],
   "source": [
    "L=5\n",
    "hz=5.0\n",
    "Ham=Ham_int_ferro(L,hz)\n",
    "E,V=Ham.eigh()\n",
    "wij = np.outer(E,np.ones(2**L))-np.outer(np.ones(2**L),E)\n",
    "index_lower = np.tril_indices(2**L,-1)\n",
    "wij_arr=wij[index_lower]\n",
    "print min(wij_arr)"
   ]
  },
  {
   "cell_type": "code",
   "execution_count": 41,
   "metadata": {
    "collapsed": false
   },
   "outputs": [
    {
     "name": "stdout",
     "output_type": "stream",
     "text": [
      "[-25.20024996 -16.89501673 -16.09388659 -15.06731164 -14.10636337\n",
      " -13.43817155  -7.78865336  -6.76207841  -5.96094828  -5.80113013\n",
      "  -5.13293832  -5.          -4.33180818  -3.97342505  -3.30523323\n",
      "  -2.34428496   2.34428496   3.30523323   3.97342505   4.33180818   5.\n",
      "   5.13293832   5.80113013   5.96094828   6.76207841   7.78865336\n",
      "  13.43817155  14.10636337  15.06731164  16.09388659  16.89501673\n",
      "  25.20024996]\n"
     ]
    }
   ],
   "source": [
    "print E"
   ]
  },
  {
   "cell_type": "code",
   "execution_count": null,
   "metadata": {
    "collapsed": true
   },
   "outputs": [],
   "source": []
  }
 ],
 "metadata": {
  "kernelspec": {
   "display_name": "Python 2",
   "language": "python",
   "name": "python2"
  },
  "language_info": {
   "codemirror_mode": {
    "name": "ipython",
    "version": 2
   },
   "file_extension": ".py",
   "mimetype": "text/x-python",
   "name": "python",
   "nbconvert_exporter": "python",
   "pygments_lexer": "ipython2",
   "version": "2.7.13"
  }
 },
 "nbformat": 4,
 "nbformat_minor": 2
}
